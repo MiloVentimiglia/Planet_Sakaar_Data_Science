{
 "cells": [
  {
   "cell_type": "markdown",
   "metadata": {},
   "source": [
    "https://github.com/pymc-devs/pymc3/pull/2876"
   ]
  },
  {
   "cell_type": "code",
   "execution_count": 1,
   "metadata": {},
   "outputs": [
    {
     "name": "stderr",
     "output_type": "stream",
     "text": [
      "/Library/Frameworks/Python.framework/Versions/3.5/lib/python3.5/site-packages/h5py/__init__.py:36: FutureWarning: Conversion of the second argument of issubdtype from `float` to `np.floating` is deprecated. In future, it will be treated as `np.float64 == np.dtype(float).type`.\n",
      "  from ._conv import register_converters as _register_converters\n"
     ]
    }
   ],
   "source": [
    "%matplotlib inline\n",
    "import pandas as pd\n",
    "import numpy as np\n",
    "import pymc3 as pm\n",
    "import theano.tensor as tt\n",
    "\n",
    "import matplotlib.pylab as plt"
   ]
  },
  {
   "cell_type": "markdown",
   "metadata": {},
   "source": [
    "Cherry picked commit"
   ]
  },
  {
   "cell_type": "code",
   "execution_count": 17,
   "metadata": {},
   "outputs": [],
   "source": [
    "from pymc3.model import modelcontext, get_named_nodes_and_relations\n",
    "from pymc3.util import is_transformed_name\n",
    "from tqdm import tqdm\n",
    "\n",
    "\n",
    "def sample_prior(samples=500, model=None, vars=None, size=None,\n",
    "                 random_seed=None, progressbar=True):\n",
    "    \"\"\"Generate samples from the prior of a model.\n",
    "\n",
    "    Parameters\n",
    "    ----------\n",
    "    samples : int\n",
    "        Number of samples from the prior to generate. Defaults to 500.\n",
    "    model : Model (optional if in `with` context)\n",
    "    vars : iterable\n",
    "        Variables for which to compute the posterior predictive samples.\n",
    "        Defaults to `model.named_vars`.\n",
    "    size : int\n",
    "        The number of random draws from the distribution specified by the\n",
    "        parameters in each sample of the trace.\n",
    "    random_seed : int\n",
    "        Seed for the random number generator.\n",
    "    progressbar : bool\n",
    "        Whether or not to display a progress bar in the command line.\n",
    "\n",
    "    Returns\n",
    "    -------\n",
    "    dict\n",
    "        Dictionary with the variables as keys. The values are arrays of prior samples.\n",
    "    \"\"\"\n",
    "\n",
    "    model = modelcontext(model)\n",
    "\n",
    "    if vars is None:\n",
    "        vars = set(model.named_vars.keys())\n",
    "\n",
    "    if random_seed is not None:\n",
    "        np.random.seed(random_seed)\n",
    "\n",
    "    if progressbar:\n",
    "        indices = tqdm(range(samples))\n",
    "\n",
    "    def step(model):\n",
    "        point = {}\n",
    "        for var in model.basic_RVs:\n",
    "            var_name = var.name\n",
    "            if hasattr(var, 'distribution'):\n",
    "                if is_transformed_name(var_name):\n",
    "                    val = var.distribution.dist.random(\n",
    "                        point=point, size=size)\n",
    "                else:\n",
    "                    val = var.distribution.random(point=point, size=size)\n",
    "            else:\n",
    "                nn, _, _ = get_named_nodes_and_relations(var)\n",
    "                val = var.eval({model.named_vars[v]: point[v]\n",
    "                                for v in nn})\n",
    "\n",
    "            point[var_name] = val\n",
    "        return point\n",
    "\n",
    "    try:\n",
    "        prior = {var: [] for var in vars}\n",
    "        for _ in indices:\n",
    "            point = step(model)\n",
    "            for var_name, var in model.named_vars.items():\n",
    "                if var_name in vars:\n",
    "                    if var_name in point:\n",
    "                        val = point[var_name]\n",
    "                    else:\n",
    "                        nn, _, _ = get_named_nodes_and_relations(var)\n",
    "                        val = var.eval({model.named_vars[v]: point[v]\n",
    "                                        for v in nn})\n",
    "                    prior[var_name].append(val)\n",
    "\n",
    "    except KeyboardInterrupt:\n",
    "        pass\n",
    "\n",
    "    finally:\n",
    "        if progressbar:\n",
    "            indices.close()\n",
    "\n",
    "    return {k: np.asarray(v) for k, v in prior.items()}"
   ]
  },
  {
   "cell_type": "code",
   "execution_count": 18,
   "metadata": {},
   "outputs": [
    {
     "name": "stderr",
     "output_type": "stream",
     "text": [
      "100%|██████████| 500/500 [00:00<00:00, 1552.88it/s]\n"
     ]
    }
   ],
   "source": [
    "observed = np.random.normal(10, 1, size=200)\n",
    "with pm.Model() as m: \n",
    "    # Use a prior that's way off to show we're actually sampling from it \n",
    "    mu = pm.Normal('mu', mu=-10, sd=1) \n",
    "    positive_mu = pm.Deterministic('positive_mu', np.abs(mu)) \n",
    "    pm.Normal('x_obs', mu=mu, sd=1, observed=observed) \n",
    "    prior = sample_prior() \n",
    "\n",
    "assert (prior['mu'] < 0).all() \n",
    "assert (prior['positive_mu'] > 0).all() \n",
    "assert (prior['x_obs'] < 0).all()"
   ]
  },
  {
   "cell_type": "code",
   "execution_count": 19,
   "metadata": {},
   "outputs": [
    {
     "name": "stderr",
     "output_type": "stream",
     "text": [
      "100%|██████████| 500/500 [00:04<00:00, 103.53it/s]\n"
     ]
    }
   ],
   "source": [
    "data = pd.read_table(pm.get_data('efron-morris-75-data.tsv'), sep=\"\\t\")\n",
    "at_bats, hits = data[['At-Bats', 'Hits']].values.T\n",
    "N = len(hits)\n",
    "\n",
    "with pm.Model() as model:\n",
    "    phi = pm.Beta('phi', alpha=1., beta=1.)\n",
    "\n",
    "    kappa_log = pm.Exponential('logkappa', lam=5.)\n",
    "    kappa = pm.Deterministic('kappa', tt.exp(kappa_log))\n",
    "\n",
    "    thetas = pm.Beta('thetas', alpha=phi*kappa, beta=(1.0-phi)*kappa, shape=N)\n",
    "\n",
    "    y = pm.Binomial('y', n=at_bats, p=thetas, shape=N, observed=hits)\n",
    "    p = sample_prior()"
   ]
  },
  {
   "cell_type": "code",
   "execution_count": 20,
   "metadata": {},
   "outputs": [
    {
     "data": {
      "text/plain": [
       "array([[44, 12, 11, ...,  1, 44, 34],\n",
       "       [44, 16, 14, ...,  2, 45, 34],\n",
       "       [45, 10, 11, ...,  1, 44, 36],\n",
       "       ...,\n",
       "       [44, 14, 10, ...,  1, 45, 37],\n",
       "       [45, 17, 12, ...,  2, 45, 36],\n",
       "       [45,  8, 10, ...,  3, 45, 37]])"
      ]
     },
     "execution_count": 20,
     "metadata": {},
     "output_type": "execute_result"
    }
   ],
   "source": [
    "y.distribution.random(point=model.test_point, size=1000)"
   ]
  },
  {
   "cell_type": "code",
   "execution_count": 21,
   "metadata": {},
   "outputs": [
    {
     "data": {
      "text/plain": [
       "array([[17, 25, 25, ..., 17, 22, 22],\n",
       "       [25, 23, 22, ..., 22, 24, 19],\n",
       "       [15, 17, 26, ..., 17, 17, 20],\n",
       "       ...,\n",
       "       [25, 21, 23, ..., 21, 25, 23],\n",
       "       [25, 25, 24, ..., 18, 18, 21],\n",
       "       [23, 23, 21, ..., 26, 24, 26]])"
      ]
     },
     "execution_count": 21,
     "metadata": {},
     "output_type": "execute_result"
    }
   ],
   "source": [
    "np.random.binomial(45, thetas.tag.test_value, size=(1000, N))"
   ]
  },
  {
   "cell_type": "code",
   "execution_count": 22,
   "metadata": {},
   "outputs": [],
   "source": [
    "# names = ['phi', 'kappa_log', 'kappa', 'thetas', 'y']\n",
    "# values = pm.distributions.draw_values([model[name] for name in names], size=100)\n",
    "# p = {k: v for k, v in zip(names, values)}"
   ]
  },
  {
   "cell_type": "code",
   "execution_count": 23,
   "metadata": {},
   "outputs": [
    {
     "data": {
      "image/png": "[encoded data removed]",
      "text/plain": [
       "<matplotlib.figure.Figure at 0x1225f8668>"
      ]
     },
     "metadata": {},
     "output_type": "display_data"
    }
   ],
   "source": [
    "plt.hist(p['y']);"
   ]
  },
  {
   "cell_type": "code",
   "execution_count": 24,
   "metadata": {},
   "outputs": [
    {
     "data": {
      "image/png": "[encoded data removed]",
      "text/plain": [
       "<matplotlib.figure.Figure at 0x122b87b70>"
      ]
     },
     "metadata": {},
     "output_type": "display_data"
    }
   ],
   "source": [
    "plt.hist(p['thetas']);"
   ]
  },
  {
   "cell_type": "code",
   "execution_count": 25,
   "metadata": {},
   "outputs": [
    {
     "data": {
      "text/plain": [
       "array([29.34708329, 29.35583373, 29.14527202, 29.34525447, 29.15791982,\n",
       "       29.19624311, 29.19291743, 29.18451562, 29.17041436, 29.19146721,\n",
       "       29.31792479, 29.12467176, 29.06444945, 29.26633796, 29.16134512,\n",
       "       29.15881446, 29.4247327 , 29.08408229])"
      ]
     },
     "execution_count": 25,
     "metadata": {},
     "output_type": "execute_result"
    }
   ],
   "source": [
    "p['thetas'].mean(axis=0) * at_bats"
   ]
  },
  {
   "cell_type": "code",
   "execution_count": 26,
   "metadata": {},
   "outputs": [
    {
     "data": {
      "text/plain": [
       "array([27.762, 29.066, 27.686, 28.428, 27.89 , 26.764, 28.106, 27.726,\n",
       "       28.432, 27.994, 27.872, 27.844, 27.828, 27.516, 28.158, 27.312,\n",
       "       27.91 , 27.464])"
      ]
     },
     "execution_count": 26,
     "metadata": {},
     "output_type": "execute_result"
    }
   ],
   "source": [
    "p['y'].mean(axis=0)"
   ]
  },
  {
   "cell_type": "markdown",
   "metadata": {},
   "source": [
    "##  Wrap in function "
   ]
  },
  {
   "cell_type": "code",
   "execution_count": 35,
   "metadata": {},
   "outputs": [],
   "source": [
    "from pymc3.step_methods.arraystep import BlockedStep\n",
    "from pymc3.blocking import ArrayOrdering, DictToArrayBijection\n",
    "\n",
    "class PriorStep(BlockedStep):\n",
    "    \"\"\"\n",
    "    Blocked step method that is generalized to accept vectors of variables.\n",
    "\n",
    "    Parameters\n",
    "    ----------\n",
    "    vars : list\n",
    "        List of variables for sampler.\n",
    "    model : PyMC Model\n",
    "        Optional model for sampling step. Defaults to None (taken from context).\n",
    "    allvars: Boolean (default True)\n",
    "    blocked: Boolean (default True)\n",
    "    \"\"\"\n",
    "\n",
    "    def __init__(self, vars=None, model=None, allvars=True, blocked=True):\n",
    "        model = pm.modelcontext(model)\n",
    "\n",
    "        if vars is None:\n",
    "            vars = model.basic_RVs\n",
    "\n",
    "        self.vars = vars\n",
    "        self.model = model\n",
    "        self.allvars = allvars\n",
    "        self.blocked = blocked\n",
    "\n",
    "    def step(self, point):\n",
    "        model = self.model\n",
    "        point = {}\n",
    "        for var in self.vars:\n",
    "            var_name = var.name\n",
    "            if hasattr(var, 'distribution'):\n",
    "                if is_transformed_name(var_name):\n",
    "                    val = var.distribution.dist.random(\n",
    "                        point=point, size=None)\n",
    "                else:\n",
    "                    val = var.distribution.random(point=point, size=None)\n",
    "            else:\n",
    "                nn, _, _ = get_named_nodes_and_relations(var)\n",
    "                val = var.eval({model.named_vars[v]: point[v]\n",
    "                                for v in nn})\n",
    "\n",
    "            point[var_name] = val\n",
    "\n",
    "        for var_name, var in model.named_vars.items():\n",
    "            if not var_name in point:\n",
    "\n",
    "                nn, _, _ = get_named_nodes_and_relations(var)\n",
    "                val = var.eval({model.named_vars[v]: point[v]\n",
    "                                for v in nn})\n",
    "            point[var_name] = val\n",
    "        return point"
   ]
  },
  {
   "cell_type": "code",
   "execution_count": 37,
   "metadata": {},
   "outputs": [],
   "source": [
    "with model:\n",
    "    step = PriorStep()"
   ]
  },
  {
   "cell_type": "code",
   "execution_count": 38,
   "metadata": {},
   "outputs": [
    {
     "ename": "TypeError",
     "evalue": "Bad input argument to theano function with name \"<ipython-input-17-a594ea16b4a0>:72\" at index 0 (0-based). Wrong number of dimensions: expected 1, got 0 with shape ().",
     "output_type": "error",
     "traceback": [
      "\u001b[0;31m---------------------------------------------------------------------------\u001b[0m",
      "\u001b[0;31mTypeError\u001b[0m                                 Traceback (most recent call last)",
      "\u001b[0;32m<ipython-input-38-e53d3f727194>\u001b[0m in \u001b[0;36m<module>\u001b[0;34m()\u001b[0m\n\u001b[0;32m----> 1\u001b[0;31m \u001b[0mstep\u001b[0m\u001b[0;34m.\u001b[0m\u001b[0mstep\u001b[0m\u001b[0;34m(\u001b[0m\u001b[0mmodel\u001b[0m\u001b[0;34m.\u001b[0m\u001b[0mtest_point\u001b[0m\u001b[0;34m)\u001b[0m\u001b[0;34m\u001b[0m\u001b[0m\n\u001b[0m",
      "\u001b[0;32m<ipython-input-35-dcc9b406293a>\u001b[0m in \u001b[0;36mstep\u001b[0;34m(self, point)\u001b[0m\n\u001b[1;32m     50\u001b[0m                 \u001b[0mnn\u001b[0m\u001b[0;34m,\u001b[0m \u001b[0m_\u001b[0m\u001b[0;34m,\u001b[0m \u001b[0m_\u001b[0m \u001b[0;34m=\u001b[0m \u001b[0mget_named_nodes_and_relations\u001b[0m\u001b[0;34m(\u001b[0m\u001b[0mvar\u001b[0m\u001b[0;34m)\u001b[0m\u001b[0;34m\u001b[0m\u001b[0m\n\u001b[1;32m     51\u001b[0m                 val = var.eval({model.named_vars[v]: point[v]\n\u001b[0;32m---> 52\u001b[0;31m                                 for v in nn})\n\u001b[0m\u001b[1;32m     53\u001b[0m             \u001b[0mpoint\u001b[0m\u001b[0;34m[\u001b[0m\u001b[0mvar_name\u001b[0m\u001b[0;34m]\u001b[0m \u001b[0;34m=\u001b[0m \u001b[0mval\u001b[0m\u001b[0;34m\u001b[0m\u001b[0m\n\u001b[1;32m     54\u001b[0m         \u001b[0;32mreturn\u001b[0m \u001b[0mpoint\u001b[0m\u001b[0;34m\u001b[0m\u001b[0m\n",
      "\u001b[0;32m/Library/Frameworks/Python.framework/Versions/3.5/lib/python3.5/site-packages/theano/gof/graph.py\u001b[0m in \u001b[0;36meval\u001b[0;34m(self, inputs_to_values)\u001b[0m\n\u001b[1;32m    523\u001b[0m         \u001b[0margs\u001b[0m \u001b[0;34m=\u001b[0m \u001b[0;34m[\u001b[0m\u001b[0minputs_to_values\u001b[0m\u001b[0;34m[\u001b[0m\u001b[0mparam\u001b[0m\u001b[0;34m]\u001b[0m \u001b[0;32mfor\u001b[0m \u001b[0mparam\u001b[0m \u001b[0;32min\u001b[0m \u001b[0minputs\u001b[0m\u001b[0;34m]\u001b[0m\u001b[0;34m\u001b[0m\u001b[0m\n\u001b[1;32m    524\u001b[0m \u001b[0;34m\u001b[0m\u001b[0m\n\u001b[0;32m--> 525\u001b[0;31m         \u001b[0mrval\u001b[0m \u001b[0;34m=\u001b[0m \u001b[0mself\u001b[0m\u001b[0;34m.\u001b[0m\u001b[0m_fn_cache\u001b[0m\u001b[0;34m[\u001b[0m\u001b[0minputs\u001b[0m\u001b[0;34m]\u001b[0m\u001b[0;34m(\u001b[0m\u001b[0;34m*\u001b[0m\u001b[0margs\u001b[0m\u001b[0;34m)\u001b[0m\u001b[0;34m\u001b[0m\u001b[0m\n\u001b[0m\u001b[1;32m    526\u001b[0m \u001b[0;34m\u001b[0m\u001b[0m\n\u001b[1;32m    527\u001b[0m         \u001b[0;32mreturn\u001b[0m \u001b[0mrval\u001b[0m\u001b[0;34m\u001b[0m\u001b[0m\n",
      "\u001b[0;32m/Library/Frameworks/Python.framework/Versions/3.5/lib/python3.5/site-packages/theano/compile/function_module.py\u001b[0m in \u001b[0;36m__call__\u001b[0;34m(self, *args, **kwargs)\u001b[0m\n\u001b[1;32m    811\u001b[0m                         s.storage[0] = s.type.filter(\n\u001b[1;32m    812\u001b[0m                             \u001b[0marg\u001b[0m\u001b[0;34m,\u001b[0m \u001b[0mstrict\u001b[0m\u001b[0;34m=\u001b[0m\u001b[0ms\u001b[0m\u001b[0;34m.\u001b[0m\u001b[0mstrict\u001b[0m\u001b[0;34m,\u001b[0m\u001b[0;34m\u001b[0m\u001b[0m\n\u001b[0;32m--> 813\u001b[0;31m                             allow_downcast=s.allow_downcast)\n\u001b[0m\u001b[1;32m    814\u001b[0m \u001b[0;34m\u001b[0m\u001b[0m\n\u001b[1;32m    815\u001b[0m                     \u001b[0;32mexcept\u001b[0m \u001b[0mException\u001b[0m \u001b[0;32mas\u001b[0m \u001b[0me\u001b[0m\u001b[0;34m:\u001b[0m\u001b[0;34m\u001b[0m\u001b[0m\n",
      "\u001b[0;32m/Library/Frameworks/Python.framework/Versions/3.5/lib/python3.5/site-packages/theano/tensor/type.py\u001b[0m in \u001b[0;36mfilter\u001b[0;34m(self, data, strict, allow_downcast)\u001b[0m\n\u001b[1;32m    176\u001b[0m             raise TypeError(\"Wrong number of dimensions: expected %s,\"\n\u001b[1;32m    177\u001b[0m                             \" got %s with shape %s.\" % (self.ndim, data.ndim,\n\u001b[0;32m--> 178\u001b[0;31m                                                         data.shape))\n\u001b[0m\u001b[1;32m    179\u001b[0m         \u001b[0;32mif\u001b[0m \u001b[0;32mnot\u001b[0m \u001b[0mdata\u001b[0m\u001b[0;34m.\u001b[0m\u001b[0mflags\u001b[0m\u001b[0;34m.\u001b[0m\u001b[0maligned\u001b[0m\u001b[0;34m:\u001b[0m\u001b[0;34m\u001b[0m\u001b[0m\n\u001b[1;32m    180\u001b[0m             \u001b[0;32mtry\u001b[0m\u001b[0;34m:\u001b[0m\u001b[0;34m\u001b[0m\u001b[0m\n",
      "\u001b[0;31mTypeError\u001b[0m: Bad input argument to theano function with name \"<ipython-input-17-a594ea16b4a0>:72\" at index 0 (0-based). Wrong number of dimensions: expected 1, got 0 with shape ()."
     ]
    }
   ],
   "source": [
    "step.step(model.test_point)"
   ]
  },
  {
   "cell_type": "code",
   "execution_count": null,
   "metadata": {},
   "outputs": [],
   "source": [
    "names = pm.util.get_default_varnames(model.named_vars, include_transformed=False)\n",
    "names"
   ]
  }
 ],
 "metadata": {
  "kernelspec": {
   "display_name": "Python 3",
   "language": "python",
   "name": "python3"
  },
  "language_info": {
   "codemirror_mode": {
    "name": "ipython",
    "version": 3
   },
   "file_extension": ".py",
   "mimetype": "text/x-python",
   "name": "python",
   "nbconvert_exporter": "python",
   "pygments_lexer": "ipython3",
   "version": "3.5.1"
  }
 },
 "nbformat": 4,
 "nbformat_minor": 2
}
