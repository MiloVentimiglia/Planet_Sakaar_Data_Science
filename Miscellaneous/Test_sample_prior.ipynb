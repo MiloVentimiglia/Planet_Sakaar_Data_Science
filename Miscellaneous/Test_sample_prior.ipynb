{
 "cells": [
  {
   "cell_type": "markdown",
   "metadata": {},
   "source": [
    "https://github.com/pymc-devs/pymc3/pull/2876"
   ]
  },
  {
   "cell_type": "code",
   "execution_count": 133,
   "metadata": {},
   "outputs": [],
   "source": [
    "import pandas as pd\n",
    "data = pd.read_table(pm.get_data('efron-morris-75-data.tsv'), sep=\"\\t\")\n",
    "at_bats, hits = data[['At-Bats', 'Hits']].values.T\n",
    "N = len(hits)\n",
    "\n",
    "with pm.Model() as model:\n",
    "    phi = pm.Beta('phi', alpha=1., beta=1.)\n",
    "\n",
    "    kappa_log = pm.Exponential('kappa_log', lam=5.)\n",
    "    kappa = pm.Deterministic('kappa', tt.exp(kappa_log))\n",
    "\n",
    "    thetas = pm.Beta('thetas', alpha=phi*kappa, beta=(1.0-phi)*kappa, shape=N)\n",
    "\n",
    "    y = pm.Binomial('y', n=at_bats, p=thetas, shape=N, observed=hits)\n",
    "    p = pm.sample_generative()"
   ]
  },
  {
   "cell_type": "code",
   "execution_count": 134,
   "metadata": {},
   "outputs": [
    {
     "data": {
      "text/plain": [
       "['phi', 'kappa_log', 'kappa', 'y', 'thetas']"
      ]
     },
     "execution_count": 134,
     "metadata": {},
     "output_type": "execute_result"
    }
   ],
   "source": [
    "names = pm.util.get_default_varnames(model.named_vars, include_transformed=False)\n",
    "names"
   ]
  },
  {
   "cell_type": "code",
   "execution_count": 136,
   "metadata": {},
   "outputs": [
    {
     "data": {
      "text/plain": [
       "array([[ 0,  1,  9, ..., 22, 35, 40],\n",
       "       [ 0,  5,  8, ..., 23, 34, 43],\n",
       "       [ 0,  4,  9, ..., 19, 36, 38],\n",
       "       ...,\n",
       "       [ 0,  4,  5, ..., 20, 32, 42],\n",
       "       [ 0,  2, 15, ..., 21, 34, 44],\n",
       "       [ 0,  1,  8, ..., 18, 34, 42]])"
      ]
     },
     "execution_count": 136,
     "metadata": {},
     "output_type": "execute_result"
    }
   ],
   "source": [
    "y.random(point=model.test_point, size=1000)"
   ]
  },
  {
   "cell_type": "code",
   "execution_count": 138,
   "metadata": {},
   "outputs": [
    {
     "data": {
      "text/plain": [
       "array([[21, 18, 19, ..., 23, 16, 24],\n",
       "       [26, 23, 24, ..., 24, 23, 22],\n",
       "       [25, 24, 23, ..., 19, 24, 21],\n",
       "       ...,\n",
       "       [22, 21, 24, ..., 28, 26, 22],\n",
       "       [26, 21, 25, ..., 19, 28, 20],\n",
       "       [22, 22, 23, ..., 23, 22, 25]])"
      ]
     },
     "execution_count": 138,
     "metadata": {},
     "output_type": "execute_result"
    }
   ],
   "source": [
    "np.random.binomial(45, thetas.tag.test_value, size=(1000, N))"
   ]
  },
  {
   "cell_type": "code",
   "execution_count": 112,
   "metadata": {},
   "outputs": [],
   "source": [
    "names = ['phi', 'kappa_log', 'kappa', 'thetas', 'y']\n",
    "values = pm.distributions.draw_values([model[name] for name in names], size=100)\n",
    "p = {k: v for k, v in zip(names, values)}"
   ]
  },
  {
   "cell_type": "code",
   "execution_count": 113,
   "metadata": {},
   "outputs": [
    {
     "data": {
      "text/plain": [
       "(array([85., 10.,  3.,  1.,  0.,  0.,  0.,  0.,  0.,  1.]),\n",
       " array([1.00392812, 1.41462059, 1.82531307, 2.23600555, 2.64669803,\n",
       "        3.05739051, 3.46808299, 3.87877547, 4.28946795, 4.70016043,\n",
       "        5.11085291]),\n",
       " <a list of 10 Patch objects>)"
      ]
     },
     "execution_count": 113,
     "metadata": {},
     "output_type": "execute_result"
    },
    {
     "data": {
      "image/png": "[encoded data removed]",
      "text/plain": [
       "<matplotlib.figure.Figure at 0x12246da20>"
      ]
     },
     "metadata": {},
     "output_type": "display_data"
    }
   ],
   "source": [
    "plt.hist(p['kappa'])"
   ]
  },
  {
   "cell_type": "code",
   "execution_count": 114,
   "metadata": {},
   "outputs": [
    {
     "data": {
      "text/plain": [
       "([array([93.,  1.,  3.,  1.,  1.,  0.,  0.,  0.,  0.,  1.]),\n",
       "  array([86.,  2.,  3.,  3.,  1.,  1.,  1.,  1.,  1.,  1.]),\n",
       "  array([90.,  2.,  3.,  1.,  0.,  2.,  2.,  0.,  0.,  0.]),\n",
       "  array([87.,  5.,  1.,  0.,  4.,  2.,  1.,  0.,  0.,  0.]),\n",
       "  array([83.,  5.,  3.,  1.,  4.,  2.,  0.,  1.,  0.,  1.]),\n",
       "  array([93.,  3.,  1.,  2.,  1.,  0.,  0.,  0.,  0.,  0.]),\n",
       "  array([87.,  2.,  3.,  1.,  3.,  0.,  0.,  2.,  1.,  1.]),\n",
       "  array([91.,  1.,  2.,  2.,  0.,  2.,  1.,  1.,  0.,  0.]),\n",
       "  array([87.,  2.,  0.,  1.,  2.,  2.,  1.,  2.,  2.,  1.]),\n",
       "  array([90.,  3.,  0.,  0.,  2.,  1.,  0.,  1.,  1.,  2.]),\n",
       "  array([87.,  5.,  2.,  2.,  1.,  2.,  0.,  1.,  0.,  0.]),\n",
       "  array([87.,  4.,  3.,  2.,  0.,  2.,  0.,  2.,  0.,  0.]),\n",
       "  array([92.,  5.,  1.,  1.,  0.,  0.,  0.,  0.,  0.,  1.]),\n",
       "  array([82.,  3.,  4.,  5.,  1.,  1.,  2.,  0.,  2.,  0.]),\n",
       "  array([92.,  2.,  0.,  1.,  1.,  1.,  1.,  0.,  2.,  0.]),\n",
       "  array([89.,  1.,  4.,  2.,  1.,  1.,  1.,  1.,  0.,  0.]),\n",
       "  array([76.,  3.,  6.,  6.,  3.,  2.,  2.,  0.,  1.,  1.]),\n",
       "  array([89.,  5.,  0.,  3.,  0.,  0.,  0.,  1.,  1.,  1.])],\n",
       " array([1.78534501e-71, 9.99662212e-02, 1.99932442e-01, 2.99898664e-01,\n",
       "        3.99864885e-01, 4.99831106e-01, 5.99797327e-01, 6.99763549e-01,\n",
       "        7.99729770e-01, 8.99695991e-01, 9.99662212e-01]),\n",
       " <a list of 18 Lists of Patches objects>)"
      ]
     },
     "execution_count": 114,
     "metadata": {},
     "output_type": "execute_result"
    },
    {
     "data": {
      "image/png": "[encoded data removed]",
      "text/plain": [
       "<matplotlib.figure.Figure at 0x12a048208>"
      ]
     },
     "metadata": {},
     "output_type": "display_data"
    }
   ],
   "source": [
    "plt.hist(p['thetas'])"
   ]
  },
  {
   "cell_type": "code",
   "execution_count": 115,
   "metadata": {},
   "outputs": [
    {
     "data": {
      "text/plain": [
       "([array([  0.,   0.,   0.,   0.,   0.,   0.,   0.,   0.,   0., 100.]),\n",
       "  array([25., 56., 19.,  0.,  0.,  0.,  0.,  0.,  0.,  0.]),\n",
       "  array([  0.,   0.,   0.,   0.,   0.,   0.,   0.,   0.,   0., 100.]),\n",
       "  array([99.,  1.,  0.,  0.,  0.,  0.,  0.,  0.,  0.,  0.]),\n",
       "  array([35., 60.,  5.,  0.,  0.,  0.,  0.,  0.,  0.,  0.]),\n",
       "  array([ 0.,  0.,  0.,  0.,  2., 17., 59., 22.,  0.,  0.]),\n",
       "  array([45., 47.,  8.,  0.,  0.,  0.,  0.,  0.,  0.,  0.]),\n",
       "  array([100.,   0.,   0.,   0.,   0.,   0.,   0.,   0.,   0.,   0.]),\n",
       "  array([100.,   0.,   0.,   0.,   0.,   0.,   0.,   0.,   0.,   0.]),\n",
       "  array([77., 23.,  0.,  0.,  0.,  0.,  0.,  0.,  0.,  0.]),\n",
       "  array([ 0.,  0.,  0.,  0.,  0.,  1., 25., 53., 20.,  1.]),\n",
       "  array([100.,   0.,   0.,   0.,   0.,   0.,   0.,   0.,   0.,   0.]),\n",
       "  array([ 0.,  0.,  9., 49., 37.,  4.,  1.,  0.,  0.,  0.]),\n",
       "  array([ 5., 53., 40.,  2.,  0.,  0.,  0.,  0.,  0.,  0.]),\n",
       "  array([ 0.,  0.,  0.,  0.,  0.,  1., 36., 44., 19.,  0.]),\n",
       "  array([100.,   0.,   0.,   0.,   0.,   0.,   0.,   0.,   0.,   0.]),\n",
       "  array([100.,   0.,   0.,   0.,   0.,   0.,   0.,   0.,   0.,   0.]),\n",
       "  array([ 0.,  0.,  0.,  6., 46., 40.,  8.,  0.,  0.,  0.])],\n",
       " array([ 0. ,  4.5,  9. , 13.5, 18. , 22.5, 27. , 31.5, 36. , 40.5, 45. ]),\n",
       " <a list of 18 Lists of Patches objects>)"
      ]
     },
     "execution_count": 115,
     "metadata": {},
     "output_type": "execute_result"
    },
    {
     "data": {
      "image/png": "[encoded data removed]",
      "text/plain": [
       "<matplotlib.figure.Figure at 0x129621080>"
      ]
     },
     "metadata": {},
     "output_type": "display_data"
    }
   ],
   "source": [
    "plt.hist(p['y'])"
   ]
  },
  {
   "cell_type": "code",
   "execution_count": 37,
   "metadata": {},
   "outputs": [
    {
     "data": {
      "text/plain": [
       "array([0.91477783, 0.39240297, 0.6024818 , 0.0103198 , 0.79405848,\n",
       "       0.9929097 , 0.00577799, 0.43283732, 0.99716879, 0.6392796 ,\n",
       "       0.1146776 , 0.04013293, 0.63416813, 0.97917682, 0.93176632,\n",
       "       0.96075654, 0.99684358, 0.99951873])"
      ]
     },
     "execution_count": 37,
     "metadata": {},
     "output_type": "execute_result"
    }
   ],
   "source": [
    "p['thetas'][0]"
   ]
  },
  {
   "cell_type": "code",
   "execution_count": 38,
   "metadata": {},
   "outputs": [
    {
     "data": {
      "text/plain": [
       "array([37, 35, 38, 40, 19, 41, 21, 30, 24, 30,  9,  8, 28, 24, 12, 23, 38,\n",
       "       37])"
      ]
     },
     "execution_count": 38,
     "metadata": {},
     "output_type": "execute_result"
    }
   ],
   "source": [
    "p['y'][0]"
   ]
  },
  {
   "cell_type": "code",
   "execution_count": 39,
   "metadata": {},
   "outputs": [
    {
     "data": {
      "text/plain": [
       "array([45, 45, 45, 45, 45, 45, 45, 45, 45, 45, 45, 45, 45, 45, 45, 45, 45,\n",
       "       45])"
      ]
     },
     "execution_count": 39,
     "metadata": {},
     "output_type": "execute_result"
    }
   ],
   "source": [
    "at_bats"
   ]
  },
  {
   "cell_type": "code",
   "execution_count": 40,
   "metadata": {},
   "outputs": [
    {
     "data": {
      "text/plain": [
       "array([27.47100009, 23.83029218, 25.78158732, 26.95062942, 27.04525637,\n",
       "       23.06370188, 25.16237956, 25.68327175, 23.42492362, 26.19416057,\n",
       "       26.98748906, 26.62710342, 26.14017732, 24.10210065, 28.49715339,\n",
       "       26.18484643, 27.48694141, 26.58925918])"
      ]
     },
     "execution_count": 40,
     "metadata": {},
     "output_type": "execute_result"
    }
   ],
   "source": [
    "p['thetas'].mean(axis=0) * at_bats"
   ]
  },
  {
   "cell_type": "code",
   "execution_count": 41,
   "metadata": {},
   "outputs": [
    {
     "data": {
      "text/plain": [
       "array([34.63, 32.44, 35.2 , 39.57, 14.82, 41.52, 24.7 , 33.13, 26.62,\n",
       "       31.54,  8.82,  7.62, 23.98, 23.06, 15.15, 27.18, 37.91, 38.79])"
      ]
     },
     "execution_count": 41,
     "metadata": {},
     "output_type": "execute_result"
    }
   ],
   "source": [
    "p['y'].mean(axis=0)"
   ]
  }
 ],
 "metadata": {
  "kernelspec": {
   "display_name": "Python 3",
   "language": "python",
   "name": "python3"
  },
  "language_info": {
   "codemirror_mode": {
    "name": "ipython",
    "version": 3
   },
   "file_extension": ".py",
   "mimetype": "text/x-python",
   "name": "python",
   "nbconvert_exporter": "python",
   "pygments_lexer": "ipython3",
   "version": "3.5.1"
  }
 },
 "nbformat": 4,
 "nbformat_minor": 2
}
