{
 "cells": [
  {
   "cell_type": "code",
   "execution_count": 3,
   "metadata": {},
   "outputs": [
    {
     "name": "stdout",
     "output_type": "stream",
     "text": [
      "Populating the interactive namespace from numpy and matplotlib\n"
     ]
    },
    {
     "name": "stderr",
     "output_type": "stream",
     "text": [
      "/usr/local/lib/python3.5/dist-packages/IPython/core/magics/pylab.py:160: UserWarning: pylab import has clobbered these variables: ['beta']\n",
      "`%matplotlib` prevents importing * from pylab and numpy\n",
      "  \"\\n`%matplotlib` prevents importing * from pylab and numpy\"\n"
     ]
    }
   ],
   "source": [
    "%pylab inline\n",
    "import numpy as np\n",
    "import pymc3 as pm\n",
    "import theano.tensor as tt"
   ]
  },
  {
   "cell_type": "markdown",
   "metadata": {},
   "source": [
    "```stan\n",
    "data {\n",
    "int <lower=0> N;\n",
    "int <lower=0> D;\n",
    "matrix [N,D] x ;\n",
    "vector [N] y;\n",
    "}\n",
    "parameters {\n",
    "vector [D] b;\n",
    "real <lower=0> sigma;\n",
    "}\n",
    "model {\n",
    "y ~ normal(x * b, sigma);\n",
    "b~normal(0,1);\n",
    "sigma~gamma(0.5,0.5);\n",
    "}\n",
    "generated quantities{\n",
    "real  log_density;\n",
    "log_density=normal_lpdf(y |x * b, sigma)+normal_lpdf(b|0,1)+gamma_lpdf(sigma|0.5,0.5)+log(sigma);\n",
    "}\n",
    "```"
   ]
  },
  {
   "cell_type": "code",
   "execution_count": 4,
   "metadata": {},
   "outputs": [],
   "source": [
    "# a linear regression with 10^5 data and 100 variables\n",
    "N = 10000\n",
    "D = 100\n",
    "beta = np.random.randn(D)\n",
    "x = np.random.randn(N, D)\n",
    "y = np.dot(x, beta) + np.random.randn(N)*2"
   ]
  },
  {
   "cell_type": "code",
   "execution_count": 5,
   "metadata": {},
   "outputs": [],
   "source": [
    "with pm.Model() as md:\n",
    "    b = pm.Normal('b', 0., 1., shape=D)\n",
    "    sigma = pm.Gamma('sd', .5, .5)\n",
    "    pm.Normal('y', tt.dot(x, b), sigma, observed=y)"
   ]
  },
  {
   "cell_type": "code",
   "execution_count": 6,
   "metadata": {},
   "outputs": [
    {
     "name": "stderr",
     "output_type": "stream",
     "text": [
      "Average Loss = 21,500:  25%|██▍       | 24914/100000 [01:48<05:28, 228.70it/s]   \n",
      "Interrupted at 24,922 [24%]: Average Loss = 1.0039e+05\n",
      "INFO:pymc3.variational.inference:Interrupted at 24,922 [24%]: Average Loss = 1.0039e+05\n"
     ]
    }
   ],
   "source": [
    "with md:\n",
    "    approx = pm.ADVI()\n",
    "    approx.fit(100000)"
   ]
  }
 ],
 "metadata": {
  "kernelspec": {
   "display_name": "Python 3",
   "language": "python",
   "name": "python3"
  },
  "language_info": {
   "codemirror_mode": {
    "name": "ipython",
    "version": 3
   },
   "file_extension": ".py",
   "mimetype": "text/x-python",
   "name": "python",
   "nbconvert_exporter": "python",
   "pygments_lexer": "ipython3",
   "version": "3.5.2"
  }
 },
 "nbformat": 4,
 "nbformat_minor": 2
}
