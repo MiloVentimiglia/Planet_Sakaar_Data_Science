{
 "cells": [
  {
   "cell_type": "markdown",
   "metadata": {},
   "source": [
    "http://mc-stan.org/users/documentation/case-studies/lotka-volterra-predator-prey.html  \n",
    "https://discourse.pymc.io/t/dynamical-model-in-pymc3/1012"
   ]
  },
  {
   "cell_type": "code",
   "execution_count": 2,
   "metadata": {},
   "outputs": [
    {
     "name": "stderr",
     "output_type": "stream",
     "text": [
      "/usr/local/lib/python3.5/dist-packages/h5py/__init__.py:36: FutureWarning: Conversion of the second argument of issubdtype from `float` to `np.floating` is deprecated. In future, it will be treated as `np.float64 == np.dtype(float).type`.\n",
      "  from ._conv import register_converters as _register_converters\n"
     ]
    }
   ],
   "source": [
    "%matplotlib inline\n",
    "import numpy as np\n",
    "import pymc3 as pm\n",
    "import theano.tensor as tt\n",
    "import scipy.stats as st\n",
    "import matplotlib.pylab as plt\n",
    "\n",
    "import theano"
   ]
  },
  {
   "cell_type": "code",
   "execution_count": 3,
   "metadata": {},
   "outputs": [],
   "source": [
    "theano.config.test_values = 'raise'\n",
    "\n",
    "alpha = tt.dscalar(\"alpha\")\n",
    "beta = tt.dscalar(\"beta\")\n",
    "gamma = tt.dscalar(\"gamma\")\n",
    "delta = tt.dscalar(\"delta\")\n",
    "Z0 = tt.vector(\"Z0\")\n",
    "dt = tt.dscalar(\"dt\")\n",
    "steps = tt.iscalar(\"steps\")\n",
    "\n",
    "\n",
    "def rhs_ode(y, a, b, c, d, dt):\n",
    "    yprime = tt.zeros_like(y)\n",
    "    yprime = tt.set_subtensor(\n",
    "        yprime[0], y[0] + dt * (a * y[0] - b * y[0] * y[1]))\n",
    "    yprime = tt.set_subtensor(\n",
    "        yprime[1], y[1] + dt * (-c * y[1] + d * y[0] * y[1]))\n",
    "    return yprime\n",
    "\n",
    "\n",
    "# Symbolic loop through Euler updates\n",
    "xout, updates = theano.scan(fn=rhs_ode,\n",
    "                            outputs_info=Z0,\n",
    "                            non_sequences=[alpha, beta, gamma, delta, dt],\n",
    "                            n_steps=steps)\n",
    "\n",
    "simulation = theano.function(inputs=[Z0, alpha, beta, gamma, delta, dt, steps],\n",
    "                             outputs=xout,\n",
    "                             updates=updates,\n",
    "                             allow_input_downcast=True)"
   ]
  },
  {
   "cell_type": "code",
   "execution_count": 4,
   "metadata": {},
   "outputs": [
    {
     "data": {
      "image/png": "[encoded data removed]",
      "text/plain": [
       "<matplotlib.figure.Figure at 0x7f2746878320>"
      ]
     },
     "metadata": {},
     "output_type": "display_data"
    }
   ],
   "source": [
    "nstep = 100\n",
    "a, b, c, d, dt = 2.5, 2.5, 1.75, 1.75, .05\n",
    "data = simulation(np.asarray([.5, 0.25]), a, b, c, d, dt, nstep)+np.random.randn(nstep, 2)*.015\n",
    "plt.plot(data[:, 0], data[:, 1]);"
   ]
  },
  {
   "cell_type": "code",
   "execution_count": 32,
   "metadata": {
    "scrolled": false
   },
   "outputs": [
    {
     "name": "stderr",
     "output_type": "stream",
     "text": [
      "Auto-assigning NUTS sampler...\n",
      "Initializing NUTS using jitter+adapt_diag...\n",
      "Sequential sampling (2 chains in 1 job)\n",
      "NUTS: [Z0, sigma_log__, delta, beta, gamma, alpha]\n",
      " 10%|█         | 104/1000 [07:21<3:11:46, 12.84s/it]/Library/Frameworks/Python.framework/Versions/3.5/lib/python3.5/site-packages/numpy/core/fromnumeric.py:2957: RuntimeWarning: Mean of empty slice.\n",
      "  out=out, **kwargs)\n",
      "\n",
      "Only one chain was sampled, this makes it impossible to run some convergence checks\n"
     ]
    }
   ],
   "source": [
    "with pm.Model() as LV_Model:\n",
    "    # priors\n",
    "    # test inference using real parameters\n",
    "    alpha = pm.Normal('alpha', mu=a, sd=1.)\n",
    "    gamma = pm.Normal('gamma', mu=b, sd=1.)\n",
    "    beta = pm.Normal('beta', mu=c, sd=1.)\n",
    "    delta = pm.Normal('delta', mu=d, sd=1.)\n",
    "    \n",
    "    sigma = pm.HalfNormal('sigma', sd=.05, shape=2)\n",
    "\n",
    "    # Initial Conditions\n",
    "    Z0 = pm.Normal('Z0', mu=0, sd=1, shape=2)\n",
    "\n",
    "    # Symbolic loop through Euler updates\n",
    "    xout, updates = theano.scan(fn=rhs_ode,\n",
    "                                outputs_info=Z0,\n",
    "                                non_sequences=[alpha, beta, gamma, delta, dt],\n",
    "                                n_steps=nstep)\n",
    "\n",
    "    Y_obs = pm.Normal('Y_obs', mu=xout, sd=sigma, observed=data)\n",
    "    \n",
    "    trace = pm.sample()"
   ]
  }
 ],
 "metadata": {
  "kernelspec": {
   "display_name": "Python 3",
   "language": "python",
   "name": "python3"
  },
  "language_info": {
   "codemirror_mode": {
    "name": "ipython",
    "version": 3
   },
   "file_extension": ".py",
   "mimetype": "text/x-python",
   "name": "python",
   "nbconvert_exporter": "python",
   "pygments_lexer": "ipython3",
   "version": "3.5.2"
  }
 },
 "nbformat": 4,
 "nbformat_minor": 2
}
