{
 "cells": [
  {
   "cell_type": "markdown",
   "metadata": {},
   "source": [
    "https://github.com/pymc-devs/pymc3/pull/2876"
   ]
  },
  {
   "cell_type": "code",
   "execution_count": 1,
   "metadata": {},
   "outputs": [
    {
     "name": "stderr",
     "output_type": "stream",
     "text": [
      "/Library/Frameworks/Python.framework/Versions/3.5/lib/python3.5/site-packages/h5py/__init__.py:36: FutureWarning: Conversion of the second argument of issubdtype from `float` to `np.floating` is deprecated. In future, it will be treated as `np.float64 == np.dtype(float).type`.\n",
      "  from ._conv import register_converters as _register_converters\n"
     ]
    }
   ],
   "source": [
    "%matplotlib inline\n",
    "import pandas as pd\n",
    "import numpy as np\n",
    "import pymc3 as pm\n",
    "import theano.tensor as tt\n",
    "\n",
    "import matplotlib.pylab as plt"
   ]
  },
  {
   "cell_type": "markdown",
   "metadata": {},
   "source": [
    "Cherry picked commit"
   ]
  },
  {
   "cell_type": "code",
   "execution_count": 2,
   "metadata": {},
   "outputs": [],
   "source": [
    "from pymc3.model import modelcontext, get_named_nodes_and_relations\n",
    "from pymc3.util import is_transformed_name, get_untransformed_name\n",
    "from tqdm import tqdm\n",
    "\n",
    "\n",
    "def sample_prior(samples=500, model=None, vars=None, size=None,\n",
    "                 random_seed=None, progressbar=True):\n",
    "    \"\"\"Generate samples from the prior of a model.\n",
    "\n",
    "    Parameters\n",
    "    ----------\n",
    "    samples : int\n",
    "        Number of samples from the prior to generate. Defaults to 500.\n",
    "    model : Model (optional if in `with` context)\n",
    "    vars : iterable\n",
    "        Variables for which to compute the posterior predictive samples.\n",
    "        Defaults to `model.named_vars`.\n",
    "    size : int\n",
    "        The number of random draws from the distribution specified by the\n",
    "        parameters in each sample of the trace.\n",
    "    random_seed : int\n",
    "        Seed for the random number generator.\n",
    "    progressbar : bool\n",
    "        Whether or not to display a progress bar in the command line.\n",
    "\n",
    "    Returns\n",
    "    -------\n",
    "    dict\n",
    "        Dictionary with the variables as keys. The values are arrays of prior samples.\n",
    "    \"\"\"\n",
    "\n",
    "    model = modelcontext(model)\n",
    "\n",
    "    if vars is None:\n",
    "        vars = set(model.named_vars.keys())\n",
    "\n",
    "    if random_seed is not None:\n",
    "        np.random.seed(random_seed)\n",
    "\n",
    "    if progressbar:\n",
    "        indices = tqdm(range(samples))\n",
    "\n",
    "    def step(model):\n",
    "        point = {}\n",
    "        for var in model.basic_RVs:\n",
    "            var_name = var.name\n",
    "            if hasattr(var, 'distribution'):\n",
    "                if is_transformed_name(var_name):\n",
    "                    val = var.distribution.dist.random(\n",
    "                        point=point, size=size)\n",
    "                    var_name_untranf = get_untransformed_name(var_name)\n",
    "                    point[var_name_untranf] = val\n",
    "                    val = var.distribution.transform_used.forward_val(val)\n",
    "                else:\n",
    "                    val = var.distribution.random(point=point, size=size)\n",
    "            else:\n",
    "                nn, _, _ = get_named_nodes_and_relations(var)\n",
    "                val = var.eval({model.named_vars[v]: point[v]\n",
    "                                for v in nn})\n",
    "\n",
    "            point[var_name] = val\n",
    "        return point\n",
    "\n",
    "    try:\n",
    "        prior = {var: [] for var in vars}\n",
    "        for _ in indices:\n",
    "            point = step(model)\n",
    "            for var_name, var in model.named_vars.items():\n",
    "                if var_name in vars:\n",
    "                    if var_name in point:\n",
    "                        val = point[var_name]\n",
    "                    else:\n",
    "                        nn, _, _ = get_named_nodes_and_relations(var)\n",
    "                        val = var.eval({model.named_vars[v]: point[v]\n",
    "                                        for v in nn})\n",
    "                    prior[var_name].append(val)\n",
    "\n",
    "    except KeyboardInterrupt:\n",
    "        pass\n",
    "\n",
    "    finally:\n",
    "        if progressbar:\n",
    "            indices.close()\n",
    "\n",
    "    return {k: np.asarray(v) for k, v in prior.items()}"
   ]
  },
  {
   "cell_type": "code",
   "execution_count": 3,
   "metadata": {},
   "outputs": [
    {
     "name": "stderr",
     "output_type": "stream",
     "text": [
      "100%|██████████| 500/500 [00:00<00:00, 1675.65it/s]\n"
     ]
    }
   ],
   "source": [
    "observed = np.random.normal(10, 1, size=200)\n",
    "with pm.Model() as m: \n",
    "    # Use a prior that's way off to show we're actually sampling from it \n",
    "    mu = pm.Normal('mu', mu=-10, sd=1) \n",
    "    positive_mu = pm.Deterministic('positive_mu', np.abs(mu)) \n",
    "    pm.Normal('x_obs', mu=mu, sd=1, observed=observed) \n",
    "    prior = sample_prior() \n",
    "\n",
    "assert (prior['mu'] < 0).all() \n",
    "assert (prior['positive_mu'] > 0).all() \n",
    "assert (prior['x_obs'] < 0).all()"
   ]
  },
  {
   "cell_type": "markdown",
   "metadata": {},
   "source": [
    "## More complex example"
   ]
  },
  {
   "cell_type": "code",
   "execution_count": 4,
   "metadata": {},
   "outputs": [],
   "source": [
    "data = pd.read_table(pm.get_data('efron-morris-75-data.tsv'), sep=\"\\t\")\n",
    "at_bats, hits = data[['At-Bats', 'Hits']].values.T\n",
    "N = len(hits)"
   ]
  },
  {
   "cell_type": "markdown",
   "metadata": {},
   "source": [
    "### Reference numpy implementation"
   ]
  },
  {
   "cell_type": "code",
   "execution_count": 5,
   "metadata": {},
   "outputs": [],
   "source": [
    "import scipy.stats as stats"
   ]
  },
  {
   "cell_type": "code",
   "execution_count": 6,
   "metadata": {},
   "outputs": [],
   "source": [
    "def model_prior_sample(nsample):\n",
    "    phi = stats.beta.rvs(1., 1., size=nsample)\n",
    "    logkappa = np.random.exponential(1/5., nsample)\n",
    "    kappa = np.exp(logkappa)\n",
    "    thetas = stats.beta.rvs(phi*kappa, (1.-phi)*kappa, size=(N, nsample))\n",
    "    y = stats.binom.rvs(n=at_bats[:, None], p=thetas)\n",
    "    \n",
    "    psample = {}\n",
    "    psample['phi'] = phi\n",
    "    psample['logkappa'] = logkappa\n",
    "    psample['kappa'] = kappa\n",
    "    psample['thetas'] = thetas.T\n",
    "    psample['y'] = y.T\n",
    "    return psample"
   ]
  },
  {
   "cell_type": "code",
   "execution_count": 7,
   "metadata": {},
   "outputs": [
    {
     "name": "stdout",
     "output_type": "stream",
     "text": [
      "CPU times: user 71.9 ms, sys: 5.43 ms, total: 77.3 ms\n",
      "Wall time: 77.4 ms\n"
     ]
    }
   ],
   "source": [
    "%%time\n",
    "\n",
    "psample0 = model_prior_sample(10000)"
   ]
  },
  {
   "cell_type": "code",
   "execution_count": 8,
   "metadata": {},
   "outputs": [
    {
     "data": {
      "image/png": "[encoded data removed]",
      "text/plain": [
       "<matplotlib.figure.Figure at 0x10e46ab70>"
      ]
     },
     "metadata": {},
     "output_type": "display_data"
    }
   ],
   "source": [
    "plt.style.use('seaborn-darkgrid')\n",
    "x = np.linspace(0, 1, 200)\n",
    "a = 1.\n",
    "b = 1.\n",
    "pdf = stats.beta.pdf(x, a, b)\n",
    "plt.plot(x, pdf, label=r'$\\alpha$ = {}, $\\beta$ = {}'.format(a, b))\n",
    "plt.hist(psample0['phi'], 500, normed=True);\n",
    "plt.xlabel('x', fontsize=12)\n",
    "plt.ylabel('f(x)', fontsize=12)\n",
    "plt.ylim(0, 4.5)\n",
    "plt.legend(loc=9)\n",
    "plt.show()"
   ]
  },
  {
   "cell_type": "code",
   "execution_count": 9,
   "metadata": {},
   "outputs": [
    {
     "data": {
      "image/png": "[encoded data removed]",
      "text/plain": [
       "<matplotlib.figure.Figure at 0x121b0f630>"
      ]
     },
     "metadata": {},
     "output_type": "display_data"
    }
   ],
   "source": [
    "plt.style.use('seaborn-darkgrid')\n",
    "x = np.linspace(0, 3, 100)\n",
    "lam = 5.\n",
    "pdf = stats.expon.pdf(x, scale=1.0/lam)\n",
    "plt.plot(x, pdf, label=r'$\\lambda$ = {}'.format(lam))\n",
    "plt.hist(psample0['logkappa'], 500, normed=True);\n",
    "plt.xlabel('x', fontsize=12)\n",
    "plt.ylabel('f(x)', fontsize=12)\n",
    "plt.ylim(0, 4.5)\n",
    "plt.legend(loc=9)\n",
    "plt.show()"
   ]
  },
  {
   "cell_type": "code",
   "execution_count": 10,
   "metadata": {},
   "outputs": [
    {
     "data": {
      "image/png": "[encoded data removed]",
      "text/plain": [
       "<matplotlib.figure.Figure at 0x1220f5c50>"
      ]
     },
     "metadata": {},
     "output_type": "display_data"
    }
   ],
   "source": [
    "plt.hist(psample0['y']);"
   ]
  },
  {
   "cell_type": "code",
   "execution_count": 11,
   "metadata": {},
   "outputs": [
    {
     "data": {
      "image/png": "[encoded data removed]",
      "text/plain": [
       "<matplotlib.figure.Figure at 0x122270ba8>"
      ]
     },
     "metadata": {},
     "output_type": "display_data"
    }
   ],
   "source": [
    "plt.hist(psample0['thetas']);"
   ]
  },
  {
   "cell_type": "code",
   "execution_count": 12,
   "metadata": {},
   "outputs": [
    {
     "data": {
      "text/plain": [
       "array([22.3365445 , 22.40489738, 22.29671025, 22.72182605, 22.47891939,\n",
       "       22.46932622, 22.49655555, 22.50779385, 22.52546474, 22.52823201,\n",
       "       22.38041608, 22.41091891, 22.58897736, 22.48651101, 22.33446269,\n",
       "       22.3721184 , 22.41926968, 22.33399209])"
      ]
     },
     "execution_count": 12,
     "metadata": {},
     "output_type": "execute_result"
    }
   ],
   "source": [
    "psample0['thetas'].mean(axis=0) * at_bats"
   ]
  },
  {
   "cell_type": "code",
   "execution_count": 13,
   "metadata": {},
   "outputs": [
    {
     "data": {
      "text/plain": [
       "array([22.3238, 22.4261, 22.2838, 22.7543, 22.4663, 22.5181, 22.4796,\n",
       "       22.5051, 22.5321, 22.5051, 22.3974, 22.4052, 22.5952, 22.4954,\n",
       "       22.3411, 22.3733, 22.4216, 22.3127])"
      ]
     },
     "execution_count": 13,
     "metadata": {},
     "output_type": "execute_result"
    }
   ],
   "source": [
    "psample0['y'].mean(axis=0)"
   ]
  },
  {
   "cell_type": "markdown",
   "metadata": {},
   "source": [
    "### PyMC3"
   ]
  },
  {
   "cell_type": "code",
   "execution_count": 14,
   "metadata": {},
   "outputs": [],
   "source": [
    "with pm.Model() as model:\n",
    "    phi = pm.Beta('phi', alpha=1., beta=1.)\n",
    "\n",
    "    kappa_log = pm.Exponential('logkappa', lam=5.)\n",
    "    kappa = pm.Deterministic('kappa', tt.exp(kappa_log))\n",
    "\n",
    "    thetas = pm.Beta('thetas', alpha=phi*kappa, beta=(1.0-phi)*kappa, shape=N)\n",
    "\n",
    "    y = pm.Binomial('y', n=at_bats, p=thetas, shape=N, observed=hits)"
   ]
  },
  {
   "cell_type": "code",
   "execution_count": 15,
   "metadata": {},
   "outputs": [
    {
     "data": {
      "text/plain": [
       "array([[14,  0,  0, ...,  1, 43, 42],\n",
       "       [17,  2,  2, ...,  0, 43, 44],\n",
       "       [19,  4,  0, ...,  0, 44, 42],\n",
       "       ...,\n",
       "       [12,  1,  0, ...,  0, 43, 43],\n",
       "       [16,  0,  0, ...,  0, 43, 43],\n",
       "       [10,  5,  0, ...,  0, 44, 43]])"
      ]
     },
     "execution_count": 15,
     "metadata": {},
     "output_type": "execute_result"
    }
   ],
   "source": [
    "y.distribution.random(point=model.test_point, size=1000)"
   ]
  },
  {
   "cell_type": "code",
   "execution_count": 16,
   "metadata": {},
   "outputs": [
    {
     "data": {
      "text/plain": [
       "array([[13, 22, 23, ..., 23, 29, 21],\n",
       "       [16, 22, 25, ..., 22, 23, 24],\n",
       "       [25, 21, 25, ..., 23, 27, 24],\n",
       "       ...,\n",
       "       [17, 24, 19, ..., 23, 25, 22],\n",
       "       [21, 23, 21, ..., 21, 28, 14],\n",
       "       [25, 19, 24, ..., 25, 20, 24]])"
      ]
     },
     "execution_count": 16,
     "metadata": {},
     "output_type": "execute_result"
    }
   ],
   "source": [
    "np.random.binomial(45, thetas.tag.test_value, size=(1000, N))"
   ]
  },
  {
   "cell_type": "code",
   "execution_count": 17,
   "metadata": {},
   "outputs": [],
   "source": [
    "# names = ['phi', 'kappa_log', 'kappa', 'thetas', 'y']\n",
    "# values = pm.distributions.draw_values([model[name] for name in names], size=100)\n",
    "# p = {k: v for k, v in zip(names, values)}"
   ]
  },
  {
   "cell_type": "code",
   "execution_count": 18,
   "metadata": {
    "scrolled": true
   },
   "outputs": [
    {
     "name": "stderr",
     "output_type": "stream",
     "text": [
      "100%|██████████| 10000/10000 [00:28<00:00, 344.96it/s]\n"
     ]
    },
    {
     "name": "stdout",
     "output_type": "stream",
     "text": [
      "CPU times: user 27.9 s, sys: 593 ms, total: 28.5 s\n",
      "Wall time: 29.1 s\n"
     ]
    }
   ],
   "source": [
    "%%time\n",
    "psample1 = sample_prior(10000, model=model)"
   ]
  },
  {
   "cell_type": "code",
   "execution_count": 19,
   "metadata": {},
   "outputs": [
    {
     "data": {
      "image/png": "[encoded data removed]",
      "text/plain": [
       "<matplotlib.figure.Figure at 0x1230e1eb8>"
      ]
     },
     "metadata": {},
     "output_type": "display_data"
    }
   ],
   "source": [
    "plt.style.use('seaborn-darkgrid')\n",
    "x = np.linspace(0, 1, 200)\n",
    "a = 1.\n",
    "b = 1.\n",
    "pdf = stats.beta.pdf(x, a, b)\n",
    "plt.plot(x, pdf, label=r'$\\alpha$ = {}, $\\beta$ = {}'.format(a, b))\n",
    "plt.hist(psample1['phi'], 500, normed=True);\n",
    "plt.xlabel('x', fontsize=12)\n",
    "plt.ylabel('f(x)', fontsize=12)\n",
    "plt.ylim(0, 4.5)\n",
    "plt.legend(loc=9)\n",
    "plt.show()"
   ]
  },
  {
   "cell_type": "code",
   "execution_count": 20,
   "metadata": {},
   "outputs": [
    {
     "data": {
      "text/plain": [
       "(0.00018182519007093234, 0.9998991728887229)"
      ]
     },
     "execution_count": 20,
     "metadata": {},
     "output_type": "execute_result"
    }
   ],
   "source": [
    "np.min(psample1['phi']), np.max(psample1['phi'])"
   ]
  },
  {
   "cell_type": "code",
   "execution_count": 21,
   "metadata": {},
   "outputs": [
    {
     "data": {
      "image/png": "[encoded data removed]",
      "text/plain": [
       "<matplotlib.figure.Figure at 0x1235c7358>"
      ]
     },
     "metadata": {},
     "output_type": "display_data"
    }
   ],
   "source": [
    "plt.style.use('seaborn-darkgrid')\n",
    "x = np.linspace(0, 3, 100)\n",
    "lam = 5.\n",
    "pdf = stats.expon.pdf(x, scale=1.0/lam)\n",
    "plt.plot(x, pdf, label=r'$\\lambda$ = {}'.format(lam))\n",
    "plt.hist(psample1['logkappa'], 500, normed=True);\n",
    "plt.xlabel('x', fontsize=12)\n",
    "plt.ylabel('f(x)', fontsize=12)\n",
    "plt.ylim(0, 4.5)\n",
    "plt.legend(loc=9)\n",
    "plt.show()"
   ]
  },
  {
   "cell_type": "code",
   "execution_count": 22,
   "metadata": {},
   "outputs": [
    {
     "data": {
      "image/png": "[encoded data removed]",
      "text/plain": [
       "<matplotlib.figure.Figure at 0x1235d99e8>"
      ]
     },
     "metadata": {},
     "output_type": "display_data"
    }
   ],
   "source": [
    "plt.hist(psample1['y']);"
   ]
  },
  {
   "cell_type": "code",
   "execution_count": 23,
   "metadata": {},
   "outputs": [
    {
     "data": {
      "image/png": "[encoded data removed]",
      "text/plain": [
       "<matplotlib.figure.Figure at 0x124007470>"
      ]
     },
     "metadata": {},
     "output_type": "display_data"
    }
   ],
   "source": [
    "plt.hist(psample1['thetas']);"
   ]
  },
  {
   "cell_type": "code",
   "execution_count": 24,
   "metadata": {},
   "outputs": [
    {
     "data": {
      "text/plain": [
       "array([22.4562556 , 22.32017225, 22.3463139 , 22.36098063, 22.42782094,\n",
       "       22.30720201, 22.51184482, 22.42915697, 22.32454652, 22.48766166,\n",
       "       22.33012049, 22.43088119, 22.13485788, 22.41605156, 22.30553331,\n",
       "       22.44427576, 22.45231589, 22.26498444])"
      ]
     },
     "execution_count": 24,
     "metadata": {},
     "output_type": "execute_result"
    }
   ],
   "source": [
    "psample1['thetas'].mean(axis=0) * at_bats"
   ]
  },
  {
   "cell_type": "code",
   "execution_count": 25,
   "metadata": {},
   "outputs": [
    {
     "data": {
      "text/plain": [
       "array([22.4472, 22.3137, 22.3577, 22.3489, 22.42  , 22.3147, 22.5089,\n",
       "       22.4233, 22.3257, 22.4764, 22.3132, 22.4591, 22.1321, 22.419 ,\n",
       "       22.319 , 22.4562, 22.4475, 22.3041])"
      ]
     },
     "execution_count": 25,
     "metadata": {},
     "output_type": "execute_result"
    }
   ],
   "source": [
    "psample1['y'].mean(axis=0)"
   ]
  },
  {
   "cell_type": "code",
   "execution_count": 13,
   "metadata": {},
   "outputs": [],
   "source": [
    "with pm.Model() as model_:\n",
    "    phi = pm.Beta('phi', alpha=1., beta=1.)\n",
    "\n",
    "    kappa_log = pm.Exponential('logkappa', lam=5.)\n",
    "    kappa = pm.Deterministic('kappa', tt.exp(kappa_log))\n",
    "\n",
    "    thetas = pm.Beta('thetas', alpha=phi*kappa, beta=(1.0-phi)*kappa, shape=N)\n",
    "\n",
    "    y = pm.Binomial('y', n=at_bats, p=thetas, shape=N)"
   ]
  },
  {
   "cell_type": "code",
   "execution_count": 27,
   "metadata": {},
   "outputs": [
    {
     "name": "stderr",
     "output_type": "stream",
     "text": [
      "Sequential sampling (1 chains in 1 job)\n",
      "CompoundStep\n",
      ">Metropolis: [y]\n",
      ">Metropolis: [thetas_logodds__]\n",
      ">Metropolis: [logkappa_log__]\n",
      ">Metropolis: [phi_logodds__]\n",
      "100%|██████████| 15000/15000 [00:14<00:00, 1006.66it/s]\n",
      "Only one chain was sampled, this makes it impossible to run some convergence checks\n"
     ]
    },
    {
     "name": "stdout",
     "output_type": "stream",
     "text": [
      "CPU times: user 17.5 s, sys: 402 ms, total: 17.9 s\n",
      "Wall time: 17.8 s\n"
     ]
    }
   ],
   "source": [
    "%%time\n",
    "with model_:\n",
    "    psample2 = pm.sample(10000, tune=5000, chains=1, step=pm.Metropolis())"
   ]
  },
  {
   "cell_type": "code",
   "execution_count": 28,
   "metadata": {},
   "outputs": [
    {
     "data": {
      "image/png": "[encoded data removed]",
      "text/plain": [
       "<matplotlib.figure.Figure at 0x124f27358>"
      ]
     },
     "metadata": {},
     "output_type": "display_data"
    }
   ],
   "source": [
    "plt.hist(psample2['y']);"
   ]
  },
  {
   "cell_type": "code",
   "execution_count": 29,
   "metadata": {},
   "outputs": [
    {
     "data": {
      "image/png": "[encoded data removed]",
      "text/plain": [
       "<matplotlib.figure.Figure at 0x127aadc18>"
      ]
     },
     "metadata": {},
     "output_type": "display_data"
    }
   ],
   "source": [
    "plt.hist(psample2['thetas']);"
   ]
  },
  {
   "cell_type": "code",
   "execution_count": 11,
   "metadata": {},
   "outputs": [
    {
     "data": {
      "text/plain": [
       "array([29.17537646, 29.19002776, 29.15011068, 29.14314161, 29.14502391,\n",
       "       29.16139058, 29.1881896 , 29.17654139, 29.19103725, 29.18007975,\n",
       "       29.16310776, 29.13774703, 29.19948359, 29.15999634, 29.18637443,\n",
       "       29.19694937, 29.16231964, 29.17803222])"
      ]
     },
     "execution_count": 11,
     "metadata": {},
     "output_type": "execute_result"
    }
   ],
   "source": [
    "psample1['thetas'].mean(axis=0) * at_bats"
   ]
  },
  {
   "cell_type": "code",
   "execution_count": 12,
   "metadata": {},
   "outputs": [
    {
     "data": {
      "text/plain": [
       "array([27.9016, 27.851 , 27.989 , 27.8241, 27.801 , 28.0052, 27.8268,\n",
       "       28.0808, 27.9234, 27.8336, 28.078 , 27.8091, 27.8389, 28.0057,\n",
       "       27.9665, 27.8917, 27.9447, 27.8897])"
      ]
     },
     "execution_count": 12,
     "metadata": {},
     "output_type": "execute_result"
    }
   ],
   "source": [
    "psample1['y'].mean(axis=0)"
   ]
  },
  {
   "cell_type": "markdown",
   "metadata": {},
   "source": [
    "##  Wrap in function "
   ]
  },
  {
   "cell_type": "code",
   "execution_count": 35,
   "metadata": {},
   "outputs": [],
   "source": [
    "from pymc3.step_methods.arraystep import BlockedStep\n",
    "from pymc3.blocking import ArrayOrdering, DictToArrayBijection\n",
    "\n",
    "class PriorStep(BlockedStep):\n",
    "    \"\"\"\n",
    "    Blocked step method that is generalized to accept vectors of variables.\n",
    "\n",
    "    Parameters\n",
    "    ----------\n",
    "    vars : list\n",
    "        List of variables for sampler.\n",
    "    model : PyMC Model\n",
    "        Optional model for sampling step. Defaults to None (taken from context).\n",
    "    allvars: Boolean (default True)\n",
    "    blocked: Boolean (default True)\n",
    "    \"\"\"\n",
    "\n",
    "    def __init__(self, vars=None, model=None, allvars=True, blocked=True):\n",
    "        model = pm.modelcontext(model)\n",
    "\n",
    "        if vars is None:\n",
    "            vars = model.basic_RVs\n",
    "\n",
    "        self.vars = vars\n",
    "        self.model = model\n",
    "        self.allvars = allvars\n",
    "        self.blocked = blocked\n",
    "\n",
    "    def step(self, point):\n",
    "        model = self.model\n",
    "        point = {}\n",
    "        for var in self.vars:\n",
    "            var_name = var.name\n",
    "            if hasattr(var, 'distribution'):\n",
    "                if is_transformed_name(var_name):\n",
    "                    val = var.distribution.dist.random(\n",
    "                        point=point, size=None)\n",
    "                else:\n",
    "                    val = var.distribution.random(point=point, size=None)\n",
    "            else:\n",
    "                nn, _, _ = get_named_nodes_and_relations(var)\n",
    "                val = var.eval({model.named_vars[v]: point[v]\n",
    "                                for v in nn})\n",
    "\n",
    "            point[var_name] = val\n",
    "\n",
    "        for var_name, var in model.named_vars.items():\n",
    "            if not var_name in point:\n",
    "\n",
    "                nn, _, _ = get_named_nodes_and_relations(var)\n",
    "                val = var.eval({model.named_vars[v]: point[v]\n",
    "                                for v in nn})\n",
    "            point[var_name] = val\n",
    "        return point"
   ]
  },
  {
   "cell_type": "code",
   "execution_count": 37,
   "metadata": {},
   "outputs": [],
   "source": [
    "with model:\n",
    "    step = PriorStep()"
   ]
  },
  {
   "cell_type": "code",
   "execution_count": 38,
   "metadata": {},
   "outputs": [
    {
     "ename": "TypeError",
     "evalue": "Bad input argument to theano function with name \"<ipython-input-17-a594ea16b4a0>:72\" at index 0 (0-based). Wrong number of dimensions: expected 1, got 0 with shape ().",
     "output_type": "error",
     "traceback": [
      "\u001b[0;31m---------------------------------------------------------------------------\u001b[0m",
      "\u001b[0;31mTypeError\u001b[0m                                 Traceback (most recent call last)",
      "\u001b[0;32m<ipython-input-38-e53d3f727194>\u001b[0m in \u001b[0;36m<module>\u001b[0;34m()\u001b[0m\n\u001b[0;32m----> 1\u001b[0;31m \u001b[0mstep\u001b[0m\u001b[0;34m.\u001b[0m\u001b[0mstep\u001b[0m\u001b[0;34m(\u001b[0m\u001b[0mmodel\u001b[0m\u001b[0;34m.\u001b[0m\u001b[0mtest_point\u001b[0m\u001b[0;34m)\u001b[0m\u001b[0;34m\u001b[0m\u001b[0m\n\u001b[0m",
      "\u001b[0;32m<ipython-input-35-dcc9b406293a>\u001b[0m in \u001b[0;36mstep\u001b[0;34m(self, point)\u001b[0m\n\u001b[1;32m     50\u001b[0m                 \u001b[0mnn\u001b[0m\u001b[0;34m,\u001b[0m \u001b[0m_\u001b[0m\u001b[0;34m,\u001b[0m \u001b[0m_\u001b[0m \u001b[0;34m=\u001b[0m \u001b[0mget_named_nodes_and_relations\u001b[0m\u001b[0;34m(\u001b[0m\u001b[0mvar\u001b[0m\u001b[0;34m)\u001b[0m\u001b[0;34m\u001b[0m\u001b[0m\n\u001b[1;32m     51\u001b[0m                 val = var.eval({model.named_vars[v]: point[v]\n\u001b[0;32m---> 52\u001b[0;31m                                 for v in nn})\n\u001b[0m\u001b[1;32m     53\u001b[0m             \u001b[0mpoint\u001b[0m\u001b[0;34m[\u001b[0m\u001b[0mvar_name\u001b[0m\u001b[0;34m]\u001b[0m \u001b[0;34m=\u001b[0m \u001b[0mval\u001b[0m\u001b[0;34m\u001b[0m\u001b[0m\n\u001b[1;32m     54\u001b[0m         \u001b[0;32mreturn\u001b[0m \u001b[0mpoint\u001b[0m\u001b[0;34m\u001b[0m\u001b[0m\n",
      "\u001b[0;32m/Library/Frameworks/Python.framework/Versions/3.5/lib/python3.5/site-packages/theano/gof/graph.py\u001b[0m in \u001b[0;36meval\u001b[0;34m(self, inputs_to_values)\u001b[0m\n\u001b[1;32m    523\u001b[0m         \u001b[0margs\u001b[0m \u001b[0;34m=\u001b[0m \u001b[0;34m[\u001b[0m\u001b[0minputs_to_values\u001b[0m\u001b[0;34m[\u001b[0m\u001b[0mparam\u001b[0m\u001b[0;34m]\u001b[0m \u001b[0;32mfor\u001b[0m \u001b[0mparam\u001b[0m \u001b[0;32min\u001b[0m \u001b[0minputs\u001b[0m\u001b[0;34m]\u001b[0m\u001b[0;34m\u001b[0m\u001b[0m\n\u001b[1;32m    524\u001b[0m \u001b[0;34m\u001b[0m\u001b[0m\n\u001b[0;32m--> 525\u001b[0;31m         \u001b[0mrval\u001b[0m \u001b[0;34m=\u001b[0m \u001b[0mself\u001b[0m\u001b[0;34m.\u001b[0m\u001b[0m_fn_cache\u001b[0m\u001b[0;34m[\u001b[0m\u001b[0minputs\u001b[0m\u001b[0;34m]\u001b[0m\u001b[0;34m(\u001b[0m\u001b[0;34m*\u001b[0m\u001b[0margs\u001b[0m\u001b[0;34m)\u001b[0m\u001b[0;34m\u001b[0m\u001b[0m\n\u001b[0m\u001b[1;32m    526\u001b[0m \u001b[0;34m\u001b[0m\u001b[0m\n\u001b[1;32m    527\u001b[0m         \u001b[0;32mreturn\u001b[0m \u001b[0mrval\u001b[0m\u001b[0;34m\u001b[0m\u001b[0m\n",
      "\u001b[0;32m/Library/Frameworks/Python.framework/Versions/3.5/lib/python3.5/site-packages/theano/compile/function_module.py\u001b[0m in \u001b[0;36m__call__\u001b[0;34m(self, *args, **kwargs)\u001b[0m\n\u001b[1;32m    811\u001b[0m                         s.storage[0] = s.type.filter(\n\u001b[1;32m    812\u001b[0m                             \u001b[0marg\u001b[0m\u001b[0;34m,\u001b[0m \u001b[0mstrict\u001b[0m\u001b[0;34m=\u001b[0m\u001b[0ms\u001b[0m\u001b[0;34m.\u001b[0m\u001b[0mstrict\u001b[0m\u001b[0;34m,\u001b[0m\u001b[0;34m\u001b[0m\u001b[0m\n\u001b[0;32m--> 813\u001b[0;31m                             allow_downcast=s.allow_downcast)\n\u001b[0m\u001b[1;32m    814\u001b[0m \u001b[0;34m\u001b[0m\u001b[0m\n\u001b[1;32m    815\u001b[0m                     \u001b[0;32mexcept\u001b[0m \u001b[0mException\u001b[0m \u001b[0;32mas\u001b[0m \u001b[0me\u001b[0m\u001b[0;34m:\u001b[0m\u001b[0;34m\u001b[0m\u001b[0m\n",
      "\u001b[0;32m/Library/Frameworks/Python.framework/Versions/3.5/lib/python3.5/site-packages/theano/tensor/type.py\u001b[0m in \u001b[0;36mfilter\u001b[0;34m(self, data, strict, allow_downcast)\u001b[0m\n\u001b[1;32m    176\u001b[0m             raise TypeError(\"Wrong number of dimensions: expected %s,\"\n\u001b[1;32m    177\u001b[0m                             \" got %s with shape %s.\" % (self.ndim, data.ndim,\n\u001b[0;32m--> 178\u001b[0;31m                                                         data.shape))\n\u001b[0m\u001b[1;32m    179\u001b[0m         \u001b[0;32mif\u001b[0m \u001b[0;32mnot\u001b[0m \u001b[0mdata\u001b[0m\u001b[0;34m.\u001b[0m\u001b[0mflags\u001b[0m\u001b[0;34m.\u001b[0m\u001b[0maligned\u001b[0m\u001b[0;34m:\u001b[0m\u001b[0;34m\u001b[0m\u001b[0m\n\u001b[1;32m    180\u001b[0m             \u001b[0;32mtry\u001b[0m\u001b[0;34m:\u001b[0m\u001b[0;34m\u001b[0m\u001b[0m\n",
      "\u001b[0;31mTypeError\u001b[0m: Bad input argument to theano function with name \"<ipython-input-17-a594ea16b4a0>:72\" at index 0 (0-based). Wrong number of dimensions: expected 1, got 0 with shape ()."
     ]
    }
   ],
   "source": [
    "step.step(model.test_point)"
   ]
  },
  {
   "cell_type": "code",
   "execution_count": null,
   "metadata": {},
   "outputs": [],
   "source": [
    "names = pm.util.get_default_varnames(model.named_vars, include_transformed=False)\n",
    "names"
   ]
  }
 ],
 "metadata": {
  "kernelspec": {
   "display_name": "Python 3",
   "language": "python",
   "name": "python3"
  },
  "language_info": {
   "codemirror_mode": {
    "name": "ipython",
    "version": 3
   },
   "file_extension": ".py",
   "mimetype": "text/x-python",
   "name": "python",
   "nbconvert_exporter": "python",
   "pygments_lexer": "ipython3",
   "version": "3.5.2"
  }
 },
 "nbformat": 4,
 "nbformat_minor": 2
}
