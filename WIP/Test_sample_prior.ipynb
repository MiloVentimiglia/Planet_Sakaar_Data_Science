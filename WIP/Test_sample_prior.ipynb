{
 "cells": [
  {
   "cell_type": "markdown",
   "metadata": {},
   "source": [
    "https://github.com/pymc-devs/pymc3/pull/2876"
   ]
  },
  {
   "cell_type": "code",
   "execution_count": 1,
   "metadata": {},
   "outputs": [
    {
     "name": "stderr",
     "output_type": "stream",
     "text": [
      "/Library/Frameworks/Python.framework/Versions/3.5/lib/python3.5/site-packages/h5py/__init__.py:36: FutureWarning: Conversion of the second argument of issubdtype from `float` to `np.floating` is deprecated. In future, it will be treated as `np.float64 == np.dtype(float).type`.\n",
      "  from ._conv import register_converters as _register_converters\n"
     ]
    }
   ],
   "source": [
    "%matplotlib inline\n",
    "import pandas as pd\n",
    "import numpy as np\n",
    "import pymc3 as pm\n",
    "import theano.tensor as tt\n",
    "\n",
    "import matplotlib.pylab as plt"
   ]
  },
  {
   "cell_type": "markdown",
   "metadata": {},
   "source": [
    "Cherry picked old commit"
   ]
  },
  {
   "cell_type": "code",
   "execution_count": 2,
   "metadata": {},
   "outputs": [],
   "source": [
    "from pymc3.model import modelcontext, get_named_nodes_and_relations\n",
    "from pymc3.util import is_transformed_name, get_untransformed_name\n",
    "from tqdm import tqdm\n",
    "\n",
    "\n",
    "def sample_prior(samples=500, model=None, vars=None, size=None,\n",
    "                 random_seed=None, progressbar=True):\n",
    "    \"\"\"Generate samples from the prior of a model.\n",
    "\n",
    "    Parameters\n",
    "    ----------\n",
    "    samples : int\n",
    "        Number of samples from the prior to generate. Defaults to 500.\n",
    "    model : Model (optional if in `with` context)\n",
    "    vars : iterable\n",
    "        Variables for which to compute the posterior predictive samples.\n",
    "        Defaults to `model.named_vars`.\n",
    "    size : int\n",
    "        The number of random draws from the distribution specified by the\n",
    "        parameters in each sample of the trace.\n",
    "    random_seed : int\n",
    "        Seed for the random number generator.\n",
    "    progressbar : bool\n",
    "        Whether or not to display a progress bar in the command line.\n",
    "\n",
    "    Returns\n",
    "    -------\n",
    "    dict\n",
    "        Dictionary with the variables as keys. The values are arrays of prior samples.\n",
    "    \"\"\"\n",
    "\n",
    "    model = modelcontext(model)\n",
    "\n",
    "    if vars is None:\n",
    "        vars = set(model.named_vars.keys())\n",
    "\n",
    "    if random_seed is not None:\n",
    "        np.random.seed(random_seed)\n",
    "\n",
    "    if progressbar:\n",
    "        indices = tqdm(range(samples))\n",
    "\n",
    "    def step(model):\n",
    "        point = {}\n",
    "        for var in model.basic_RVs:\n",
    "            var_name = var.name\n",
    "            if hasattr(var, 'distribution'):\n",
    "                if is_transformed_name(var_name):\n",
    "                    val = var.distribution.dist.random(\n",
    "                        point=point, size=size)\n",
    "                    var_name_untranf = get_untransformed_name(var_name)\n",
    "                    point[var_name_untranf] = val\n",
    "                    val = var.distribution.transform_used.forward_val(val)\n",
    "                else:\n",
    "                    val = var.distribution.random(point=point, size=size)\n",
    "            else:\n",
    "                nn, _, _ = get_named_nodes_and_relations(var)\n",
    "                val = var.eval({model.named_vars[v]: point[v]\n",
    "                                for v in nn})\n",
    "\n",
    "            point[var_name] = val\n",
    "        return point\n",
    "\n",
    "    try:\n",
    "        prior = {var: [] for var in vars}\n",
    "        for _ in indices:\n",
    "            point = step(model)\n",
    "            for var_name, var in model.named_vars.items():\n",
    "                if var_name in vars:\n",
    "                    if var_name in point:\n",
    "                        val = point[var_name]\n",
    "                    else:\n",
    "                        nn, _, _ = get_named_nodes_and_relations(var)\n",
    "                        val = var.eval({model.named_vars[v]: point[v]\n",
    "                                        for v in nn})\n",
    "                    prior[var_name].append(val)\n",
    "\n",
    "    except KeyboardInterrupt:\n",
    "        pass\n",
    "\n",
    "    finally:\n",
    "        if progressbar:\n",
    "            indices.close()\n",
    "\n",
    "    return {k: np.asarray(v) for k, v in prior.items()}"
   ]
  },
  {
   "cell_type": "code",
   "execution_count": 3,
   "metadata": {},
   "outputs": [
    {
     "name": "stderr",
     "output_type": "stream",
     "text": [
      "100%|██████████| 500/500 [00:00<00:00, 1499.66it/s]\n"
     ]
    }
   ],
   "source": [
    "observed = np.random.normal(10, 1, size=200)\n",
    "with pm.Model() as m: \n",
    "    # Use a prior that's way off to show we're actually sampling from it \n",
    "    mu = pm.Normal('mu', mu=-10, sd=1) \n",
    "    positive_mu = pm.Deterministic('positive_mu', np.abs(mu)) \n",
    "    pm.Normal('x_obs', mu=mu, sd=1, observed=observed) \n",
    "    prior = sample_prior() \n",
    "\n",
    "assert (prior['mu'] < 0).all() \n",
    "assert (prior['positive_mu'] > 0).all() \n",
    "assert (prior['x_obs'] < 0).all()"
   ]
  },
  {
   "cell_type": "markdown",
   "metadata": {},
   "source": [
    "## More complex example"
   ]
  },
  {
   "cell_type": "code",
   "execution_count": 4,
   "metadata": {},
   "outputs": [],
   "source": [
    "data = pd.read_table(pm.get_data('efron-morris-75-data.tsv'), sep=\"\\t\")\n",
    "at_bats, hits = data[['At-Bats', 'Hits']].values.T\n",
    "N = len(hits)"
   ]
  },
  {
   "cell_type": "markdown",
   "metadata": {},
   "source": [
    "### Reference numpy implementation"
   ]
  },
  {
   "cell_type": "code",
   "execution_count": 5,
   "metadata": {},
   "outputs": [],
   "source": [
    "import scipy.stats as stats"
   ]
  },
  {
   "cell_type": "code",
   "execution_count": 6,
   "metadata": {},
   "outputs": [],
   "source": [
    "def model_prior_sample(nsample):\n",
    "    phi = stats.beta.rvs(1., 1., size=nsample)\n",
    "    logkappa = np.random.exponential(1/5., nsample)\n",
    "    kappa = np.exp(logkappa)\n",
    "    thetas = stats.beta.rvs(phi*kappa, (1.-phi)*kappa, size=(N, nsample))\n",
    "    y = stats.binom.rvs(n=at_bats[:, None], p=thetas)\n",
    "    \n",
    "    psample = {}\n",
    "    psample['phi'] = phi\n",
    "    psample['logkappa'] = logkappa\n",
    "    psample['kappa'] = kappa\n",
    "    psample['thetas'] = thetas.T\n",
    "    psample['y'] = y.T\n",
    "    return psample"
   ]
  },
  {
   "cell_type": "code",
   "execution_count": 7,
   "metadata": {},
   "outputs": [
    {
     "name": "stdout",
     "output_type": "stream",
     "text": [
      "CPU times: user 98.7 ms, sys: 15.8 ms, total: 115 ms\n",
      "Wall time: 158 ms\n"
     ]
    }
   ],
   "source": [
    "%%time\n",
    "\n",
    "psample0 = model_prior_sample(10000)"
   ]
  },
  {
   "cell_type": "code",
   "execution_count": 8,
   "metadata": {},
   "outputs": [
    {
     "data": {
      "image/png": "[encoded data removed]",
      "text/plain": [
       "<matplotlib.figure.Figure at 0x116c142b0>"
      ]
     },
     "metadata": {},
     "output_type": "display_data"
    }
   ],
   "source": [
    "plt.style.use('seaborn-darkgrid')\n",
    "x = np.linspace(0, 1, 200)\n",
    "a = 1.\n",
    "b = 1.\n",
    "pdf = stats.beta.pdf(x, a, b)\n",
    "plt.plot(x, pdf, label=r'$\\alpha$ = {}, $\\beta$ = {}'.format(a, b))\n",
    "plt.hist(psample0['phi'], 500, normed=True);\n",
    "plt.xlabel('x', fontsize=12)\n",
    "plt.ylabel('f(x)', fontsize=12)\n",
    "plt.ylim(0, 4.5)\n",
    "plt.legend(loc=9)\n",
    "plt.show()"
   ]
  },
  {
   "cell_type": "code",
   "execution_count": 9,
   "metadata": {},
   "outputs": [
    {
     "data": {
      "image/png": "[encoded data removed]",
      "text/plain": [
       "<matplotlib.figure.Figure at 0x1170af278>"
      ]
     },
     "metadata": {},
     "output_type": "display_data"
    }
   ],
   "source": [
    "plt.style.use('seaborn-darkgrid')\n",
    "x = np.linspace(0, 3, 100)\n",
    "lam = 5.\n",
    "pdf = stats.expon.pdf(x, scale=1.0/lam)\n",
    "plt.plot(x, pdf, label=r'$\\lambda$ = {}'.format(lam))\n",
    "plt.hist(psample0['logkappa'], 500, normed=True);\n",
    "plt.xlabel('x', fontsize=12)\n",
    "plt.ylabel('f(x)', fontsize=12)\n",
    "plt.ylim(0, 4.5)\n",
    "plt.legend(loc=9)\n",
    "plt.show()"
   ]
  },
  {
   "cell_type": "code",
   "execution_count": 10,
   "metadata": {},
   "outputs": [
    {
     "data": {
      "image/png": "[encoded data removed]",
      "text/plain": [
       "<matplotlib.figure.Figure at 0x115bd8c18>"
      ]
     },
     "metadata": {},
     "output_type": "display_data"
    }
   ],
   "source": [
    "plt.hist(psample0['y']);"
   ]
  },
  {
   "cell_type": "code",
   "execution_count": 11,
   "metadata": {},
   "outputs": [
    {
     "data": {
      "image/png": "[encoded data removed]",
      "text/plain": [
       "<matplotlib.figure.Figure at 0x118c94240>"
      ]
     },
     "metadata": {},
     "output_type": "display_data"
    }
   ],
   "source": [
    "plt.hist(psample0['thetas']);"
   ]
  },
  {
   "cell_type": "code",
   "execution_count": 12,
   "metadata": {},
   "outputs": [
    {
     "data": {
      "text/plain": [
       "array([22.41896298, 22.32233629, 22.44703146, 22.17265024, 22.20582192,\n",
       "       22.08917145, 22.37103113, 22.39681344, 22.23881235, 22.2582037 ,\n",
       "       22.37424149, 22.50362433, 22.29571719, 22.26736356, 22.43167679,\n",
       "       22.242809  , 22.21473573, 22.18444638])"
      ]
     },
     "execution_count": 12,
     "metadata": {},
     "output_type": "execute_result"
    }
   ],
   "source": [
    "psample0['thetas'].mean(axis=0) * at_bats"
   ]
  },
  {
   "cell_type": "code",
   "execution_count": 13,
   "metadata": {},
   "outputs": [
    {
     "data": {
      "text/plain": [
       "array([22.4234, 22.3325, 22.4429, 22.1589, 22.1886, 22.0825, 22.3586,\n",
       "       22.4301, 22.2507, 22.2649, 22.3785, 22.4985, 22.2797, 22.2657,\n",
       "       22.4343, 22.2139, 22.1971, 22.1776])"
      ]
     },
     "execution_count": 13,
     "metadata": {},
     "output_type": "execute_result"
    }
   ],
   "source": [
    "psample0['y'].mean(axis=0)"
   ]
  },
  {
   "cell_type": "markdown",
   "metadata": {},
   "source": [
    "### Check old implementation"
   ]
  },
  {
   "cell_type": "code",
   "execution_count": 14,
   "metadata": {},
   "outputs": [],
   "source": [
    "with pm.Model() as model:\n",
    "    phi = pm.Beta('phi', alpha=1., beta=1.)\n",
    "\n",
    "    kappa_log = pm.Exponential('logkappa', lam=5.)\n",
    "    kappa = pm.Deterministic('kappa', tt.exp(kappa_log))\n",
    "\n",
    "    thetas = pm.Beta('thetas', alpha=phi*kappa, beta=(1.0-phi)*kappa, shape=N)\n",
    "\n",
    "    y = pm.Binomial('y', n=at_bats, p=thetas, shape=N, observed=hits)"
   ]
  },
  {
   "cell_type": "code",
   "execution_count": 15,
   "metadata": {},
   "outputs": [
    {
     "data": {
      "text/plain": [
       "array([[22, 43,  6, ..., 10,  5, 12],\n",
       "       [ 4, 42, 32, ..., 14,  0, 15],\n",
       "       [20,  2,  8, ..., 39, 45, 20],\n",
       "       ...,\n",
       "       [43,  2, 40, ...,  0,  0, 23],\n",
       "       [27, 27, 14, ..., 26,  2, 19],\n",
       "       [31, 16,  3, ..., 13, 19, 18]])"
      ]
     },
     "execution_count": 15,
     "metadata": {},
     "output_type": "execute_result"
    }
   ],
   "source": [
    "y.distribution.random(point=model.test_point, size=1000)"
   ]
  },
  {
   "cell_type": "code",
   "execution_count": 16,
   "metadata": {},
   "outputs": [
    {
     "data": {
      "text/plain": [
       "array([[24, 28, 20, ..., 26, 25, 23],\n",
       "       [24, 24, 25, ..., 23, 26, 23],\n",
       "       [22, 21, 16, ..., 18, 21, 27],\n",
       "       ...,\n",
       "       [26, 16, 26, ..., 26, 20, 26],\n",
       "       [26, 25, 20, ..., 24, 28, 27],\n",
       "       [28, 21, 30, ..., 24, 18, 23]])"
      ]
     },
     "execution_count": 16,
     "metadata": {},
     "output_type": "execute_result"
    }
   ],
   "source": [
    "np.random.binomial(45, thetas.tag.test_value, size=(1000, N))"
   ]
  },
  {
   "cell_type": "code",
   "execution_count": 17,
   "metadata": {},
   "outputs": [],
   "source": [
    "# names = ['phi', 'kappa_log', 'kappa', 'thetas', 'y']\n",
    "# values = pm.distributions.draw_values([model[name] for name in names], size=100)\n",
    "# p = {k: v for k, v in zip(names, values)}"
   ]
  },
  {
   "cell_type": "code",
   "execution_count": 18,
   "metadata": {
    "scrolled": true
   },
   "outputs": [
    {
     "name": "stderr",
     "output_type": "stream",
     "text": [
      "100%|██████████| 10000/10000 [00:17<00:00, 583.58it/s]\n"
     ]
    },
    {
     "name": "stdout",
     "output_type": "stream",
     "text": [
      "CPU times: user 15.7 s, sys: 485 ms, total: 16.2 s\n",
      "Wall time: 17.4 s\n"
     ]
    }
   ],
   "source": [
    "%%time\n",
    "psample1 = sample_prior(10000, model=model)"
   ]
  },
  {
   "cell_type": "code",
   "execution_count": 19,
   "metadata": {},
   "outputs": [
    {
     "data": {
      "image/png": "[encoded data removed]",
      "text/plain": [
       "<matplotlib.figure.Figure at 0x117510470>"
      ]
     },
     "metadata": {},
     "output_type": "display_data"
    }
   ],
   "source": [
    "plt.style.use('seaborn-darkgrid')\n",
    "x = np.linspace(0, 1, 200)\n",
    "a = 1.\n",
    "b = 1.\n",
    "pdf = stats.beta.pdf(x, a, b)\n",
    "plt.plot(x, pdf, label=r'$\\alpha$ = {}, $\\beta$ = {}'.format(a, b))\n",
    "plt.hist(psample1['phi'], 500, normed=True);\n",
    "plt.xlabel('x', fontsize=12)\n",
    "plt.ylabel('f(x)', fontsize=12)\n",
    "plt.ylim(0, 4.5)\n",
    "plt.legend(loc=9)\n",
    "plt.show()"
   ]
  },
  {
   "cell_type": "code",
   "execution_count": 20,
   "metadata": {},
   "outputs": [
    {
     "data": {
      "text/plain": [
       "(0.0001501463319386596, 0.999876326487962)"
      ]
     },
     "execution_count": 20,
     "metadata": {},
     "output_type": "execute_result"
    }
   ],
   "source": [
    "np.min(psample1['phi']), np.max(psample1['phi'])"
   ]
  },
  {
   "cell_type": "code",
   "execution_count": 21,
   "metadata": {},
   "outputs": [
    {
     "data": {
      "image/png": "[encoded data removed]",
      "text/plain": [
       "<matplotlib.figure.Figure at 0x1173b8c88>"
      ]
     },
     "metadata": {},
     "output_type": "display_data"
    }
   ],
   "source": [
    "plt.style.use('seaborn-darkgrid')\n",
    "x = np.linspace(0, 3, 100)\n",
    "lam = 5.\n",
    "pdf = stats.expon.pdf(x, scale=1.0/lam)\n",
    "plt.plot(x, pdf, label=r'$\\lambda$ = {}'.format(lam))\n",
    "plt.hist(psample1['logkappa'], 500, normed=True);\n",
    "plt.xlabel('x', fontsize=12)\n",
    "plt.ylabel('f(x)', fontsize=12)\n",
    "plt.ylim(0, 4.5)\n",
    "plt.legend(loc=9)\n",
    "plt.show()"
   ]
  },
  {
   "cell_type": "code",
   "execution_count": 22,
   "metadata": {},
   "outputs": [
    {
     "data": {
      "image/png": "[encoded data removed]",
      "text/plain": [
       "<matplotlib.figure.Figure at 0x119c6c7b8>"
      ]
     },
     "metadata": {},
     "output_type": "display_data"
    }
   ],
   "source": [
    "plt.hist(psample1['y']);"
   ]
  },
  {
   "cell_type": "code",
   "execution_count": 23,
   "metadata": {},
   "outputs": [
    {
     "data": {
      "image/png": "[encoded data removed]",
      "text/plain": [
       "<matplotlib.figure.Figure at 0x118c99550>"
      ]
     },
     "metadata": {},
     "output_type": "display_data"
    }
   ],
   "source": [
    "plt.hist(psample1['thetas']);"
   ]
  },
  {
   "cell_type": "code",
   "execution_count": 24,
   "metadata": {},
   "outputs": [
    {
     "data": {
      "text/plain": [
       "array([22.49724718, 22.12291204, 22.02591433, 22.30218004, 22.23885308,\n",
       "       22.13546889, 22.28287446, 22.36668279, 22.50449873, 22.35215582,\n",
       "       22.36319925, 22.18929015, 22.22887664, 22.33192974, 22.30861238,\n",
       "       22.39341846, 22.10039603, 22.17825385])"
      ]
     },
     "execution_count": 24,
     "metadata": {},
     "output_type": "execute_result"
    }
   ],
   "source": [
    "psample1['thetas'].mean(axis=0) * at_bats"
   ]
  },
  {
   "cell_type": "code",
   "execution_count": 25,
   "metadata": {},
   "outputs": [
    {
     "data": {
      "text/plain": [
       "array([22.517 , 22.13  , 21.9989, 22.2978, 22.2545, 22.1283, 22.2688,\n",
       "       22.3979, 22.4823, 22.3497, 22.347 , 22.1705, 22.2446, 22.329 ,\n",
       "       22.3095, 22.388 , 22.0841, 22.152 ])"
      ]
     },
     "execution_count": 25,
     "metadata": {},
     "output_type": "execute_result"
    }
   ],
   "source": [
    "psample1['y'].mean(axis=0)"
   ]
  },
  {
   "cell_type": "markdown",
   "metadata": {},
   "source": [
    "### Check new implementation"
   ]
  },
  {
   "cell_type": "code",
   "execution_count": 26,
   "metadata": {},
   "outputs": [
    {
     "data": {
      "text/plain": [
       "[array([0.99792629, 0.08433805, 0.90384697, 0.80169345, 0.43326917,\n",
       "        0.27544793, 0.19031141, 0.84730342, 0.00771045, 0.12660012])]"
      ]
     },
     "execution_count": 26,
     "metadata": {},
     "output_type": "execute_result"
    }
   ],
   "source": [
    "from pymc3.distributions.distribution import draw_values\n",
    "\n",
    "with pm.Model() as m:\n",
    "    p = pm.Beta('p', 1., 1.)\n",
    "draw_values([m['p']], size=10)"
   ]
  },
  {
   "cell_type": "code",
   "execution_count": 28,
   "metadata": {},
   "outputs": [],
   "source": [
    "import theano\n",
    "\n",
    "X = theano.shared(np.arange(3))\n",
    "with pm.Model() as m:\n",
    "    ind = pm.Categorical('i', np.ones(3)/3)\n",
    "    x = pm.Deterministic('X', X[ind])\n",
    "prior = pm.sample_prior_predictive(10, model=m)"
   ]
  },
  {
   "cell_type": "code",
   "execution_count": 29,
   "metadata": {},
   "outputs": [
    {
     "data": {
      "text/plain": [
       "{'X': array([0, 0, 2, 2, 1, 2, 0, 1, 2, 0]),\n",
       " 'i': array([0, 0, 2, 2, 1, 2, 0, 1, 2, 0])}"
      ]
     },
     "execution_count": 29,
     "metadata": {},
     "output_type": "execute_result"
    }
   ],
   "source": [
    "prior"
   ]
  },
  {
   "cell_type": "code",
   "execution_count": 30,
   "metadata": {},
   "outputs": [
    {
     "data": {
      "text/plain": [
       "{'n': array([ 6, 11, 18,  8, 20, 10, 13,  5, 11, 10]),\n",
       " 'p': array([0.65844113, 0.73591502, 0.06806071, 0.86415054, 0.15636394,\n",
       "        0.70507994, 0.61979741, 0.57661783, 0.13302441, 0.90292   ]),\n",
       " 'p_logodds__': array([ 0.65635508,  1.02484371, -2.61686763,  1.85019962, -1.68553494,\n",
       "         0.87160687,  0.48868843,  0.30890448, -1.87447813,  2.23009862]),\n",
       " 'y': array([ 0,  2,  1,  0, 17,  4,  3,  6,  6,  6])}"
      ]
     },
     "execution_count": 30,
     "metadata": {},
     "output_type": "execute_result"
    }
   ],
   "source": [
    "with pm.Model() as m:\n",
    "    p = pm.Beta('p', 1., 1.)\n",
    "    n = pm.DiscreteUniform('n', 5, 20)\n",
    "    y = pm.Binomial('y', n, p, observed=5)\n",
    "    prior = pm.sample_prior_predictive(10)\n",
    "prior"
   ]
  },
  {
   "cell_type": "code",
   "execution_count": 31,
   "metadata": {},
   "outputs": [],
   "source": [
    "with pm.Model() as model:\n",
    "    phi = pm.Beta('phi', alpha=1., beta=1.)\n",
    "\n",
    "    kappa_log = pm.Exponential('logkappa', lam=5.)\n",
    "    kappa = pm.Deterministic('kappa', tt.exp(kappa_log))\n",
    "\n",
    "    thetas = pm.Beta('thetas', alpha=phi*kappa, beta=(1.0-phi)*kappa, shape=N)\n",
    "\n",
    "    y = pm.Binomial('y', n=at_bats, p=thetas, shape=N, observed=hits)"
   ]
  },
  {
   "cell_type": "code",
   "execution_count": 32,
   "metadata": {
    "scrolled": true
   },
   "outputs": [
    {
     "name": "stdout",
     "output_type": "stream",
     "text": [
      "CPU times: user 1.49 s, sys: 26.5 ms, total: 1.52 s\n",
      "Wall time: 1.54 s\n"
     ]
    }
   ],
   "source": [
    "%%time\n",
    "psample1 = pm.sample_prior_predictive(10000, model=model)"
   ]
  },
  {
   "cell_type": "code",
   "execution_count": 33,
   "metadata": {},
   "outputs": [
    {
     "data": {
      "image/png": "[encoded data removed]",
      "text/plain": [
       "<matplotlib.figure.Figure at 0x1175bde10>"
      ]
     },
     "metadata": {},
     "output_type": "display_data"
    }
   ],
   "source": [
    "plt.style.use('seaborn-darkgrid')\n",
    "x = np.linspace(0, 1, 200)\n",
    "a = 1.\n",
    "b = 1.\n",
    "pdf = stats.beta.pdf(x, a, b)\n",
    "plt.plot(x, pdf, label=r'$\\alpha$ = {}, $\\beta$ = {}'.format(a, b))\n",
    "plt.hist(psample1['phi'], 500, normed=True);\n",
    "plt.xlabel('x', fontsize=12)\n",
    "plt.ylabel('f(x)', fontsize=12)\n",
    "plt.ylim(0, 4.5)\n",
    "plt.legend(loc=9)\n",
    "plt.show()"
   ]
  },
  {
   "cell_type": "code",
   "execution_count": 34,
   "metadata": {},
   "outputs": [
    {
     "data": {
      "text/plain": [
       "(0.00025045927160058287, 0.9996948851151624)"
      ]
     },
     "execution_count": 34,
     "metadata": {},
     "output_type": "execute_result"
    }
   ],
   "source": [
    "np.min(psample1['phi']), np.max(psample1['phi'])"
   ]
  },
  {
   "cell_type": "code",
   "execution_count": 35,
   "metadata": {},
   "outputs": [
    {
     "data": {
      "image/png": "[encoded data removed]",
      "text/plain": [
       "<matplotlib.figure.Figure at 0x1189ac160>"
      ]
     },
     "metadata": {},
     "output_type": "display_data"
    }
   ],
   "source": [
    "plt.style.use('seaborn-darkgrid')\n",
    "x = np.linspace(0, 3, 100)\n",
    "lam = 5.\n",
    "pdf = stats.expon.pdf(x, scale=1.0/lam)\n",
    "plt.plot(x, pdf, label=r'$\\lambda$ = {}'.format(lam))\n",
    "plt.hist(psample1['logkappa'], 500, normed=True);\n",
    "plt.xlabel('x', fontsize=12)\n",
    "plt.ylabel('f(x)', fontsize=12)\n",
    "plt.ylim(0, 4.5)\n",
    "plt.legend(loc=9)\n",
    "plt.show()"
   ]
  },
  {
   "cell_type": "code",
   "execution_count": 36,
   "metadata": {},
   "outputs": [
    {
     "data": {
      "image/png": "[encoded data removed]",
      "text/plain": [
       "<matplotlib.figure.Figure at 0x118cb8438>"
      ]
     },
     "metadata": {},
     "output_type": "display_data"
    }
   ],
   "source": [
    "plt.hist(psample1['y']);"
   ]
  },
  {
   "cell_type": "code",
   "execution_count": 37,
   "metadata": {},
   "outputs": [
    {
     "data": {
      "image/png": "[encoded data removed]",
      "text/plain": [
       "<matplotlib.figure.Figure at 0x118f61160>"
      ]
     },
     "metadata": {},
     "output_type": "display_data"
    }
   ],
   "source": [
    "plt.hist(psample1['thetas']);"
   ]
  },
  {
   "cell_type": "code",
   "execution_count": 38,
   "metadata": {},
   "outputs": [
    {
     "data": {
      "text/plain": [
       "array([22.34161287, 22.29305538, 22.30000507, 22.33143704, 22.25281348,\n",
       "       22.47452511, 22.34152065, 22.21904657, 22.29503641, 22.54440724,\n",
       "       22.3284237 , 22.57986049, 22.19121857, 22.37684348, 22.24344478,\n",
       "       22.38825556, 22.4451233 , 22.35289227])"
      ]
     },
     "execution_count": 38,
     "metadata": {},
     "output_type": "execute_result"
    }
   ],
   "source": [
    "psample1['thetas'].mean(axis=0) * at_bats"
   ]
  },
  {
   "cell_type": "code",
   "execution_count": 39,
   "metadata": {},
   "outputs": [
    {
     "data": {
      "text/plain": [
       "array([22.4298, 22.516 , 22.4241, 22.4939, 22.4404, 22.5317, 22.4264,\n",
       "       22.5743, 22.7293, 22.6308, 22.6162, 22.5406, 22.5673, 22.6015,\n",
       "       22.6106, 22.4086, 22.5985, 22.3958])"
      ]
     },
     "execution_count": 39,
     "metadata": {},
     "output_type": "execute_result"
    }
   ],
   "source": [
    "psample1['y'].mean(axis=0)"
   ]
  },
  {
   "cell_type": "code",
   "execution_count": 40,
   "metadata": {},
   "outputs": [],
   "source": [
    "vars = set(model.named_vars.keys())"
   ]
  },
  {
   "cell_type": "code",
   "execution_count": 41,
   "metadata": {},
   "outputs": [],
   "source": [
    "names = pm.util.get_default_varnames(model.named_vars, include_transformed=False)\n",
    "# draw_values fails with auto-transformed variables. transform them later!"
   ]
  },
  {
   "cell_type": "code",
   "execution_count": 42,
   "metadata": {},
   "outputs": [
    {
     "name": "stdout",
     "output_type": "stream",
     "text": [
      "['logkappa', 'phi', 'thetas', 'y', 'kappa']\n"
     ]
    }
   ],
   "source": [
    "print([name for name in names])"
   ]
  },
  {
   "cell_type": "code",
   "execution_count": 43,
   "metadata": {},
   "outputs": [],
   "source": [
    "values = draw_values([model[name] for name in names], size=1000)"
   ]
  },
  {
   "cell_type": "code",
   "execution_count": 44,
   "metadata": {
    "scrolled": false
   },
   "outputs": [
    {
     "data": {
      "text/plain": [
       "[array([4.45345577e-01, 8.57132772e-01, 7.93674564e-01, 8.44393210e-01,\n",
       "        9.02885347e-01, 3.50512151e-01, 2.63597432e-01, 7.77787156e-01,\n",
       "        3.84108874e-02, 4.98823561e-01, 1.47523552e-01, 7.39648582e-03,\n",
       "        7.23120475e-01, 9.21926799e-01, 8.76623194e-01, 8.31306184e-02,\n",
       "        7.15444304e-01, 1.36200070e-01, 5.52101798e-01, 8.81249748e-01,\n",
       "        5.25546417e-01, 9.93986775e-01, 7.49856967e-01, 9.25691429e-01,\n",
       "        9.00209729e-01, 6.72740191e-01, 4.00746768e-01, 5.31340972e-01,\n",
       "        3.73688973e-01, 7.07645557e-02, 6.71571621e-01, 4.98975753e-01,\n",
       "        6.23271780e-01, 4.92184428e-03, 1.28230401e-01, 4.73349221e-01,\n",
       "        4.86877198e-01, 7.13489790e-03, 8.87709595e-01, 6.13814999e-01,\n",
       "        7.43819814e-01, 9.02489536e-02, 4.55594551e-01, 9.12812729e-01,\n",
       "        1.22921086e-01, 1.46528816e-02, 5.65401768e-01, 5.14933128e-01,\n",
       "        2.41039921e-01, 4.17792448e-01, 9.72369431e-01, 1.95696920e-01,\n",
       "        4.14433506e-01, 4.70519720e-01, 5.59995022e-01, 6.71720320e-01,\n",
       "        7.98817037e-01, 3.46985894e-01, 1.19861171e-01, 7.79667639e-01,\n",
       "        1.25388875e-01, 8.52073580e-01, 5.53048890e-01, 4.37585238e-01,\n",
       "        6.16271064e-01, 6.66515061e-01, 7.88777159e-01, 5.21266212e-01,\n",
       "        7.40403965e-01, 6.32850029e-01, 3.14787070e-02, 1.28560003e-01,\n",
       "        2.04226175e-01, 3.67790885e-01, 7.81007029e-01, 1.22213593e-01,\n",
       "        5.00547146e-01, 5.27935683e-01, 7.99832026e-01, 3.29101307e-01,\n",
       "        6.55041557e-01, 2.61318076e-01, 9.47220949e-02, 6.26708351e-01,\n",
       "        4.23642439e-02, 7.05028068e-01, 5.83357659e-01, 7.23535519e-01,\n",
       "        6.89425079e-01, 8.99560622e-01, 7.11545973e-01, 1.67069735e-01,\n",
       "        3.61453445e-01, 9.52662958e-02, 4.68051047e-01, 1.97260784e-01,\n",
       "        2.59906470e-01, 8.89457887e-01, 2.96247979e-01, 2.94966723e-02,\n",
       "        1.67949680e-01, 8.92720330e-01, 2.34698417e-01, 2.53634940e-01,\n",
       "        9.56706167e-02, 5.26813726e-01, 8.87095022e-01, 3.90009801e-01,\n",
       "        7.42749147e-01, 2.32007931e-01, 9.83421383e-01, 6.66648366e-01,\n",
       "        6.33203457e-01, 4.22469368e-01, 9.22720938e-03, 6.54092916e-01,\n",
       "        6.85086396e-01, 8.96756350e-01, 9.45246980e-01, 2.06703606e-01,\n",
       "        3.37918853e-01, 7.99673741e-01, 7.34870879e-01, 3.19951296e-01,\n",
       "        5.98569292e-02, 2.17750102e-01, 3.57451216e-01, 1.68792072e-02,\n",
       "        8.52279572e-02, 3.89206336e-04, 7.33824793e-01, 3.15512887e-01,\n",
       "        4.85250343e-01, 3.82860873e-01, 4.06300746e-01, 4.98193262e-01,\n",
       "        5.74298122e-01, 1.29267414e-01, 8.99898277e-01, 9.83527301e-02,\n",
       "        9.41610447e-01, 6.45992337e-01, 1.37631129e-01, 1.84456476e-01,\n",
       "        2.59512907e-01, 6.63859617e-01, 8.07979392e-02, 4.70654730e-01,\n",
       "        7.15840692e-01, 9.57056659e-01, 9.40437865e-02, 8.82161673e-01,\n",
       "        4.59503025e-01, 5.27988003e-01, 9.66930528e-01, 4.20630440e-01,\n",
       "        6.08293048e-01, 2.00391761e-01, 8.28984095e-01, 6.50166559e-01,\n",
       "        8.49748069e-01, 7.40626865e-01, 9.87591309e-01, 5.00004317e-01,\n",
       "        1.58658328e-01, 5.89708784e-01, 9.95287372e-01, 2.50004482e-01,\n",
       "        2.23412603e-01, 8.55476556e-01, 2.93914501e-01, 2.43414025e-01,\n",
       "        4.13310608e-01, 9.10715155e-01, 8.94159826e-01, 1.89506973e-01,\n",
       "        6.81122320e-01, 4.81640683e-01, 5.43336556e-01, 4.73303145e-01,\n",
       "        6.99385473e-01, 8.10509506e-01, 8.06877390e-01, 5.13731462e-01,\n",
       "        8.61201197e-01, 8.57710722e-01, 6.69183142e-01, 3.40701532e-02,\n",
       "        9.25990402e-01, 9.49244586e-01, 1.66113168e-01, 5.56585958e-01,\n",
       "        5.56431653e-01, 5.95282455e-01, 8.76484288e-01, 1.03680574e-01,\n",
       "        9.93057620e-01, 7.44132381e-01, 7.21890524e-01, 4.02696182e-02,\n",
       "        3.87730844e-03, 3.53652246e-01, 4.66401116e-01, 9.57411286e-01,\n",
       "        2.28759203e-02, 8.70838496e-01, 7.94948826e-01, 9.22257231e-01,\n",
       "        3.40143503e-01, 2.32857658e-03, 4.62070275e-01, 7.14098477e-01,\n",
       "        4.23893218e-01, 9.15027392e-03, 7.57951582e-01, 8.00487012e-01,\n",
       "        2.51142874e-01, 3.98315146e-01, 7.64320341e-01, 1.51877583e-01,\n",
       "        2.99626298e-01, 9.23628727e-01, 6.19129043e-01, 2.83948101e-01,\n",
       "        9.08405364e-02, 6.56445616e-01, 6.32226013e-01, 8.30282028e-01,\n",
       "        8.23835255e-01, 3.91584800e-01, 4.02431468e-02, 3.06248039e-01,\n",
       "        8.26135580e-01, 7.55418832e-01, 2.13624302e-01, 6.70928955e-01,\n",
       "        5.79063104e-01, 6.02168292e-01, 9.56697472e-01, 5.64925188e-01,\n",
       "        2.75440947e-01, 2.73928630e-01, 2.65248337e-01, 2.23681233e-01,\n",
       "        5.24652609e-01, 5.74620720e-01, 3.79863014e-01, 1.21264181e-01,\n",
       "        4.14593903e-01, 4.31723483e-01, 3.58984130e-01, 7.62167193e-02,\n",
       "        3.76070304e-02, 9.75936149e-01, 7.15780303e-01, 9.82950049e-01,\n",
       "        2.61637794e-01, 9.72265276e-01, 5.51782302e-01, 6.68946939e-01,\n",
       "        9.32695701e-01, 1.07214554e-01, 6.98113150e-01, 6.90625868e-01,\n",
       "        7.50283265e-01, 4.28992134e-01, 8.17098906e-01, 5.79898833e-01,\n",
       "        2.72660467e-01, 9.24723881e-01, 8.91149620e-01, 7.84886469e-01,\n",
       "        4.04210200e-01, 1.45040118e-01, 8.23122907e-01, 9.31565904e-01,\n",
       "        3.48385261e-01, 2.64290827e-02, 9.80120136e-01, 8.81262709e-01,\n",
       "        6.78331318e-01, 9.87769338e-01, 9.72955597e-01, 9.58535761e-01,\n",
       "        1.14047107e-01, 5.92781995e-01, 3.48603270e-01, 6.42475336e-01,\n",
       "        2.84330872e-01, 6.76374447e-01, 7.95064444e-02, 5.27746255e-01,\n",
       "        4.87981603e-01, 9.20067867e-01, 4.43674334e-01, 8.04171211e-01,\n",
       "        1.80075467e-01, 1.02249661e-02, 6.41227663e-01, 9.32012396e-01,\n",
       "        7.10605548e-01, 6.76116360e-01, 5.06876097e-01, 9.54952535e-01,\n",
       "        3.21218600e-01, 1.47774651e-01, 9.13962183e-01, 9.95434481e-02,\n",
       "        5.86356617e-02, 3.77647588e-01, 3.49243892e-01, 4.38157224e-01,\n",
       "        5.17256270e-01, 5.25969020e-02, 8.23061583e-01, 7.00918466e-01,\n",
       "        8.20067657e-01, 5.26720318e-01, 1.77300860e-01, 8.60292451e-01,\n",
       "        3.41129164e-01, 2.28945225e-02, 4.57852539e-01, 2.71563829e-01,\n",
       "        1.79944291e-01, 2.28227947e-01, 1.49856607e-01, 6.62710970e-01,\n",
       "        5.39021018e-01, 6.82998886e-01, 6.33210525e-01, 2.98134322e-01,\n",
       "        3.33994310e-01, 5.64388462e-01, 6.71621820e-03, 7.59534878e-01,\n",
       "        2.89288529e-01, 3.25531064e-01, 8.90189668e-01, 1.38705637e-01,\n",
       "        6.31765248e-01, 9.85270421e-01, 8.88737473e-01, 5.62050821e-01,\n",
       "        1.92813346e-02, 2.17663918e-01, 3.53622108e-01, 1.91872429e-01,\n",
       "        5.35189453e-01, 6.07143419e-01, 4.49227897e-01, 2.16542474e-01,\n",
       "        1.66974019e-01, 5.22820484e-02, 4.77699135e-01, 1.81168264e-01,\n",
       "        8.81298860e-01, 8.11753559e-01, 6.72612501e-02, 2.97194407e-01,\n",
       "        5.15771855e-01, 2.67792215e-01, 5.60354857e-01, 5.85525732e-01,\n",
       "        3.99887718e-01, 4.50820776e-01, 3.76032869e-01, 4.56893879e-01,\n",
       "        6.23252396e-01, 3.81546502e-01, 1.45560819e-02, 7.35538179e-01,\n",
       "        8.51099038e-02, 9.79818088e-01, 9.08727907e-02, 3.02423900e-01,\n",
       "        3.31372760e-01, 7.30751985e-01, 8.35470926e-01, 4.34433995e-01,\n",
       "        9.88056794e-01, 4.69647509e-01, 5.72876553e-01, 3.94404424e-01,\n",
       "        9.04595231e-01, 3.38529718e-02, 3.08803179e-01, 2.11993724e-01,\n",
       "        3.97947137e-01, 7.98010709e-01, 8.57330408e-01, 2.80974270e-01,\n",
       "        3.91948330e-01, 4.85560582e-01, 8.40537654e-01, 5.85201518e-01,\n",
       "        2.18616449e-02, 2.01774647e-01, 9.31233182e-01, 1.16412752e-01,\n",
       "        9.88518456e-01, 9.89171445e-01, 8.79971467e-01, 8.32368751e-01,\n",
       "        9.04708094e-01, 3.69158748e-01, 6.58853992e-01, 4.42297355e-01,\n",
       "        3.99064655e-01, 2.59459683e-01, 2.25301780e-01, 1.69163888e-01,\n",
       "        1.89941810e-01, 4.30928791e-01, 1.26272753e-01, 3.36735603e-01,\n",
       "        5.91841988e-02, 4.85738393e-01, 5.22933773e-01, 4.42572464e-01,\n",
       "        1.49199678e-02, 7.32195347e-01, 1.28630109e-03, 5.74481040e-01,\n",
       "        5.71176666e-01, 2.73191967e-01, 8.38728745e-01, 2.54331819e-01,\n",
       "        3.34306102e-02, 1.19979718e-01, 8.72947852e-01, 5.08706049e-01,\n",
       "        6.27256317e-01, 2.97691205e-01, 2.37564783e-01, 9.99406879e-02,\n",
       "        8.95544312e-01, 7.93355417e-02, 5.59574501e-01, 7.86363793e-01,\n",
       "        5.84229916e-01, 2.89814644e-01, 9.74229543e-01, 1.25342446e-01,\n",
       "        5.50680724e-01, 3.28980759e-01, 4.80465686e-01, 6.46445826e-01,\n",
       "        3.04217268e-01, 6.56707157e-01, 3.32648806e-01, 4.80955807e-01,\n",
       "        6.83213954e-01, 6.11460677e-01, 8.84793172e-01, 2.96092232e-02,\n",
       "        6.98136007e-01, 2.88510068e-01, 6.84328328e-01, 9.00499920e-01,\n",
       "        5.79629950e-01, 6.51359076e-02, 5.30893804e-01, 3.44970982e-01,\n",
       "        1.49365561e-01, 5.17495379e-01, 7.56359580e-01, 4.24061232e-01,\n",
       "        8.47011281e-01, 4.42156148e-02, 7.45847273e-01, 2.79536889e-01,\n",
       "        3.39130058e-02, 1.01967341e-01, 3.31734700e-03, 1.02656649e-01,\n",
       "        7.35573294e-01, 6.60442035e-01, 7.87665540e-01, 6.94307846e-01,\n",
       "        1.61890060e-01, 4.63989579e-01, 9.75505408e-01, 8.84297519e-01,\n",
       "        4.47598895e-02, 7.65664531e-01, 8.05452689e-01, 9.44899761e-01,\n",
       "        1.87293541e-01, 5.03291497e-02, 6.41355056e-01, 9.06464637e-01,\n",
       "        1.40204158e-01, 4.42286873e-01, 8.81702589e-01, 4.59981172e-01,\n",
       "        4.67366387e-01, 1.58904802e-01, 1.85023202e-01, 6.58468762e-01,\n",
       "        9.70597971e-01, 8.94073842e-01, 1.37062509e-01, 9.59535711e-01,\n",
       "        2.87956448e-01, 3.85822426e-01, 4.41971910e-01, 9.35174427e-01,\n",
       "        1.08385639e-01, 9.38935485e-01, 2.60672289e-01, 6.32998203e-01,\n",
       "        4.44275340e-01, 1.62393065e-01, 2.63941646e-01, 6.37186512e-01,\n",
       "        8.26378358e-01, 3.57896717e-01, 5.40037357e-01, 7.43356894e-01,\n",
       "        4.68353652e-01, 2.90040481e-01, 4.06572038e-02, 4.64327086e-01,\n",
       "        9.66975929e-01, 2.72629671e-01, 5.70028607e-01, 5.74790342e-01,\n",
       "        9.27107036e-01, 6.15620073e-01, 2.27169047e-01, 7.52393792e-01,\n",
       "        7.32095917e-01, 6.80363307e-01, 9.27364199e-01, 7.46042493e-01,\n",
       "        2.63089617e-01, 6.03262728e-02, 5.34747716e-01, 3.17235968e-02,\n",
       "        8.22581922e-01, 1.97926051e-01, 9.88091767e-01, 1.43652968e-01,\n",
       "        4.51430672e-01, 6.82416866e-02, 3.34476279e-01, 2.61223108e-01,\n",
       "        7.08561069e-01, 1.82655980e-01, 2.15324600e-01, 1.54295544e-01,\n",
       "        6.03798697e-01, 3.41308783e-01, 5.60893976e-01, 6.38590686e-01,\n",
       "        8.57022214e-02, 8.75940294e-01, 3.20030998e-01, 2.68080102e-01,\n",
       "        7.64098229e-01, 8.13134137e-01, 1.25736160e-01, 7.62231661e-01,\n",
       "        1.50326080e-01, 5.85963585e-01, 8.98399802e-01, 9.47455057e-01,\n",
       "        1.41794506e-01, 9.16441455e-01, 3.40232841e-01, 7.67060147e-01,\n",
       "        7.88360516e-01, 7.51018207e-01, 1.46774038e-01, 5.17393881e-01,\n",
       "        5.15940852e-01, 9.11253228e-01, 6.60976918e-01, 7.95169651e-01,\n",
       "        2.96660400e-01, 7.61724699e-01, 2.19861039e-01, 4.84622596e-01,\n",
       "        3.46206896e-01, 9.28492380e-02, 5.24935113e-01, 4.18673008e-01,\n",
       "        7.48156983e-01, 8.98131696e-01, 7.34876337e-01, 8.85611782e-01,\n",
       "        2.29422586e-01, 5.74971774e-01, 3.67548242e-01, 8.96878357e-01,\n",
       "        3.04491919e-01, 6.13057345e-01, 3.79181032e-01, 8.49298567e-01,\n",
       "        5.61501284e-01, 7.96842175e-01, 2.37597605e-01, 4.52910031e-01,\n",
       "        2.72919131e-01, 2.15830873e-02, 4.27231356e-01, 2.11736861e-01,\n",
       "        6.51252488e-01, 5.38327707e-01, 4.12346133e-01, 5.73862548e-01,\n",
       "        8.84079961e-01, 1.81908846e-01, 6.79411655e-01, 1.62119565e-01,\n",
       "        1.41294968e-01, 8.85924224e-01, 1.73084733e-01, 5.03007862e-01,\n",
       "        6.63180666e-01, 2.58163817e-01, 1.98405443e-01, 3.17513169e-01,\n",
       "        5.90407177e-01, 7.71042894e-01, 7.54122817e-01, 5.75753106e-02,\n",
       "        9.05130095e-01, 2.48863268e-01, 4.01422115e-01, 7.96894743e-01,\n",
       "        1.87223984e-01, 6.46303444e-01, 9.91411265e-01, 6.04410745e-02,\n",
       "        1.56724421e-04, 3.37391818e-02, 6.53324614e-01, 2.91701567e-01,\n",
       "        1.81793922e-01, 6.34774368e-01, 8.10432240e-01, 4.72236124e-01,\n",
       "        7.30766651e-01, 3.09561394e-02, 8.18790647e-01, 6.19840605e-01,\n",
       "        6.36256146e-01, 8.83935806e-01, 3.76496970e-01, 6.52893271e-01,\n",
       "        5.82366985e-01, 2.73637656e-01, 4.08399502e-01, 6.58054280e-01,\n",
       "        3.23662241e-01, 1.40229048e-01, 4.31857129e-01, 4.07874439e-01,\n",
       "        2.79176878e-01, 8.54740996e-01, 5.65816195e-02, 1.51550914e-01,\n",
       "        2.70965975e-01, 1.33758836e-01, 6.09258336e-01, 5.33752082e-01,\n",
       "        1.52559208e-01, 8.50669678e-01, 9.86518433e-02, 1.62987588e-01,\n",
       "        4.63953369e-01, 9.35066733e-01, 8.31331771e-01, 6.13643135e-01,\n",
       "        9.15957788e-01, 3.38140048e-01, 1.66791792e-01, 4.95736822e-01,\n",
       "        8.90525692e-01, 1.12941680e-01, 2.13365072e-02, 8.84784007e-01,\n",
       "        1.08561129e-01, 2.62175583e-01, 9.87781280e-01, 1.66551490e-01,\n",
       "        7.95748809e-01, 1.40279453e-01, 3.49151642e-01, 3.87572667e-01,\n",
       "        6.91380416e-01, 3.44410027e-01, 9.36683134e-01, 5.24349278e-01,\n",
       "        4.98514750e-01, 4.79534722e-01, 1.42028048e-01, 6.89018960e-01,\n",
       "        5.02905550e-01, 5.15159321e-01, 7.71411082e-01, 6.84409764e-01,\n",
       "        7.15993317e-01, 4.57959164e-01, 4.94247906e-01, 6.58464484e-01,\n",
       "        9.00761976e-01, 6.28835398e-01, 9.75930852e-01, 2.09177216e-01,\n",
       "        3.44627924e-01, 1.19158535e-01, 3.82657034e-01, 4.78076117e-01,\n",
       "        2.19721607e-01, 7.06755527e-01, 6.87778581e-02, 2.17674056e-01,\n",
       "        6.08755792e-01, 4.45875985e-01, 1.39878902e-01, 9.59217502e-01,\n",
       "        8.57878634e-01, 2.50285035e-01, 7.48818420e-01, 4.38620067e-01,\n",
       "        1.68382457e-01, 2.72041953e-01, 2.18832992e-01, 3.62160498e-01,\n",
       "        3.21458588e-01, 8.58064093e-01, 8.32698415e-01, 7.41882900e-02,\n",
       "        2.41166820e-01, 8.95538659e-01, 1.32817962e-01, 5.46888463e-01,\n",
       "        6.06073137e-01, 8.52948837e-01, 4.26418253e-01, 9.51329048e-01,\n",
       "        8.89274359e-01, 1.55488599e-01, 7.59810141e-02, 7.73308798e-01,\n",
       "        8.15123075e-01, 2.18747446e-01, 6.01201078e-01, 3.23936236e-01,\n",
       "        1.77660488e-01, 7.96270517e-03, 3.94033006e-01, 8.28196966e-01,\n",
       "        4.88991504e-01, 9.36966703e-01, 6.24750114e-01, 5.80382362e-01,\n",
       "        2.53314867e-01, 5.40481432e-01, 3.42673860e-01, 2.10000014e-01,\n",
       "        6.37503843e-01, 7.22270214e-01, 8.31544814e-01, 6.23411911e-01,\n",
       "        8.19216483e-01, 3.09987665e-01, 7.95518651e-01, 8.13344113e-01,\n",
       "        8.84009050e-01, 2.81055491e-01, 1.80172044e-01, 2.40820358e-01,\n",
       "        4.35662761e-01, 4.20266052e-01, 8.32238920e-01, 2.61291697e-01,\n",
       "        2.20859918e-01, 9.84844090e-01, 1.17026704e-01, 4.91805037e-02,\n",
       "        9.74041604e-01, 2.61492289e-01, 7.35647736e-01, 7.17834071e-01,\n",
       "        7.54656701e-01, 6.47030741e-01, 3.98346707e-01, 6.72415327e-01,\n",
       "        8.50738981e-01, 9.23774021e-01, 6.96416010e-01, 7.05134322e-01,\n",
       "        8.38170462e-01, 9.84279305e-01, 3.69729874e-02, 4.32037285e-01,\n",
       "        2.53221821e-01, 8.44644371e-01, 3.70235662e-01, 8.16439836e-01,\n",
       "        4.33466558e-02, 8.91908126e-01, 8.00267323e-01, 8.50690757e-01,\n",
       "        2.53989513e-01, 6.76592786e-01, 9.43657183e-01, 1.94932263e-01,\n",
       "        2.15041060e-01, 3.12968610e-01, 6.50831154e-01, 1.12816231e-01,\n",
       "        4.03948548e-01, 9.28479719e-01, 2.60176623e-01, 9.08085357e-01,\n",
       "        9.20284250e-01, 8.58112594e-01, 7.43978261e-01, 5.83758105e-01,\n",
       "        7.01193971e-01, 7.90317640e-02, 8.23772095e-01, 6.41615411e-01,\n",
       "        2.16809945e-01, 4.60494541e-01, 5.94947025e-01, 6.79087553e-01,\n",
       "        3.03596409e-01, 5.33898290e-01, 3.98376278e-01, 7.63190438e-01,\n",
       "        2.69402041e-01, 7.53693563e-01, 6.05768632e-01, 8.19838589e-01,\n",
       "        7.92027755e-01, 4.86500199e-01, 3.33199074e-01, 5.68252176e-01,\n",
       "        5.00322682e-01, 8.01962077e-01, 1.72128811e-01, 9.04128788e-01,\n",
       "        7.87427756e-01, 8.92323281e-01, 4.85726197e-01, 2.82322176e-01,\n",
       "        5.11155734e-01, 4.15857854e-02, 8.67694034e-01, 1.85459270e-01,\n",
       "        4.62004392e-01, 2.53950096e-01, 1.24774209e-01, 6.15750877e-01,\n",
       "        1.21198751e-01, 8.92098243e-01, 2.58335017e-01, 8.27583328e-01,\n",
       "        3.50872131e-01, 6.42975503e-01, 7.22412344e-01, 7.11065160e-01,\n",
       "        8.65354285e-01, 4.16705925e-01, 1.90155074e-02, 3.68413623e-01,\n",
       "        2.11109167e-01, 4.41456835e-01, 8.52416523e-01, 8.64393070e-01,\n",
       "        1.49460718e-01, 8.47110358e-01, 9.26727973e-01, 6.88106656e-01,\n",
       "        6.92595011e-01, 3.12636791e-01, 7.57560950e-01, 7.50498357e-02,\n",
       "        3.63509857e-01, 9.49589569e-01, 5.86165809e-01, 3.79394324e-02,\n",
       "        1.92865113e-02, 7.54176006e-01, 4.27276447e-01, 6.36816612e-01,\n",
       "        5.16687985e-01, 8.02668227e-01, 9.88911717e-01, 9.45596690e-01,\n",
       "        7.43492029e-02, 2.31683284e-01, 1.03014803e-01, 3.33831896e-01,\n",
       "        8.47109310e-01, 2.10767895e-02, 4.05564785e-01, 1.85210839e-01,\n",
       "        7.82857886e-01, 7.74079297e-01, 2.28062135e-01, 4.26093947e-01,\n",
       "        7.07002329e-01, 1.53406467e-01, 3.81400579e-02, 4.21241786e-01,\n",
       "        9.39973767e-01, 9.77782226e-01, 4.97345728e-01, 8.77982526e-01,\n",
       "        8.01703924e-01, 1.05081751e-01, 1.24719984e-01, 3.85254404e-01,\n",
       "        8.86821306e-01, 5.70316609e-01, 9.28050424e-01, 7.53839651e-01,\n",
       "        4.65542276e-01, 7.36820094e-01, 6.74218673e-01, 7.56882960e-01,\n",
       "        5.23829651e-01, 4.17214235e-01, 3.32613682e-02, 5.52200253e-01,\n",
       "        1.96860495e-01, 5.46902142e-02, 8.69360943e-03, 6.91907524e-01,\n",
       "        7.22489430e-01, 9.43131010e-02, 6.45912785e-01, 7.65262912e-01,\n",
       "        9.78310776e-01, 3.78503412e-01, 3.14136568e-01, 9.56040028e-01,\n",
       "        9.60748023e-02, 9.72492961e-01, 9.91799568e-01, 7.26809881e-01,\n",
       "        8.80667526e-01, 5.80831561e-01, 2.80528173e-01, 9.52635820e-01,\n",
       "        4.09539588e-02, 2.65488301e-02, 5.27599060e-01, 5.21653464e-01,\n",
       "        2.87946223e-01, 5.11582294e-01, 3.34536175e-01, 2.96141872e-01,\n",
       "        9.99268866e-01, 8.73584102e-02, 4.05330313e-01, 9.57581972e-01,\n",
       "        8.60792930e-01, 9.73085871e-01, 4.67707891e-01, 7.14842446e-01,\n",
       "        6.75548466e-01, 6.06752953e-01, 1.15220967e-01, 8.42044618e-01,\n",
       "        4.02653786e-01, 4.14214576e-01, 4.71394736e-01, 8.69643998e-01,\n",
       "        1.65347842e-01, 6.68708455e-01, 9.43132543e-01, 8.49167690e-01,\n",
       "        2.25016774e-01, 7.55087269e-02, 8.20367659e-01, 3.43260656e-01,\n",
       "        6.48864579e-02, 4.34965255e-01, 6.03770874e-01, 6.82776491e-01,\n",
       "        7.91094819e-01, 3.18889662e-02, 6.65374090e-01, 1.13719062e-01,\n",
       "        9.33907149e-01, 4.25884458e-01, 6.85180225e-01, 5.15998018e-01,\n",
       "        6.11252443e-01, 2.86637079e-01, 6.21151829e-01, 1.06800056e-01])]"
      ]
     },
     "execution_count": 44,
     "metadata": {},
     "output_type": "execute_result"
    }
   ],
   "source": [
    "draw_values([model['phi']], size=1000)"
   ]
  },
  {
   "cell_type": "markdown",
   "metadata": {},
   "source": [
    "### sample from prior with sampler"
   ]
  },
  {
   "cell_type": "code",
   "execution_count": 45,
   "metadata": {},
   "outputs": [],
   "source": [
    "with pm.Model() as model_:\n",
    "    phi = pm.Beta('phi', alpha=1., beta=1.)\n",
    "\n",
    "    kappa_log = pm.Exponential('logkappa', lam=5.)\n",
    "    kappa = pm.Deterministic('kappa', tt.exp(kappa_log))\n",
    "\n",
    "    thetas = pm.Beta('thetas', alpha=phi*kappa, beta=(1.0-phi)*kappa, shape=N)\n",
    "\n",
    "    y = pm.Binomial('y', n=at_bats, p=thetas, shape=N)"
   ]
  },
  {
   "cell_type": "code",
   "execution_count": 27,
   "metadata": {},
   "outputs": [
    {
     "name": "stderr",
     "output_type": "stream",
     "text": [
      "Sequential sampling (1 chains in 1 job)\n",
      "CompoundStep\n",
      ">Metropolis: [y]\n",
      ">Metropolis: [thetas_logodds__]\n",
      ">Metropolis: [logkappa_log__]\n",
      ">Metropolis: [phi_logodds__]\n",
      "100%|██████████| 15000/15000 [00:14<00:00, 1006.66it/s]\n",
      "Only one chain was sampled, this makes it impossible to run some convergence checks\n"
     ]
    },
    {
     "name": "stdout",
     "output_type": "stream",
     "text": [
      "CPU times: user 17.5 s, sys: 402 ms, total: 17.9 s\n",
      "Wall time: 17.8 s\n"
     ]
    }
   ],
   "source": [
    "%%time\n",
    "with model_:\n",
    "    psample2 = pm.sample(10000, tune=5000, chains=1, step=pm.Metropolis())"
   ]
  },
  {
   "cell_type": "code",
   "execution_count": 28,
   "metadata": {},
   "outputs": [
    {
     "data": {
      "image/png": "[encoded data removed]",
      "text/plain": [
       "<matplotlib.figure.Figure at 0x124f27358>"
      ]
     },
     "metadata": {},
     "output_type": "display_data"
    }
   ],
   "source": [
    "plt.hist(psample2['y']);"
   ]
  },
  {
   "cell_type": "code",
   "execution_count": 29,
   "metadata": {},
   "outputs": [
    {
     "data": {
      "image/png": "[encoded data removed]",
      "text/plain": [
       "<matplotlib.figure.Figure at 0x127aadc18>"
      ]
     },
     "metadata": {},
     "output_type": "display_data"
    }
   ],
   "source": [
    "plt.hist(psample2['thetas']);"
   ]
  },
  {
   "cell_type": "code",
   "execution_count": 11,
   "metadata": {},
   "outputs": [
    {
     "data": {
      "text/plain": [
       "array([29.17537646, 29.19002776, 29.15011068, 29.14314161, 29.14502391,\n",
       "       29.16139058, 29.1881896 , 29.17654139, 29.19103725, 29.18007975,\n",
       "       29.16310776, 29.13774703, 29.19948359, 29.15999634, 29.18637443,\n",
       "       29.19694937, 29.16231964, 29.17803222])"
      ]
     },
     "execution_count": 11,
     "metadata": {},
     "output_type": "execute_result"
    }
   ],
   "source": [
    "psample1['thetas'].mean(axis=0) * at_bats"
   ]
  },
  {
   "cell_type": "code",
   "execution_count": 12,
   "metadata": {},
   "outputs": [
    {
     "data": {
      "text/plain": [
       "array([27.9016, 27.851 , 27.989 , 27.8241, 27.801 , 28.0052, 27.8268,\n",
       "       28.0808, 27.9234, 27.8336, 28.078 , 27.8091, 27.8389, 28.0057,\n",
       "       27.9665, 27.8917, 27.9447, 27.8897])"
      ]
     },
     "execution_count": 12,
     "metadata": {},
     "output_type": "execute_result"
    }
   ],
   "source": [
    "psample1['y'].mean(axis=0)"
   ]
  }
 ],
 "metadata": {
  "kernelspec": {
   "display_name": "Python 3",
   "language": "python",
   "name": "python3"
  },
  "language_info": {
   "codemirror_mode": {
    "name": "ipython",
    "version": 3
   },
   "file_extension": ".py",
   "mimetype": "text/x-python",
   "name": "python",
   "nbconvert_exporter": "python",
   "pygments_lexer": "ipython3",
   "version": "3.5.1"
  }
 },
 "nbformat": 4,
 "nbformat_minor": 2
}
