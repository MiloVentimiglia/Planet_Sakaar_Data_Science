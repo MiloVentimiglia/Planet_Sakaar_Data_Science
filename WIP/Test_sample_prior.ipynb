{
 "cells": [
  {
   "cell_type": "markdown",
   "metadata": {},
   "source": [
    "https://github.com/pymc-devs/pymc3/pull/2876"
   ]
  },
  {
   "cell_type": "code",
   "execution_count": 1,
   "metadata": {},
   "outputs": [
    {
     "name": "stderr",
     "output_type": "stream",
     "text": [
      "/Library/Frameworks/Python.framework/Versions/3.5/lib/python3.5/site-packages/h5py/__init__.py:36: FutureWarning: Conversion of the second argument of issubdtype from `float` to `np.floating` is deprecated. In future, it will be treated as `np.float64 == np.dtype(float).type`.\n",
      "  from ._conv import register_converters as _register_converters\n"
     ]
    }
   ],
   "source": [
    "%matplotlib inline\n",
    "import pandas as pd\n",
    "import numpy as np\n",
    "import pymc3 as pm\n",
    "import theano.tensor as tt\n",
    "\n",
    "import matplotlib.pylab as plt"
   ]
  },
  {
   "cell_type": "markdown",
   "metadata": {},
   "source": [
    "Cherry picked old commit"
   ]
  },
  {
   "cell_type": "code",
   "execution_count": 2,
   "metadata": {},
   "outputs": [],
   "source": [
    "from pymc3.model import modelcontext, get_named_nodes_and_relations\n",
    "from pymc3.util import is_transformed_name, get_untransformed_name\n",
    "from tqdm import tqdm\n",
    "\n",
    "\n",
    "def sample_prior(samples=500, model=None, vars=None, size=None,\n",
    "                 random_seed=None, progressbar=True):\n",
    "    \"\"\"Generate samples from the prior of a model.\n",
    "\n",
    "    Parameters\n",
    "    ----------\n",
    "    samples : int\n",
    "        Number of samples from the prior to generate. Defaults to 500.\n",
    "    model : Model (optional if in `with` context)\n",
    "    vars : iterable\n",
    "        Variables for which to compute the posterior predictive samples.\n",
    "        Defaults to `model.named_vars`.\n",
    "    size : int\n",
    "        The number of random draws from the distribution specified by the\n",
    "        parameters in each sample of the trace.\n",
    "    random_seed : int\n",
    "        Seed for the random number generator.\n",
    "    progressbar : bool\n",
    "        Whether or not to display a progress bar in the command line.\n",
    "\n",
    "    Returns\n",
    "    -------\n",
    "    dict\n",
    "        Dictionary with the variables as keys. The values are arrays of prior samples.\n",
    "    \"\"\"\n",
    "\n",
    "    model = modelcontext(model)\n",
    "\n",
    "    if vars is None:\n",
    "        vars = set(model.named_vars.keys())\n",
    "\n",
    "    if random_seed is not None:\n",
    "        np.random.seed(random_seed)\n",
    "\n",
    "    if progressbar:\n",
    "        indices = tqdm(range(samples))\n",
    "\n",
    "    def step(model):\n",
    "        point = {}\n",
    "        for var in model.basic_RVs:\n",
    "            var_name = var.name\n",
    "            if hasattr(var, 'distribution'):\n",
    "                if is_transformed_name(var_name):\n",
    "                    val = var.distribution.dist.random(\n",
    "                        point=point, size=size)\n",
    "                    var_name_untranf = get_untransformed_name(var_name)\n",
    "                    point[var_name_untranf] = val\n",
    "                    val = var.distribution.transform_used.forward_val(val)\n",
    "                else:\n",
    "                    val = var.distribution.random(point=point, size=size)\n",
    "            else:\n",
    "                nn, _, _ = get_named_nodes_and_relations(var)\n",
    "                val = var.eval({model.named_vars[v]: point[v]\n",
    "                                for v in nn})\n",
    "\n",
    "            point[var_name] = val\n",
    "        return point\n",
    "\n",
    "    try:\n",
    "        prior = {var: [] for var in vars}\n",
    "        for _ in indices:\n",
    "            point = step(model)\n",
    "            for var_name, var in model.named_vars.items():\n",
    "                if var_name in vars:\n",
    "                    if var_name in point:\n",
    "                        val = point[var_name]\n",
    "                    else:\n",
    "                        nn, _, _ = get_named_nodes_and_relations(var)\n",
    "                        val = var.eval({model.named_vars[v]: point[v]\n",
    "                                        for v in nn})\n",
    "                    prior[var_name].append(val)\n",
    "\n",
    "    except KeyboardInterrupt:\n",
    "        pass\n",
    "\n",
    "    finally:\n",
    "        if progressbar:\n",
    "            indices.close()\n",
    "\n",
    "    return {k: np.asarray(v) for k, v in prior.items()}"
   ]
  },
  {
   "cell_type": "code",
   "execution_count": 3,
   "metadata": {},
   "outputs": [
    {
     "name": "stderr",
     "output_type": "stream",
     "text": [
      "100%|██████████| 500/500 [00:00<00:00, 906.69it/s]\n"
     ]
    }
   ],
   "source": [
    "observed = np.random.normal(10, 1, size=200)\n",
    "with pm.Model() as m: \n",
    "    # Use a prior that's way off to show we're actually sampling from it \n",
    "    mu = pm.Normal('mu', mu=-10, sd=1) \n",
    "    positive_mu = pm.Deterministic('positive_mu', np.abs(mu)) \n",
    "    pm.Normal('x_obs', mu=mu, sd=1, observed=observed) \n",
    "    prior = sample_prior() \n",
    "\n",
    "assert (prior['mu'] < 0).all() \n",
    "assert (prior['positive_mu'] > 0).all() \n",
    "assert (prior['x_obs'] < 0).all()"
   ]
  },
  {
   "cell_type": "markdown",
   "metadata": {},
   "source": [
    "## More complex example"
   ]
  },
  {
   "cell_type": "code",
   "execution_count": 4,
   "metadata": {},
   "outputs": [],
   "source": [
    "data = pd.read_table(pm.get_data('efron-morris-75-data.tsv'), sep=\"\\t\")\n",
    "at_bats, hits = data[['At-Bats', 'Hits']].values.T\n",
    "N = len(hits)"
   ]
  },
  {
   "cell_type": "markdown",
   "metadata": {},
   "source": [
    "### Reference numpy implementation"
   ]
  },
  {
   "cell_type": "code",
   "execution_count": 5,
   "metadata": {},
   "outputs": [],
   "source": [
    "import scipy.stats as stats"
   ]
  },
  {
   "cell_type": "code",
   "execution_count": 6,
   "metadata": {},
   "outputs": [],
   "source": [
    "def model_prior_sample(nsample):\n",
    "    phi = stats.beta.rvs(1., 1., size=nsample)\n",
    "    logkappa = np.random.exponential(1/5., nsample)\n",
    "    kappa = np.exp(logkappa)\n",
    "    thetas = stats.beta.rvs(phi*kappa, (1.-phi)*kappa, size=(N, nsample))\n",
    "    y = stats.binom.rvs(n=at_bats[:, None], p=thetas)\n",
    "    \n",
    "    psample = {}\n",
    "    psample['phi'] = phi\n",
    "    psample['logkappa'] = logkappa\n",
    "    psample['kappa'] = kappa\n",
    "    psample['thetas'] = thetas.T\n",
    "    psample['y'] = y.T\n",
    "    return psample"
   ]
  },
  {
   "cell_type": "code",
   "execution_count": 7,
   "metadata": {},
   "outputs": [
    {
     "name": "stdout",
     "output_type": "stream",
     "text": [
      "CPU times: user 83.2 ms, sys: 9.07 ms, total: 92.3 ms\n",
      "Wall time: 110 ms\n"
     ]
    }
   ],
   "source": [
    "%%time\n",
    "\n",
    "psample0 = model_prior_sample(10000)"
   ]
  },
  {
   "cell_type": "code",
   "execution_count": 8,
   "metadata": {},
   "outputs": [
    {
     "data": {
      "image/png": "[encoded data removed]",
      "text/plain": [
       "<matplotlib.figure.Figure at 0x124c24748>"
      ]
     },
     "metadata": {},
     "output_type": "display_data"
    }
   ],
   "source": [
    "plt.style.use('seaborn-darkgrid')\n",
    "x = np.linspace(0, 1, 200)\n",
    "a = 1.\n",
    "b = 1.\n",
    "pdf = stats.beta.pdf(x, a, b)\n",
    "plt.plot(x, pdf, label=r'$\\alpha$ = {}, $\\beta$ = {}'.format(a, b))\n",
    "plt.hist(psample0['phi'], 500, normed=True);\n",
    "plt.xlabel('x', fontsize=12)\n",
    "plt.ylabel('f(x)', fontsize=12)\n",
    "plt.ylim(0, 4.5)\n",
    "plt.legend(loc=9)\n",
    "plt.show()"
   ]
  },
  {
   "cell_type": "code",
   "execution_count": 9,
   "metadata": {},
   "outputs": [
    {
     "data": {
      "image/png": "[encoded data removed]",
      "text/plain": [
       "<matplotlib.figure.Figure at 0x12499e9b0>"
      ]
     },
     "metadata": {},
     "output_type": "display_data"
    }
   ],
   "source": [
    "plt.style.use('seaborn-darkgrid')\n",
    "x = np.linspace(0, 3, 100)\n",
    "lam = 5.\n",
    "pdf = stats.expon.pdf(x, scale=1.0/lam)\n",
    "plt.plot(x, pdf, label=r'$\\lambda$ = {}'.format(lam))\n",
    "plt.hist(psample0['logkappa'], 500, normed=True);\n",
    "plt.xlabel('x', fontsize=12)\n",
    "plt.ylabel('f(x)', fontsize=12)\n",
    "plt.ylim(0, 4.5)\n",
    "plt.legend(loc=9)\n",
    "plt.show()"
   ]
  },
  {
   "cell_type": "code",
   "execution_count": 10,
   "metadata": {},
   "outputs": [
    {
     "data": {
      "image/png": "[encoded data removed]",
      "text/plain": [
       "<matplotlib.figure.Figure at 0x1268d86d8>"
      ]
     },
     "metadata": {},
     "output_type": "display_data"
    }
   ],
   "source": [
    "plt.hist(psample0['y']);"
   ]
  },
  {
   "cell_type": "code",
   "execution_count": 11,
   "metadata": {},
   "outputs": [
    {
     "data": {
      "image/png": "[encoded data removed]",
      "text/plain": [
       "<matplotlib.figure.Figure at 0x127412dd8>"
      ]
     },
     "metadata": {},
     "output_type": "display_data"
    }
   ],
   "source": [
    "plt.hist(psample0['thetas']);"
   ]
  },
  {
   "cell_type": "code",
   "execution_count": 12,
   "metadata": {},
   "outputs": [
    {
     "data": {
      "text/plain": [
       "array([22.62186866, 22.66910514, 22.47812277, 22.47733257, 22.84659448,\n",
       "       22.78806546, 22.5779107 , 22.52973095, 22.51503522, 22.87777591,\n",
       "       22.55782772, 22.61477038, 22.53195831, 22.43464909, 22.48756319,\n",
       "       22.4262004 , 22.45774127, 22.62966416])"
      ]
     },
     "execution_count": 12,
     "metadata": {},
     "output_type": "execute_result"
    }
   ],
   "source": [
    "psample0['thetas'].mean(axis=0) * at_bats"
   ]
  },
  {
   "cell_type": "code",
   "execution_count": 13,
   "metadata": {},
   "outputs": [
    {
     "data": {
      "text/plain": [
       "array([22.6114, 22.6423, 22.4651, 22.4668, 22.8739, 22.8093, 22.5945,\n",
       "       22.548 , 22.5196, 22.8496, 22.5454, 22.6256, 22.5631, 22.43  ,\n",
       "       22.4815, 22.4217, 22.4898, 22.6443])"
      ]
     },
     "execution_count": 13,
     "metadata": {},
     "output_type": "execute_result"
    }
   ],
   "source": [
    "psample0['y'].mean(axis=0)"
   ]
  },
  {
   "cell_type": "markdown",
   "metadata": {},
   "source": [
    "### Check old implementation"
   ]
  },
  {
   "cell_type": "code",
   "execution_count": 14,
   "metadata": {},
   "outputs": [],
   "source": [
    "with pm.Model() as model:\n",
    "    phi = pm.Beta('phi', alpha=1., beta=1.)\n",
    "\n",
    "    kappa_log = pm.Exponential('logkappa', lam=5.)\n",
    "    kappa = pm.Deterministic('kappa', tt.exp(kappa_log))\n",
    "\n",
    "    thetas = pm.Beta('thetas', alpha=phi*kappa, beta=(1.0-phi)*kappa, shape=N)\n",
    "\n",
    "    y = pm.Binomial('y', n=at_bats, p=thetas, shape=N, observed=hits)"
   ]
  },
  {
   "cell_type": "code",
   "execution_count": 15,
   "metadata": {},
   "outputs": [
    {
     "data": {
      "text/plain": [
       "array([[20,  3, 23, ...,  0,  8, 17],\n",
       "       [22,  5, 33, ...,  0,  7, 15],\n",
       "       [11,  4, 27, ...,  1, 12, 22],\n",
       "       ...,\n",
       "       [10,  5, 28, ...,  0,  6, 19],\n",
       "       [17,  1, 21, ...,  2,  5, 14],\n",
       "       [13,  2, 30, ...,  0,  5, 22]])"
      ]
     },
     "execution_count": 15,
     "metadata": {},
     "output_type": "execute_result"
    }
   ],
   "source": [
    "y.distribution.random(point=model.test_point, size=1000)"
   ]
  },
  {
   "cell_type": "code",
   "execution_count": 16,
   "metadata": {},
   "outputs": [
    {
     "data": {
      "text/plain": [
       "array([[17, 19, 22, ..., 25, 22, 26],\n",
       "       [24, 23, 19, ..., 22, 18, 17],\n",
       "       [20, 23, 20, ..., 22, 22, 20],\n",
       "       ...,\n",
       "       [24, 29, 23, ..., 30, 25, 25],\n",
       "       [21, 23, 22, ..., 18, 21, 27],\n",
       "       [23, 19, 24, ..., 25, 22, 21]])"
      ]
     },
     "execution_count": 16,
     "metadata": {},
     "output_type": "execute_result"
    }
   ],
   "source": [
    "np.random.binomial(45, thetas.tag.test_value, size=(1000, N))"
   ]
  },
  {
   "cell_type": "code",
   "execution_count": 17,
   "metadata": {},
   "outputs": [],
   "source": [
    "# names = ['phi', 'kappa_log', 'kappa', 'thetas', 'y']\n",
    "# values = pm.distributions.draw_values([model[name] for name in names], size=100)\n",
    "# p = {k: v for k, v in zip(names, values)}"
   ]
  },
  {
   "cell_type": "code",
   "execution_count": 18,
   "metadata": {
    "scrolled": true
   },
   "outputs": [
    {
     "name": "stderr",
     "output_type": "stream",
     "text": [
      "100%|██████████| 10000/10000 [00:42<00:00, 232.92it/s]\n"
     ]
    },
    {
     "name": "stdout",
     "output_type": "stream",
     "text": [
      "CPU times: user 36 s, sys: 1.08 s, total: 37.1 s\n",
      "Wall time: 43 s\n"
     ]
    }
   ],
   "source": [
    "%%time\n",
    "psample1 = sample_prior(10000, model=model)"
   ]
  },
  {
   "cell_type": "code",
   "execution_count": 19,
   "metadata": {},
   "outputs": [
    {
     "data": {
      "image/png": "[encoded data removed]",
      "text/plain": [
       "<matplotlib.figure.Figure at 0x12858ce48>"
      ]
     },
     "metadata": {},
     "output_type": "display_data"
    }
   ],
   "source": [
    "plt.style.use('seaborn-darkgrid')\n",
    "x = np.linspace(0, 1, 200)\n",
    "a = 1.\n",
    "b = 1.\n",
    "pdf = stats.beta.pdf(x, a, b)\n",
    "plt.plot(x, pdf, label=r'$\\alpha$ = {}, $\\beta$ = {}'.format(a, b))\n",
    "plt.hist(psample1['phi'], 500, normed=True);\n",
    "plt.xlabel('x', fontsize=12)\n",
    "plt.ylabel('f(x)', fontsize=12)\n",
    "plt.ylim(0, 4.5)\n",
    "plt.legend(loc=9)\n",
    "plt.show()"
   ]
  },
  {
   "cell_type": "code",
   "execution_count": 20,
   "metadata": {},
   "outputs": [
    {
     "data": {
      "text/plain": [
       "(2.2443597121170175e-05, 0.9998956843410121)"
      ]
     },
     "execution_count": 20,
     "metadata": {},
     "output_type": "execute_result"
    }
   ],
   "source": [
    "np.min(psample1['phi']), np.max(psample1['phi'])"
   ]
  },
  {
   "cell_type": "code",
   "execution_count": 21,
   "metadata": {},
   "outputs": [
    {
     "data": {
      "image/png": "[encoded data removed]",
      "text/plain": [
       "<matplotlib.figure.Figure at 0x12858c2e8>"
      ]
     },
     "metadata": {},
     "output_type": "display_data"
    }
   ],
   "source": [
    "plt.style.use('seaborn-darkgrid')\n",
    "x = np.linspace(0, 3, 100)\n",
    "lam = 5.\n",
    "pdf = stats.expon.pdf(x, scale=1.0/lam)\n",
    "plt.plot(x, pdf, label=r'$\\lambda$ = {}'.format(lam))\n",
    "plt.hist(psample1['logkappa'], 500, normed=True);\n",
    "plt.xlabel('x', fontsize=12)\n",
    "plt.ylabel('f(x)', fontsize=12)\n",
    "plt.ylim(0, 4.5)\n",
    "plt.legend(loc=9)\n",
    "plt.show()"
   ]
  },
  {
   "cell_type": "code",
   "execution_count": 22,
   "metadata": {},
   "outputs": [
    {
     "data": {
      "image/png": "[encoded data removed]",
      "text/plain": [
       "<matplotlib.figure.Figure at 0x12747c400>"
      ]
     },
     "metadata": {},
     "output_type": "display_data"
    }
   ],
   "source": [
    "plt.hist(psample1['y']);"
   ]
  },
  {
   "cell_type": "code",
   "execution_count": 23,
   "metadata": {},
   "outputs": [
    {
     "data": {
      "image/png": "[encoded data removed]",
      "text/plain": [
       "<matplotlib.figure.Figure at 0x126b58e10>"
      ]
     },
     "metadata": {},
     "output_type": "display_data"
    }
   ],
   "source": [
    "plt.hist(psample1['thetas']);"
   ]
  },
  {
   "cell_type": "code",
   "execution_count": 24,
   "metadata": {},
   "outputs": [
    {
     "data": {
      "text/plain": [
       "array([22.60232177, 22.59946392, 22.59465147, 22.57207228, 22.56594379,\n",
       "       22.42066101, 22.53264967, 22.61126441, 22.40865072, 22.75216949,\n",
       "       22.55690667, 22.61866748, 22.52501488, 22.56745978, 22.50303913,\n",
       "       22.68654429, 22.52261059, 22.44514096])"
      ]
     },
     "execution_count": 24,
     "metadata": {},
     "output_type": "execute_result"
    }
   ],
   "source": [
    "psample1['thetas'].mean(axis=0) * at_bats"
   ]
  },
  {
   "cell_type": "code",
   "execution_count": 25,
   "metadata": {},
   "outputs": [
    {
     "data": {
      "text/plain": [
       "array([22.5995, 22.6004, 22.5902, 22.5727, 22.5392, 22.4167, 22.5623,\n",
       "       22.6214, 22.4297, 22.7326, 22.5592, 22.6622, 22.5462, 22.5754,\n",
       "       22.5023, 22.6658, 22.5378, 22.4348])"
      ]
     },
     "execution_count": 25,
     "metadata": {},
     "output_type": "execute_result"
    }
   ],
   "source": [
    "psample1['y'].mean(axis=0)"
   ]
  },
  {
   "cell_type": "markdown",
   "metadata": {},
   "source": [
    "### Check new implementation"
   ]
  },
  {
   "cell_type": "code",
   "execution_count": 57,
   "metadata": {},
   "outputs": [],
   "source": [
    "import scipy.stats as st"
   ]
  },
  {
   "cell_type": "code",
   "execution_count": 59,
   "metadata": {},
   "outputs": [],
   "source": [
    "st.gumbel_l??"
   ]
  },
  {
   "cell_type": "code",
   "execution_count": 53,
   "metadata": {},
   "outputs": [
    {
     "data": {
      "text/plain": [
       "[array(0.39081367)]"
      ]
     },
     "execution_count": 53,
     "metadata": {},
     "output_type": "execute_result"
    }
   ],
   "source": [
    "from pymc3.distributions.distribution import draw_values\n",
    "\n",
    "with pm.Model() as m:\n",
    "    p = pm.Beta('p', 1., 1.)\n",
    "draw_values([m['p']], size=10)"
   ]
  },
  {
   "cell_type": "code",
   "execution_count": 56,
   "metadata": {},
   "outputs": [
    {
     "ename": "AttributeError",
     "evalue": "'numpy.ndarray' object has no attribute 'name'",
     "output_type": "error",
     "traceback": [
      "\u001b[0;31m---------------------------------------------------------------------------\u001b[0m",
      "\u001b[0;31mAttributeError\u001b[0m                            Traceback (most recent call last)",
      "\u001b[0;32m<ipython-input-56-efb1daa39218>\u001b[0m in \u001b[0;36m<module>\u001b[0;34m()\u001b[0m\n\u001b[1;32m      5\u001b[0m     \u001b[0mind\u001b[0m \u001b[0;34m=\u001b[0m \u001b[0mpm\u001b[0m\u001b[0;34m.\u001b[0m\u001b[0mCategorical\u001b[0m\u001b[0;34m(\u001b[0m\u001b[0;34m'i'\u001b[0m\u001b[0;34m,\u001b[0m \u001b[0mnp\u001b[0m\u001b[0;34m.\u001b[0m\u001b[0mones\u001b[0m\u001b[0;34m(\u001b[0m\u001b[0;36m3\u001b[0m\u001b[0;34m)\u001b[0m\u001b[0;34m/\u001b[0m\u001b[0;36m3\u001b[0m\u001b[0;34m)\u001b[0m\u001b[0;34m\u001b[0m\u001b[0m\n\u001b[1;32m      6\u001b[0m     \u001b[0mx\u001b[0m \u001b[0;34m=\u001b[0m \u001b[0mpm\u001b[0m\u001b[0;34m.\u001b[0m\u001b[0mDeterministic\u001b[0m\u001b[0;34m(\u001b[0m\u001b[0;34m'X'\u001b[0m\u001b[0;34m,\u001b[0m \u001b[0mX\u001b[0m\u001b[0;34m[\u001b[0m\u001b[0mind\u001b[0m\u001b[0;34m]\u001b[0m\u001b[0;34m)\u001b[0m\u001b[0;34m\u001b[0m\u001b[0m\n\u001b[0;32m----> 7\u001b[0;31m \u001b[0mprior\u001b[0m \u001b[0;34m=\u001b[0m \u001b[0mpm\u001b[0m\u001b[0;34m.\u001b[0m\u001b[0msample_generative\u001b[0m\u001b[0;34m(\u001b[0m\u001b[0;36m10\u001b[0m\u001b[0;34m,\u001b[0m \u001b[0mmodel\u001b[0m\u001b[0;34m=\u001b[0m\u001b[0mm\u001b[0m\u001b[0;34m)\u001b[0m\u001b[0;34m\u001b[0m\u001b[0m\n\u001b[0m",
      "\u001b[0;32m~/Documents/Github/pymc3/pymc3/sampling.py\u001b[0m in \u001b[0;36msample_generative\u001b[0;34m(samples, model, vars, random_seed)\u001b[0m\n\u001b[1;32m   1238\u001b[0m     \u001b[0mnames\u001b[0m \u001b[0;34m=\u001b[0m \u001b[0mget_default_varnames\u001b[0m\u001b[0;34m(\u001b[0m\u001b[0mmodel\u001b[0m\u001b[0;34m.\u001b[0m\u001b[0mnamed_vars\u001b[0m\u001b[0;34m,\u001b[0m \u001b[0minclude_transformed\u001b[0m\u001b[0;34m=\u001b[0m\u001b[0;32mFalse\u001b[0m\u001b[0;34m)\u001b[0m\u001b[0;34m\u001b[0m\u001b[0m\n\u001b[1;32m   1239\u001b[0m     \u001b[0;31m# draw_values fails with auto-transformed variables. transform them later!\u001b[0m\u001b[0;34m\u001b[0m\u001b[0;34m\u001b[0m\u001b[0m\n\u001b[0;32m-> 1240\u001b[0;31m     \u001b[0mvalues\u001b[0m \u001b[0;34m=\u001b[0m \u001b[0mdraw_values\u001b[0m\u001b[0;34m(\u001b[0m\u001b[0;34m[\u001b[0m\u001b[0mmodel\u001b[0m\u001b[0;34m[\u001b[0m\u001b[0mname\u001b[0m\u001b[0;34m]\u001b[0m \u001b[0;32mfor\u001b[0m \u001b[0mname\u001b[0m \u001b[0;32min\u001b[0m \u001b[0mnames\u001b[0m\u001b[0;34m]\u001b[0m\u001b[0;34m,\u001b[0m \u001b[0msize\u001b[0m\u001b[0;34m=\u001b[0m\u001b[0msamples\u001b[0m\u001b[0;34m)\u001b[0m\u001b[0;34m\u001b[0m\u001b[0m\n\u001b[0m\u001b[1;32m   1241\u001b[0m \u001b[0;34m\u001b[0m\u001b[0m\n\u001b[1;32m   1242\u001b[0m     \u001b[0mdata\u001b[0m \u001b[0;34m=\u001b[0m \u001b[0;34m{\u001b[0m\u001b[0mk\u001b[0m\u001b[0;34m:\u001b[0m \u001b[0mv\u001b[0m \u001b[0;32mfor\u001b[0m \u001b[0mk\u001b[0m\u001b[0;34m,\u001b[0m \u001b[0mv\u001b[0m \u001b[0;32min\u001b[0m \u001b[0mzip\u001b[0m\u001b[0;34m(\u001b[0m\u001b[0mnames\u001b[0m\u001b[0;34m,\u001b[0m \u001b[0mvalues\u001b[0m\u001b[0;34m)\u001b[0m\u001b[0;34m}\u001b[0m\u001b[0;34m\u001b[0m\u001b[0m\n",
      "\u001b[0;32m~/Documents/Github/pymc3/pymc3/distributions/distribution.py\u001b[0m in \u001b[0;36mdraw_values\u001b[0;34m(params, point, size)\u001b[0m\n\u001b[1;32m    289\u001b[0m                                                          \u001b[0mpoint\u001b[0m\u001b[0;34m=\u001b[0m\u001b[0mpoint\u001b[0m\u001b[0;34m,\u001b[0m\u001b[0;34m\u001b[0m\u001b[0m\n\u001b[1;32m    290\u001b[0m                                                          \u001b[0mgivens\u001b[0m\u001b[0;34m=\u001b[0m\u001b[0mtemp_givens\u001b[0m\u001b[0;34m,\u001b[0m\u001b[0;34m\u001b[0m\u001b[0m\n\u001b[0;32m--> 291\u001b[0;31m                                                          size=size))\n\u001b[0m\u001b[1;32m    292\u001b[0m                 \u001b[0mstored\u001b[0m\u001b[0;34m.\u001b[0m\u001b[0madd\u001b[0m\u001b[0;34m(\u001b[0m\u001b[0mnext_\u001b[0m\u001b[0;34m.\u001b[0m\u001b[0mname\u001b[0m\u001b[0;34m)\u001b[0m\u001b[0;34m\u001b[0m\u001b[0m\n\u001b[1;32m    293\u001b[0m             \u001b[0;32mexcept\u001b[0m \u001b[0mtheano\u001b[0m\u001b[0;34m.\u001b[0m\u001b[0mgof\u001b[0m\u001b[0;34m.\u001b[0m\u001b[0mfg\u001b[0m\u001b[0;34m.\u001b[0m\u001b[0mMissingInputError\u001b[0m\u001b[0;34m:\u001b[0m\u001b[0;34m\u001b[0m\u001b[0m\n",
      "\u001b[0;32m~/Documents/Github/pymc3/pymc3/distributions/distribution.py\u001b[0m in \u001b[0;36m_draw_value\u001b[0;34m(param, point, givens, size)\u001b[0m\n\u001b[1;32m    382\u001b[0m             \u001b[0;32mreturn\u001b[0m \u001b[0mpoint\u001b[0m\u001b[0;34m[\u001b[0m\u001b[0mparam\u001b[0m\u001b[0;34m.\u001b[0m\u001b[0mname\u001b[0m\u001b[0;34m]\u001b[0m\u001b[0;34m\u001b[0m\u001b[0m\n\u001b[1;32m    383\u001b[0m         \u001b[0;32melif\u001b[0m \u001b[0mhasattr\u001b[0m\u001b[0;34m(\u001b[0m\u001b[0mparam\u001b[0m\u001b[0;34m,\u001b[0m \u001b[0;34m'random'\u001b[0m\u001b[0;34m)\u001b[0m \u001b[0;32mand\u001b[0m \u001b[0mparam\u001b[0m\u001b[0;34m.\u001b[0m\u001b[0mrandom\u001b[0m \u001b[0;32mis\u001b[0m \u001b[0;32mnot\u001b[0m \u001b[0;32mNone\u001b[0m\u001b[0;34m:\u001b[0m\u001b[0;34m\u001b[0m\u001b[0m\n\u001b[0;32m--> 384\u001b[0;31m             \u001b[0;32mreturn\u001b[0m \u001b[0mparam\u001b[0m\u001b[0;34m.\u001b[0m\u001b[0mrandom\u001b[0m\u001b[0;34m(\u001b[0m\u001b[0mpoint\u001b[0m\u001b[0;34m=\u001b[0m\u001b[0mpoint\u001b[0m\u001b[0;34m,\u001b[0m \u001b[0msize\u001b[0m\u001b[0;34m=\u001b[0m\u001b[0;32mNone\u001b[0m\u001b[0;34m)\u001b[0m\u001b[0;34m\u001b[0m\u001b[0m\n\u001b[0m\u001b[1;32m    385\u001b[0m         elif (hasattr(param, 'distribution') and\n\u001b[1;32m    386\u001b[0m                 \u001b[0mhasattr\u001b[0m\u001b[0;34m(\u001b[0m\u001b[0mparam\u001b[0m\u001b[0;34m.\u001b[0m\u001b[0mdistribution\u001b[0m\u001b[0;34m,\u001b[0m \u001b[0;34m'random'\u001b[0m\u001b[0;34m)\u001b[0m \u001b[0;32mand\u001b[0m\u001b[0;34m\u001b[0m\u001b[0m\n",
      "\u001b[0;32m~/Documents/Github/pymc3/pymc3/model.py\u001b[0m in \u001b[0;36m__call__\u001b[0;34m(self, *args, **kwargs)\u001b[0m\n\u001b[1;32m     40\u001b[0m \u001b[0;34m\u001b[0m\u001b[0m\n\u001b[1;32m     41\u001b[0m     \u001b[0;32mdef\u001b[0m \u001b[0m__call__\u001b[0m\u001b[0;34m(\u001b[0m\u001b[0mself\u001b[0m\u001b[0;34m,\u001b[0m \u001b[0;34m*\u001b[0m\u001b[0margs\u001b[0m\u001b[0;34m,\u001b[0m \u001b[0;34m**\u001b[0m\u001b[0mkwargs\u001b[0m\u001b[0;34m)\u001b[0m\u001b[0;34m:\u001b[0m\u001b[0;34m\u001b[0m\u001b[0m\n\u001b[0;32m---> 42\u001b[0;31m         \u001b[0;32mreturn\u001b[0m \u001b[0mgetattr\u001b[0m\u001b[0;34m(\u001b[0m\u001b[0mself\u001b[0m\u001b[0;34m.\u001b[0m\u001b[0mobj\u001b[0m\u001b[0;34m,\u001b[0m \u001b[0mself\u001b[0m\u001b[0;34m.\u001b[0m\u001b[0mmethod_name\u001b[0m\u001b[0;34m)\u001b[0m\u001b[0;34m(\u001b[0m\u001b[0;34m*\u001b[0m\u001b[0margs\u001b[0m\u001b[0;34m,\u001b[0m \u001b[0;34m**\u001b[0m\u001b[0mkwargs\u001b[0m\u001b[0;34m)\u001b[0m\u001b[0;34m\u001b[0m\u001b[0m\n\u001b[0m\u001b[1;32m     43\u001b[0m \u001b[0;34m\u001b[0m\u001b[0m\n\u001b[1;32m     44\u001b[0m \u001b[0;34m\u001b[0m\u001b[0m\n",
      "\u001b[0;32m~/Documents/Github/pymc3/pymc3/distributions/discrete.py\u001b[0m in \u001b[0;36mrandom\u001b[0;34m(self, point, size)\u001b[0m\n\u001b[1;32m    715\u001b[0m                 \u001b[0;32mreturn\u001b[0m \u001b[0mnp\u001b[0m\u001b[0;34m.\u001b[0m\u001b[0mrandom\u001b[0m\u001b[0;34m.\u001b[0m\u001b[0mchoice\u001b[0m\u001b[0;34m(\u001b[0m\u001b[0mk\u001b[0m\u001b[0;34m,\u001b[0m \u001b[0;34m*\u001b[0m\u001b[0margs\u001b[0m\u001b[0;34m,\u001b[0m \u001b[0;34m**\u001b[0m\u001b[0mkwargs\u001b[0m\u001b[0;34m)\u001b[0m\u001b[0;34m\u001b[0m\u001b[0m\n\u001b[1;32m    716\u001b[0m \u001b[0;34m\u001b[0m\u001b[0m\n\u001b[0;32m--> 717\u001b[0;31m         \u001b[0mp\u001b[0m\u001b[0;34m,\u001b[0m \u001b[0mk\u001b[0m \u001b[0;34m=\u001b[0m \u001b[0mdraw_values\u001b[0m\u001b[0;34m(\u001b[0m\u001b[0;34m[\u001b[0m\u001b[0mself\u001b[0m\u001b[0;34m.\u001b[0m\u001b[0mp\u001b[0m\u001b[0;34m,\u001b[0m \u001b[0mself\u001b[0m\u001b[0;34m.\u001b[0m\u001b[0mk\u001b[0m\u001b[0;34m]\u001b[0m\u001b[0;34m,\u001b[0m \u001b[0mpoint\u001b[0m\u001b[0;34m=\u001b[0m\u001b[0mpoint\u001b[0m\u001b[0;34m)\u001b[0m\u001b[0;34m\u001b[0m\u001b[0m\n\u001b[0m\u001b[1;32m    718\u001b[0m         return generate_samples(partial(random_choice, np.arange(k)),\n\u001b[1;32m    719\u001b[0m                                 \u001b[0mp\u001b[0m\u001b[0;34m=\u001b[0m\u001b[0mp\u001b[0m\u001b[0;34m,\u001b[0m\u001b[0;34m\u001b[0m\u001b[0m\n",
      "\u001b[0;32m~/Documents/Github/pymc3/pymc3/distributions/distribution.py\u001b[0m in \u001b[0;36mdraw_values\u001b[0;34m(params, point, size)\u001b[0m\n\u001b[1;32m    313\u001b[0m         \u001b[0;32mfor\u001b[0m \u001b[0mparam_idx\u001b[0m \u001b[0;32min\u001b[0m \u001b[0mto_eval\u001b[0m\u001b[0;34m:\u001b[0m\u001b[0;34m\u001b[0m\u001b[0m\n\u001b[1;32m    314\u001b[0m             \u001b[0mparam\u001b[0m \u001b[0;34m=\u001b[0m \u001b[0mparams\u001b[0m\u001b[0;34m[\u001b[0m\u001b[0mparam_idx\u001b[0m\u001b[0;34m]\u001b[0m\u001b[0;34m\u001b[0m\u001b[0m\n\u001b[0;32m--> 315\u001b[0;31m             \u001b[0;32mif\u001b[0m \u001b[0mparam\u001b[0m\u001b[0;34m.\u001b[0m\u001b[0mname\u001b[0m \u001b[0;32min\u001b[0m \u001b[0mgivens\u001b[0m\u001b[0;34m:\u001b[0m\u001b[0;34m\u001b[0m\u001b[0m\n\u001b[0m\u001b[1;32m    316\u001b[0m                 \u001b[0mevaluated\u001b[0m\u001b[0;34m[\u001b[0m\u001b[0mparam_idx\u001b[0m\u001b[0;34m]\u001b[0m \u001b[0;34m=\u001b[0m \u001b[0mgivens\u001b[0m\u001b[0;34m[\u001b[0m\u001b[0mparam\u001b[0m\u001b[0;34m.\u001b[0m\u001b[0mname\u001b[0m\u001b[0;34m]\u001b[0m\u001b[0;34m[\u001b[0m\u001b[0;36m1\u001b[0m\u001b[0;34m]\u001b[0m\u001b[0;34m\u001b[0m\u001b[0m\n\u001b[1;32m    317\u001b[0m             \u001b[0;32melse\u001b[0m\u001b[0;34m:\u001b[0m\u001b[0;34m\u001b[0m\u001b[0m\n",
      "\u001b[0;31mAttributeError\u001b[0m: 'numpy.ndarray' object has no attribute 'name'"
     ]
    }
   ],
   "source": [
    "import theano\n",
    "\n",
    "X = theano.shared(np.arange(3))\n",
    "with pm.Model() as m:\n",
    "    ind = pm.Categorical('i', np.ones(3)/3)\n",
    "    x = pm.Deterministic('X', X[ind])\n",
    "prior = pm.sample_generative(10, model=m)"
   ]
  },
  {
   "cell_type": "code",
   "execution_count": 55,
   "metadata": {},
   "outputs": [
    {
     "data": {
      "text/plain": [
       "{'kappa': array(1.39834977),\n",
       " 'logkappa': array(0.33529281),\n",
       " 'logkappa_log__': array(-1.09275108),\n",
       " 'phi': array(0.33400407),\n",
       " 'phi_logodds__': array(-0.6901304),\n",
       " 'thetas': array([0.98402388, 0.97923323, 0.60276499, 0.96337239, 0.58269224,\n",
       "        0.71809118, 0.99873197, 0.99858847, 0.61532194, 0.98046268,\n",
       "        0.60136073, 0.65791052, 0.99447163, 0.99811753, 0.0337185 ,\n",
       "        0.99443494, 0.25343046, 0.98738162]),\n",
       " 'thetas_logodds__': array([ 4.12055531,  3.85341591,  0.41699931,  3.26963759,  0.33383517,\n",
       "         0.93501286,  6.6690237 ,  6.56166976,  0.46973882,  3.91569818,\n",
       "         0.41113803,  0.65399658,  5.19231916,  6.27328795, -3.35540848,\n",
       "         5.18566667, -1.08039933,  4.35990177]),\n",
       " 'y': array([[42, 43, 28, 45, 41, 44, 39, 36,  8, 44, 41, 45, 42, 45, 42, 45,\n",
       "         44, 30],\n",
       "        [41, 40, 24, 45, 44, 44, 42, 40,  7, 45, 34, 45, 45, 45, 45, 45,\n",
       "         45, 37],\n",
       "        [38, 43, 23, 45, 44, 43, 42, 38,  7, 45, 37, 45, 45, 45, 43, 44,\n",
       "         45, 37],\n",
       "        [39, 44, 28, 45, 41, 44, 44, 40,  8, 44, 38, 45, 45, 45, 41, 45,\n",
       "         44, 32],\n",
       "        [42, 44, 33, 45, 42, 42, 41, 35, 10, 45, 41, 45, 44, 45, 42, 45,\n",
       "         44, 35],\n",
       "        [39, 45, 20, 45, 44, 43, 38, 40,  6, 45, 41, 45, 44, 45, 45, 45,\n",
       "         44, 33],\n",
       "        [42, 43, 30, 45, 45, 45, 41, 37,  4, 45, 37, 44, 44, 45, 44, 45,\n",
       "         45, 31],\n",
       "        [42, 43, 26, 45, 41, 45, 43, 37,  8, 45, 43, 45, 44, 45, 45, 44,\n",
       "         45, 34],\n",
       "        [42, 44, 27, 45, 43, 43, 42, 42, 12, 45, 38, 45, 44, 44, 43, 45,\n",
       "         44, 39],\n",
       "        [42, 45, 21, 45, 41, 44, 39, 37,  3, 45, 41, 45, 43, 45, 39, 45,\n",
       "         45, 35]])}"
      ]
     },
     "execution_count": 55,
     "metadata": {},
     "output_type": "execute_result"
    }
   ],
   "source": [
    "prior"
   ]
  },
  {
   "cell_type": "code",
   "execution_count": 26,
   "metadata": {
    "scrolled": true
   },
   "outputs": [
    {
     "name": "stdout",
     "output_type": "stream",
     "text": [
      "CPU times: user 2.44 s, sys: 338 ms, total: 2.78 s\n",
      "Wall time: 5.09 s\n"
     ]
    }
   ],
   "source": [
    "%%time\n",
    "psample1 = pm.sample_generative(10000, model=model)"
   ]
  },
  {
   "cell_type": "code",
   "execution_count": 27,
   "metadata": {},
   "outputs": [
    {
     "data": {
      "image/png": "[encoded data removed]",
      "text/plain": [
       "<matplotlib.figure.Figure at 0x128575940>"
      ]
     },
     "metadata": {},
     "output_type": "display_data"
    }
   ],
   "source": [
    "plt.style.use('seaborn-darkgrid')\n",
    "x = np.linspace(0, 1, 200)\n",
    "a = 1.\n",
    "b = 1.\n",
    "pdf = stats.beta.pdf(x, a, b)\n",
    "plt.plot(x, pdf, label=r'$\\alpha$ = {}, $\\beta$ = {}'.format(a, b))\n",
    "plt.hist(psample1['phi'], 500, normed=True);\n",
    "plt.xlabel('x', fontsize=12)\n",
    "plt.ylabel('f(x)', fontsize=12)\n",
    "plt.ylim(0, 4.5)\n",
    "plt.legend(loc=9)\n",
    "plt.show()"
   ]
  },
  {
   "cell_type": "code",
   "execution_count": 28,
   "metadata": {},
   "outputs": [
    {
     "data": {
      "text/plain": [
       "(0.7805232658529404, 0.7805232658529404)"
      ]
     },
     "execution_count": 28,
     "metadata": {},
     "output_type": "execute_result"
    }
   ],
   "source": [
    "np.min(psample1['phi']), np.max(psample1['phi'])"
   ]
  },
  {
   "cell_type": "code",
   "execution_count": 29,
   "metadata": {},
   "outputs": [
    {
     "data": {
      "image/png": "[encoded data removed]",
      "text/plain": [
       "<matplotlib.figure.Figure at 0x127236dd8>"
      ]
     },
     "metadata": {},
     "output_type": "display_data"
    }
   ],
   "source": [
    "plt.style.use('seaborn-darkgrid')\n",
    "x = np.linspace(0, 3, 100)\n",
    "lam = 5.\n",
    "pdf = stats.expon.pdf(x, scale=1.0/lam)\n",
    "plt.plot(x, pdf, label=r'$\\lambda$ = {}'.format(lam))\n",
    "plt.hist(psample1['logkappa'], 500, normed=True);\n",
    "plt.xlabel('x', fontsize=12)\n",
    "plt.ylabel('f(x)', fontsize=12)\n",
    "plt.ylim(0, 4.5)\n",
    "plt.legend(loc=9)\n",
    "plt.show()"
   ]
  },
  {
   "cell_type": "code",
   "execution_count": 30,
   "metadata": {},
   "outputs": [
    {
     "data": {
      "image/png": "[encoded data removed]",
      "text/plain": [
       "<matplotlib.figure.Figure at 0x1297557f0>"
      ]
     },
     "metadata": {},
     "output_type": "display_data"
    }
   ],
   "source": [
    "plt.hist(psample1['y']);"
   ]
  },
  {
   "cell_type": "code",
   "execution_count": 31,
   "metadata": {},
   "outputs": [
    {
     "data": {
      "image/png": "[encoded data removed]",
      "text/plain": [
       "<matplotlib.figure.Figure at 0x12926bc18>"
      ]
     },
     "metadata": {},
     "output_type": "display_data"
    }
   ],
   "source": [
    "plt.hist(psample1['thetas']);"
   ]
  },
  {
   "cell_type": "code",
   "execution_count": 32,
   "metadata": {},
   "outputs": [
    {
     "data": {
      "text/plain": [
       "array([9.5118185, 9.5118185, 9.5118185, 9.5118185, 9.5118185, 9.5118185,\n",
       "       9.5118185, 9.5118185, 9.5118185, 9.5118185, 9.5118185, 9.5118185,\n",
       "       9.5118185, 9.5118185, 9.5118185, 9.5118185, 9.5118185, 9.5118185])"
      ]
     },
     "execution_count": 32,
     "metadata": {},
     "output_type": "execute_result"
    }
   ],
   "source": [
    "psample1['thetas'].mean(axis=0) * at_bats"
   ]
  },
  {
   "cell_type": "code",
   "execution_count": 33,
   "metadata": {},
   "outputs": [
    {
     "data": {
      "text/plain": [
       "array([ 1.3857, 43.1077, 28.326 , 17.7414,  5.832 , 24.7464, 12.5241,\n",
       "       43.2505, 38.517 ,  1.8574, 21.9432, 39.4978,  9.3836, 16.8215,\n",
       "       13.988 , 44.9824, 31.3074, 44.1664])"
      ]
     },
     "execution_count": 33,
     "metadata": {},
     "output_type": "execute_result"
    }
   ],
   "source": [
    "psample1['y'].mean(axis=0)"
   ]
  },
  {
   "cell_type": "code",
   "execution_count": 34,
   "metadata": {},
   "outputs": [],
   "source": [
    "vars = set(model.named_vars.keys())"
   ]
  },
  {
   "cell_type": "code",
   "execution_count": null,
   "metadata": {},
   "outputs": [],
   "source": [
    "names = pm.util.get_default_varnames(model.named_vars, include_transformed=False)\n",
    "# draw_values fails with auto-transformed variables. transform them later!"
   ]
  },
  {
   "cell_type": "code",
   "execution_count": 42,
   "metadata": {},
   "outputs": [
    {
     "name": "stdout",
     "output_type": "stream",
     "text": [
      "['kappa', 'y', 'logkappa', 'phi', 'thetas']\n"
     ]
    }
   ],
   "source": [
    "print([name for name in names])"
   ]
  },
  {
   "cell_type": "code",
   "execution_count": 40,
   "metadata": {},
   "outputs": [],
   "source": [
    "values = draw_values([model[name] for name in names], size=1000)"
   ]
  },
  {
   "cell_type": "code",
   "execution_count": 45,
   "metadata": {},
   "outputs": [
    {
     "data": {
      "text/plain": [
       "[array(0.99917464)]"
      ]
     },
     "execution_count": 45,
     "metadata": {},
     "output_type": "execute_result"
    }
   ],
   "source": [
    "draw_values([model['phi']], size=1000)"
   ]
  },
  {
   "cell_type": "markdown",
   "metadata": {},
   "source": [
    "### sample from prior with sampler"
   ]
  },
  {
   "cell_type": "code",
   "execution_count": 13,
   "metadata": {},
   "outputs": [],
   "source": [
    "with pm.Model() as model_:\n",
    "    phi = pm.Beta('phi', alpha=1., beta=1.)\n",
    "\n",
    "    kappa_log = pm.Exponential('logkappa', lam=5.)\n",
    "    kappa = pm.Deterministic('kappa', tt.exp(kappa_log))\n",
    "\n",
    "    thetas = pm.Beta('thetas', alpha=phi*kappa, beta=(1.0-phi)*kappa, shape=N)\n",
    "\n",
    "    y = pm.Binomial('y', n=at_bats, p=thetas, shape=N)"
   ]
  },
  {
   "cell_type": "code",
   "execution_count": 27,
   "metadata": {},
   "outputs": [
    {
     "name": "stderr",
     "output_type": "stream",
     "text": [
      "Sequential sampling (1 chains in 1 job)\n",
      "CompoundStep\n",
      ">Metropolis: [y]\n",
      ">Metropolis: [thetas_logodds__]\n",
      ">Metropolis: [logkappa_log__]\n",
      ">Metropolis: [phi_logodds__]\n",
      "100%|██████████| 15000/15000 [00:14<00:00, 1006.66it/s]\n",
      "Only one chain was sampled, this makes it impossible to run some convergence checks\n"
     ]
    },
    {
     "name": "stdout",
     "output_type": "stream",
     "text": [
      "CPU times: user 17.5 s, sys: 402 ms, total: 17.9 s\n",
      "Wall time: 17.8 s\n"
     ]
    }
   ],
   "source": [
    "%%time\n",
    "with model_:\n",
    "    psample2 = pm.sample(10000, tune=5000, chains=1, step=pm.Metropolis())"
   ]
  },
  {
   "cell_type": "code",
   "execution_count": 28,
   "metadata": {},
   "outputs": [
    {
     "data": {
      "image/png": "[encoded data removed]",
      "text/plain": [
       "<matplotlib.figure.Figure at 0x124f27358>"
      ]
     },
     "metadata": {},
     "output_type": "display_data"
    }
   ],
   "source": [
    "plt.hist(psample2['y']);"
   ]
  },
  {
   "cell_type": "code",
   "execution_count": 29,
   "metadata": {},
   "outputs": [
    {
     "data": {
      "image/png": "[encoded data removed]",
      "text/plain": [
       "<matplotlib.figure.Figure at 0x127aadc18>"
      ]
     },
     "metadata": {},
     "output_type": "display_data"
    }
   ],
   "source": [
    "plt.hist(psample2['thetas']);"
   ]
  },
  {
   "cell_type": "code",
   "execution_count": 11,
   "metadata": {},
   "outputs": [
    {
     "data": {
      "text/plain": [
       "array([29.17537646, 29.19002776, 29.15011068, 29.14314161, 29.14502391,\n",
       "       29.16139058, 29.1881896 , 29.17654139, 29.19103725, 29.18007975,\n",
       "       29.16310776, 29.13774703, 29.19948359, 29.15999634, 29.18637443,\n",
       "       29.19694937, 29.16231964, 29.17803222])"
      ]
     },
     "execution_count": 11,
     "metadata": {},
     "output_type": "execute_result"
    }
   ],
   "source": [
    "psample1['thetas'].mean(axis=0) * at_bats"
   ]
  },
  {
   "cell_type": "code",
   "execution_count": 12,
   "metadata": {},
   "outputs": [
    {
     "data": {
      "text/plain": [
       "array([27.9016, 27.851 , 27.989 , 27.8241, 27.801 , 28.0052, 27.8268,\n",
       "       28.0808, 27.9234, 27.8336, 28.078 , 27.8091, 27.8389, 28.0057,\n",
       "       27.9665, 27.8917, 27.9447, 27.8897])"
      ]
     },
     "execution_count": 12,
     "metadata": {},
     "output_type": "execute_result"
    }
   ],
   "source": [
    "psample1['y'].mean(axis=0)"
   ]
  },
  {
   "cell_type": "markdown",
   "metadata": {},
   "source": [
    "##  Wrap in function "
   ]
  },
  {
   "cell_type": "code",
   "execution_count": 35,
   "metadata": {},
   "outputs": [],
   "source": [
    "from pymc3.step_methods.arraystep import BlockedStep\n",
    "from pymc3.blocking import ArrayOrdering, DictToArrayBijection\n",
    "\n",
    "class PriorStep(BlockedStep):\n",
    "    \"\"\"\n",
    "    Blocked step method that is generalized to accept vectors of variables.\n",
    "\n",
    "    Parameters\n",
    "    ----------\n",
    "    vars : list\n",
    "        List of variables for sampler.\n",
    "    model : PyMC Model\n",
    "        Optional model for sampling step. Defaults to None (taken from context).\n",
    "    allvars: Boolean (default True)\n",
    "    blocked: Boolean (default True)\n",
    "    \"\"\"\n",
    "\n",
    "    def __init__(self, vars=None, model=None, allvars=True, blocked=True):\n",
    "        model = pm.modelcontext(model)\n",
    "\n",
    "        if vars is None:\n",
    "            vars = model.basic_RVs\n",
    "\n",
    "        self.vars = vars\n",
    "        self.model = model\n",
    "        self.allvars = allvars\n",
    "        self.blocked = blocked\n",
    "\n",
    "    def step(self, point):\n",
    "        model = self.model\n",
    "        point = {}\n",
    "        for var in self.vars:\n",
    "            var_name = var.name\n",
    "            if hasattr(var, 'distribution'):\n",
    "                if is_transformed_name(var_name):\n",
    "                    val = var.distribution.dist.random(\n",
    "                        point=point, size=None)\n",
    "                else:\n",
    "                    val = var.distribution.random(point=point, size=None)\n",
    "            else:\n",
    "                nn, _, _ = get_named_nodes_and_relations(var)\n",
    "                val = var.eval({model.named_vars[v]: point[v]\n",
    "                                for v in nn})\n",
    "\n",
    "            point[var_name] = val\n",
    "\n",
    "        for var_name, var in model.named_vars.items():\n",
    "            if not var_name in point:\n",
    "\n",
    "                nn, _, _ = get_named_nodes_and_relations(var)\n",
    "                val = var.eval({model.named_vars[v]: point[v]\n",
    "                                for v in nn})\n",
    "            point[var_name] = val\n",
    "        return point"
   ]
  },
  {
   "cell_type": "code",
   "execution_count": 37,
   "metadata": {},
   "outputs": [],
   "source": [
    "with model:\n",
    "    step = PriorStep()"
   ]
  },
  {
   "cell_type": "code",
   "execution_count": 38,
   "metadata": {},
   "outputs": [
    {
     "ename": "TypeError",
     "evalue": "Bad input argument to theano function with name \"<ipython-input-17-a594ea16b4a0>:72\" at index 0 (0-based). Wrong number of dimensions: expected 1, got 0 with shape ().",
     "output_type": "error",
     "traceback": [
      "\u001b[0;31m---------------------------------------------------------------------------\u001b[0m",
      "\u001b[0;31mTypeError\u001b[0m                                 Traceback (most recent call last)",
      "\u001b[0;32m<ipython-input-38-e53d3f727194>\u001b[0m in \u001b[0;36m<module>\u001b[0;34m()\u001b[0m\n\u001b[0;32m----> 1\u001b[0;31m \u001b[0mstep\u001b[0m\u001b[0;34m.\u001b[0m\u001b[0mstep\u001b[0m\u001b[0;34m(\u001b[0m\u001b[0mmodel\u001b[0m\u001b[0;34m.\u001b[0m\u001b[0mtest_point\u001b[0m\u001b[0;34m)\u001b[0m\u001b[0;34m\u001b[0m\u001b[0m\n\u001b[0m",
      "\u001b[0;32m<ipython-input-35-dcc9b406293a>\u001b[0m in \u001b[0;36mstep\u001b[0;34m(self, point)\u001b[0m\n\u001b[1;32m     50\u001b[0m                 \u001b[0mnn\u001b[0m\u001b[0;34m,\u001b[0m \u001b[0m_\u001b[0m\u001b[0;34m,\u001b[0m \u001b[0m_\u001b[0m \u001b[0;34m=\u001b[0m \u001b[0mget_named_nodes_and_relations\u001b[0m\u001b[0;34m(\u001b[0m\u001b[0mvar\u001b[0m\u001b[0;34m)\u001b[0m\u001b[0;34m\u001b[0m\u001b[0m\n\u001b[1;32m     51\u001b[0m                 val = var.eval({model.named_vars[v]: point[v]\n\u001b[0;32m---> 52\u001b[0;31m                                 for v in nn})\n\u001b[0m\u001b[1;32m     53\u001b[0m             \u001b[0mpoint\u001b[0m\u001b[0;34m[\u001b[0m\u001b[0mvar_name\u001b[0m\u001b[0;34m]\u001b[0m \u001b[0;34m=\u001b[0m \u001b[0mval\u001b[0m\u001b[0;34m\u001b[0m\u001b[0m\n\u001b[1;32m     54\u001b[0m         \u001b[0;32mreturn\u001b[0m \u001b[0mpoint\u001b[0m\u001b[0;34m\u001b[0m\u001b[0m\n",
      "\u001b[0;32m/Library/Frameworks/Python.framework/Versions/3.5/lib/python3.5/site-packages/theano/gof/graph.py\u001b[0m in \u001b[0;36meval\u001b[0;34m(self, inputs_to_values)\u001b[0m\n\u001b[1;32m    523\u001b[0m         \u001b[0margs\u001b[0m \u001b[0;34m=\u001b[0m \u001b[0;34m[\u001b[0m\u001b[0minputs_to_values\u001b[0m\u001b[0;34m[\u001b[0m\u001b[0mparam\u001b[0m\u001b[0;34m]\u001b[0m \u001b[0;32mfor\u001b[0m \u001b[0mparam\u001b[0m \u001b[0;32min\u001b[0m \u001b[0minputs\u001b[0m\u001b[0;34m]\u001b[0m\u001b[0;34m\u001b[0m\u001b[0m\n\u001b[1;32m    524\u001b[0m \u001b[0;34m\u001b[0m\u001b[0m\n\u001b[0;32m--> 525\u001b[0;31m         \u001b[0mrval\u001b[0m \u001b[0;34m=\u001b[0m \u001b[0mself\u001b[0m\u001b[0;34m.\u001b[0m\u001b[0m_fn_cache\u001b[0m\u001b[0;34m[\u001b[0m\u001b[0minputs\u001b[0m\u001b[0;34m]\u001b[0m\u001b[0;34m(\u001b[0m\u001b[0;34m*\u001b[0m\u001b[0margs\u001b[0m\u001b[0;34m)\u001b[0m\u001b[0;34m\u001b[0m\u001b[0m\n\u001b[0m\u001b[1;32m    526\u001b[0m \u001b[0;34m\u001b[0m\u001b[0m\n\u001b[1;32m    527\u001b[0m         \u001b[0;32mreturn\u001b[0m \u001b[0mrval\u001b[0m\u001b[0;34m\u001b[0m\u001b[0m\n",
      "\u001b[0;32m/Library/Frameworks/Python.framework/Versions/3.5/lib/python3.5/site-packages/theano/compile/function_module.py\u001b[0m in \u001b[0;36m__call__\u001b[0;34m(self, *args, **kwargs)\u001b[0m\n\u001b[1;32m    811\u001b[0m                         s.storage[0] = s.type.filter(\n\u001b[1;32m    812\u001b[0m                             \u001b[0marg\u001b[0m\u001b[0;34m,\u001b[0m \u001b[0mstrict\u001b[0m\u001b[0;34m=\u001b[0m\u001b[0ms\u001b[0m\u001b[0;34m.\u001b[0m\u001b[0mstrict\u001b[0m\u001b[0;34m,\u001b[0m\u001b[0;34m\u001b[0m\u001b[0m\n\u001b[0;32m--> 813\u001b[0;31m                             allow_downcast=s.allow_downcast)\n\u001b[0m\u001b[1;32m    814\u001b[0m \u001b[0;34m\u001b[0m\u001b[0m\n\u001b[1;32m    815\u001b[0m                     \u001b[0;32mexcept\u001b[0m \u001b[0mException\u001b[0m \u001b[0;32mas\u001b[0m \u001b[0me\u001b[0m\u001b[0;34m:\u001b[0m\u001b[0;34m\u001b[0m\u001b[0m\n",
      "\u001b[0;32m/Library/Frameworks/Python.framework/Versions/3.5/lib/python3.5/site-packages/theano/tensor/type.py\u001b[0m in \u001b[0;36mfilter\u001b[0;34m(self, data, strict, allow_downcast)\u001b[0m\n\u001b[1;32m    176\u001b[0m             raise TypeError(\"Wrong number of dimensions: expected %s,\"\n\u001b[1;32m    177\u001b[0m                             \" got %s with shape %s.\" % (self.ndim, data.ndim,\n\u001b[0;32m--> 178\u001b[0;31m                                                         data.shape))\n\u001b[0m\u001b[1;32m    179\u001b[0m         \u001b[0;32mif\u001b[0m \u001b[0;32mnot\u001b[0m \u001b[0mdata\u001b[0m\u001b[0;34m.\u001b[0m\u001b[0mflags\u001b[0m\u001b[0;34m.\u001b[0m\u001b[0maligned\u001b[0m\u001b[0;34m:\u001b[0m\u001b[0;34m\u001b[0m\u001b[0m\n\u001b[1;32m    180\u001b[0m             \u001b[0;32mtry\u001b[0m\u001b[0;34m:\u001b[0m\u001b[0;34m\u001b[0m\u001b[0m\n",
      "\u001b[0;31mTypeError\u001b[0m: Bad input argument to theano function with name \"<ipython-input-17-a594ea16b4a0>:72\" at index 0 (0-based). Wrong number of dimensions: expected 1, got 0 with shape ()."
     ]
    }
   ],
   "source": [
    "step.step(model.test_point)"
   ]
  },
  {
   "cell_type": "code",
   "execution_count": null,
   "metadata": {},
   "outputs": [],
   "source": [
    "names = pm.util.get_default_varnames(model.named_vars, include_transformed=False)\n",
    "names"
   ]
  }
 ],
 "metadata": {
  "kernelspec": {
   "display_name": "Python 3",
   "language": "python",
   "name": "python3"
  },
  "language_info": {
   "codemirror_mode": {
    "name": "ipython",
    "version": 3
   },
   "file_extension": ".py",
   "mimetype": "text/x-python",
   "name": "python",
   "nbconvert_exporter": "python",
   "pygments_lexer": "ipython3",
   "version": "3.5.1"
  }
 },
 "nbformat": 4,
 "nbformat_minor": 2
}
