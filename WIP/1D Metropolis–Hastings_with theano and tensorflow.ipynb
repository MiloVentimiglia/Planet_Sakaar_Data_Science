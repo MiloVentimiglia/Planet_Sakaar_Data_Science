{
 "cells": [
  {
   "cell_type": "markdown",
   "metadata": {
    "colab_type": "text",
    "id": "apY_J6IdBwhn"
   },
   "source": [
    "# 1D Metropolis–Hastings with theano and tensorflow\n",
    "A small benchmark on speed etc, also an idea to use control flow to get full MH trace."
   ]
  },
  {
   "cell_type": "code",
   "execution_count": 1,
   "metadata": {
    "colab": {
     "autoexec": {
      "startup": false,
      "wait_interval": 0
     },
     "base_uri": "https://localhost:8080/",
     "height": 54,
     "output_extras": [
      {
       "item_id": 1
      },
      {
       "item_id": 2
      }
     ]
    },
    "colab_type": "code",
    "executionInfo": {
     "elapsed": 1135,
     "status": "ok",
     "timestamp": 1520330746290,
     "user": {
      "displayName": "Charles Lao",
      "photoUrl": "//lh6.googleusercontent.com/-tlKDbTjNSYQ/AAAAAAAAAAI/AAAAAAAAA-0/skVQo0Ji1Pw/s50-c-k-no/photo.jpg",
      "userId": "105576906394621715471"
     },
     "user_tz": -60
    },
    "id": "I9UDOiP7q292",
    "outputId": "f5844909-b55f-4ad1-8358-f36a6d5528ed"
   },
   "outputs": [
    {
     "name": "stdout",
     "output_type": "stream",
     "text": [
      "Populating the interactive namespace from numpy and matplotlib\n"
     ]
    },
    {
     "name": "stderr",
     "output_type": "stream",
     "text": [
      "/Library/Frameworks/Python.framework/Versions/3.5/lib/python3.5/site-packages/h5py/__init__.py:36: FutureWarning: Conversion of the second argument of issubdtype from `float` to `np.floating` is deprecated. In future, it will be treated as `np.float64 == np.dtype(float).type`.\n",
      "  from ._conv import register_converters as _register_converters\n"
     ]
    },
    {
     "data": {
      "text/plain": [
       "'3.4.1'"
      ]
     },
     "execution_count": 1,
     "metadata": {},
     "output_type": "execute_result"
    }
   ],
   "source": [
    "%pylab inline\n",
    "import numpy as np\n",
    "import pymc3 as pm\n",
    "\n",
    "import theano.tensor as tt\n",
    "import theano\n",
    "\n",
    "pm.__version__"
   ]
  },
  {
   "cell_type": "markdown",
   "metadata": {
    "colab_type": "text",
    "id": "2Bk1kUDlrOeO"
   },
   "source": [
    "Record in the PyMC3 doc: [How PyMC3 uses Theano](http://docs.pymc.io/theano.html#how-pymc3-uses-theano), the most important side effect of a model construction is the model log-likelihood function and its gradient: it is the non-normalized posterior distribution, proportional to likelihood times prior."
   ]
  },
  {
   "cell_type": "code",
   "execution_count": 2,
   "metadata": {
    "colab": {
     "autoexec": {
      "startup": false,
      "wait_interval": 0
     }
    },
    "colab_type": "code",
    "id": "Ai_lRB4Rsl-0"
   },
   "outputs": [],
   "source": [
    "data = 10.\n",
    "# prior for mu and sd\n",
    "prior = [0., 100.]"
   ]
  },
  {
   "cell_type": "code",
   "execution_count": 3,
   "metadata": {
    "colab": {
     "autoexec": {
      "startup": false,
      "wait_interval": 0
     }
    },
    "colab_type": "code",
    "id": "NzWEJZx_qg-O"
   },
   "outputs": [],
   "source": [
    "theano.config.compute_test_value='off'\n",
    "mu_th = tt.scalar('mu')\n",
    "logp_th = pm.Normal.dist(mu=prior[0], sd=prior[1]).logp(mu_th)\n",
    "logp_th += pm.Normal.dist(mu_th, 1.).logp(data)"
   ]
  },
  {
   "cell_type": "code",
   "execution_count": 4,
   "metadata": {
    "colab": {
     "autoexec": {
      "startup": false,
      "wait_interval": 0
     },
     "base_uri": "https://localhost:8080/",
     "height": 35,
     "output_extras": [
      {
       "item_id": 1
      }
     ]
    },
    "colab_type": "code",
    "executionInfo": {
     "elapsed": 404,
     "status": "ok",
     "timestamp": 1520330748014,
     "user": {
      "displayName": "Charles Lao",
      "photoUrl": "//lh6.googleusercontent.com/-tlKDbTjNSYQ/AAAAAAAAAAI/AAAAAAAAA-0/skVQo0Ji1Pw/s50-c-k-no/photo.jpg",
      "userId": "105576906394621715471"
     },
     "user_tz": -60
    },
    "id": "L6PUJQDzso4a",
    "outputId": "5acad640-81d8-4796-9076-479807dfa657"
   },
   "outputs": [
    {
     "data": {
      "text/plain": [
       "array(-56.44304725)"
      ]
     },
     "execution_count": 4,
     "metadata": {},
     "output_type": "execute_result"
    }
   ],
   "source": [
    "logp_th.eval({mu_th: 0.})"
   ]
  },
  {
   "cell_type": "markdown",
   "metadata": {
    "colab_type": "text",
    "id": "BHBB0dW2C9u7"
   },
   "source": [
    "Similarly, we can set up the logp in tensorflow as below:"
   ]
  },
  {
   "cell_type": "code",
   "execution_count": 5,
   "metadata": {
    "colab": {
     "autoexec": {
      "startup": false,
      "wait_interval": 0
     },
     "base_uri": "https://localhost:8080/",
     "height": 35,
     "output_extras": [
      {
       "item_id": 1
      }
     ]
    },
    "colab_type": "code",
    "executionInfo": {
     "elapsed": 1844,
     "status": "ok",
     "timestamp": 1520330750027,
     "user": {
      "displayName": "Charles Lao",
      "photoUrl": "//lh6.googleusercontent.com/-tlKDbTjNSYQ/AAAAAAAAAAI/AAAAAAAAA-0/skVQo0Ji1Pw/s50-c-k-no/photo.jpg",
      "userId": "105576906394621715471"
     },
     "user_tz": -60
    },
    "id": "7ScMd0lujTRT",
    "outputId": "bbd7fa29-cf25-4339-a8af-7d8301375af4"
   },
   "outputs": [
    {
     "name": "stderr",
     "output_type": "stream",
     "text": [
      "/Library/Frameworks/Python.framework/Versions/3.5/lib/python3.5/site-packages/tensorflow/python/util/tf_inspect.py:55: DeprecationWarning: inspect.getargspec() is deprecated, use inspect.signature() instead\n",
      "  if d.decorator_argspec is not None), _inspect.getargspec(target))\n",
      "/Library/Frameworks/Python.framework/Versions/3.5/lib/python3.5/site-packages/tensorflow/python/util/tf_inspect.py:55: DeprecationWarning: inspect.getargspec() is deprecated, use inspect.signature() instead\n",
      "  if d.decorator_argspec is not None), _inspect.getargspec(target))\n",
      "/Library/Frameworks/Python.framework/Versions/3.5/lib/python3.5/importlib/_bootstrap.py:222: RuntimeWarning: numpy.dtype size changed, may indicate binary incompatibility. Expected 96, got 88\n",
      "  return f(*args, **kwds)\n",
      "/Library/Frameworks/Python.framework/Versions/3.5/lib/python3.5/importlib/_bootstrap.py:222: RuntimeWarning: numpy.dtype size changed, may indicate binary incompatibility. Expected 96, got 88\n",
      "  return f(*args, **kwds)\n",
      "/Library/Frameworks/Python.framework/Versions/3.5/lib/python3.5/importlib/_bootstrap.py:222: RuntimeWarning: numpy.dtype size changed, may indicate binary incompatibility. Expected 96, got 88\n",
      "  return f(*args, **kwds)\n",
      "/Library/Frameworks/Python.framework/Versions/3.5/lib/python3.5/importlib/_bootstrap.py:222: RuntimeWarning: numpy.dtype size changed, may indicate binary incompatibility. Expected 96, got 88\n",
      "  return f(*args, **kwds)\n",
      "/Library/Frameworks/Python.framework/Versions/3.5/lib/python3.5/importlib/_bootstrap.py:222: RuntimeWarning: numpy.dtype size changed, may indicate binary incompatibility. Expected 96, got 88\n",
      "  return f(*args, **kwds)\n",
      "/Library/Frameworks/Python.framework/Versions/3.5/lib/python3.5/site-packages/tensorflow/python/util/tf_inspect.py:55: DeprecationWarning: inspect.getargspec() is deprecated, use inspect.signature() instead\n",
      "  if d.decorator_argspec is not None), _inspect.getargspec(target))\n",
      "/Library/Frameworks/Python.framework/Versions/3.5/lib/python3.5/site-packages/toolz/curried/__init__.py:35: DeprecationWarning: inspect.getargspec() is deprecated, use inspect.signature() instead\n",
      "  return len(inspect.getargspec(f).args)\n",
      "/Library/Frameworks/Python.framework/Versions/3.5/lib/python3.5/site-packages/toolz/curried/__init__.py:35: DeprecationWarning: inspect.getargspec() is deprecated, use inspect.signature() instead\n",
      "  return len(inspect.getargspec(f).args)\n",
      "/Library/Frameworks/Python.framework/Versions/3.5/lib/python3.5/site-packages/toolz/curried/__init__.py:35: DeprecationWarning: inspect.getargspec() is deprecated, use inspect.signature() instead\n",
      "  return len(inspect.getargspec(f).args)\n",
      "/Library/Frameworks/Python.framework/Versions/3.5/lib/python3.5/site-packages/toolz/curried/__init__.py:35: DeprecationWarning: inspect.getargspec() is deprecated, use inspect.signature() instead\n",
      "  return len(inspect.getargspec(f).args)\n",
      "/Library/Frameworks/Python.framework/Versions/3.5/lib/python3.5/site-packages/toolz/curried/__init__.py:35: DeprecationWarning: inspect.getargspec() is deprecated, use inspect.signature() instead\n",
      "  return len(inspect.getargspec(f).args)\n",
      "/Library/Frameworks/Python.framework/Versions/3.5/lib/python3.5/site-packages/toolz/curried/__init__.py:35: DeprecationWarning: inspect.getargspec() is deprecated, use inspect.signature() instead\n",
      "  return len(inspect.getargspec(f).args)\n",
      "/Library/Frameworks/Python.framework/Versions/3.5/lib/python3.5/site-packages/toolz/curried/__init__.py:35: DeprecationWarning: inspect.getargspec() is deprecated, use inspect.signature() instead\n",
      "  return len(inspect.getargspec(f).args)\n",
      "/Library/Frameworks/Python.framework/Versions/3.5/lib/python3.5/site-packages/toolz/curried/__init__.py:35: DeprecationWarning: inspect.getargspec() is deprecated, use inspect.signature() instead\n",
      "  return len(inspect.getargspec(f).args)\n",
      "/Library/Frameworks/Python.framework/Versions/3.5/lib/python3.5/site-packages/toolz/curried/__init__.py:35: DeprecationWarning: inspect.getargspec() is deprecated, use inspect.signature() instead\n",
      "  return len(inspect.getargspec(f).args)\n",
      "/Library/Frameworks/Python.framework/Versions/3.5/lib/python3.5/site-packages/toolz/curried/__init__.py:35: DeprecationWarning: inspect.getargspec() is deprecated, use inspect.signature() instead\n",
      "  return len(inspect.getargspec(f).args)\n",
      "/Library/Frameworks/Python.framework/Versions/3.5/lib/python3.5/site-packages/toolz/curried/__init__.py:35: DeprecationWarning: inspect.getargspec() is deprecated, use inspect.signature() instead\n",
      "  return len(inspect.getargspec(f).args)\n",
      "/Library/Frameworks/Python.framework/Versions/3.5/lib/python3.5/site-packages/toolz/curried/__init__.py:35: DeprecationWarning: inspect.getargspec() is deprecated, use inspect.signature() instead\n",
      "  return len(inspect.getargspec(f).args)\n",
      "/Library/Frameworks/Python.framework/Versions/3.5/lib/python3.5/site-packages/toolz/curried/__init__.py:35: DeprecationWarning: inspect.getargspec() is deprecated, use inspect.signature() instead\n",
      "  return len(inspect.getargspec(f).args)\n",
      "/Library/Frameworks/Python.framework/Versions/3.5/lib/python3.5/site-packages/toolz/curried/__init__.py:35: DeprecationWarning: inspect.getargspec() is deprecated, use inspect.signature() instead\n",
      "  return len(inspect.getargspec(f).args)\n",
      "/Library/Frameworks/Python.framework/Versions/3.5/lib/python3.5/site-packages/toolz/curried/__init__.py:35: DeprecationWarning: inspect.getargspec() is deprecated, use inspect.signature() instead\n",
      "  return len(inspect.getargspec(f).args)\n",
      "/Library/Frameworks/Python.framework/Versions/3.5/lib/python3.5/site-packages/toolz/curried/__init__.py:35: DeprecationWarning: inspect.getargspec() is deprecated, use inspect.signature() instead\n",
      "  return len(inspect.getargspec(f).args)\n",
      "/Library/Frameworks/Python.framework/Versions/3.5/lib/python3.5/site-packages/toolz/curried/__init__.py:35: DeprecationWarning: inspect.getargspec() is deprecated, use inspect.signature() instead\n",
      "  return len(inspect.getargspec(f).args)\n",
      "/Library/Frameworks/Python.framework/Versions/3.5/lib/python3.5/site-packages/toolz/curried/__init__.py:35: DeprecationWarning: inspect.getargspec() is deprecated, use inspect.signature() instead\n",
      "  return len(inspect.getargspec(f).args)\n",
      "/Library/Frameworks/Python.framework/Versions/3.5/lib/python3.5/site-packages/toolz/curried/__init__.py:35: DeprecationWarning: inspect.getargspec() is deprecated, use inspect.signature() instead\n",
      "  return len(inspect.getargspec(f).args)\n",
      "/Library/Frameworks/Python.framework/Versions/3.5/lib/python3.5/site-packages/toolz/curried/__init__.py:35: DeprecationWarning: inspect.getargspec() is deprecated, use inspect.signature() instead\n",
      "  return len(inspect.getargspec(f).args)\n",
      "/Library/Frameworks/Python.framework/Versions/3.5/lib/python3.5/site-packages/toolz/curried/__init__.py:35: DeprecationWarning: inspect.getargspec() is deprecated, use inspect.signature() instead\n",
      "  return len(inspect.getargspec(f).args)\n",
      "/Library/Frameworks/Python.framework/Versions/3.5/lib/python3.5/site-packages/toolz/curried/__init__.py:35: DeprecationWarning: inspect.getargspec() is deprecated, use inspect.signature() instead\n",
      "  return len(inspect.getargspec(f).args)\n",
      "/Library/Frameworks/Python.framework/Versions/3.5/lib/python3.5/site-packages/toolz/curried/__init__.py:35: DeprecationWarning: inspect.getargspec() is deprecated, use inspect.signature() instead\n",
      "  return len(inspect.getargspec(f).args)\n",
      "/Library/Frameworks/Python.framework/Versions/3.5/lib/python3.5/site-packages/toolz/curried/__init__.py:35: DeprecationWarning: inspect.getargspec() is deprecated, use inspect.signature() instead\n",
      "  return len(inspect.getargspec(f).args)\n",
      "/Library/Frameworks/Python.framework/Versions/3.5/lib/python3.5/site-packages/toolz/curried/__init__.py:35: DeprecationWarning: inspect.getargspec() is deprecated, use inspect.signature() instead\n",
      "  return len(inspect.getargspec(f).args)\n",
      "/Library/Frameworks/Python.framework/Versions/3.5/lib/python3.5/site-packages/toolz/curried/__init__.py:35: DeprecationWarning: inspect.getargspec() is deprecated, use inspect.signature() instead\n",
      "  return len(inspect.getargspec(f).args)\n",
      "/Library/Frameworks/Python.framework/Versions/3.5/lib/python3.5/site-packages/toolz/curried/__init__.py:35: DeprecationWarning: inspect.getargspec() is deprecated, use inspect.signature() instead\n",
      "  return len(inspect.getargspec(f).args)\n",
      "/Library/Frameworks/Python.framework/Versions/3.5/lib/python3.5/site-packages/toolz/curried/__init__.py:35: DeprecationWarning: inspect.getargspec() is deprecated, use inspect.signature() instead\n",
      "  return len(inspect.getargspec(f).args)\n",
      "/Library/Frameworks/Python.framework/Versions/3.5/lib/python3.5/site-packages/toolz/curried/__init__.py:35: DeprecationWarning: inspect.getargspec() is deprecated, use inspect.signature() instead\n",
      "  return len(inspect.getargspec(f).args)\n",
      "/Library/Frameworks/Python.framework/Versions/3.5/lib/python3.5/site-packages/toolz/curried/__init__.py:35: DeprecationWarning: inspect.getargspec() is deprecated, use inspect.signature() instead\n",
      "  return len(inspect.getargspec(f).args)\n",
      "/Library/Frameworks/Python.framework/Versions/3.5/lib/python3.5/site-packages/toolz/curried/__init__.py:35: DeprecationWarning: inspect.getargspec() is deprecated, use inspect.signature() instead\n",
      "  return len(inspect.getargspec(f).args)\n",
      "/Library/Frameworks/Python.framework/Versions/3.5/lib/python3.5/site-packages/toolz/curried/__init__.py:35: DeprecationWarning: inspect.getargspec() is deprecated, use inspect.signature() instead\n",
      "  return len(inspect.getargspec(f).args)\n",
      "/Library/Frameworks/Python.framework/Versions/3.5/lib/python3.5/site-packages/toolz/curried/__init__.py:35: DeprecationWarning: inspect.getargspec() is deprecated, use inspect.signature() instead\n",
      "  return len(inspect.getargspec(f).args)\n",
      "/Library/Frameworks/Python.framework/Versions/3.5/lib/python3.5/site-packages/toolz/curried/__init__.py:35: DeprecationWarning: inspect.getargspec() is deprecated, use inspect.signature() instead\n",
      "  return len(inspect.getargspec(f).args)\n",
      "/Library/Frameworks/Python.framework/Versions/3.5/lib/python3.5/site-packages/toolz/curried/__init__.py:35: DeprecationWarning: inspect.getargspec() is deprecated, use inspect.signature() instead\n",
      "  return len(inspect.getargspec(f).args)\n",
      "/Library/Frameworks/Python.framework/Versions/3.5/lib/python3.5/site-packages/toolz/curried/__init__.py:35: DeprecationWarning: inspect.getargspec() is deprecated, use inspect.signature() instead\n",
      "  return len(inspect.getargspec(f).args)\n",
      "/Library/Frameworks/Python.framework/Versions/3.5/lib/python3.5/site-packages/toolz/curried/__init__.py:35: DeprecationWarning: inspect.getargspec() is deprecated, use inspect.signature() instead\n",
      "  return len(inspect.getargspec(f).args)\n",
      "/Library/Frameworks/Python.framework/Versions/3.5/lib/python3.5/site-packages/toolz/curried/__init__.py:35: DeprecationWarning: inspect.getargspec() is deprecated, use inspect.signature() instead\n",
      "  return len(inspect.getargspec(f).args)\n",
      "/Library/Frameworks/Python.framework/Versions/3.5/lib/python3.5/site-packages/toolz/curried/__init__.py:35: DeprecationWarning: inspect.getargspec() is deprecated, use inspect.signature() instead\n",
      "  return len(inspect.getargspec(f).args)\n",
      "/Library/Frameworks/Python.framework/Versions/3.5/lib/python3.5/site-packages/toolz/curried/__init__.py:35: DeprecationWarning: inspect.getargspec() is deprecated, use inspect.signature() instead\n",
      "  return len(inspect.getargspec(f).args)\n",
      "/Library/Frameworks/Python.framework/Versions/3.5/lib/python3.5/site-packages/toolz/curried/__init__.py:35: DeprecationWarning: inspect.getargspec() is deprecated, use inspect.signature() instead\n",
      "  return len(inspect.getargspec(f).args)\n",
      "/Library/Frameworks/Python.framework/Versions/3.5/lib/python3.5/site-packages/toolz/curried/__init__.py:35: DeprecationWarning: inspect.getargspec() is deprecated, use inspect.signature() instead\n",
      "  return len(inspect.getargspec(f).args)\n",
      "/Library/Frameworks/Python.framework/Versions/3.5/lib/python3.5/site-packages/toolz/curried/__init__.py:35: DeprecationWarning: inspect.getargspec() is deprecated, use inspect.signature() instead\n",
      "  return len(inspect.getargspec(f).args)\n",
      "/Library/Frameworks/Python.framework/Versions/3.5/lib/python3.5/site-packages/toolz/curried/__init__.py:35: DeprecationWarning: inspect.getargspec() is deprecated, use inspect.signature() instead\n",
      "  return len(inspect.getargspec(f).args)\n",
      "/Library/Frameworks/Python.framework/Versions/3.5/lib/python3.5/site-packages/toolz/curried/__init__.py:35: DeprecationWarning: inspect.getargspec() is deprecated, use inspect.signature() instead\n",
      "  return len(inspect.getargspec(f).args)\n",
      "/Library/Frameworks/Python.framework/Versions/3.5/lib/python3.5/site-packages/toolz/curried/__init__.py:35: DeprecationWarning: inspect.getargspec() is deprecated, use inspect.signature() instead\n",
      "  return len(inspect.getargspec(f).args)\n",
      "/Library/Frameworks/Python.framework/Versions/3.5/lib/python3.5/site-packages/toolz/curried/__init__.py:35: DeprecationWarning: inspect.getargspec() is deprecated, use inspect.signature() instead\n",
      "  return len(inspect.getargspec(f).args)\n",
      "/Library/Frameworks/Python.framework/Versions/3.5/lib/python3.5/site-packages/toolz/curried/__init__.py:35: DeprecationWarning: inspect.getargspec() is deprecated, use inspect.signature() instead\n",
      "  return len(inspect.getargspec(f).args)\n",
      "/Library/Frameworks/Python.framework/Versions/3.5/lib/python3.5/site-packages/toolz/curried/__init__.py:35: DeprecationWarning: inspect.getargspec() is deprecated, use inspect.signature() instead\n",
      "  return len(inspect.getargspec(f).args)\n",
      "/Library/Frameworks/Python.framework/Versions/3.5/lib/python3.5/site-packages/toolz/curried/__init__.py:35: DeprecationWarning: inspect.getargspec() is deprecated, use inspect.signature() instead\n",
      "  return len(inspect.getargspec(f).args)\n",
      "/Library/Frameworks/Python.framework/Versions/3.5/lib/python3.5/site-packages/toolz/curried/__init__.py:35: DeprecationWarning: inspect.getargspec() is deprecated, use inspect.signature() instead\n",
      "  return len(inspect.getargspec(f).args)\n",
      "/Library/Frameworks/Python.framework/Versions/3.5/lib/python3.5/site-packages/toolz/curried/__init__.py:35: DeprecationWarning: inspect.getargspec() is deprecated, use inspect.signature() instead\n",
      "  return len(inspect.getargspec(f).args)\n",
      "/Library/Frameworks/Python.framework/Versions/3.5/lib/python3.5/site-packages/toolz/curried/__init__.py:35: DeprecationWarning: inspect.getargspec() is deprecated, use inspect.signature() instead\n",
      "  return len(inspect.getargspec(f).args)\n",
      "/Library/Frameworks/Python.framework/Versions/3.5/lib/python3.5/site-packages/toolz/curried/__init__.py:35: DeprecationWarning: inspect.getargspec() is deprecated, use inspect.signature() instead\n",
      "  return len(inspect.getargspec(f).args)\n",
      "/Library/Frameworks/Python.framework/Versions/3.5/lib/python3.5/site-packages/toolz/curried/__init__.py:35: DeprecationWarning: inspect.getargspec() is deprecated, use inspect.signature() instead\n",
      "  return len(inspect.getargspec(f).args)\n",
      "/Library/Frameworks/Python.framework/Versions/3.5/lib/python3.5/site-packages/toolz/curried/__init__.py:35: DeprecationWarning: inspect.getargspec() is deprecated, use inspect.signature() instead\n",
      "  return len(inspect.getargspec(f).args)\n",
      "/Library/Frameworks/Python.framework/Versions/3.5/lib/python3.5/site-packages/toolz/curried/__init__.py:35: DeprecationWarning: inspect.getargspec() is deprecated, use inspect.signature() instead\n",
      "  return len(inspect.getargspec(f).args)\n",
      "/Library/Frameworks/Python.framework/Versions/3.5/lib/python3.5/site-packages/toolz/curried/__init__.py:35: DeprecationWarning: inspect.getargspec() is deprecated, use inspect.signature() instead\n",
      "  return len(inspect.getargspec(f).args)\n",
      "/Library/Frameworks/Python.framework/Versions/3.5/lib/python3.5/site-packages/toolz/curried/__init__.py:35: DeprecationWarning: inspect.getargspec() is deprecated, use inspect.signature() instead\n",
      "  return len(inspect.getargspec(f).args)\n",
      "/Library/Frameworks/Python.framework/Versions/3.5/lib/python3.5/site-packages/toolz/curried/__init__.py:35: DeprecationWarning: inspect.getargspec() is deprecated, use inspect.signature() instead\n",
      "  return len(inspect.getargspec(f).args)\n",
      "/Library/Frameworks/Python.framework/Versions/3.5/lib/python3.5/site-packages/toolz/curried/__init__.py:35: DeprecationWarning: inspect.getargspec() is deprecated, use inspect.signature() instead\n",
      "  return len(inspect.getargspec(f).args)\n",
      "/Library/Frameworks/Python.framework/Versions/3.5/lib/python3.5/site-packages/toolz/curried/__init__.py:35: DeprecationWarning: inspect.getargspec() is deprecated, use inspect.signature() instead\n",
      "  return len(inspect.getargspec(f).args)\n",
      "/Library/Frameworks/Python.framework/Versions/3.5/lib/python3.5/site-packages/toolz/curried/__init__.py:35: DeprecationWarning: inspect.getargspec() is deprecated, use inspect.signature() instead\n",
      "  return len(inspect.getargspec(f).args)\n",
      "/Library/Frameworks/Python.framework/Versions/3.5/lib/python3.5/site-packages/toolz/curried/__init__.py:35: DeprecationWarning: inspect.getargspec() is deprecated, use inspect.signature() instead\n",
      "  return len(inspect.getargspec(f).args)\n",
      "/Library/Frameworks/Python.framework/Versions/3.5/lib/python3.5/site-packages/toolz/curried/__init__.py:35: DeprecationWarning: inspect.getargspec() is deprecated, use inspect.signature() instead\n",
      "  return len(inspect.getargspec(f).args)\n",
      "/Library/Frameworks/Python.framework/Versions/3.5/lib/python3.5/site-packages/toolz/curried/__init__.py:35: DeprecationWarning: inspect.getargspec() is deprecated, use inspect.signature() instead\n",
      "  return len(inspect.getargspec(f).args)\n",
      "/Library/Frameworks/Python.framework/Versions/3.5/lib/python3.5/site-packages/toolz/curried/__init__.py:35: DeprecationWarning: inspect.getargspec() is deprecated, use inspect.signature() instead\n",
      "  return len(inspect.getargspec(f).args)\n",
      "/Library/Frameworks/Python.framework/Versions/3.5/lib/python3.5/site-packages/toolz/functoolz.py:118: DeprecationWarning: inspect.getargspec() is deprecated, use inspect.signature() instead\n",
      "  spec = inspect.getargspec(func)\n",
      "/Library/Frameworks/Python.framework/Versions/3.5/lib/python3.5/site-packages/toolz/functoolz.py:118: DeprecationWarning: inspect.getargspec() is deprecated, use inspect.signature() instead\n",
      "  spec = inspect.getargspec(func)\n",
      "/Library/Frameworks/Python.framework/Versions/3.5/lib/python3.5/site-packages/toolz/functoolz.py:118: DeprecationWarning: inspect.getargspec() is deprecated, use inspect.signature() instead\n",
      "  spec = inspect.getargspec(func)\n",
      "/Library/Frameworks/Python.framework/Versions/3.5/lib/python3.5/site-packages/toolz/functoolz.py:118: DeprecationWarning: inspect.getargspec() is deprecated, use inspect.signature() instead\n",
      "  spec = inspect.getargspec(func)\n",
      "/Library/Frameworks/Python.framework/Versions/3.5/lib/python3.5/site-packages/toolz/functoolz.py:118: DeprecationWarning: inspect.getargspec() is deprecated, use inspect.signature() instead\n",
      "  spec = inspect.getargspec(func)\n",
      "/Library/Frameworks/Python.framework/Versions/3.5/lib/python3.5/site-packages/toolz/functoolz.py:118: DeprecationWarning: inspect.getargspec() is deprecated, use inspect.signature() instead\n",
      "  spec = inspect.getargspec(func)\n"
     ]
    },
    {
     "name": "stderr",
     "output_type": "stream",
     "text": [
      "/Library/Frameworks/Python.framework/Versions/3.5/lib/python3.5/site-packages/tensorflow/python/util/tf_inspect.py:55: DeprecationWarning: inspect.getargspec() is deprecated, use inspect.signature() instead\n",
      "  if d.decorator_argspec is not None), _inspect.getargspec(target))\n",
      "/Library/Frameworks/Python.framework/Versions/3.5/lib/python3.5/site-packages/tensorflow/python/util/tf_inspect.py:55: DeprecationWarning: inspect.getargspec() is deprecated, use inspect.signature() instead\n",
      "  if d.decorator_argspec is not None), _inspect.getargspec(target))\n",
      "/Library/Frameworks/Python.framework/Versions/3.5/lib/python3.5/site-packages/tensorflow/python/util/tf_inspect.py:55: DeprecationWarning: inspect.getargspec() is deprecated, use inspect.signature() instead\n",
      "  if d.decorator_argspec is not None), _inspect.getargspec(target))\n",
      "/Library/Frameworks/Python.framework/Versions/3.5/lib/python3.5/site-packages/tensorflow/python/util/tf_inspect.py:55: DeprecationWarning: inspect.getargspec() is deprecated, use inspect.signature() instead\n",
      "  if d.decorator_argspec is not None), _inspect.getargspec(target))\n",
      "/Library/Frameworks/Python.framework/Versions/3.5/lib/python3.5/site-packages/tensorflow/python/util/tf_inspect.py:55: DeprecationWarning: inspect.getargspec() is deprecated, use inspect.signature() instead\n",
      "  if d.decorator_argspec is not None), _inspect.getargspec(target))\n",
      "/Library/Frameworks/Python.framework/Versions/3.5/lib/python3.5/site-packages/tensorflow/python/util/tf_inspect.py:55: DeprecationWarning: inspect.getargspec() is deprecated, use inspect.signature() instead\n",
      "  if d.decorator_argspec is not None), _inspect.getargspec(target))\n",
      "/Library/Frameworks/Python.framework/Versions/3.5/lib/python3.5/site-packages/tensorflow/python/util/tf_inspect.py:55: DeprecationWarning: inspect.getargspec() is deprecated, use inspect.signature() instead\n",
      "  if d.decorator_argspec is not None), _inspect.getargspec(target))\n",
      "/Library/Frameworks/Python.framework/Versions/3.5/lib/python3.5/site-packages/tensorflow/python/util/tf_inspect.py:55: DeprecationWarning: inspect.getargspec() is deprecated, use inspect.signature() instead\n",
      "  if d.decorator_argspec is not None), _inspect.getargspec(target))\n",
      "/Library/Frameworks/Python.framework/Versions/3.5/lib/python3.5/site-packages/tensorflow/python/util/tf_inspect.py:55: DeprecationWarning: inspect.getargspec() is deprecated, use inspect.signature() instead\n",
      "  if d.decorator_argspec is not None), _inspect.getargspec(target))\n",
      "/Library/Frameworks/Python.framework/Versions/3.5/lib/python3.5/site-packages/tensorflow/python/util/tf_inspect.py:55: DeprecationWarning: inspect.getargspec() is deprecated, use inspect.signature() instead\n",
      "  if d.decorator_argspec is not None), _inspect.getargspec(target))\n",
      "/Library/Frameworks/Python.framework/Versions/3.5/lib/python3.5/site-packages/tensorflow/python/util/tf_inspect.py:55: DeprecationWarning: inspect.getargspec() is deprecated, use inspect.signature() instead\n",
      "  if d.decorator_argspec is not None), _inspect.getargspec(target))\n",
      "/Library/Frameworks/Python.framework/Versions/3.5/lib/python3.5/site-packages/tensorflow/python/util/tf_inspect.py:55: DeprecationWarning: inspect.getargspec() is deprecated, use inspect.signature() instead\n",
      "  if d.decorator_argspec is not None), _inspect.getargspec(target))\n",
      "/Library/Frameworks/Python.framework/Versions/3.5/lib/python3.5/site-packages/tensorflow/python/util/tf_inspect.py:55: DeprecationWarning: inspect.getargspec() is deprecated, use inspect.signature() instead\n",
      "  if d.decorator_argspec is not None), _inspect.getargspec(target))\n",
      "/Library/Frameworks/Python.framework/Versions/3.5/lib/python3.5/site-packages/tensorflow/python/util/tf_inspect.py:55: DeprecationWarning: inspect.getargspec() is deprecated, use inspect.signature() instead\n",
      "  if d.decorator_argspec is not None), _inspect.getargspec(target))\n",
      "/Library/Frameworks/Python.framework/Versions/3.5/lib/python3.5/site-packages/tensorflow/python/util/tf_inspect.py:55: DeprecationWarning: inspect.getargspec() is deprecated, use inspect.signature() instead\n",
      "  if d.decorator_argspec is not None), _inspect.getargspec(target))\n",
      "/Library/Frameworks/Python.framework/Versions/3.5/lib/python3.5/site-packages/tensorflow/python/util/tf_inspect.py:55: DeprecationWarning: inspect.getargspec() is deprecated, use inspect.signature() instead\n",
      "  if d.decorator_argspec is not None), _inspect.getargspec(target))\n",
      "/Library/Frameworks/Python.framework/Versions/3.5/lib/python3.5/site-packages/tensorflow/python/util/tf_inspect.py:55: DeprecationWarning: inspect.getargspec() is deprecated, use inspect.signature() instead\n",
      "  if d.decorator_argspec is not None), _inspect.getargspec(target))\n",
      "/Library/Frameworks/Python.framework/Versions/3.5/lib/python3.5/site-packages/tensorflow/python/util/tf_inspect.py:55: DeprecationWarning: inspect.getargspec() is deprecated, use inspect.signature() instead\n",
      "  if d.decorator_argspec is not None), _inspect.getargspec(target))\n",
      "/Library/Frameworks/Python.framework/Versions/3.5/lib/python3.5/site-packages/tensorflow/python/util/tf_inspect.py:55: DeprecationWarning: inspect.getargspec() is deprecated, use inspect.signature() instead\n",
      "  if d.decorator_argspec is not None), _inspect.getargspec(target))\n",
      "/Library/Frameworks/Python.framework/Versions/3.5/lib/python3.5/site-packages/tensorflow/python/util/tf_inspect.py:55: DeprecationWarning: inspect.getargspec() is deprecated, use inspect.signature() instead\n",
      "  if d.decorator_argspec is not None), _inspect.getargspec(target))\n",
      "/Library/Frameworks/Python.framework/Versions/3.5/lib/python3.5/site-packages/tensorflow/python/util/tf_inspect.py:55: DeprecationWarning: inspect.getargspec() is deprecated, use inspect.signature() instead\n",
      "  if d.decorator_argspec is not None), _inspect.getargspec(target))\n",
      "/Library/Frameworks/Python.framework/Versions/3.5/lib/python3.5/site-packages/tensorflow/python/util/tf_inspect.py:55: DeprecationWarning: inspect.getargspec() is deprecated, use inspect.signature() instead\n",
      "  if d.decorator_argspec is not None), _inspect.getargspec(target))\n",
      "/Library/Frameworks/Python.framework/Versions/3.5/lib/python3.5/site-packages/tensorflow/python/util/tf_inspect.py:55: DeprecationWarning: inspect.getargspec() is deprecated, use inspect.signature() instead\n",
      "  if d.decorator_argspec is not None), _inspect.getargspec(target))\n",
      "/Library/Frameworks/Python.framework/Versions/3.5/lib/python3.5/site-packages/tensorflow/python/util/tf_inspect.py:55: DeprecationWarning: inspect.getargspec() is deprecated, use inspect.signature() instead\n",
      "  if d.decorator_argspec is not None), _inspect.getargspec(target))\n",
      "/Library/Frameworks/Python.framework/Versions/3.5/lib/python3.5/site-packages/tensorflow/python/util/tf_inspect.py:55: DeprecationWarning: inspect.getargspec() is deprecated, use inspect.signature() instead\n",
      "  if d.decorator_argspec is not None), _inspect.getargspec(target))\n",
      "/Library/Frameworks/Python.framework/Versions/3.5/lib/python3.5/site-packages/tensorflow/python/util/tf_inspect.py:55: DeprecationWarning: inspect.getargspec() is deprecated, use inspect.signature() instead\n",
      "  if d.decorator_argspec is not None), _inspect.getargspec(target))\n",
      "/Library/Frameworks/Python.framework/Versions/3.5/lib/python3.5/site-packages/tensorflow/python/util/tf_inspect.py:55: DeprecationWarning: inspect.getargspec() is deprecated, use inspect.signature() instead\n",
      "  if d.decorator_argspec is not None), _inspect.getargspec(target))\n",
      "/Library/Frameworks/Python.framework/Versions/3.5/lib/python3.5/site-packages/tensorflow/python/util/tf_inspect.py:55: DeprecationWarning: inspect.getargspec() is deprecated, use inspect.signature() instead\n",
      "  if d.decorator_argspec is not None), _inspect.getargspec(target))\n",
      "/Library/Frameworks/Python.framework/Versions/3.5/lib/python3.5/site-packages/tensorflow/python/util/tf_inspect.py:55: DeprecationWarning: inspect.getargspec() is deprecated, use inspect.signature() instead\n",
      "  if d.decorator_argspec is not None), _inspect.getargspec(target))\n",
      "/Library/Frameworks/Python.framework/Versions/3.5/lib/python3.5/site-packages/tensorflow/python/util/tf_inspect.py:55: DeprecationWarning: inspect.getargspec() is deprecated, use inspect.signature() instead\n",
      "  if d.decorator_argspec is not None), _inspect.getargspec(target))\n",
      "/Library/Frameworks/Python.framework/Versions/3.5/lib/python3.5/site-packages/tensorflow/python/util/tf_inspect.py:55: DeprecationWarning: inspect.getargspec() is deprecated, use inspect.signature() instead\n",
      "  if d.decorator_argspec is not None), _inspect.getargspec(target))\n",
      "/Library/Frameworks/Python.framework/Versions/3.5/lib/python3.5/site-packages/tensorflow/python/util/tf_inspect.py:55: DeprecationWarning: inspect.getargspec() is deprecated, use inspect.signature() instead\n",
      "  if d.decorator_argspec is not None), _inspect.getargspec(target))\n",
      "/Library/Frameworks/Python.framework/Versions/3.5/lib/python3.5/site-packages/tensorflow/python/util/tf_inspect.py:55: DeprecationWarning: inspect.getargspec() is deprecated, use inspect.signature() instead\n",
      "  if d.decorator_argspec is not None), _inspect.getargspec(target))\n",
      "/Library/Frameworks/Python.framework/Versions/3.5/lib/python3.5/site-packages/tensorflow/python/util/tf_inspect.py:55: DeprecationWarning: inspect.getargspec() is deprecated, use inspect.signature() instead\n",
      "  if d.decorator_argspec is not None), _inspect.getargspec(target))\n",
      "/Library/Frameworks/Python.framework/Versions/3.5/lib/python3.5/site-packages/tensorflow/python/util/tf_inspect.py:55: DeprecationWarning: inspect.getargspec() is deprecated, use inspect.signature() instead\n",
      "  if d.decorator_argspec is not None), _inspect.getargspec(target))\n",
      "/Library/Frameworks/Python.framework/Versions/3.5/lib/python3.5/site-packages/tensorflow/python/util/tf_inspect.py:55: DeprecationWarning: inspect.getargspec() is deprecated, use inspect.signature() instead\n",
      "  if d.decorator_argspec is not None), _inspect.getargspec(target))\n",
      "/Library/Frameworks/Python.framework/Versions/3.5/lib/python3.5/site-packages/tensorflow/python/util/tf_inspect.py:55: DeprecationWarning: inspect.getargspec() is deprecated, use inspect.signature() instead\n",
      "  if d.decorator_argspec is not None), _inspect.getargspec(target))\n",
      "/Library/Frameworks/Python.framework/Versions/3.5/lib/python3.5/site-packages/tensorflow/python/util/tf_inspect.py:55: DeprecationWarning: inspect.getargspec() is deprecated, use inspect.signature() instead\n",
      "  if d.decorator_argspec is not None), _inspect.getargspec(target))\n",
      "/Library/Frameworks/Python.framework/Versions/3.5/lib/python3.5/site-packages/tensorflow/python/util/tf_inspect.py:55: DeprecationWarning: inspect.getargspec() is deprecated, use inspect.signature() instead\n",
      "  if d.decorator_argspec is not None), _inspect.getargspec(target))\n",
      "/Library/Frameworks/Python.framework/Versions/3.5/lib/python3.5/site-packages/tensorflow/python/util/tf_inspect.py:55: DeprecationWarning: inspect.getargspec() is deprecated, use inspect.signature() instead\n",
      "  if d.decorator_argspec is not None), _inspect.getargspec(target))\n",
      "/Library/Frameworks/Python.framework/Versions/3.5/lib/python3.5/site-packages/tensorflow/python/util/tf_inspect.py:55: DeprecationWarning: inspect.getargspec() is deprecated, use inspect.signature() instead\n",
      "  if d.decorator_argspec is not None), _inspect.getargspec(target))\n",
      "/Library/Frameworks/Python.framework/Versions/3.5/lib/python3.5/site-packages/tensorflow/python/util/tf_inspect.py:55: DeprecationWarning: inspect.getargspec() is deprecated, use inspect.signature() instead\n",
      "  if d.decorator_argspec is not None), _inspect.getargspec(target))\n",
      "/Library/Frameworks/Python.framework/Versions/3.5/lib/python3.5/site-packages/tensorflow/python/util/tf_inspect.py:55: DeprecationWarning: inspect.getargspec() is deprecated, use inspect.signature() instead\n",
      "  if d.decorator_argspec is not None), _inspect.getargspec(target))\n",
      "/Library/Frameworks/Python.framework/Versions/3.5/lib/python3.5/site-packages/tensorflow/python/util/tf_inspect.py:55: DeprecationWarning: inspect.getargspec() is deprecated, use inspect.signature() instead\n",
      "  if d.decorator_argspec is not None), _inspect.getargspec(target))\n",
      "/Library/Frameworks/Python.framework/Versions/3.5/lib/python3.5/site-packages/tensorflow/python/util/tf_inspect.py:55: DeprecationWarning: inspect.getargspec() is deprecated, use inspect.signature() instead\n",
      "  if d.decorator_argspec is not None), _inspect.getargspec(target))\n",
      "/Library/Frameworks/Python.framework/Versions/3.5/lib/python3.5/site-packages/tensorflow/python/util/tf_inspect.py:55: DeprecationWarning: inspect.getargspec() is deprecated, use inspect.signature() instead\n",
      "  if d.decorator_argspec is not None), _inspect.getargspec(target))\n",
      "/Library/Frameworks/Python.framework/Versions/3.5/lib/python3.5/site-packages/tensorflow/python/util/tf_inspect.py:55: DeprecationWarning: inspect.getargspec() is deprecated, use inspect.signature() instead\n",
      "  if d.decorator_argspec is not None), _inspect.getargspec(target))\n",
      "/Library/Frameworks/Python.framework/Versions/3.5/lib/python3.5/site-packages/tensorflow/python/util/tf_inspect.py:55: DeprecationWarning: inspect.getargspec() is deprecated, use inspect.signature() instead\n",
      "  if d.decorator_argspec is not None), _inspect.getargspec(target))\n",
      "/Library/Frameworks/Python.framework/Versions/3.5/lib/python3.5/site-packages/tensorflow/python/util/tf_inspect.py:55: DeprecationWarning: inspect.getargspec() is deprecated, use inspect.signature() instead\n",
      "  if d.decorator_argspec is not None), _inspect.getargspec(target))\n",
      "/Library/Frameworks/Python.framework/Versions/3.5/lib/python3.5/site-packages/tensorflow/python/util/tf_inspect.py:55: DeprecationWarning: inspect.getargspec() is deprecated, use inspect.signature() instead\n",
      "  if d.decorator_argspec is not None), _inspect.getargspec(target))\n",
      "/Library/Frameworks/Python.framework/Versions/3.5/lib/python3.5/site-packages/tensorflow/python/util/tf_inspect.py:55: DeprecationWarning: inspect.getargspec() is deprecated, use inspect.signature() instead\n",
      "  if d.decorator_argspec is not None), _inspect.getargspec(target))\n",
      "/Library/Frameworks/Python.framework/Versions/3.5/lib/python3.5/site-packages/tensorflow/python/util/tf_inspect.py:55: DeprecationWarning: inspect.getargspec() is deprecated, use inspect.signature() instead\n",
      "  if d.decorator_argspec is not None), _inspect.getargspec(target))\n",
      "/Library/Frameworks/Python.framework/Versions/3.5/lib/python3.5/site-packages/tensorflow/python/util/tf_inspect.py:55: DeprecationWarning: inspect.getargspec() is deprecated, use inspect.signature() instead\n",
      "  if d.decorator_argspec is not None), _inspect.getargspec(target))\n",
      "/Library/Frameworks/Python.framework/Versions/3.5/lib/python3.5/site-packages/tensorflow/python/util/tf_inspect.py:55: DeprecationWarning: inspect.getargspec() is deprecated, use inspect.signature() instead\n",
      "  if d.decorator_argspec is not None), _inspect.getargspec(target))\n",
      "/Library/Frameworks/Python.framework/Versions/3.5/lib/python3.5/site-packages/tensorflow/python/util/tf_inspect.py:55: DeprecationWarning: inspect.getargspec() is deprecated, use inspect.signature() instead\n",
      "  if d.decorator_argspec is not None), _inspect.getargspec(target))\n",
      "/Library/Frameworks/Python.framework/Versions/3.5/lib/python3.5/site-packages/tensorflow/python/util/tf_inspect.py:55: DeprecationWarning: inspect.getargspec() is deprecated, use inspect.signature() instead\n",
      "  if d.decorator_argspec is not None), _inspect.getargspec(target))\n",
      "/Library/Frameworks/Python.framework/Versions/3.5/lib/python3.5/site-packages/tensorflow/python/util/tf_inspect.py:55: DeprecationWarning: inspect.getargspec() is deprecated, use inspect.signature() instead\n",
      "  if d.decorator_argspec is not None), _inspect.getargspec(target))\n",
      "/Library/Frameworks/Python.framework/Versions/3.5/lib/python3.5/site-packages/tensorflow/python/util/tf_inspect.py:55: DeprecationWarning: inspect.getargspec() is deprecated, use inspect.signature() instead\n",
      "  if d.decorator_argspec is not None), _inspect.getargspec(target))\n",
      "/Library/Frameworks/Python.framework/Versions/3.5/lib/python3.5/site-packages/tensorflow/python/util/tf_inspect.py:55: DeprecationWarning: inspect.getargspec() is deprecated, use inspect.signature() instead\n",
      "  if d.decorator_argspec is not None), _inspect.getargspec(target))\n",
      "/Library/Frameworks/Python.framework/Versions/3.5/lib/python3.5/site-packages/tensorflow/python/util/tf_inspect.py:55: DeprecationWarning: inspect.getargspec() is deprecated, use inspect.signature() instead\n",
      "  if d.decorator_argspec is not None), _inspect.getargspec(target))\n",
      "/Library/Frameworks/Python.framework/Versions/3.5/lib/python3.5/site-packages/tensorflow/python/util/tf_inspect.py:55: DeprecationWarning: inspect.getargspec() is deprecated, use inspect.signature() instead\n",
      "  if d.decorator_argspec is not None), _inspect.getargspec(target))\n",
      "/Library/Frameworks/Python.framework/Versions/3.5/lib/python3.5/site-packages/tensorflow/python/util/tf_inspect.py:55: DeprecationWarning: inspect.getargspec() is deprecated, use inspect.signature() instead\n",
      "  if d.decorator_argspec is not None), _inspect.getargspec(target))\n",
      "/Library/Frameworks/Python.framework/Versions/3.5/lib/python3.5/site-packages/tensorflow/python/util/tf_inspect.py:55: DeprecationWarning: inspect.getargspec() is deprecated, use inspect.signature() instead\n",
      "  if d.decorator_argspec is not None), _inspect.getargspec(target))\n",
      "/Library/Frameworks/Python.framework/Versions/3.5/lib/python3.5/site-packages/tensorflow/python/util/tf_inspect.py:55: DeprecationWarning: inspect.getargspec() is deprecated, use inspect.signature() instead\n",
      "  if d.decorator_argspec is not None), _inspect.getargspec(target))\n",
      "/Library/Frameworks/Python.framework/Versions/3.5/lib/python3.5/site-packages/tensorflow/python/util/tf_inspect.py:55: DeprecationWarning: inspect.getargspec() is deprecated, use inspect.signature() instead\n",
      "  if d.decorator_argspec is not None), _inspect.getargspec(target))\n",
      "/Library/Frameworks/Python.framework/Versions/3.5/lib/python3.5/site-packages/tensorflow/python/util/tf_inspect.py:55: DeprecationWarning: inspect.getargspec() is deprecated, use inspect.signature() instead\n",
      "  if d.decorator_argspec is not None), _inspect.getargspec(target))\n",
      "/Library/Frameworks/Python.framework/Versions/3.5/lib/python3.5/site-packages/tensorflow/python/util/tf_inspect.py:55: DeprecationWarning: inspect.getargspec() is deprecated, use inspect.signature() instead\n",
      "  if d.decorator_argspec is not None), _inspect.getargspec(target))\n",
      "/Library/Frameworks/Python.framework/Versions/3.5/lib/python3.5/site-packages/tensorflow/python/util/tf_inspect.py:55: DeprecationWarning: inspect.getargspec() is deprecated, use inspect.signature() instead\n",
      "  if d.decorator_argspec is not None), _inspect.getargspec(target))\n",
      "/Library/Frameworks/Python.framework/Versions/3.5/lib/python3.5/site-packages/tensorflow/python/util/tf_inspect.py:55: DeprecationWarning: inspect.getargspec() is deprecated, use inspect.signature() instead\n",
      "  if d.decorator_argspec is not None), _inspect.getargspec(target))\n",
      "/Library/Frameworks/Python.framework/Versions/3.5/lib/python3.5/site-packages/tensorflow/python/util/tf_inspect.py:55: DeprecationWarning: inspect.getargspec() is deprecated, use inspect.signature() instead\n",
      "  if d.decorator_argspec is not None), _inspect.getargspec(target))\n",
      "/Library/Frameworks/Python.framework/Versions/3.5/lib/python3.5/site-packages/tensorflow/python/util/tf_inspect.py:55: DeprecationWarning: inspect.getargspec() is deprecated, use inspect.signature() instead\n",
      "  if d.decorator_argspec is not None), _inspect.getargspec(target))\n",
      "/Library/Frameworks/Python.framework/Versions/3.5/lib/python3.5/site-packages/tensorflow/python/util/tf_inspect.py:55: DeprecationWarning: inspect.getargspec() is deprecated, use inspect.signature() instead\n",
      "  if d.decorator_argspec is not None), _inspect.getargspec(target))\n",
      "/Library/Frameworks/Python.framework/Versions/3.5/lib/python3.5/site-packages/tensorflow/python/util/tf_inspect.py:55: DeprecationWarning: inspect.getargspec() is deprecated, use inspect.signature() instead\n",
      "  if d.decorator_argspec is not None), _inspect.getargspec(target))\n",
      "/Library/Frameworks/Python.framework/Versions/3.5/lib/python3.5/site-packages/tensorflow/python/util/tf_inspect.py:55: DeprecationWarning: inspect.getargspec() is deprecated, use inspect.signature() instead\n",
      "  if d.decorator_argspec is not None), _inspect.getargspec(target))\n",
      "/Library/Frameworks/Python.framework/Versions/3.5/lib/python3.5/site-packages/tensorflow/python/util/tf_inspect.py:55: DeprecationWarning: inspect.getargspec() is deprecated, use inspect.signature() instead\n",
      "  if d.decorator_argspec is not None), _inspect.getargspec(target))\n",
      "/Library/Frameworks/Python.framework/Versions/3.5/lib/python3.5/site-packages/tensorflow/python/util/tf_inspect.py:55: DeprecationWarning: inspect.getargspec() is deprecated, use inspect.signature() instead\n",
      "  if d.decorator_argspec is not None), _inspect.getargspec(target))\n",
      "/Library/Frameworks/Python.framework/Versions/3.5/lib/python3.5/site-packages/tensorflow/python/util/tf_inspect.py:55: DeprecationWarning: inspect.getargspec() is deprecated, use inspect.signature() instead\n",
      "  if d.decorator_argspec is not None), _inspect.getargspec(target))\n",
      "/Library/Frameworks/Python.framework/Versions/3.5/lib/python3.5/site-packages/tensorflow/python/util/tf_inspect.py:55: DeprecationWarning: inspect.getargspec() is deprecated, use inspect.signature() instead\n",
      "  if d.decorator_argspec is not None), _inspect.getargspec(target))\n",
      "/Library/Frameworks/Python.framework/Versions/3.5/lib/python3.5/site-packages/tensorflow/python/util/tf_inspect.py:55: DeprecationWarning: inspect.getargspec() is deprecated, use inspect.signature() instead\n",
      "  if d.decorator_argspec is not None), _inspect.getargspec(target))\n",
      "/Library/Frameworks/Python.framework/Versions/3.5/lib/python3.5/site-packages/tensorflow/python/util/tf_inspect.py:55: DeprecationWarning: inspect.getargspec() is deprecated, use inspect.signature() instead\n",
      "  if d.decorator_argspec is not None), _inspect.getargspec(target))\n",
      "/Library/Frameworks/Python.framework/Versions/3.5/lib/python3.5/site-packages/tensorflow/python/util/tf_inspect.py:55: DeprecationWarning: inspect.getargspec() is deprecated, use inspect.signature() instead\n",
      "  if d.decorator_argspec is not None), _inspect.getargspec(target))\n",
      "/Library/Frameworks/Python.framework/Versions/3.5/lib/python3.5/site-packages/tensorflow/python/util/tf_inspect.py:55: DeprecationWarning: inspect.getargspec() is deprecated, use inspect.signature() instead\n",
      "  if d.decorator_argspec is not None), _inspect.getargspec(target))\n",
      "/Library/Frameworks/Python.framework/Versions/3.5/lib/python3.5/site-packages/tensorflow/python/util/tf_inspect.py:55: DeprecationWarning: inspect.getargspec() is deprecated, use inspect.signature() instead\n",
      "  if d.decorator_argspec is not None), _inspect.getargspec(target))\n",
      "/Library/Frameworks/Python.framework/Versions/3.5/lib/python3.5/site-packages/tensorflow/python/util/tf_inspect.py:55: DeprecationWarning: inspect.getargspec() is deprecated, use inspect.signature() instead\n",
      "  if d.decorator_argspec is not None), _inspect.getargspec(target))\n",
      "/Library/Frameworks/Python.framework/Versions/3.5/lib/python3.5/site-packages/tensorflow/python/util/tf_inspect.py:55: DeprecationWarning: inspect.getargspec() is deprecated, use inspect.signature() instead\n",
      "  if d.decorator_argspec is not None), _inspect.getargspec(target))\n",
      "/Library/Frameworks/Python.framework/Versions/3.5/lib/python3.5/site-packages/tensorflow/python/util/tf_inspect.py:55: DeprecationWarning: inspect.getargspec() is deprecated, use inspect.signature() instead\n",
      "  if d.decorator_argspec is not None), _inspect.getargspec(target))\n",
      "/Library/Frameworks/Python.framework/Versions/3.5/lib/python3.5/site-packages/tensorflow/python/util/tf_inspect.py:55: DeprecationWarning: inspect.getargspec() is deprecated, use inspect.signature() instead\n",
      "  if d.decorator_argspec is not None), _inspect.getargspec(target))\n",
      "/Library/Frameworks/Python.framework/Versions/3.5/lib/python3.5/site-packages/tensorflow/python/util/tf_inspect.py:55: DeprecationWarning: inspect.getargspec() is deprecated, use inspect.signature() instead\n",
      "  if d.decorator_argspec is not None), _inspect.getargspec(target))\n"
     ]
    },
    {
     "name": "stderr",
     "output_type": "stream",
     "text": [
      "/Library/Frameworks/Python.framework/Versions/3.5/lib/python3.5/site-packages/tensorflow/python/util/tf_inspect.py:55: DeprecationWarning: inspect.getargspec() is deprecated, use inspect.signature() instead\n",
      "  if d.decorator_argspec is not None), _inspect.getargspec(target))\n",
      "/Library/Frameworks/Python.framework/Versions/3.5/lib/python3.5/site-packages/tensorflow/python/util/tf_inspect.py:55: DeprecationWarning: inspect.getargspec() is deprecated, use inspect.signature() instead\n",
      "  if d.decorator_argspec is not None), _inspect.getargspec(target))\n",
      "/Library/Frameworks/Python.framework/Versions/3.5/lib/python3.5/site-packages/tensorflow/python/util/tf_inspect.py:55: DeprecationWarning: inspect.getargspec() is deprecated, use inspect.signature() instead\n",
      "  if d.decorator_argspec is not None), _inspect.getargspec(target))\n",
      "/Library/Frameworks/Python.framework/Versions/3.5/lib/python3.5/site-packages/tensorflow/python/util/tf_inspect.py:55: DeprecationWarning: inspect.getargspec() is deprecated, use inspect.signature() instead\n",
      "  if d.decorator_argspec is not None), _inspect.getargspec(target))\n",
      "/Library/Frameworks/Python.framework/Versions/3.5/lib/python3.5/site-packages/tensorflow/python/util/tf_inspect.py:55: DeprecationWarning: inspect.getargspec() is deprecated, use inspect.signature() instead\n",
      "  if d.decorator_argspec is not None), _inspect.getargspec(target))\n",
      "/Library/Frameworks/Python.framework/Versions/3.5/lib/python3.5/site-packages/tensorflow/python/util/tf_inspect.py:55: DeprecationWarning: inspect.getargspec() is deprecated, use inspect.signature() instead\n",
      "  if d.decorator_argspec is not None), _inspect.getargspec(target))\n",
      "/Library/Frameworks/Python.framework/Versions/3.5/lib/python3.5/site-packages/tensorflow/python/util/tf_inspect.py:55: DeprecationWarning: inspect.getargspec() is deprecated, use inspect.signature() instead\n",
      "  if d.decorator_argspec is not None), _inspect.getargspec(target))\n",
      "/Library/Frameworks/Python.framework/Versions/3.5/lib/python3.5/site-packages/tensorflow/python/util/tf_inspect.py:55: DeprecationWarning: inspect.getargspec() is deprecated, use inspect.signature() instead\n",
      "  if d.decorator_argspec is not None), _inspect.getargspec(target))\n",
      "/Library/Frameworks/Python.framework/Versions/3.5/lib/python3.5/site-packages/tensorflow/python/util/tf_inspect.py:55: DeprecationWarning: inspect.getargspec() is deprecated, use inspect.signature() instead\n",
      "  if d.decorator_argspec is not None), _inspect.getargspec(target))\n",
      "/Library/Frameworks/Python.framework/Versions/3.5/lib/python3.5/site-packages/tensorflow/python/util/tf_inspect.py:55: DeprecationWarning: inspect.getargspec() is deprecated, use inspect.signature() instead\n",
      "  if d.decorator_argspec is not None), _inspect.getargspec(target))\n",
      "/Library/Frameworks/Python.framework/Versions/3.5/lib/python3.5/site-packages/tensorflow/python/util/tf_inspect.py:55: DeprecationWarning: inspect.getargspec() is deprecated, use inspect.signature() instead\n",
      "  if d.decorator_argspec is not None), _inspect.getargspec(target))\n",
      "/Library/Frameworks/Python.framework/Versions/3.5/lib/python3.5/site-packages/tensorflow/python/util/tf_inspect.py:55: DeprecationWarning: inspect.getargspec() is deprecated, use inspect.signature() instead\n",
      "  if d.decorator_argspec is not None), _inspect.getargspec(target))\n",
      "/Library/Frameworks/Python.framework/Versions/3.5/lib/python3.5/site-packages/tensorflow/python/util/tf_inspect.py:55: DeprecationWarning: inspect.getargspec() is deprecated, use inspect.signature() instead\n",
      "  if d.decorator_argspec is not None), _inspect.getargspec(target))\n",
      "/Library/Frameworks/Python.framework/Versions/3.5/lib/python3.5/site-packages/tensorflow/python/util/tf_inspect.py:55: DeprecationWarning: inspect.getargspec() is deprecated, use inspect.signature() instead\n",
      "  if d.decorator_argspec is not None), _inspect.getargspec(target))\n",
      "/Library/Frameworks/Python.framework/Versions/3.5/lib/python3.5/site-packages/tensorflow/python/util/tf_inspect.py:55: DeprecationWarning: inspect.getargspec() is deprecated, use inspect.signature() instead\n",
      "  if d.decorator_argspec is not None), _inspect.getargspec(target))\n",
      "/Library/Frameworks/Python.framework/Versions/3.5/lib/python3.5/site-packages/tensorflow/python/util/tf_inspect.py:55: DeprecationWarning: inspect.getargspec() is deprecated, use inspect.signature() instead\n",
      "  if d.decorator_argspec is not None), _inspect.getargspec(target))\n",
      "/Library/Frameworks/Python.framework/Versions/3.5/lib/python3.5/site-packages/tensorflow/python/util/tf_inspect.py:55: DeprecationWarning: inspect.getargspec() is deprecated, use inspect.signature() instead\n",
      "  if d.decorator_argspec is not None), _inspect.getargspec(target))\n",
      "/Library/Frameworks/Python.framework/Versions/3.5/lib/python3.5/site-packages/tensorflow/python/util/tf_inspect.py:55: DeprecationWarning: inspect.getargspec() is deprecated, use inspect.signature() instead\n",
      "  if d.decorator_argspec is not None), _inspect.getargspec(target))\n",
      "/Library/Frameworks/Python.framework/Versions/3.5/lib/python3.5/site-packages/tensorflow/python/util/tf_inspect.py:55: DeprecationWarning: inspect.getargspec() is deprecated, use inspect.signature() instead\n",
      "  if d.decorator_argspec is not None), _inspect.getargspec(target))\n",
      "/Library/Frameworks/Python.framework/Versions/3.5/lib/python3.5/site-packages/tensorflow/python/util/tf_inspect.py:55: DeprecationWarning: inspect.getargspec() is deprecated, use inspect.signature() instead\n",
      "  if d.decorator_argspec is not None), _inspect.getargspec(target))\n",
      "/Library/Frameworks/Python.framework/Versions/3.5/lib/python3.5/site-packages/tensorflow/python/util/tf_inspect.py:55: DeprecationWarning: inspect.getargspec() is deprecated, use inspect.signature() instead\n",
      "  if d.decorator_argspec is not None), _inspect.getargspec(target))\n",
      "/Library/Frameworks/Python.framework/Versions/3.5/lib/python3.5/site-packages/tensorflow/python/util/tf_inspect.py:55: DeprecationWarning: inspect.getargspec() is deprecated, use inspect.signature() instead\n",
      "  if d.decorator_argspec is not None), _inspect.getargspec(target))\n",
      "/Library/Frameworks/Python.framework/Versions/3.5/lib/python3.5/site-packages/tensorflow/python/util/tf_inspect.py:55: DeprecationWarning: inspect.getargspec() is deprecated, use inspect.signature() instead\n",
      "  if d.decorator_argspec is not None), _inspect.getargspec(target))\n",
      "/Library/Frameworks/Python.framework/Versions/3.5/lib/python3.5/site-packages/tensorflow/python/util/tf_inspect.py:55: DeprecationWarning: inspect.getargspec() is deprecated, use inspect.signature() instead\n",
      "  if d.decorator_argspec is not None), _inspect.getargspec(target))\n",
      "/Library/Frameworks/Python.framework/Versions/3.5/lib/python3.5/site-packages/tensorflow/python/util/tf_inspect.py:55: DeprecationWarning: inspect.getargspec() is deprecated, use inspect.signature() instead\n",
      "  if d.decorator_argspec is not None), _inspect.getargspec(target))\n",
      "/Library/Frameworks/Python.framework/Versions/3.5/lib/python3.5/site-packages/tensorflow/python/util/tf_inspect.py:55: DeprecationWarning: inspect.getargspec() is deprecated, use inspect.signature() instead\n",
      "  if d.decorator_argspec is not None), _inspect.getargspec(target))\n",
      "/Library/Frameworks/Python.framework/Versions/3.5/lib/python3.5/site-packages/tensorflow/python/util/tf_inspect.py:55: DeprecationWarning: inspect.getargspec() is deprecated, use inspect.signature() instead\n",
      "  if d.decorator_argspec is not None), _inspect.getargspec(target))\n",
      "/Library/Frameworks/Python.framework/Versions/3.5/lib/python3.5/site-packages/tensorflow/python/util/tf_inspect.py:55: DeprecationWarning: inspect.getargspec() is deprecated, use inspect.signature() instead\n",
      "  if d.decorator_argspec is not None), _inspect.getargspec(target))\n",
      "/Library/Frameworks/Python.framework/Versions/3.5/lib/python3.5/site-packages/tensorflow/python/util/tf_inspect.py:55: DeprecationWarning: inspect.getargspec() is deprecated, use inspect.signature() instead\n",
      "  if d.decorator_argspec is not None), _inspect.getargspec(target))\n",
      "/Library/Frameworks/Python.framework/Versions/3.5/lib/python3.5/site-packages/tensorflow/python/util/tf_inspect.py:55: DeprecationWarning: inspect.getargspec() is deprecated, use inspect.signature() instead\n",
      "  if d.decorator_argspec is not None), _inspect.getargspec(target))\n",
      "/Library/Frameworks/Python.framework/Versions/3.5/lib/python3.5/site-packages/tensorflow/python/util/tf_inspect.py:55: DeprecationWarning: inspect.getargspec() is deprecated, use inspect.signature() instead\n",
      "  if d.decorator_argspec is not None), _inspect.getargspec(target))\n",
      "/Library/Frameworks/Python.framework/Versions/3.5/lib/python3.5/site-packages/tensorflow/python/util/tf_inspect.py:55: DeprecationWarning: inspect.getargspec() is deprecated, use inspect.signature() instead\n",
      "  if d.decorator_argspec is not None), _inspect.getargspec(target))\n",
      "/Library/Frameworks/Python.framework/Versions/3.5/lib/python3.5/site-packages/tensorflow/python/util/tf_inspect.py:55: DeprecationWarning: inspect.getargspec() is deprecated, use inspect.signature() instead\n",
      "  if d.decorator_argspec is not None), _inspect.getargspec(target))\n",
      "/Library/Frameworks/Python.framework/Versions/3.5/lib/python3.5/site-packages/tensorflow/python/util/tf_inspect.py:55: DeprecationWarning: inspect.getargspec() is deprecated, use inspect.signature() instead\n",
      "  if d.decorator_argspec is not None), _inspect.getargspec(target))\n",
      "/Library/Frameworks/Python.framework/Versions/3.5/lib/python3.5/site-packages/tensorflow/python/util/tf_inspect.py:55: DeprecationWarning: inspect.getargspec() is deprecated, use inspect.signature() instead\n",
      "  if d.decorator_argspec is not None), _inspect.getargspec(target))\n",
      "/Library/Frameworks/Python.framework/Versions/3.5/lib/python3.5/site-packages/tensorflow/python/util/tf_inspect.py:55: DeprecationWarning: inspect.getargspec() is deprecated, use inspect.signature() instead\n",
      "  if d.decorator_argspec is not None), _inspect.getargspec(target))\n",
      "/Library/Frameworks/Python.framework/Versions/3.5/lib/python3.5/site-packages/tensorflow/python/util/tf_inspect.py:55: DeprecationWarning: inspect.getargspec() is deprecated, use inspect.signature() instead\n",
      "  if d.decorator_argspec is not None), _inspect.getargspec(target))\n",
      "/Library/Frameworks/Python.framework/Versions/3.5/lib/python3.5/site-packages/tensorflow/python/util/tf_inspect.py:55: DeprecationWarning: inspect.getargspec() is deprecated, use inspect.signature() instead\n",
      "  if d.decorator_argspec is not None), _inspect.getargspec(target))\n",
      "/Library/Frameworks/Python.framework/Versions/3.5/lib/python3.5/site-packages/tensorflow/python/util/tf_inspect.py:55: DeprecationWarning: inspect.getargspec() is deprecated, use inspect.signature() instead\n",
      "  if d.decorator_argspec is not None), _inspect.getargspec(target))\n",
      "/Library/Frameworks/Python.framework/Versions/3.5/lib/python3.5/site-packages/tensorflow/python/util/tf_inspect.py:55: DeprecationWarning: inspect.getargspec() is deprecated, use inspect.signature() instead\n",
      "  if d.decorator_argspec is not None), _inspect.getargspec(target))\n",
      "/Library/Frameworks/Python.framework/Versions/3.5/lib/python3.5/site-packages/tensorflow/python/util/tf_inspect.py:55: DeprecationWarning: inspect.getargspec() is deprecated, use inspect.signature() instead\n",
      "  if d.decorator_argspec is not None), _inspect.getargspec(target))\n",
      "/Library/Frameworks/Python.framework/Versions/3.5/lib/python3.5/site-packages/tensorflow/python/util/tf_inspect.py:55: DeprecationWarning: inspect.getargspec() is deprecated, use inspect.signature() instead\n",
      "  if d.decorator_argspec is not None), _inspect.getargspec(target))\n",
      "/Library/Frameworks/Python.framework/Versions/3.5/lib/python3.5/site-packages/tensorflow/python/util/tf_inspect.py:55: DeprecationWarning: inspect.getargspec() is deprecated, use inspect.signature() instead\n",
      "  if d.decorator_argspec is not None), _inspect.getargspec(target))\n",
      "/Library/Frameworks/Python.framework/Versions/3.5/lib/python3.5/site-packages/tensorflow/python/util/tf_inspect.py:55: DeprecationWarning: inspect.getargspec() is deprecated, use inspect.signature() instead\n",
      "  if d.decorator_argspec is not None), _inspect.getargspec(target))\n",
      "/Library/Frameworks/Python.framework/Versions/3.5/lib/python3.5/site-packages/tensorflow/python/util/tf_inspect.py:55: DeprecationWarning: inspect.getargspec() is deprecated, use inspect.signature() instead\n",
      "  if d.decorator_argspec is not None), _inspect.getargspec(target))\n",
      "/Library/Frameworks/Python.framework/Versions/3.5/lib/python3.5/site-packages/tensorflow/python/util/tf_inspect.py:55: DeprecationWarning: inspect.getargspec() is deprecated, use inspect.signature() instead\n",
      "  if d.decorator_argspec is not None), _inspect.getargspec(target))\n",
      "/Library/Frameworks/Python.framework/Versions/3.5/lib/python3.5/site-packages/tensorflow/python/util/tf_inspect.py:55: DeprecationWarning: inspect.getargspec() is deprecated, use inspect.signature() instead\n",
      "  if d.decorator_argspec is not None), _inspect.getargspec(target))\n"
     ]
    },
    {
     "data": {
      "text/plain": [
       "'1.9.0-dev20180503'"
      ]
     },
     "execution_count": 5,
     "metadata": {},
     "output_type": "execute_result"
    }
   ],
   "source": [
    "import tensorflow as tf\n",
    "import tensorflow_probability as tfp\n",
    "\n",
    "tfd = tfp.distributions\n",
    "\n",
    "tf.__version__"
   ]
  },
  {
   "cell_type": "code",
   "execution_count": 6,
   "metadata": {
    "colab": {
     "autoexec": {
      "startup": false,
      "wait_interval": 0
     }
    },
    "colab_type": "code",
    "id": "wcHG4KB3jauc"
   },
   "outputs": [],
   "source": [
    "mu0 = tf.Variable(0., tf.float64)"
   ]
  },
  {
   "cell_type": "code",
   "execution_count": 7,
   "metadata": {
    "colab": {
     "autoexec": {
      "startup": false,
      "wait_interval": 0
     }
    },
    "colab_type": "code",
    "id": "hPC9_zuwj_xz"
   },
   "outputs": [],
   "source": [
    "mu_tf = tfd.Normal(loc=prior[0], scale=prior[1])"
   ]
  },
  {
   "cell_type": "code",
   "execution_count": 8,
   "metadata": {
    "colab": {
     "autoexec": {
      "startup": false,
      "wait_interval": 0
     },
     "base_uri": "https://localhost:8080/",
     "height": 35,
     "output_extras": [
      {
       "item_id": 1
      }
     ]
    },
    "colab_type": "code",
    "executionInfo": {
     "elapsed": 408,
     "status": "ok",
     "timestamp": 1520330751617,
     "user": {
      "displayName": "Charles Lao",
      "photoUrl": "//lh6.googleusercontent.com/-tlKDbTjNSYQ/AAAAAAAAAAI/AAAAAAAAA-0/skVQo0Ji1Pw/s50-c-k-no/photo.jpg",
      "userId": "105576906394621715471"
     },
     "user_tz": -60
    },
    "id": "2TnPQx0IkLhg",
    "outputId": "f28da80d-764a-493e-f8b3-df024146aab8"
   },
   "outputs": [
    {
     "data": {
      "text/plain": [
       "<tf.Tensor 'Normal/log_prob/sub:0' shape=() dtype=float32>"
      ]
     },
     "execution_count": 8,
     "metadata": {},
     "output_type": "execute_result"
    }
   ],
   "source": [
    "mu_tf.log_prob(mu0)"
   ]
  },
  {
   "cell_type": "code",
   "execution_count": 9,
   "metadata": {
    "colab": {
     "autoexec": {
      "startup": false,
      "wait_interval": 0
     }
    },
    "colab_type": "code",
    "id": "5vE1M-wNjc8h"
   },
   "outputs": [],
   "source": [
    "y_tf = tfd.Normal(loc=mu0, scale=1.)\n",
    "logp_tf = y_tf.log_prob(data) + mu_tf.log_prob(mu0)"
   ]
  },
  {
   "cell_type": "code",
   "execution_count": 10,
   "metadata": {
    "colab": {
     "autoexec": {
      "startup": false,
      "wait_interval": 0
     },
     "base_uri": "https://localhost:8080/",
     "height": 35,
     "output_extras": [
      {
       "item_id": 1
      }
     ]
    },
    "colab_type": "code",
    "executionInfo": {
     "elapsed": 402,
     "status": "ok",
     "timestamp": 1520330752861,
     "user": {
      "displayName": "Charles Lao",
      "photoUrl": "//lh6.googleusercontent.com/-tlKDbTjNSYQ/AAAAAAAAAAI/AAAAAAAAA-0/skVQo0Ji1Pw/s50-c-k-no/photo.jpg",
      "userId": "105576906394621715471"
     },
     "user_tz": -60
    },
    "id": "HZaw17crjt62",
    "outputId": "acc62da8-b372-439e-f811-ea4fca984566"
   },
   "outputs": [
    {
     "name": "stdout",
     "output_type": "stream",
     "text": [
      "-56.443047\n"
     ]
    }
   ],
   "source": [
    "sess = tf.Session()\n",
    "init = tf.global_variables_initializer()\n",
    "sess.run(init)\n",
    "print(sess.run(logp_tf))"
   ]
  },
  {
   "cell_type": "markdown",
   "metadata": {
    "colab_type": "text",
    "id": "Kpx4RWll2vD-"
   },
   "source": [
    "Metropolis–Hastings algorithm, with kernel and control flow in numpy:"
   ]
  },
  {
   "cell_type": "code",
   "execution_count": 11,
   "metadata": {
    "colab": {
     "autoexec": {
      "startup": false,
      "wait_interval": 0
     }
    },
    "colab_type": "code",
    "id": "ns2oNxxMCu5c"
   },
   "outputs": [],
   "source": [
    "scale = 1.\n",
    "nsample = 10000"
   ]
  },
  {
   "cell_type": "markdown",
   "metadata": {
    "colab_type": "text",
    "id": "f1sFja6ZEHWY"
   },
   "source": [
    "Tensorflow version:"
   ]
  },
  {
   "cell_type": "code",
   "execution_count": 12,
   "metadata": {
    "colab": {
     "autoexec": {
      "startup": false,
      "wait_interval": 0
     },
     "base_uri": "https://localhost:8080/",
     "height": 54,
     "output_extras": [
      {
       "item_id": 1
      }
     ]
    },
    "colab_type": "code",
    "executionInfo": {
     "elapsed": 3596,
     "status": "ok",
     "timestamp": 1520330757173,
     "user": {
      "displayName": "Charles Lao",
      "photoUrl": "//lh6.googleusercontent.com/-tlKDbTjNSYQ/AAAAAAAAAAI/AAAAAAAAA-0/skVQo0Ji1Pw/s50-c-k-no/photo.jpg",
      "userId": "105576906394621715471"
     },
     "user_tz": -60
    },
    "id": "1OsCr_yD2QOS",
    "outputId": "bca022e8-ae69-4464-fb0d-c7077ca49e44"
   },
   "outputs": [
    {
     "name": "stdout",
     "output_type": "stream",
     "text": [
      "CPU times: user 4.12 s, sys: 460 ms, total: 4.58 s\n",
      "Wall time: 4.02 s\n"
     ]
    }
   ],
   "source": [
    "%%time\n",
    "trace = dict(mu=np.zeros(nsample),\n",
    "             logp=np.zeros(nsample),\n",
    "             accept=np.zeros(nsample))\n",
    "\n",
    "# logp0 = sess.run(logp_tf, feed_dict={mu0: 0.})\n",
    "with sess.as_default():\n",
    "    logp0 = logp_tf.eval({mu0: 0.})\n",
    "\n",
    "trace['mu'][0] = 0.\n",
    "trace['logp'][0] = logp0\n",
    "trace['accept'][0] = 1\n",
    "\n",
    "for s in range(1, nsample):\n",
    "    mu_ = trace['mu'][s-1]\n",
    "    logp_ = trace['logp'][s-1]\n",
    "    mu_p = mu_ + np.random.randn()*scale\n",
    "\n",
    "    # evaluation of logp\n",
    "    logp_p = sess.run(logp_tf, feed_dict={mu0: mu_p})\n",
    "#     with sess.as_default():\n",
    "#         logp_p = logp_tf.eval({mu0: mu_p})\n",
    "\n",
    "    if np.log(np.random.rand()) < logp_p-logp_:\n",
    "        trace['mu'][s] = mu_p\n",
    "        trace['logp'][s] = logp_p\n",
    "        trace['accept'][s] = 1\n",
    "    else:\n",
    "        trace['mu'][s] = mu_\n",
    "        trace['logp'][s] = logp_\n",
    "        trace['accept'][s] = 0"
   ]
  },
  {
   "cell_type": "code",
   "execution_count": 13,
   "metadata": {
    "colab": {
     "autoexec": {
      "startup": false,
      "wait_interval": 0
     },
     "base_uri": "https://localhost:8080/",
     "height": 154,
     "output_extras": [
      {
       "item_id": 1
      }
     ]
    },
    "colab_type": "code",
    "executionInfo": {
     "elapsed": 1007,
     "status": "ok",
     "timestamp": 1520330758203,
     "user": {
      "displayName": "Charles Lao",
      "photoUrl": "//lh6.googleusercontent.com/-tlKDbTjNSYQ/AAAAAAAAAAI/AAAAAAAAA-0/skVQo0Ji1Pw/s50-c-k-no/photo.jpg",
      "userId": "105576906394621715471"
     },
     "user_tz": -60
    },
    "id": "ORe0SH1j_wgy",
    "outputId": "cb4ed60b-30a5-47c9-a6d5-433d6c703d4a"
   },
   "outputs": [
    {
     "data": {
      "image/png": "[encoded data removed]",
      "text/plain": [
       "<matplotlib.figure.Figure at 0x11c492e48>"
      ]
     },
     "metadata": {},
     "output_type": "display_data"
    }
   ],
   "source": [
    "trace_tf = trace\n",
    "_, ax = plt.subplots(1, 3, figsize=(15, 2))\n",
    "pm.kdeplot(trace['mu'], ax=ax[0])\n",
    "ax[1].plot(trace['mu'])\n",
    "ax[1].set_title('Mean acceptance ratio: {:.5f}'\n",
    "                .format(trace['accept'].mean()))\n",
    "ax[2].plot(trace['logp'])\n",
    "plt.tight_layout();"
   ]
  },
  {
   "cell_type": "markdown",
   "metadata": {
    "colab_type": "text",
    "id": "_w0D97LhEqeL"
   },
   "source": [
    "Theano version:"
   ]
  },
  {
   "cell_type": "code",
   "execution_count": 14,
   "metadata": {
    "colab": {
     "autoexec": {
      "startup": false,
      "wait_interval": 0
     },
     "base_uri": "https://localhost:8080/",
     "height": 54,
     "output_extras": [
      {
       "item_id": 1
      }
     ]
    },
    "colab_type": "code",
    "executionInfo": {
     "elapsed": 1090,
     "status": "ok",
     "timestamp": 1520330759320,
     "user": {
      "displayName": "Charles Lao",
      "photoUrl": "//lh6.googleusercontent.com/-tlKDbTjNSYQ/AAAAAAAAAAI/AAAAAAAAA-0/skVQo0Ji1Pw/s50-c-k-no/photo.jpg",
      "userId": "105576906394621715471"
     },
     "user_tz": -60
    },
    "id": "L_Oos5hG7Ayw",
    "outputId": "30a29816-daf0-4196-a305-2869344b65b1"
   },
   "outputs": [
    {
     "name": "stdout",
     "output_type": "stream",
     "text": [
      "CPU times: user 605 ms, sys: 8.99 ms, total: 614 ms\n",
      "Wall time: 656 ms\n"
     ]
    }
   ],
   "source": [
    "%%time\n",
    "trace = dict(mu=np.zeros(nsample),\n",
    "             logp=np.zeros(nsample),\n",
    "             accept=np.zeros(nsample))\n",
    "\n",
    "logp0 = logp_th.eval({mu_th: 0.})\n",
    "  \n",
    "trace['mu'][0] = 0.\n",
    "trace['logp'][0] = logp0\n",
    "trace['accept'][0] = 1\n",
    "\n",
    "for s in range(1, nsample):\n",
    "    mu_ = trace['mu'][s-1]\n",
    "    logp_ = trace['logp'][s-1]\n",
    "    mu_p = mu_ + np.random.randn()*scale\n",
    "\n",
    "    # evaluation of logp\n",
    "    logp_p = logp_th.eval({mu_th: mu_p})\n",
    "\n",
    "    if np.log(np.random.rand()) < logp_p-logp_:\n",
    "        trace['mu'][s] = mu_p\n",
    "        trace['logp'][s] = logp_p\n",
    "        trace['accept'][s] = 1\n",
    "    else:\n",
    "        trace['mu'][s] = mu_\n",
    "        trace['logp'][s] = logp_\n",
    "        trace['accept'][s] = 0"
   ]
  },
  {
   "cell_type": "code",
   "execution_count": 15,
   "metadata": {
    "colab": {
     "autoexec": {
      "startup": false,
      "wait_interval": 0
     },
     "base_uri": "https://localhost:8080/",
     "height": 154,
     "output_extras": [
      {
       "item_id": 1
      }
     ]
    },
    "colab_type": "code",
    "executionInfo": {
     "elapsed": 1067,
     "status": "ok",
     "timestamp": 1520330760413,
     "user": {
      "displayName": "Charles Lao",
      "photoUrl": "//lh6.googleusercontent.com/-tlKDbTjNSYQ/AAAAAAAAAAI/AAAAAAAAA-0/skVQo0Ji1Pw/s50-c-k-no/photo.jpg",
      "userId": "105576906394621715471"
     },
     "user_tz": -60
    },
    "id": "g9a2dG1Z6kmM",
    "outputId": "77c1a2f9-8157-4c58-c000-ea94e6d384c2"
   },
   "outputs": [
    {
     "data": {
      "image/png": "[encoded data removed]",
      "text/plain": [
       "<matplotlib.figure.Figure at 0x12e7e2da0>"
      ]
     },
     "metadata": {},
     "output_type": "display_data"
    }
   ],
   "source": [
    "trace_th = trace\n",
    "_, ax = plt.subplots(1, 3, figsize=(15, 2))\n",
    "pm.kdeplot(trace['mu'], ax=ax[0])\n",
    "ax[1].plot(trace['mu'])\n",
    "ax[1].set_title('Mean acceptance ratio: {:.5f}'\n",
    "                .format(trace['accept'].mean()))\n",
    "ax[2].plot(trace['logp'])\n",
    "plt.tight_layout();"
   ]
  },
  {
   "cell_type": "markdown",
   "metadata": {
    "colab_type": "text",
    "id": "VIph2peAE7hc"
   },
   "source": [
    "As you can see from the timing above, the sampling is way faster in theano. Basically, if we are going to do everything in an imperative programming style, the speed comes down to how fast you can evaluate logp (and dlogp in gradient based method).\n",
    "\n",
    "~~Using the MH from tensorflow is pretty fast, however, it is not quite what we used to as it does not output the whole chain, instead it ouputs the final state. In a way you can use it as if it output a chain (or a particle filter / SMC). For example, specifying the number of chain = nsample we can treat the final output as samples from the posterior.~~\n",
    "\n",
    "The key of getting good performance using tensorflow is to save all the result in the graph, and then fetch the value back to python once sampling is done:  \n",
    "MH sampling with a random walk kernel, in tensorflow/probability"
   ]
  },
  {
   "cell_type": "code",
   "execution_count": 16,
   "metadata": {},
   "outputs": [],
   "source": [
    "from tensorflow_probability.python.mcmc.random_walk_metropolis import random_walk_normal_fn\n",
    "from tensorflow_probability import edward2 as ed"
   ]
  },
  {
   "cell_type": "code",
   "execution_count": 17,
   "metadata": {},
   "outputs": [
    {
     "name": "stderr",
     "output_type": "stream",
     "text": [
      "/Library/Frameworks/Python.framework/Versions/3.5/lib/python3.5/site-packages/tensorflow/python/util/tf_inspect.py:55: DeprecationWarning: inspect.getargspec() is deprecated, use inspect.signature() instead\n",
      "  if d.decorator_argspec is not None), _inspect.getargspec(target))\n",
      "/Library/Frameworks/Python.framework/Versions/3.5/lib/python3.5/site-packages/tensorflow/python/util/tf_inspect.py:55: DeprecationWarning: inspect.getargspec() is deprecated, use inspect.signature() instead\n",
      "  if d.decorator_argspec is not None), _inspect.getargspec(target))\n",
      "/Library/Frameworks/Python.framework/Versions/3.5/lib/python3.5/site-packages/tensorflow/python/util/tf_inspect.py:55: DeprecationWarning: inspect.getargspec() is deprecated, use inspect.signature() instead\n",
      "  if d.decorator_argspec is not None), _inspect.getargspec(target))\n",
      "/Library/Frameworks/Python.framework/Versions/3.5/lib/python3.5/site-packages/tensorflow/python/util/tf_inspect.py:55: DeprecationWarning: inspect.getargspec() is deprecated, use inspect.signature() instead\n",
      "  if d.decorator_argspec is not None), _inspect.getargspec(target))\n",
      "/Library/Frameworks/Python.framework/Versions/3.5/lib/python3.5/site-packages/tensorflow/python/util/tf_inspect.py:55: DeprecationWarning: inspect.getargspec() is deprecated, use inspect.signature() instead\n",
      "  if d.decorator_argspec is not None), _inspect.getargspec(target))\n"
     ]
    },
    {
     "name": "stdout",
     "output_type": "stream",
     "text": [
      "Estimated mean: 9.791464805603027\n",
      "Estimated standard deviation: 0.9650713205337524\n"
     ]
    }
   ],
   "source": [
    "dtype = np.float32\n",
    "def target_log_prob(x):\n",
    "    latent = tfd.Normal(loc=dtype(0), scale=dtype(100))\n",
    "    y = tfd.Normal(loc=x, scale=dtype(1))\n",
    "    return latent.log_prob(x)+y.log_prob(data)\n",
    "\n",
    "samples, _ = tfp.mcmc.sample_chain(\n",
    "    num_results=1000,\n",
    "    current_state=dtype(1),\n",
    "    kernel=tfp.mcmc.RandomWalkMetropolis(\n",
    "        target_log_prob,\n",
    "        seed=42),\n",
    "    num_burnin_steps=500,\n",
    "    parallel_iterations=1)  # For determinism.\n",
    "sample_mean = tf.reduce_mean(samples, axis=0)\n",
    "sample_std = tf.sqrt(\n",
    "    tf.reduce_mean(tf.squared_difference(samples, sample_mean),\n",
    "                   axis=0))\n",
    "with tf.Session() as sess:\n",
    "    [sample_mean_, sample_std_] = sess.run([sample_mean, sample_std])\n",
    "\n",
    "print('Estimated mean: {}'.format(sample_mean_))\n",
    "print('Estimated standard deviation: {}'.format(sample_std_))"
   ]
  },
  {
   "cell_type": "code",
   "execution_count": 18,
   "metadata": {
    "colab": {
     "autoexec": {
      "startup": false,
      "wait_interval": 0
     }
    },
    "colab_type": "code",
    "id": "QDFlFWR4dMkK"
   },
   "outputs": [],
   "source": [
    "tf.reset_default_graph()\n",
    "\n",
    "def Normal_model():\n",
    "    x = ed.Normal(loc=0., scale=100., name='x')\n",
    "    y = ed.Normal(loc=x, scale=1., name='y')\n",
    "    return y\n",
    "\n",
    "model_template = tf.make_template('Normal_model', Normal_model)\n",
    "log_joint = ed.make_log_joint_fn(model_template)\n",
    "\n",
    "def target_log_prob_fn(x):\n",
    "    \"\"\"Unnormalized target density as a function of states.\"\"\"\n",
    "    return log_joint(x=x, y=data)"
   ]
  },
  {
   "cell_type": "code",
   "execution_count": 19,
   "metadata": {},
   "outputs": [
    {
     "name": "stderr",
     "output_type": "stream",
     "text": [
      "/Library/Frameworks/Python.framework/Versions/3.5/lib/python3.5/site-packages/tensorflow_probability/python/edward2/program_transformations.py:132: DeprecationWarning: inspect.getargspec() is deprecated, use inspect.signature() instead\n",
      "  argspec = inspect.getargspec(f._func)  # pylint: disable=protected-access\n",
      "/Library/Frameworks/Python.framework/Versions/3.5/lib/python3.5/site-packages/tensorflow/python/util/tf_inspect.py:55: DeprecationWarning: inspect.getargspec() is deprecated, use inspect.signature() instead\n",
      "  if d.decorator_argspec is not None), _inspect.getargspec(target))\n",
      "/Library/Frameworks/Python.framework/Versions/3.5/lib/python3.5/site-packages/tensorflow/python/util/tf_inspect.py:55: DeprecationWarning: inspect.getargspec() is deprecated, use inspect.signature() instead\n",
      "  if d.decorator_argspec is not None), _inspect.getargspec(target))\n",
      "/Library/Frameworks/Python.framework/Versions/3.5/lib/python3.5/site-packages/tensorflow_probability/python/edward2/program_transformations.py:132: DeprecationWarning: inspect.getargspec() is deprecated, use inspect.signature() instead\n",
      "  argspec = inspect.getargspec(f._func)  # pylint: disable=protected-access\n",
      "/Library/Frameworks/Python.framework/Versions/3.5/lib/python3.5/site-packages/tensorflow/python/util/tf_inspect.py:55: DeprecationWarning: inspect.getargspec() is deprecated, use inspect.signature() instead\n",
      "  if d.decorator_argspec is not None), _inspect.getargspec(target))\n",
      "/Library/Frameworks/Python.framework/Versions/3.5/lib/python3.5/site-packages/tensorflow/python/util/tf_inspect.py:55: DeprecationWarning: inspect.getargspec() is deprecated, use inspect.signature() instead\n",
      "  if d.decorator_argspec is not None), _inspect.getargspec(target))\n",
      "/Library/Frameworks/Python.framework/Versions/3.5/lib/python3.5/site-packages/tensorflow/python/util/tf_inspect.py:55: DeprecationWarning: inspect.getargspec() is deprecated, use inspect.signature() instead\n",
      "  if d.decorator_argspec is not None), _inspect.getargspec(target))\n",
      "/Library/Frameworks/Python.framework/Versions/3.5/lib/python3.5/site-packages/tensorflow/python/util/tf_inspect.py:55: DeprecationWarning: inspect.getargspec() is deprecated, use inspect.signature() instead\n",
      "  if d.decorator_argspec is not None), _inspect.getargspec(target))\n",
      "/Library/Frameworks/Python.framework/Versions/3.5/lib/python3.5/site-packages/tensorflow/python/util/tf_inspect.py:55: DeprecationWarning: inspect.getargspec() is deprecated, use inspect.signature() instead\n",
      "  if d.decorator_argspec is not None), _inspect.getargspec(target))\n"
     ]
    },
    {
     "name": "stdout",
     "output_type": "stream",
     "text": [
      "CPU times: user 469 ms, sys: 13.2 ms, total: 482 ms\n",
      "Wall time: 528 ms\n"
     ]
    }
   ],
   "source": [
    "%%time\n",
    "trace = dict(mu=np.zeros(nsample),\n",
    "             logp=np.zeros(nsample),\n",
    "             accept=np.zeros(nsample))\n",
    "\n",
    "samples, kernelresult = tfp.mcmc.sample_chain(\n",
    "    num_results=nsample,\n",
    "    current_state=tf.zeros([], name='x'),\n",
    "    kernel=tfp.mcmc.RandomWalkMetropolis(\n",
    "        target_log_prob_fn,\n",
    "        seed=42),\n",
    "    num_burnin_steps=0,\n",
    "    parallel_iterations=1)  # For determinism."
   ]
  },
  {
   "cell_type": "markdown",
   "metadata": {},
   "source": [
    "Sampling is fairly fast, but fetching the result from the graph still takes some time"
   ]
  },
  {
   "cell_type": "code",
   "execution_count": 20,
   "metadata": {
    "scrolled": false
   },
   "outputs": [],
   "source": [
    "with tf.Session() as sess:\n",
    "    [\n",
    "        trace['mu'],\n",
    "        trace['logp'],\n",
    "        trace['accept']\n",
    "    ] = sess.run(\n",
    "        [samples,\n",
    "         target_log_prob(samples),\n",
    "         kernelresult.is_accepted\n",
    "         ])"
   ]
  },
  {
   "cell_type": "code",
   "execution_count": 21,
   "metadata": {},
   "outputs": [
    {
     "data": {
      "image/png": "[encoded data removed]",
      "text/plain": [
       "<matplotlib.figure.Figure at 0x1314362e8>"
      ]
     },
     "metadata": {},
     "output_type": "display_data"
    }
   ],
   "source": [
    "trace_tf1 = trace\n",
    "_, ax = plt.subplots(1, 3, figsize=(15, 2))\n",
    "pm.kdeplot(trace['mu'], ax=ax[0])\n",
    "ax[1].plot(trace['mu'])\n",
    "ax[2].plot(trace['logp'])\n",
    "plt.tight_layout();"
   ]
  },
  {
   "cell_type": "code",
   "execution_count": 22,
   "metadata": {},
   "outputs": [],
   "source": [
    "kernel=tfp.mcmc.RandomWalkMetropolis(\n",
    "       target_log_prob,\n",
    "       seed=42)"
   ]
  },
  {
   "cell_type": "code",
   "execution_count": 23,
   "metadata": {},
   "outputs": [],
   "source": [
    "state = tf.zeros([], name='x')\n",
    "previous_kernel_results = kernel.bootstrap_results(state)"
   ]
  },
  {
   "cell_type": "code",
   "execution_count": 24,
   "metadata": {},
   "outputs": [
    {
     "name": "stderr",
     "output_type": "stream",
     "text": [
      "/Library/Frameworks/Python.framework/Versions/3.5/lib/python3.5/site-packages/tensorflow/python/util/tf_inspect.py:55: DeprecationWarning: inspect.getargspec() is deprecated, use inspect.signature() instead\n",
      "  if d.decorator_argspec is not None), _inspect.getargspec(target))\n",
      "/Library/Frameworks/Python.framework/Versions/3.5/lib/python3.5/site-packages/tensorflow/python/util/tf_inspect.py:55: DeprecationWarning: inspect.getargspec() is deprecated, use inspect.signature() instead\n",
      "  if d.decorator_argspec is not None), _inspect.getargspec(target))\n",
      "/Library/Frameworks/Python.framework/Versions/3.5/lib/python3.5/site-packages/tensorflow/python/util/tf_inspect.py:55: DeprecationWarning: inspect.getargspec() is deprecated, use inspect.signature() instead\n",
      "  if d.decorator_argspec is not None), _inspect.getargspec(target))\n"
     ]
    },
    {
     "data": {
      "text/plain": [
       "(<tf.Tensor 'mh_one_step/choose_next_state/Select:0' shape=() dtype=float32>,\n",
       " MetropolisHastingsKernelResults(accepted_results=UncalibratedRandomWalkResults(log_acceptance_correction=<tf.Tensor 'mh_one_step/choose_inner_results/Select:0' shape=() dtype=float32>, target_log_prob=<tf.Tensor 'mh_one_step/choose_inner_results_1/Select:0' shape=() dtype=float32>), is_accepted=<tf.Tensor 'mh_one_step/Less:0' shape=() dtype=bool>, log_accept_ratio=<tf.Tensor 'mh_one_step/compute_log_accept_ratio/Sum:0' shape=() dtype=float32>, proposed_state=<tf.Tensor 'mh_one_step/rwm_one_step/random_walk_normal_fn/random_normal:0' shape=() dtype=float32>, proposed_results=UncalibratedRandomWalkResults(log_acceptance_correction=<tf.Tensor 'mh_one_step/rwm_one_step/zeros:0' shape=() dtype=float32>, target_log_prob=<tf.Tensor 'mh_one_step/rwm_one_step/add:0' shape=() dtype=float32>)))"
      ]
     },
     "execution_count": 24,
     "metadata": {},
     "output_type": "execute_result"
    }
   ],
   "source": [
    "kernel.one_step(state, previous_kernel_results)"
   ]
  },
  {
   "cell_type": "code",
   "execution_count": 25,
   "metadata": {
    "colab": {
     "autoexec": {
      "startup": false,
      "wait_interval": 0
     },
     "base_uri": "https://localhost:8080/",
     "height": 54,
     "output_extras": [
      {
       "item_id": 1
      }
     ]
    },
    "colab_type": "code",
    "executionInfo": {
     "elapsed": 3080,
     "status": "ok",
     "timestamp": 1520338364097,
     "user": {
      "displayName": "Charles Lao",
      "photoUrl": "//lh6.googleusercontent.com/-tlKDbTjNSYQ/AAAAAAAAAAI/AAAAAAAAA-0/skVQo0Ji1Pw/s50-c-k-no/photo.jpg",
      "userId": "105576906394621715471"
     },
     "user_tz": -60
    },
    "id": "Zc4dOgvr2lQK",
    "outputId": "31343836-4184-4f2c-8487-6c92edf287e5"
   },
   "outputs": [
    {
     "name": "stdout",
     "output_type": "stream",
     "text": [
      "CPU times: user 12 s, sys: 8.36 s, total: 20.4 s\n",
      "Wall time: 17.1 s\n"
     ]
    }
   ],
   "source": [
    "%%time\n",
    "ndim = 100\n",
    "nstep = 10000\n",
    "\n",
    "tf.reset_default_graph()\n",
    "i0 = tf.constant(0)\n",
    "m0 = tf.ones([1, ndim])\n",
    "walk = tf.random_normal([1, ndim], mean=0., stddev=1.)\n",
    "c = lambda i, m: i < nstep\n",
    "b = lambda i, m: [i+1, \n",
    "                  tf.concat([m, m[-1]+tf.random_normal([1, ndim], mean=0., stddev=1.)], \n",
    "                            axis=0)]\n",
    "r = tf.while_loop(\n",
    "    c, b, loop_vars=[i0, m0],\n",
    "    shape_invariants=[i0.get_shape(), tf.TensorShape([None, ndim])])\n",
    "\n",
    "init = tf.global_variables_initializer()\n",
    "with tf.Session() as sess:\n",
    "    sess.run(init)\n",
    "    r_ = sess.run(r)"
   ]
  },
  {
   "cell_type": "code",
   "execution_count": 26,
   "metadata": {
    "colab": {
     "autoexec": {
      "startup": false,
      "wait_interval": 0
     },
     "base_uri": "https://localhost:8080/",
     "height": 265,
     "output_extras": [
      {
       "item_id": 1
      }
     ]
    },
    "colab_type": "code",
    "executionInfo": {
     "elapsed": 2204,
     "status": "ok",
     "timestamp": 1520338366324,
     "user": {
      "displayName": "Charles Lao",
      "photoUrl": "//lh6.googleusercontent.com/-tlKDbTjNSYQ/AAAAAAAAAAI/AAAAAAAAA-0/skVQo0Ji1Pw/s50-c-k-no/photo.jpg",
      "userId": "105576906394621715471"
     },
     "user_tz": -60
    },
    "id": "6bztT1OKNAgr",
    "outputId": "eb0b0255-ae79-4302-d817-131a9446a61e"
   },
   "outputs": [
    {
     "data": {
      "image/png": "[encoded data removed]",
      "text/plain": [
       "<matplotlib.figure.Figure at 0x1323edc50>"
      ]
     },
     "metadata": {},
     "output_type": "display_data"
    }
   ],
   "source": [
    "plt.plot(r_[1], alpha=.1);"
   ]
  },
  {
   "cell_type": "markdown",
   "metadata": {},
   "source": [
    "# Modified based on Bayesflow [OLD CODE]"
   ]
  },
  {
   "cell_type": "code",
   "execution_count": null,
   "metadata": {
    "colab": {
     "autoexec": {
      "startup": false,
      "wait_interval": 0
     }
    },
    "colab_type": "code",
    "id": "QDFlFWR4dMkK"
   },
   "outputs": [],
   "source": [
    "tf.reset_default_graph()\n",
    "# Generate nsample initial values randomly. Each of these would be an\n",
    "# independent starting point for a Markov chain.\n",
    "state = variable_scope.get_variable('state', initializer=[0.0])\n",
    "\n",
    "# Computes the log(p(x))\n",
    "def log_density(x):\n",
    "    mu = tfd.Normal(loc=0., scale=100.)\n",
    "    y = tfd.Normal(loc=x, scale=1.)\n",
    "    logp2 = y.log_prob(data)+mu.log_prob(x)\n",
    "    return logp2\n",
    "\n",
    "# Initial log-density value\n",
    "state_log_density = tf.get_variable(\n",
    "    \"state_log_density\",\n",
    "    initializer=log_density(state.initialized_value()))\n",
    "\n",
    "# A variable to store the log_acceptance_ratio:\n",
    "log_acceptance_ratio = tf.get_variable(\n",
    "    \"log_acceptance_ratio\",\n",
    "    initializer=tf.zeros([1], dtype=tf.float32))\n",
    "\n",
    "# Generates random proposals\n",
    "def random_proposal(x):\n",
    "      return (x + tf.random_normal(tf.shape(x), mean=0., stddev=scale,\n",
    "                                dtype=x.dtype, seed=12)), None"
   ]
  },
  {
   "cell_type": "code",
   "execution_count": null,
   "metadata": {},
   "outputs": [],
   "source": [
    "from tensorflow.python.framework import ops\n",
    "from tensorflow.python.ops import control_flow_ops\n",
    "\n",
    "def mhevolve(initial_sample,\n",
    "           initial_log_density,\n",
    "           initial_log_accept_ratio,\n",
    "           target_log_prob_fn,\n",
    "           proposal_fn,\n",
    "           n_steps=1,\n",
    "           seed=None,\n",
    "           name=None):\n",
    "    with ops.name_scope(name, \"metropolis_hastings\", [initial_sample]):\n",
    "        current_state = tf.expand_dims(initial_sample, 0)\n",
    "        current_target_log_prob = tf.expand_dims(initial_log_density, 0)\n",
    "        log_accept_ratio = initial_log_accept_ratio\n",
    "\n",
    "        def step(i, current_state, current_target_log_prob, log_accept_ratio):\n",
    "            \"\"\"Wrap single Markov chain iteration in `while_loop`.\"\"\"\n",
    "            next_state, kernel_results = mh.kernel(\n",
    "                      target_log_prob_fn=target_log_prob_fn,\n",
    "                      proposal_fn=proposal_fn,\n",
    "                      current_state=current_state[-1, :],\n",
    "                      current_target_log_prob=current_target_log_prob[-1, :],\n",
    "                      seed=seed)\n",
    "            accepted_log_prob = kernel_results.current_target_log_prob\n",
    "            log_accept_ratio = kernel_results.log_accept_ratio\n",
    "            current_state = tf.concat([current_state, tf.expand_dims(next_state, 0)], \n",
    "                            axis=0)\n",
    "            current_target_log_prob = tf.concat([current_target_log_prob,\n",
    "                                                 tf.expand_dims(accepted_log_prob, 0)], \n",
    "                            axis=0)\n",
    "            return i + 1, current_state, current_target_log_prob, log_accept_ratio\n",
    "        \n",
    "        i0 = tf.constant(0)\n",
    "        \n",
    "        (_, accepted_state, accepted_target_log_prob, accepted_log_accept_ratio) = (\n",
    "            control_flow_ops.while_loop(\n",
    "                cond=lambda i, *ignored_args: i < n_steps,\n",
    "                body=step,\n",
    "                loop_vars=[\n",
    "                    i0,  # i\n",
    "                    current_state,\n",
    "                    current_target_log_prob,\n",
    "                    log_accept_ratio,\n",
    "                ],\n",
    "                # the magic here\n",
    "                shape_invariants=[\n",
    "                    i0.get_shape(),\n",
    "                    tf.TensorShape([None, 1]),\n",
    "                    tf.TensorShape([None, 1]),\n",
    "                    log_accept_ratio.get_shape(),\n",
    "                ],\n",
    "                parallel_iterations=1 if seed is not None else 10,\n",
    "                # TODO(b/73775595): Confirm optimal setting of swap_memory.\n",
    "                swap_memory=1))\n",
    "\n",
    "        forward_step = control_flow_ops.group(\n",
    "            accepted_target_log_prob,\n",
    "            accepted_state,\n",
    "            accepted_log_accept_ratio\n",
    "        )\n",
    "\n",
    "    return accepted_state, accepted_target_log_prob, accepted_log_accept_ratio"
   ]
  },
  {
   "cell_type": "code",
   "execution_count": null,
   "metadata": {
    "colab": {
     "autoexec": {
      "startup": false,
      "wait_interval": 0
     },
     "base_uri": "https://localhost:8080/",
     "height": 54,
     "output_extras": [
      {
       "item_id": 1
      }
     ]
    },
    "colab_type": "code",
    "executionInfo": {
     "elapsed": 416,
     "status": "ok",
     "timestamp": 1520333261814,
     "user": {
      "displayName": "Charles Lao",
      "photoUrl": "//lh6.googleusercontent.com/-tlKDbTjNSYQ/AAAAAAAAAAI/AAAAAAAAA-0/skVQo0Ji1Pw/s50-c-k-no/photo.jpg",
      "userId": "105576906394621715471"
     },
     "user_tz": -60
    },
    "id": "fN6TVo0BHD7J",
    "outputId": "6a4a0d8a-1320-4181-9bbf-27220553fde1"
   },
   "outputs": [],
   "source": [
    "%%time\n",
    "#  Create the op to propagate the chain for 100 steps.\n",
    "accepted_state, accepted_target_log_prob, accepted_log_accept_ratio = mhevolve(\n",
    "    state, state_log_density, log_acceptance_ratio,\n",
    "    log_density, random_proposal, n_steps=nsample, seed=123)\n",
    "\n",
    "init = tf.global_variables_initializer()\n",
    "with tf.Session() as sess:\n",
    "    sess.run(init)\n",
    "    # Run the chains for a total of 1000 steps\n",
    "    # Executing the stepper advances the chain to the next state.\n",
    "    samples, alog_prob, a_ratio = sess.run(\n",
    "        [accepted_state, accepted_target_log_prob, accepted_log_accept_ratio])"
   ]
  },
  {
   "cell_type": "code",
   "execution_count": null,
   "metadata": {},
   "outputs": [],
   "source": [
    "trace = dict(mu=np.zeros(nsample),\n",
    "             logp=np.zeros(nsample),\n",
    "             accept=np.zeros(nsample))\n",
    "\n",
    "trace['mu'] = samples[1:].squeeze()\n",
    "trace['logp'] = alog_prob[1:].squeeze()\n",
    "trace['accept'][1:] = trace['mu'][1:] != trace['mu'][:-1]"
   ]
  },
  {
   "cell_type": "code",
   "execution_count": null,
   "metadata": {},
   "outputs": [],
   "source": [
    "trace_tf3 = trace\n",
    "_, ax = plt.subplots(1, 3, figsize=(15, 2))\n",
    "pm.kdeplot(trace['mu'], ax=ax[0])\n",
    "ax[1].plot(trace['mu'])\n",
    "ax[1].set_title('Mean acceptance ratio: {:.5f}'\n",
    "                .format(trace['accept'].mean()))\n",
    "ax[2].plot(trace['logp'])\n",
    "plt.tight_layout();"
   ]
  }
 ],
 "metadata": {
  "_draft": {
   "nbviewer_url": "https://gist.github.com/1518c75a815de36156cabd3aedf494ba"
  },
  "colab": {
   "collapsed_sections": [],
   "default_view": {},
   "name": "Barebone Bayesian.ipynb",
   "provenance": [],
   "version": "0.3.2",
   "views": {}
  },
  "gist": {
   "data": {
    "description": "Documents/Github/Human_Learning/Miscellaneous/Barebone_Bayesian.ipynb",
    "public": false
   },
   "id": "1518c75a815de36156cabd3aedf494ba"
  },
  "kernelspec": {
   "display_name": "Python 3",
   "language": "python",
   "name": "python3"
  },
  "language_info": {
   "codemirror_mode": {
    "name": "ipython",
    "version": 3
   },
   "file_extension": ".py",
   "mimetype": "text/x-python",
   "name": "python",
   "nbconvert_exporter": "python",
   "pygments_lexer": "ipython3",
   "version": "3.5.1"
  }
 },
 "nbformat": 4,
 "nbformat_minor": 1
}
