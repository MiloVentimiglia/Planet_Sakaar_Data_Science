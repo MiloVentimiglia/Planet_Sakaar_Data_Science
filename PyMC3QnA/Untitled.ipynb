{
 "cells": [
  {
   "cell_type": "code",
   "execution_count": 3,
   "metadata": {},
   "outputs": [],
   "source": [
    "import numpy as np\n",
    "import pymc3 as pm\n",
    "import theano.tensor as tt"
   ]
  },
  {
   "cell_type": "code",
   "execution_count": 4,
   "metadata": {},
   "outputs": [
    {
     "name": "stderr",
     "output_type": "stream",
     "text": [
      "Auto-assigning NUTS sampler...\n",
      "Initializing NUTS using jitter+adapt_diag...\n",
      "Multiprocess sampling (2 chains in 2 jobs)\n",
      "NUTS: [delta, sigma]\n",
      "Sampling 2 chains: 100%|██████████| 2000/2000 [00:10<00:00, 198.02draws/s]\n",
      "There were 407 divergences after tuning. Increase `target_accept` or reparameterize.\n",
      "The acceptance probability does not match the target. It is 0.06665207241549469, but should be close to 0.8. Try to increase the number of tuning steps.\n",
      "There were 410 divergences after tuning. Increase `target_accept` or reparameterize.\n",
      "The acceptance probability does not match the target. It is 0.02860748717558072, but should be close to 0.8. Try to increase the number of tuning steps.\n",
      "The gelman-rubin statistic is larger than 1.4 for some parameters. The sampler did not converge.\n",
      "The estimated number of effective samples is smaller than 200 for some parameters.\n"
     ]
    }
   ],
   "source": [
    "n_changepoints = 10\n",
    "t = np.arange(1000)\n",
    "s = np.sort(np.random.choice(t, size=n_changepoints, replace=False))\n",
    "a = (t[:, None] > s) * 1\n",
    "\n",
    "real_delta = np.random.normal(size=n_changepoints)\n",
    "y = np.dot(a, real_delta) * t\n",
    "\n",
    "with pm.Model():\n",
    "    sigma = pm.HalfCauchy('sigma', 10, testval=1)\n",
    "    delta = pm.Laplace('delta', 0, 0.05, shape=n_changepoints)\n",
    "    g = tt.dot(a, delta) * t\n",
    "    obs = pm.Normal('obs',\n",
    "                   mu=(g - y.mean()) / y.std(),\n",
    "                   sd=sigma,\n",
    "                   observed=(y - y.mean()) / y.std())\n",
    "    trace = pm.sample(500)"
   ]
  },
  {
   "cell_type": "code",
   "execution_count": null,
   "metadata": {},
   "outputs": [],
   "source": []
  }
 ],
 "metadata": {
  "kernelspec": {
   "display_name": "Python 3",
   "language": "python",
   "name": "python3"
  },
  "language_info": {
   "codemirror_mode": {
    "name": "ipython",
    "version": 3
   },
   "file_extension": ".py",
   "mimetype": "text/x-python",
   "name": "python",
   "nbconvert_exporter": "python",
   "pygments_lexer": "ipython3",
   "version": "3.6.5"
  }
 },
 "nbformat": 4,
 "nbformat_minor": 2
}
