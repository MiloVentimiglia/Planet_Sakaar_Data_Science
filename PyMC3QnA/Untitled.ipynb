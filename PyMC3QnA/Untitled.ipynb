{
 "cells": [
  {
   "cell_type": "code",
   "execution_count": null,
   "metadata": {},
   "outputs": [],
   "source": [
    "import numpy as np\n",
    "import pymc3 as pm\n",
    "import theano\n",
    "import theano.tensor as t"
   ]
  },
  {
   "cell_type": "code",
   "execution_count": 57,
   "metadata": {},
   "outputs": [],
   "source": [
    "K = 2  # number of topics\n",
    "V = 4  # number of words\n",
    "D = 3  # number of documents\n",
    "\n",
    "data = np.array([[1, 1, 1, 1], [1, 1, 1, 1], [0, 0, 0, 0]])\n",
    "\n",
    "alpha = np.ones((K, 1))\n",
    "beta = np.ones((V, 1))\n",
    "Wd = [len(doc) for doc in data]\n",
    "(D, W) = data.shape"
   ]
  },
  {
   "cell_type": "code",
   "execution_count": 63,
   "metadata": {},
   "outputs": [],
   "source": [
    "alpha = np.ones((1, K))\n",
    "beta = np.ones((1, V))\n",
    "with pm.Model() as model:\n",
    "    thetas = pm.Dirichlet(\"thetas\", a=alpha, shape=(D, K))\n",
    "    phis = pm.Dirichlet(\"phis\", a=beta, shape=(K, V))\n",
    "    z = pm.Categorical(\"zx\", p=thetas, shape=(W, D))\n",
    "    w = pm.Categorical(\"wx\", \n",
    "                       p=t.reshape(phis[z], (D*W, V)), \n",
    "                       observed=data.reshape(D*W))"
   ]
  },
  {
   "cell_type": "code",
   "execution_count": null,
   "metadata": {},
   "outputs": [],
   "source": []
  }
 ],
 "metadata": {
  "kernelspec": {
   "display_name": "Python 3",
   "language": "python",
   "name": "python3"
  },
  "language_info": {
   "codemirror_mode": {
    "name": "ipython",
    "version": 3
   },
   "file_extension": ".py",
   "mimetype": "text/x-python",
   "name": "python",
   "nbconvert_exporter": "python",
   "pygments_lexer": "ipython3",
   "version": "3.6.5"
  }
 },
 "nbformat": 4,
 "nbformat_minor": 2
}
