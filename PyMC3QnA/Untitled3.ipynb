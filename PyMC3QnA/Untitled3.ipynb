{
 "cells": [
  {
   "cell_type": "code",
   "execution_count": 1,
   "metadata": {},
   "outputs": [],
   "source": [
    "import numpy as np\n",
    "covariates = np.random.randn(1500000, 499)\n",
    "covariates = np.hstack((np.ones((1500000, 1)), covariates))\n",
    "\n",
    "true_coefficients = 5 * np.random.rand(500)\n",
    "true_logits = np.dot(covariates, true_coefficients) \n",
    "true_probs = 1.0 / (1.0 + np.exp(-true_logits))\n",
    "observed_labels = (np.random.rand(1500000) < true_probs).astype(np.int32)"
   ]
  },
  {
   "cell_type": "code",
   "execution_count": null,
   "metadata": {},
   "outputs": [
    {
     "name": "stderr",
     "output_type": "stream",
     "text": [
      "/home/junpenglao/anaconda3/lib/python3.6/site-packages/h5py/__init__.py:36: FutureWarning: Conversion of the second argument of issubdtype from `float` to `np.floating` is deprecated. In future, it will be treated as `np.float64 == np.dtype(float).type`.\n",
      "  from ._conv import register_converters as _register_converters\n",
      "Auto-assigning NUTS sampler...\n",
      "Initializing NUTS using jitter+adapt_diag...\n"
     ]
    }
   ],
   "source": [
    "import pymc3 as pm\n",
    "import theano.tensor as tt\n",
    "\n",
    "with pm.Model() as logistic_model:\n",
    "    beta = pm.Normal('beta', 0.0, sd=1.0, shape=500)\n",
    "    p = 1.0 / (1.0 + tt.exp(-tt.dot(covariates, beta)))\n",
    "    likelihood = pm.Bernoulli('likelihood', p, observed=observed_labels)\n",
    "\n",
    "with logistic_model:\n",
    "    tr = pm.sample(1000, njobs=2, nchains=2)"
   ]
  },
  {
   "cell_type": "code",
   "execution_count": null,
   "metadata": {},
   "outputs": [],
   "source": []
  }
 ],
 "metadata": {
  "kernelspec": {
   "display_name": "Python 3",
   "language": "python",
   "name": "python3"
  },
  "language_info": {
   "codemirror_mode": {
    "name": "ipython",
    "version": 3
   },
   "file_extension": ".py",
   "mimetype": "text/x-python",
   "name": "python",
   "nbconvert_exporter": "python",
   "pygments_lexer": "ipython3",
   "version": "3.6.5"
  }
 },
 "nbformat": 4,
 "nbformat_minor": 2
}
