{
 "cells": [
  {
   "cell_type": "code",
   "execution_count": 1,
   "metadata": {},
   "outputs": [
    {
     "name": "stdout",
     "output_type": "stream",
     "text": [
      "Populating the interactive namespace from numpy and matplotlib\n"
     ]
    }
   ],
   "source": [
    "%pylab inline\n",
    "import pymc3 as pm\n",
    "import theano.tensor as tt"
   ]
  },
  {
   "cell_type": "code",
   "execution_count": 2,
   "metadata": {},
   "outputs": [
    {
     "name": "stdout",
     "output_type": "stream",
     "text": [
      "[0, 0, 0, 0, 0, 1, 0, 0, 1, 1, 0, 0, 0, 0, 0, 0, 1, 1, 1, 1]\n",
      "[0, 1, 0, 0, 0, 0, 0, 2, 2, 2, 0, 2, 1, 0, 0, 0, 1, 1, 1, 1]\n"
     ]
    }
   ],
   "source": [
    "# simulation of data. Two state model for simplicity.\n",
    "N_seqs = 1000\n",
    "N_labels = 3\n",
    "N_states = 2\n",
    "\n",
    "# transition probability\n",
    "P = np.array([[0.8, 0.2], [0.4, 0.6]])\n",
    "# emission probabilityu\n",
    "Pe = np.array([\n",
    "    [0.8, 0.1, 0.1],\n",
    "    [0.3, 0.4, 0.3]\n",
    "])\n",
    "N_labels = Pe.shape[1]\n",
    "\n",
    "AA = np.eye(N_states) - P + np.ones(shape=(N_states, N_states))\n",
    "PA = np.linalg.solve(AA.T, np.ones(shape=(N_states)))\n",
    "\n",
    "state_seq = [np.random.choice(N_states, p=PA)]\n",
    "for i in range(1, N_seqs):\n",
    "    state_seq += [np.random.choice(N_states, p=P[state_seq[-1]])]\n",
    "\n",
    "label_seq = [np.random.choice(N_labels, p=Pe[state_seq[i]])\n",
    "             for i in range(N_seqs)]\n",
    "\n",
    "print(state_seq[:20])\n",
    "print(label_seq[:20])"
   ]
  },
  {
   "cell_type": "code",
   "execution_count": 12,
   "metadata": {},
   "outputs": [
    {
     "name": "stderr",
     "output_type": "stream",
     "text": [
      "Auto-assigning NUTS sampler...\n",
      "Initializing NUTS using jitter+adapt_diag...\n",
      "Multiprocess sampling (2 chains in 2 jobs)\n",
      "NUTS: [P_transition]\n",
      "Sampling 2 chains: 100%|██████████| 3000/3000 [00:03<00:00, 945.88draws/s] \n"
     ]
    }
   ],
   "source": [
    "with pm.Model() as model:\n",
    "    P = pm.Dirichlet('P_transition', a=np.ones(\n",
    "        (N_states, N_states)), shape=(N_states, N_states))\n",
    "\n",
    "    AA = tt.eye(N_states) - P + tt.ones(shape=(N_states, N_states))\n",
    "    PA = pm.Deterministic('P_start_transition', tt.slinalg.solve(\n",
    "        AA.T, tt.ones(shape=(N_states))))\n",
    "\n",
    "    states = tt.log(PA[state_seq[0]])\n",
    "    for i in range(1, len(state_seq)):\n",
    "        states += tt.log(P[state_seq[i-1]][state_seq[i]])\n",
    "    pm.Potential('logp', states)\n",
    "    trace = pm.sample(1000)"
   ]
  },
  {
   "cell_type": "code",
   "execution_count": 13,
   "metadata": {},
   "outputs": [
    {
     "data": {
      "text/plain": [
       "array([[0.77233287, 0.22766713],\n",
       "       [0.40276056, 0.59723944]])"
      ]
     },
     "execution_count": 13,
     "metadata": {},
     "output_type": "execute_result"
    }
   ],
   "source": [
    "trace['P_transition'].mean(axis=0)"
   ]
  },
  {
   "cell_type": "code",
   "execution_count": 14,
   "metadata": {},
   "outputs": [],
   "source": [
    "with pm.Model() as model:\n",
    "    P = pm.Dirichlet('P_transition', \n",
    "                     a=np.ones((N_states, N_states)), \n",
    "                     shape=(N_states, N_states), \n",
    "                     testval=np.array([[0.8, 0.2], [0.4, 0.6]]))\n",
    "\n",
    "    AA = tt.eye(N_states) - P + tt.ones(shape=(N_states, N_states))\n",
    "    PA = pm.Deterministic('P_start_transition', tt.slinalg.solve(\n",
    "        AA.T, tt.ones(shape=(N_states))))\n"
   ]
  },
  {
   "cell_type": "code",
   "execution_count": 15,
   "metadata": {},
   "outputs": [
    {
     "data": {
      "text/plain": [
       "(999,)"
      ]
     },
     "execution_count": 15,
     "metadata": {},
     "output_type": "execute_result"
    }
   ],
   "source": [
    "P[state_seq[:-1]][np.arange(N_seqs-1), state_seq[1:]].tag.test_value.shape"
   ]
  },
  {
   "cell_type": "code",
   "execution_count": 16,
   "metadata": {},
   "outputs": [
    {
     "name": "stderr",
     "output_type": "stream",
     "text": [
      "Auto-assigning NUTS sampler...\n",
      "Initializing NUTS using jitter+adapt_diag...\n",
      "Multiprocess sampling (2 chains in 2 jobs)\n",
      "NUTS: [P_transition]\n",
      "Sampling 2 chains: 100%|██████████| 3000/3000 [00:04<00:00, 708.55draws/s]\n"
     ]
    }
   ],
   "source": [
    "with model:\n",
    "    pm.Potential('logp', \n",
    "                 tt.log(PA[state_seq[0]]) + \n",
    "                 tt.log(P[state_seq[:-1]][np.arange(N_seqs-1), state_seq[1:]]).sum())\n",
    "    trace = pm.sample(1000)"
   ]
  },
  {
   "cell_type": "code",
   "execution_count": 17,
   "metadata": {},
   "outputs": [
    {
     "data": {
      "text/plain": [
       "array([[0.77196573, 0.22803427],\n",
       "       [0.40160257, 0.59839743]])"
      ]
     },
     "execution_count": 17,
     "metadata": {},
     "output_type": "execute_result"
    }
   ],
   "source": [
    "trace['P_transition'].mean(axis=0)"
   ]
  },
  {
   "cell_type": "markdown",
   "metadata": {},
   "source": [
    "https://github.com/stan-dev/example-models/blob/master/misc/hmm/hmm-semisup.stan"
   ]
  }
 ],
 "metadata": {
  "kernelspec": {
   "display_name": "Python 3",
   "language": "python",
   "name": "python3"
  },
  "language_info": {
   "codemirror_mode": {
    "name": "ipython",
    "version": 3
   },
   "file_extension": ".py",
   "mimetype": "text/x-python",
   "name": "python",
   "nbconvert_exporter": "python",
   "pygments_lexer": "ipython3",
   "version": "3.6.5"
  }
 },
 "nbformat": 4,
 "nbformat_minor": 2
}
