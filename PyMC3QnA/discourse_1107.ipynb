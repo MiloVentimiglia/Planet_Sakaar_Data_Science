{
 "cells": [
  {
   "cell_type": "code",
   "execution_count": 1,
   "metadata": {},
   "outputs": [
    {
     "name": "stderr",
     "output_type": "stream",
     "text": [
      "/Library/Frameworks/Python.framework/Versions/3.5/lib/python3.5/site-packages/h5py/__init__.py:36: FutureWarning: Conversion of the second argument of issubdtype from `float` to `np.floating` is deprecated. In future, it will be treated as `np.float64 == np.dtype(float).type`.\n",
      "  from ._conv import register_converters as _register_converters\n"
     ]
    }
   ],
   "source": [
    "import numpy as np\n",
    "import pymc3 as pm\n",
    "import theano.tensor as tt\n",
    "import statsmodels\n",
    "import patsy"
   ]
  },
  {
   "cell_type": "code",
   "execution_count": 2,
   "metadata": {},
   "outputs": [
    {
     "name": "stderr",
     "output_type": "stream",
     "text": [
      "/Library/Frameworks/Python.framework/Versions/3.5/lib/python3.5/site-packages/pandas/core/frame.py:3027: SettingWithCopyWarning: \n",
      "A value is trying to be set on a copy of a slice from a DataFrame\n",
      "\n",
      "See the caveats in the documentation: http://pandas.pydata.org/pandas-docs/stable/indexing.html#indexing-view-versus-copy\n",
      "  return super(DataFrame, self).rename(**kwargs)\n"
     ]
    }
   ],
   "source": [
    "dataset = statsmodels.datasets.get_rdataset(package='survival', dataname='flchain' )\n",
    "d = dataset.data.query('futime > 7')\n",
    "d.reset_index(level=0, inplace=True)\n",
    "d.rename(columns={'futime': 't', 'death': 'event'}, inplace=True)"
   ]
  },
  {
   "cell_type": "code",
   "execution_count": 3,
   "metadata": {},
   "outputs": [
    {
     "data": {
      "text/html": [
       "<div>\n",
       "<style scoped>\n",
       "    .dataframe tbody tr th:only-of-type {\n",
       "        vertical-align: middle;\n",
       "    }\n",
       "\n",
       "    .dataframe tbody tr th {\n",
       "        vertical-align: top;\n",
       "    }\n",
       "\n",
       "    .dataframe thead th {\n",
       "        text-align: right;\n",
       "    }\n",
       "</style>\n",
       "<table border=\"1\" class=\"dataframe\">\n",
       "  <thead>\n",
       "    <tr style=\"text-align: right;\">\n",
       "      <th></th>\n",
       "      <th>index</th>\n",
       "      <th>age</th>\n",
       "      <th>sex</th>\n",
       "      <th>sample.yr</th>\n",
       "      <th>kappa</th>\n",
       "      <th>lambda</th>\n",
       "      <th>flc.grp</th>\n",
       "      <th>creatinine</th>\n",
       "      <th>mgus</th>\n",
       "      <th>t</th>\n",
       "      <th>event</th>\n",
       "      <th>chapter</th>\n",
       "    </tr>\n",
       "  </thead>\n",
       "  <tbody>\n",
       "    <tr>\n",
       "      <th>0</th>\n",
       "      <td>0</td>\n",
       "      <td>97</td>\n",
       "      <td>F</td>\n",
       "      <td>1997</td>\n",
       "      <td>5.70</td>\n",
       "      <td>4.860</td>\n",
       "      <td>10</td>\n",
       "      <td>1.7</td>\n",
       "      <td>0</td>\n",
       "      <td>85</td>\n",
       "      <td>1</td>\n",
       "      <td>Circulatory</td>\n",
       "    </tr>\n",
       "    <tr>\n",
       "      <th>1</th>\n",
       "      <td>1</td>\n",
       "      <td>92</td>\n",
       "      <td>F</td>\n",
       "      <td>2000</td>\n",
       "      <td>0.87</td>\n",
       "      <td>0.683</td>\n",
       "      <td>1</td>\n",
       "      <td>0.9</td>\n",
       "      <td>0</td>\n",
       "      <td>1281</td>\n",
       "      <td>1</td>\n",
       "      <td>Neoplasms</td>\n",
       "    </tr>\n",
       "    <tr>\n",
       "      <th>2</th>\n",
       "      <td>2</td>\n",
       "      <td>94</td>\n",
       "      <td>F</td>\n",
       "      <td>1997</td>\n",
       "      <td>4.36</td>\n",
       "      <td>3.850</td>\n",
       "      <td>10</td>\n",
       "      <td>1.4</td>\n",
       "      <td>0</td>\n",
       "      <td>69</td>\n",
       "      <td>1</td>\n",
       "      <td>Circulatory</td>\n",
       "    </tr>\n",
       "    <tr>\n",
       "      <th>3</th>\n",
       "      <td>3</td>\n",
       "      <td>92</td>\n",
       "      <td>F</td>\n",
       "      <td>1996</td>\n",
       "      <td>2.42</td>\n",
       "      <td>2.220</td>\n",
       "      <td>9</td>\n",
       "      <td>1.0</td>\n",
       "      <td>0</td>\n",
       "      <td>115</td>\n",
       "      <td>1</td>\n",
       "      <td>Circulatory</td>\n",
       "    </tr>\n",
       "    <tr>\n",
       "      <th>4</th>\n",
       "      <td>4</td>\n",
       "      <td>93</td>\n",
       "      <td>F</td>\n",
       "      <td>1996</td>\n",
       "      <td>1.32</td>\n",
       "      <td>1.690</td>\n",
       "      <td>6</td>\n",
       "      <td>1.1</td>\n",
       "      <td>0</td>\n",
       "      <td>1039</td>\n",
       "      <td>1</td>\n",
       "      <td>Circulatory</td>\n",
       "    </tr>\n",
       "  </tbody>\n",
       "</table>\n",
       "</div>"
      ],
      "text/plain": [
       "   index  age sex  sample.yr  kappa  lambda  flc.grp  creatinine  mgus     t  \\\n",
       "0      0   97   F       1997   5.70   4.860       10         1.7     0    85   \n",
       "1      1   92   F       2000   0.87   0.683        1         0.9     0  1281   \n",
       "2      2   94   F       1997   4.36   3.850       10         1.4     0    69   \n",
       "3      3   92   F       1996   2.42   2.220        9         1.0     0   115   \n",
       "4      4   93   F       1996   1.32   1.690        6         1.1     0  1039   \n",
       "\n",
       "   event      chapter  \n",
       "0      1  Circulatory  \n",
       "1      1    Neoplasms  \n",
       "2      1  Circulatory  \n",
       "3      1  Circulatory  \n",
       "4      1  Circulatory  "
      ]
     },
     "execution_count": 3,
     "metadata": {},
     "output_type": "execute_result"
    }
   ],
   "source": [
    "d.head()"
   ]
  },
  {
   "cell_type": "code",
   "execution_count": 4,
   "metadata": {},
   "outputs": [],
   "source": [
    "y, x_df = patsy.dmatrices(\"event ~ age + sex\", d, return_type='dataframe')\n",
    "x_df = x_df.iloc[:, x_df.columns != 'Intercept']"
   ]
  },
  {
   "cell_type": "code",
   "execution_count": 5,
   "metadata": {},
   "outputs": [],
   "source": [
    "N, M = x_df.shape\n",
    "x = x_df.as_matrix()\n",
    "y = d['t'].values\n",
    "event = d['event'].values.astype(int)"
   ]
  },
  {
   "cell_type": "markdown",
   "metadata": {},
   "source": [
    "https://github.com/hammerlab/survivalstan/blob/master/survivalstan/stan/weibull_survival_model.stan"
   ]
  },
  {
   "cell_type": "code",
   "execution_count": 7,
   "metadata": {},
   "outputs": [],
   "source": [
    "sd_mu = 10.0\n",
    "sd_al = 10.0\n",
    "\n",
    "\n",
    "def weibull_lccdf(value, alpha, beta):\n",
    "    return - (value / beta)**alpha\n",
    "\n",
    "\n",
    "with pm.Model() as weibull:\n",
    "    beta_raw = pm.Normal('b0', mu=0., sd=1., shape=M)\n",
    "    alpha_raw = pm.Normal('a0', mu=0., sd=.1)\n",
    "    mu = pm.Normal('mu', mu=0., sd=sd_mu)\n",
    "\n",
    "    tau_s_raw = pm.HalfNormal('tau_s_raw', 10.)\n",
    "    tau_raw = pm.ChiSquared('tau_raw', 1., shape=M)\n",
    "    beta = tau_s_raw * tt.sqrt(1. / tau_raw) * beta_raw\n",
    "\n",
    "    alpha = tt.exp(sd_al * alpha_raw)\n",
    "\n",
    "    lp = mu + tt.dot(x, beta)\n",
    "\n",
    "    y1 = pm.Weibull(\n",
    "        'y1', alpha, tt.exp(-(lp[event == 1]) / alpha), observed=y[event == 1])\n",
    "    y0 = pm.Potential(\n",
    "        'y0', weibull_lccdf(y[event == 0], alpha,\n",
    "                            tt.exp(-(lp[event == 0]) / alpha)))"
   ]
  },
  {
   "cell_type": "code",
   "execution_count": null,
   "metadata": {},
   "outputs": [
    {
     "name": "stderr",
     "output_type": "stream",
     "text": [
      "Auto-assigning NUTS sampler...\n",
      "Initializing NUTS using jitter+adapt_diag...\n",
      "Multiprocess sampling (2 chains in 2 jobs)\n",
      "NUTS: [tau_raw_log__, tau_s_raw_log__, mu, a0, b0]\n",
      "  0%|          | 0/1000 [00:00<?, ?it/s]"
     ]
    }
   ],
   "source": [
    "with weibull:\n",
    "    trace = pm.sample()"
   ]
  },
  {
   "cell_type": "markdown",
   "metadata": {},
   "source": [
    "[Weibull Survival Regression](https://discourse.pymc.io/t/weibull-survival-regression-aft/1107/3)"
   ]
  },
  {
   "cell_type": "markdown",
   "metadata": {},
   "source": [
    "```\n",
    "time <-c(59, 115, 156, 421, 431, 448, 464, 475, 477, 563, 638, 744, 769, 770, 803, 855, 1040, 1106, 1129, 1206, 1227, 268, 329, 353, 365, 377)\n",
    "event <- c(1, 1, 1, 0, 1, 0, 1, 1, 0, 1, 1, 0, 0, 0, 0, 0, 0, 0, 0, 0, 0, 1, 1, 1, 1, 0)\n",
    "library(survival)\n",
    "r <- survreg(Surv(time, event) ~ 1, dist=\"weibull\")\n",
    "beta <- 1/r$scale\n",
    "eta <- exp(r$coefficients[1])\n",
    "\n",
    "> beta\n",
    "[1] 1.10806\n",
    "> eta\n",
    "(Intercept) \n",
    "   1225.419 \n",
    "```"
   ]
  },
  {
   "cell_type": "code",
   "execution_count": null,
   "metadata": {},
   "outputs": [],
   "source": [
    "time = np.asarray([59, 115, 156, 421, 431, 448, 464, 475, 477, 563, 638, 744,\n",
    "                   769, 770, 803, 855, 1040, 1106, 1129, 1206, 1227, 268, 329, 353, 365, 377], dtype=np.float64)\n",
    "event = np.asarray([1, 1, 1, 0, 1, 0, 1, 1, 0, 1, 1, 0, 0,\n",
    "                    0, 0, 0, 0, 0, 0, 0, 0, 1, 1, 1, 1, 0])"
   ]
  },
  {
   "cell_type": "code",
   "execution_count": null,
   "metadata": {},
   "outputs": [],
   "source": []
  },
  {
   "cell_type": "code",
   "execution_count": null,
   "metadata": {},
   "outputs": [],
   "source": []
  }
 ],
 "metadata": {
  "kernelspec": {
   "display_name": "Python 3",
   "language": "python",
   "name": "python3"
  },
  "language_info": {
   "codemirror_mode": {
    "name": "ipython",
    "version": 3
   },
   "file_extension": ".py",
   "mimetype": "text/x-python",
   "name": "python",
   "nbconvert_exporter": "python",
   "pygments_lexer": "ipython3",
   "version": "3.5.1"
  }
 },
 "nbformat": 4,
 "nbformat_minor": 2
}
