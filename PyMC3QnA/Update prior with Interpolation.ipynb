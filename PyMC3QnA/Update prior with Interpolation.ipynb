{
 "cells": [
  {
   "cell_type": "markdown",
   "metadata": {},
   "source": [
    "https://discourse.pymc.io/t/data-aggregation-in-crowdsensing-application/1072/18"
   ]
  },
  {
   "cell_type": "code",
   "execution_count": 1,
   "metadata": {},
   "outputs": [
    {
     "name": "stderr",
     "output_type": "stream",
     "text": [
      "/Library/Frameworks/Python.framework/Versions/3.5/lib/python3.5/site-packages/h5py/__init__.py:36: FutureWarning: Conversion of the second argument of issubdtype from `float` to `np.floating` is deprecated. In future, it will be treated as `np.float64 == np.dtype(float).type`.\n",
      "  from ._conv import register_converters as _register_converters\n"
     ]
    }
   ],
   "source": [
    "import numpy as np\n",
    "import matplotlib.pyplot as plt\n",
    "import pymc3 as pm\n",
    "from pymc3.distributions import Interpolated\n",
    "from scipy import stats\n",
    "\n",
    "\n",
    "def from_posterior(param, samples):\n",
    "    smin, smax = np.min(samples), np.max(samples)\n",
    "    width = smax - smin\n",
    "    x = np.linspace(smin, smax, 100)\n",
    "    y = stats.gaussian_kde(samples)(x)\n",
    "\n",
    "    x = np.concatenate([[x[0] - 3 * width], x, [x[-1] + 3 * width]])\n",
    "    y = np.concatenate([[0], y, [0]])\n",
    "    return Interpolated(param, x, y)"
   ]
  },
  {
   "cell_type": "code",
   "execution_count": 17,
   "metadata": {},
   "outputs": [],
   "source": [
    "# Initialize random number generator\n",
    "np.random.seed(123)\n",
    "\n",
    "# Target values\n",
    "t = [38.095, 13.346, 30.106, 13.353]\n",
    "\n",
    "# Users' precision in term of sigma\n",
    "s = [0.01, 0.05, 0.03, 0.12]\n",
    "\n",
    "# Number of measures for each target\n",
    "n_measures = 10\n",
    "\n",
    "# Simulate some data\n",
    "measures = []\n",
    "for i in range(0, 4):\n",
    "    y1 = t[i] + np.random.randn(n_measures) * s[0]\n",
    "    y2 = t[i] + np.random.randn(n_measures) * s[1]\n",
    "    y3 = t[i] + np.random.randn(n_measures) * s[2]\n",
    "    y4 = t[i] + np.random.randn(n_measures) * s[3]\n",
    "    x = np.array([y1, y2, y3, y4])\n",
    "    measures.append(x)"
   ]
  },
  {
   "cell_type": "code",
   "execution_count": 18,
   "metadata": {},
   "outputs": [
    {
     "name": "stderr",
     "output_type": "stream",
     "text": [
      "Auto-assigning NUTS sampler...\n",
      "Initializing NUTS using jitter+adapt_diag...\n",
      "Multiprocess sampling (2 chains in 2 jobs)\n",
      "NUTS: [sigma4_log__, sigma3_log__, sigma2_log__, sigma1_log__, rho_log__, mu]\n",
      "100%|██████████| 1500/1500 [00:23<00:00, 64.08it/s] \n",
      "The acceptance probability does not match the target. It is 0.9522403790083452, but should be close to 0.8. Try to increase the number of tuning steps.\n",
      "The acceptance probability does not match the target. It is 0.9583093119784403, but should be close to 0.8. Try to increase the number of tuning steps.\n"
     ]
    }
   ],
   "source": [
    "with pm.Model() as hierachical_model:\n",
    "    # Latent mean and sigma, I want to estimate these parameters\n",
    "    mu = pm.Normal('mu', 0., 100.)\n",
    "    rho = pm.HalfNormal('rho', 10.)\n",
    "\n",
    "    sigma1 = pm.HalfNormal('sigma1', rho)\n",
    "    sigma2 = pm.HalfNormal('sigma2', rho)\n",
    "    sigma3 = pm.HalfNormal('sigma3', rho)\n",
    "    sigma4 = pm.HalfNormal('sigma4', rho)\n",
    "\n",
    "    like1 = pm.Normal('like1', mu, sigma1, observed=measures[0][0])\n",
    "    like2 = pm.Normal('like2', mu, sigma2, observed=measures[0][1])\n",
    "    like3 = pm.Normal('like3', mu, sigma3, observed=measures[0][2])\n",
    "    like4 = pm.Normal('like4', mu, sigma4, observed=measures[0][3])\n",
    "\n",
    "    trace = pm.sample(1000)"
   ]
  },
  {
   "cell_type": "code",
   "execution_count": 19,
   "metadata": {
    "scrolled": false
   },
   "outputs": [
    {
     "name": "stderr",
     "output_type": "stream",
     "text": [
      "Auto-assigning NUTS sampler...\n",
      "Initializing NUTS using adapt_diag...\n",
      "Multiprocess sampling (2 chains in 2 jobs)\n",
      "NUTS: [sigma4_interval__, sigma3_interval__, sigma2_interval__, sigma1_interval__, mu]\n",
      "100%|██████████| 1500/1500 [01:18<00:00, 27.55it/s]\n",
      "The acceptance probability does not match the target. It is 0.9779216336696305, but should be close to 0.8. Try to increase the number of tuning steps.\n",
      "The acceptance probability does not match the target. It is 0.9844412091908469, but should be close to 0.8. Try to increase the number of tuning steps.\n",
      "The estimated number of effective samples is smaller than 200 for some parameters.\n",
      "Auto-assigning NUTS sampler...\n",
      "Initializing NUTS using adapt_diag...\n",
      "Multiprocess sampling (2 chains in 2 jobs)\n",
      "NUTS: [sigma4_interval__, sigma3_interval__, sigma2_interval__, sigma1_interval__, mu]\n",
      "100%|██████████| 1500/1500 [04:07<00:00,  2.73it/s]\n",
      "The acceptance probability does not match the target. It is 0.9997121841109345, but should be close to 0.8. Try to increase the number of tuning steps.\n",
      "The chain reached the maximum tree depth. Increase max_treedepth, increase target_accept or reparameterize.\n",
      "The acceptance probability does not match the target. It is 0.9999765663758933, but should be close to 0.8. Try to increase the number of tuning steps.\n",
      "The chain reached the maximum tree depth. Increase max_treedepth, increase target_accept or reparameterize.\n",
      "The gelman-rubin statistic is larger than 1.4 for some parameters. The sampler did not converge.\n",
      "The estimated number of effective samples is smaller than 200 for some parameters.\n",
      "Auto-assigning NUTS sampler...\n",
      "Initializing NUTS using adapt_diag...\n",
      "Multiprocess sampling (2 chains in 2 jobs)\n",
      "NUTS: [sigma4_interval__, sigma3_interval__, sigma2_interval__, sigma1_interval__, mu]\n",
      "100%|██████████| 1500/1500 [00:50<00:00, 29.76it/s]\n",
      "The number of effective samples is smaller than 25% for some parameters.\n"
     ]
    }
   ],
   "source": [
    "for j in range(1,4):\n",
    "\n",
    "    with pm.Model() as model:\n",
    "        # Latent mean and sigma, I want to estimate these parameters\n",
    "        mu = pm.Normal('mu', 0., 100.)\n",
    "\n",
    "        # Priors are posteriors from previous iteration\n",
    "        sigma1 = from_posterior('sigma1', trace['sigma1'])\n",
    "        sigma2 = from_posterior('sigma2', trace['sigma2'])\n",
    "        sigma3 = from_posterior('sigma3', trace['sigma3'])\n",
    "        sigma4 = from_posterior('sigma4', trace['sigma4'])\n",
    "    \n",
    "        like1 = pm.Normal('like1', mu, sigma1, observed=measures[j][0])\n",
    "        like2 = pm.Normal('like2', mu, sigma2, observed=measures[j][1])\n",
    "        like3 = pm.Normal('like3', mu, sigma3, observed=measures[j][2])\n",
    "        like4 = pm.Normal('like4', mu, sigma4, observed=measures[j][3])\n",
    "        \n",
    "        trace = pm.sample(1000, init='adapt_diag')"
   ]
  },
  {
   "cell_type": "markdown",
   "metadata": {},
   "source": [
    "https://discourse.pymc.io/t/performance-speedup-for-updating-posterior-with-new-data/1097"
   ]
  },
  {
   "cell_type": "code",
   "execution_count": 12,
   "metadata": {},
   "outputs": [],
   "source": [
    "import matplotlib.pyplot as plt\n",
    "import numpy as np\n",
    "import pandas as pd\n",
    "import matplotlib as mpl\n",
    "from io import BytesIO\n",
    "import pymc3 as pm\n",
    "from pymc3.distributions import Interpolated\n",
    "import theano\n",
    "from scipy import stats"
   ]
  },
  {
   "cell_type": "code",
   "execution_count": 19,
   "metadata": {},
   "outputs": [],
   "source": [
    "def plot_traces(trcs, varnames=None):\n",
    "    '''Plot traces with overlaid means and values'''\n",
    "\n",
    "    nrows = len(trcs.varnames)\n",
    "    if varnames is not None:\n",
    "        nrows = len(varnames)\n",
    "\n",
    "    ax = pm.traceplot(trcs, varnames=varnames, figsize=(12, nrows * 1.4),\n",
    "                      lines={k: v['mean'] for k, v in\n",
    "                             pm.df_summary(trcs, varnames=varnames).iterrows()})\n",
    "\n",
    "    for i, mn in enumerate(pm.df_summary(trcs, varnames=varnames)['mean']):\n",
    "        ax[i, 0].annotate('{:.2f}'.format(mn), xy=(mn, 0), xycoords='data',\n",
    "                          xytext=(5, 10), textcoords='offset points', rotation=90,\n",
    "                          va='bottom', fontsize='large', color='#AA0022')\n",
    "\n",
    "\n",
    "def strip_derived_rvs(rvs):\n",
    "    '''Remove PyMC3-generated RVs from a list'''\n",
    "\n",
    "    ret_rvs = []\n",
    "    for rv in rvs:\n",
    "        if not (re.search('_log', rv.name) or re.search('_interval', rv.name)):\n",
    "            ret_rvs.append(rv)\n",
    "    return ret_rvs\n",
    "\n",
    "\n",
    "def generate_data():\n",
    "    intercept = 2\n",
    "    x1 = np.random.random_sample(1)[0]\n",
    "    true_coeff = -2\n",
    "    theta = np.exp(intercept + true_coeff * x1)\n",
    "    output = np.random.poisson(theta)\n",
    "\n",
    "    return {'intercept': intercept, 'x1': x1, 'true_coeff': true_coeff, 'output': output, 'theta': theta}\n",
    "\n",
    "\n",
    "train = pd.DataFrame(data=[generate_data() for _ in range(100)], columns=generate_data().keys())\n",
    "\n",
    "output_shared = theano.shared(train['output'].values)\n",
    "x1_shared = theano.shared(train['x1'].values)"
   ]
  },
  {
   "cell_type": "code",
   "execution_count": 20,
   "metadata": {},
   "outputs": [
    {
     "name": "stderr",
     "output_type": "stream",
     "text": [
      "Auto-assigning NUTS sampler...\n",
      "Initializing NUTS using jitter+adapt_diag...\n",
      "Multiprocess sampling (4 chains in 4 jobs)\n",
      "NUTS: [alpha_1, alpha_0]\n",
      "100%|██████████| 1500/1500 [00:01<00:00, 1286.39it/s]\n"
     ]
    }
   ],
   "source": [
    "with pm.Model() as model:\n",
    "    alpha_0 = pm.Normal('alpha_0', mu=0, sd=10)\n",
    "    alpha_1 = pm.Normal('alpha_1', mu=-1, sd=0.5)\n",
    "    theta = (alpha_0 + alpha_1 * x1_shared)\n",
    "\n",
    "    likelihood = pm.Poisson(\n",
    "        'output',\n",
    "        mu=np.exp(theta),\n",
    "        observed=output_shared,\n",
    "    )\n",
    "    trace = pm.sample(1000)"
   ]
  },
  {
   "cell_type": "code",
   "execution_count": 21,
   "metadata": {},
   "outputs": [],
   "source": [
    "traces = [trace]"
   ]
  },
  {
   "cell_type": "code",
   "execution_count": 17,
   "metadata": {},
   "outputs": [],
   "source": [
    "def from_posterior(param, samples):\n",
    "    smin, smax = np.min(samples), np.max(samples)\n",
    "    width = smax - smin\n",
    "    x = np.linspace(smin, smax, 100)\n",
    "    y = stats.gaussian_kde(samples)(x)\n",
    "    # what was never sampled should have a small probability but not 0,\n",
    "    # so we'll extend the domain and use linear approximation of density on it\n",
    "    x = np.concatenate([[x[0] - 3 * width], x, [x[-1] + 3 * width]])\n",
    "    y = np.concatenate([[0], y, [0]])\n",
    "    return Interpolated(param, x, y)"
   ]
  },
  {
   "cell_type": "code",
   "execution_count": 18,
   "metadata": {},
   "outputs": [
    {
     "name": "stderr",
     "output_type": "stream",
     "text": [
      "Auto-assigning NUTS sampler...\n",
      "Initializing NUTS using adapt_diag...\n",
      "Multiprocess sampling (2 chains in 4 jobs)\n",
      "NUTS: [alpha_1_interval__, alpha_0_interval__]\n",
      "The acceptance probability does not match the target. It is 0.68919193017805, but should be close to 0.8. Try to increase the number of tuning steps.\n",
      "The number of effective samples is smaller than 25% for some parameters.\n",
      "Auto-assigning NUTS sampler...\n",
      "Initializing NUTS using adapt_diag...\n",
      "Multiprocess sampling (2 chains in 4 jobs)\n",
      "NUTS: [alpha_1_interval__, alpha_0_interval__]\n",
      "There were 5 divergences after tuning. Increase `target_accept` or reparameterize.\n",
      "The acceptance probability does not match the target. It is 0.12238926356673838, but should be close to 0.8. Try to increase the number of tuning steps.\n",
      "The estimated number of effective samples is smaller than 200 for some parameters.\n",
      "Auto-assigning NUTS sampler...\n",
      "Initializing NUTS using adapt_diag...\n",
      "Multiprocess sampling (2 chains in 4 jobs)\n",
      "NUTS: [alpha_1_interval__, alpha_0_interval__]\n",
      "The acceptance probability does not match the target. It is 0.9101583838525885, but should be close to 0.8. Try to increase the number of tuning steps.\n",
      "The number of effective samples is smaller than 25% for some parameters.\n",
      "Auto-assigning NUTS sampler...\n",
      "Initializing NUTS using adapt_diag...\n",
      "Multiprocess sampling (2 chains in 4 jobs)\n",
      "NUTS: [alpha_1_interval__, alpha_0_interval__]\n",
      "The number of effective samples is smaller than 25% for some parameters.\n",
      "Auto-assigning NUTS sampler...\n",
      "Initializing NUTS using adapt_diag...\n",
      "Multiprocess sampling (2 chains in 4 jobs)\n",
      "NUTS: [alpha_1_interval__, alpha_0_interval__]\n",
      "The number of effective samples is smaller than 25% for some parameters.\n",
      "Auto-assigning NUTS sampler...\n",
      "Initializing NUTS using adapt_diag...\n",
      "Multiprocess sampling (2 chains in 4 jobs)\n",
      "NUTS: [alpha_1_interval__, alpha_0_interval__]\n",
      "The number of effective samples is smaller than 25% for some parameters.\n",
      "Auto-assigning NUTS sampler...\n",
      "Initializing NUTS using adapt_diag...\n",
      "Multiprocess sampling (2 chains in 4 jobs)\n",
      "NUTS: [alpha_1_interval__, alpha_0_interval__]\n",
      "There were 2 divergences after tuning. Increase `target_accept` or reparameterize.\n",
      "Auto-assigning NUTS sampler...\n",
      "Initializing NUTS using adapt_diag...\n",
      "Multiprocess sampling (2 chains in 4 jobs)\n",
      "NUTS: [alpha_1_interval__, alpha_0_interval__]\n",
      "The number of effective samples is smaller than 25% for some parameters.\n",
      "Auto-assigning NUTS sampler...\n",
      "Initializing NUTS using adapt_diag...\n",
      "Multiprocess sampling (2 chains in 4 jobs)\n",
      "NUTS: [alpha_1_interval__, alpha_0_interval__]\n",
      "There were 2 divergences after tuning. Increase `target_accept` or reparameterize.\n",
      "The estimated number of effective samples is smaller than 200 for some parameters.\n",
      "Auto-assigning NUTS sampler...\n",
      "Initializing NUTS using adapt_diag...\n",
      "Multiprocess sampling (2 chains in 4 jobs)\n",
      "NUTS: [alpha_1_interval__, alpha_0_interval__]\n"
     ]
    }
   ],
   "source": [
    "for _ in range(10):\n",
    "    new_data = pd.DataFrame(data=[generate_data() for _ in range(1)], columns=generate_data().keys())\n",
    "    output_shared = theano.shared(new_data['output'].values)\n",
    "    x1_shared = theano.shared(new_data['x1'].values)\n",
    "\n",
    "    model = pm.Model()\n",
    "    with model:\n",
    "        # pm.glm.GLM.from_formula(formula=fml, data=new_data, family=pm.glm.families.NegativeBinomial())\n",
    "        alpha_0 = from_posterior('alpha_0', trace['alpha_0'])\n",
    "        alpha_1 = from_posterior('alpha_1', trace['alpha_1'])\n",
    "        theta = (alpha_0 + alpha_1 * x1_shared)\n",
    "\n",
    "        likelihood = pm.Poisson('output',\n",
    "                                mu=np.exp(theta),\n",
    "                                observed=output_shared\n",
    "                                )\n",
    "        trace = pm.sample(1000, init='adapt_diag', chains=2, cores=4, progressbar=False)\n",
    "        traces.append(trace)"
   ]
  },
  {
   "cell_type": "code",
   "execution_count": 19,
   "metadata": {},
   "outputs": [
    {
     "data": {
      "image/png": "[encoded data removed]",
      "text/plain": [
       "<matplotlib.figure.Figure at 0x7f66610b9da0>"
      ]
     },
     "metadata": {},
     "output_type": "display_data"
    }
   ],
   "source": [
    "cmap = mpl.cm.autumn\n",
    "\n",
    "for param in ['alpha_1']:\n",
    "    for update_i, trace in enumerate(traces):\n",
    "        samples = trace[param]\n",
    "        smin, smax = np.min(samples), np.max(samples)\n",
    "        x = np.linspace(smin, smax, 100)\n",
    "        y = stats.gaussian_kde(samples)(x)\n",
    "        plt.plot(x, y, color=cmap(1 - update_i / len(traces)))\n",
    "    plt.axvline({'alpha_1': -2}[param], c='k')\n",
    "    plt.ylabel('Frequency')\n",
    "    plt.title(param)\n",
    "    plt.show()"
   ]
  },
  {
   "cell_type": "code",
   "execution_count": 33,
   "metadata": {},
   "outputs": [],
   "source": [
    "import theano.tensor as tt"
   ]
  },
  {
   "cell_type": "code",
   "execution_count": 40,
   "metadata": {},
   "outputs": [],
   "source": [
    "def from_posterior2(samples):\n",
    "    smin, smax = samples.min(), samples.max()\n",
    "    width = smax - smin\n",
    "    x = np.linspace(smin, smax, 100)\n",
    "    y = stats.gaussian_kde(samples)(x)\n",
    "    # what was never sampled should have a small probability but not 0,\n",
    "    # so we'll extend the domain and use linear approximation of density on it\n",
    "    x = np.concatenate([[x[0] - 3 * width], x, [x[-1] + 3 * width]])\n",
    "    y = np.concatenate([[0], y, [0]])\n",
    "    return x, y"
   ]
  },
  {
   "cell_type": "code",
   "execution_count": 41,
   "metadata": {},
   "outputs": [
    {
     "ename": "AxisError",
     "evalue": "axis -1 is out of bounds for array of dimension 0",
     "output_type": "error",
     "traceback": [
      "\u001b[0;31m---------------------------------------------------------------------------\u001b[0m",
      "\u001b[0;31mAxisError\u001b[0m                                 Traceback (most recent call last)",
      "\u001b[0;32m<ipython-input-41-eb57978524d2>\u001b[0m in \u001b[0;36m<module>\u001b[0;34m()\u001b[0m\n\u001b[1;32m     11\u001b[0m \u001b[0;32mwith\u001b[0m \u001b[0mpm\u001b[0m\u001b[0;34m.\u001b[0m\u001b[0mModel\u001b[0m\u001b[0;34m(\u001b[0m\u001b[0;34m)\u001b[0m \u001b[0;32mas\u001b[0m \u001b[0mupdate_model\u001b[0m\u001b[0;34m:\u001b[0m\u001b[0;34m\u001b[0m\u001b[0m\n\u001b[1;32m     12\u001b[0m     \u001b[0;31m# pm.glm.GLM.from_formula(formula=fml, data=new_data, family=pm.glm.families.NegativeBinomial())\u001b[0m\u001b[0;34m\u001b[0m\u001b[0;34m\u001b[0m\u001b[0m\n\u001b[0;32m---> 13\u001b[0;31m     \u001b[0malpha_0\u001b[0m \u001b[0;34m=\u001b[0m \u001b[0mInterpolated\u001b[0m\u001b[0;34m(\u001b[0m\u001b[0;34m'alpha_0'\u001b[0m\u001b[0;34m,\u001b[0m \u001b[0mx0\u001b[0m\u001b[0;34m,\u001b[0m \u001b[0mpdf0\u001b[0m\u001b[0;34m)\u001b[0m\u001b[0;34m\u001b[0m\u001b[0m\n\u001b[0m\u001b[1;32m     14\u001b[0m     \u001b[0malpha_1\u001b[0m \u001b[0;34m=\u001b[0m \u001b[0mInterpolated\u001b[0m\u001b[0;34m(\u001b[0m\u001b[0;34m'alpha_1'\u001b[0m\u001b[0;34m,\u001b[0m \u001b[0mx1\u001b[0m\u001b[0;34m,\u001b[0m \u001b[0mpdf1\u001b[0m\u001b[0;34m)\u001b[0m\u001b[0;34m\u001b[0m\u001b[0m\n\u001b[1;32m     15\u001b[0m     \u001b[0mtheta\u001b[0m \u001b[0;34m=\u001b[0m \u001b[0;34m(\u001b[0m\u001b[0malpha_0\u001b[0m \u001b[0;34m+\u001b[0m \u001b[0malpha_1\u001b[0m \u001b[0;34m*\u001b[0m \u001b[0mx1_shared\u001b[0m\u001b[0;34m)\u001b[0m\u001b[0;34m\u001b[0m\u001b[0m\n",
      "\u001b[0;32m~/Documents/Github/pymc3/pymc3/distributions/distribution.py\u001b[0m in \u001b[0;36m__new__\u001b[0;34m(cls, name, *args, **kwargs)\u001b[0m\n\u001b[1;32m     34\u001b[0m                 \u001b[0;32mraise\u001b[0m \u001b[0mTypeError\u001b[0m\u001b[0;34m(\u001b[0m\u001b[0;34m\"observed needs to be data but got: {}\"\u001b[0m\u001b[0;34m.\u001b[0m\u001b[0mformat\u001b[0m\u001b[0;34m(\u001b[0m\u001b[0mtype\u001b[0m\u001b[0;34m(\u001b[0m\u001b[0mdata\u001b[0m\u001b[0;34m)\u001b[0m\u001b[0;34m)\u001b[0m\u001b[0;34m)\u001b[0m\u001b[0;34m\u001b[0m\u001b[0m\n\u001b[1;32m     35\u001b[0m             \u001b[0mtotal_size\u001b[0m \u001b[0;34m=\u001b[0m \u001b[0mkwargs\u001b[0m\u001b[0;34m.\u001b[0m\u001b[0mpop\u001b[0m\u001b[0;34m(\u001b[0m\u001b[0;34m'total_size'\u001b[0m\u001b[0;34m,\u001b[0m \u001b[0;32mNone\u001b[0m\u001b[0;34m)\u001b[0m\u001b[0;34m\u001b[0m\u001b[0m\n\u001b[0;32m---> 36\u001b[0;31m             \u001b[0mdist\u001b[0m \u001b[0;34m=\u001b[0m \u001b[0mcls\u001b[0m\u001b[0;34m.\u001b[0m\u001b[0mdist\u001b[0m\u001b[0;34m(\u001b[0m\u001b[0;34m*\u001b[0m\u001b[0margs\u001b[0m\u001b[0;34m,\u001b[0m \u001b[0;34m**\u001b[0m\u001b[0mkwargs\u001b[0m\u001b[0;34m)\u001b[0m\u001b[0;34m\u001b[0m\u001b[0m\n\u001b[0m\u001b[1;32m     37\u001b[0m             \u001b[0;32mreturn\u001b[0m \u001b[0mmodel\u001b[0m\u001b[0;34m.\u001b[0m\u001b[0mVar\u001b[0m\u001b[0;34m(\u001b[0m\u001b[0mname\u001b[0m\u001b[0;34m,\u001b[0m \u001b[0mdist\u001b[0m\u001b[0;34m,\u001b[0m \u001b[0mdata\u001b[0m\u001b[0;34m,\u001b[0m \u001b[0mtotal_size\u001b[0m\u001b[0;34m)\u001b[0m\u001b[0;34m\u001b[0m\u001b[0m\n\u001b[1;32m     38\u001b[0m         \u001b[0;32melse\u001b[0m\u001b[0;34m:\u001b[0m\u001b[0;34m\u001b[0m\u001b[0m\n",
      "\u001b[0;32m~/Documents/Github/pymc3/pymc3/distributions/distribution.py\u001b[0m in \u001b[0;36mdist\u001b[0;34m(cls, *args, **kwargs)\u001b[0m\n\u001b[1;32m     45\u001b[0m     \u001b[0;32mdef\u001b[0m \u001b[0mdist\u001b[0m\u001b[0;34m(\u001b[0m\u001b[0mcls\u001b[0m\u001b[0;34m,\u001b[0m \u001b[0;34m*\u001b[0m\u001b[0margs\u001b[0m\u001b[0;34m,\u001b[0m \u001b[0;34m**\u001b[0m\u001b[0mkwargs\u001b[0m\u001b[0;34m)\u001b[0m\u001b[0;34m:\u001b[0m\u001b[0;34m\u001b[0m\u001b[0m\n\u001b[1;32m     46\u001b[0m         \u001b[0mdist\u001b[0m \u001b[0;34m=\u001b[0m \u001b[0mobject\u001b[0m\u001b[0;34m.\u001b[0m\u001b[0m__new__\u001b[0m\u001b[0;34m(\u001b[0m\u001b[0mcls\u001b[0m\u001b[0;34m)\u001b[0m\u001b[0;34m\u001b[0m\u001b[0m\n\u001b[0;32m---> 47\u001b[0;31m         \u001b[0mdist\u001b[0m\u001b[0;34m.\u001b[0m\u001b[0m__init__\u001b[0m\u001b[0;34m(\u001b[0m\u001b[0;34m*\u001b[0m\u001b[0margs\u001b[0m\u001b[0;34m,\u001b[0m \u001b[0;34m**\u001b[0m\u001b[0mkwargs\u001b[0m\u001b[0;34m)\u001b[0m\u001b[0;34m\u001b[0m\u001b[0m\n\u001b[0m\u001b[1;32m     48\u001b[0m         \u001b[0;32mreturn\u001b[0m \u001b[0mdist\u001b[0m\u001b[0;34m\u001b[0m\u001b[0m\n\u001b[1;32m     49\u001b[0m \u001b[0;34m\u001b[0m\u001b[0m\n",
      "\u001b[0;32m~/Documents/Github/pymc3/pymc3/distributions/continuous.py\u001b[0m in \u001b[0;36m__init__\u001b[0;34m(self, x_points, pdf_points, transform, *args, **kwargs)\u001b[0m\n\u001b[1;32m   2392\u001b[0m                                            *args, **kwargs)\n\u001b[1;32m   2393\u001b[0m \u001b[0;34m\u001b[0m\u001b[0m\n\u001b[0;32m-> 2394\u001b[0;31m         \u001b[0minterp\u001b[0m \u001b[0;34m=\u001b[0m \u001b[0mInterpolatedUnivariateSpline\u001b[0m\u001b[0;34m(\u001b[0m\u001b[0mx_points\u001b[0m\u001b[0;34m,\u001b[0m \u001b[0mpdf_points\u001b[0m\u001b[0;34m,\u001b[0m \u001b[0mk\u001b[0m\u001b[0;34m=\u001b[0m\u001b[0;36m1\u001b[0m\u001b[0;34m,\u001b[0m \u001b[0mext\u001b[0m\u001b[0;34m=\u001b[0m\u001b[0;34m'zeros'\u001b[0m\u001b[0;34m)\u001b[0m\u001b[0;34m\u001b[0m\u001b[0m\n\u001b[0m\u001b[1;32m   2395\u001b[0m         \u001b[0mZ\u001b[0m \u001b[0;34m=\u001b[0m \u001b[0minterp\u001b[0m\u001b[0;34m.\u001b[0m\u001b[0mintegral\u001b[0m\u001b[0;34m(\u001b[0m\u001b[0mx_points\u001b[0m\u001b[0;34m[\u001b[0m\u001b[0;36m0\u001b[0m\u001b[0;34m]\u001b[0m\u001b[0;34m,\u001b[0m \u001b[0mx_points\u001b[0m\u001b[0;34m[\u001b[0m\u001b[0;34m-\u001b[0m\u001b[0;36m1\u001b[0m\u001b[0;34m]\u001b[0m\u001b[0;34m)\u001b[0m\u001b[0;34m\u001b[0m\u001b[0m\n\u001b[1;32m   2396\u001b[0m \u001b[0;34m\u001b[0m\u001b[0m\n",
      "\u001b[0;32m/usr/local/lib/python3.5/dist-packages/scipy/interpolate/fitpack2.py\u001b[0m in \u001b[0;36m__init__\u001b[0;34m(self, x, y, w, bbox, k, ext, check_finite)\u001b[0m\n\u001b[1;32m    596\u001b[0m                     not w_finite):\n\u001b[1;32m    597\u001b[0m                 \u001b[0;32mraise\u001b[0m \u001b[0mValueError\u001b[0m\u001b[0;34m(\u001b[0m\u001b[0;34m\"Input must not contain NaNs or infs.\"\u001b[0m\u001b[0;34m)\u001b[0m\u001b[0;34m\u001b[0m\u001b[0m\n\u001b[0;32m--> 598\u001b[0;31m         \u001b[0;32mif\u001b[0m \u001b[0;32mnot\u001b[0m \u001b[0mall\u001b[0m\u001b[0;34m(\u001b[0m\u001b[0mdiff\u001b[0m\u001b[0;34m(\u001b[0m\u001b[0mx\u001b[0m\u001b[0;34m)\u001b[0m \u001b[0;34m>\u001b[0m \u001b[0;36m0.0\u001b[0m\u001b[0;34m)\u001b[0m\u001b[0;34m:\u001b[0m\u001b[0;34m\u001b[0m\u001b[0m\n\u001b[0m\u001b[1;32m    599\u001b[0m             \u001b[0;32mraise\u001b[0m \u001b[0mValueError\u001b[0m\u001b[0;34m(\u001b[0m\u001b[0;34m'x must be strictly increasing'\u001b[0m\u001b[0;34m)\u001b[0m\u001b[0;34m\u001b[0m\u001b[0m\n\u001b[1;32m    600\u001b[0m \u001b[0;34m\u001b[0m\u001b[0m\n",
      "\u001b[0;32m~/.local/lib/python3.5/site-packages/numpy/lib/function_base.py\u001b[0m in \u001b[0;36mdiff\u001b[0;34m(a, n, axis)\u001b[0m\n\u001b[1;32m   1933\u001b[0m     \u001b[0ma\u001b[0m \u001b[0;34m=\u001b[0m \u001b[0masanyarray\u001b[0m\u001b[0;34m(\u001b[0m\u001b[0ma\u001b[0m\u001b[0;34m)\u001b[0m\u001b[0;34m\u001b[0m\u001b[0m\n\u001b[1;32m   1934\u001b[0m     \u001b[0mnd\u001b[0m \u001b[0;34m=\u001b[0m \u001b[0ma\u001b[0m\u001b[0;34m.\u001b[0m\u001b[0mndim\u001b[0m\u001b[0;34m\u001b[0m\u001b[0m\n\u001b[0;32m-> 1935\u001b[0;31m     \u001b[0maxis\u001b[0m \u001b[0;34m=\u001b[0m \u001b[0mnormalize_axis_index\u001b[0m\u001b[0;34m(\u001b[0m\u001b[0maxis\u001b[0m\u001b[0;34m,\u001b[0m \u001b[0mnd\u001b[0m\u001b[0;34m)\u001b[0m\u001b[0;34m\u001b[0m\u001b[0m\n\u001b[0m\u001b[1;32m   1936\u001b[0m \u001b[0;34m\u001b[0m\u001b[0m\n\u001b[1;32m   1937\u001b[0m     \u001b[0mslice1\u001b[0m \u001b[0;34m=\u001b[0m \u001b[0;34m[\u001b[0m\u001b[0mslice\u001b[0m\u001b[0;34m(\u001b[0m\u001b[0;32mNone\u001b[0m\u001b[0;34m)\u001b[0m\u001b[0;34m]\u001b[0m \u001b[0;34m*\u001b[0m \u001b[0mnd\u001b[0m\u001b[0;34m\u001b[0m\u001b[0m\n",
      "\u001b[0;31mAxisError\u001b[0m: axis -1 is out of bounds for array of dimension 0"
     ]
    }
   ],
   "source": [
    "new_data = pd.DataFrame(data=[generate_data() for _ in range(1)], columns=generate_data().keys())\n",
    "output_shared = theano.shared(new_data['output'].values)\n",
    "x1_shared = theano.shared(new_data['x1'].values)\n",
    "x0_, pdf0_ = from_posterior2(trace['alpha_0'])\n",
    "x0 = theano.shared(x0_)\n",
    "pdf0 = theano.shared(pdf0_)\n",
    "x1_, pdf1_ = from_posterior2(trace['alpha_1'])\n",
    "x1 = theano.shared(x1_)\n",
    "pdf1 = theano.shared(pdf1_)\n",
    "\n",
    "with pm.Model() as update_model:\n",
    "    # pm.glm.GLM.from_formula(formula=fml, data=new_data, family=pm.glm.families.NegativeBinomial())\n",
    "    alpha_0 = Interpolated('alpha_0', x0, pdf0)\n",
    "    alpha_1 = Interpolated('alpha_1', x1, pdf1)\n",
    "    theta = (alpha_0 + alpha_1 * x1_shared)\n",
    "\n",
    "    likelihood = pm.Poisson('output',\n",
    "                            mu=np.exp(theta),\n",
    "                            observed=output_shared\n",
    "                            )\n",
    "    trace = pm.sample(1000, init='adapt_diag', chains=2, cores=4, progressbar=False)\n",
    "    \n",
    "for _ in range(1, 10):\n",
    "    new_data = pd.DataFrame(data=[generate_data() for _ in range(1)], columns=generate_data().keys())\n",
    "    output_shared.set_value(new_data['output'].values)\n",
    "    x1_shared.set_value(new_data['x1'].values)\n",
    "    x0_, pdf0_ = from_posterior2(trace['alpha_0'])\n",
    "    x0.set_value(x0_)\n",
    "    pdf0.set_value(pdf0_)\n",
    "    x1_, pdf1_ = from_posterior2(trace['alpha_1'])\n",
    "    x1.set_value(x1_)\n",
    "    pdf1.set_value(pdf1_)\n",
    "    \n",
    "    with update_model:\n",
    "        trace = pm.sample(1000, init='adapt_diag', chains=2, cores=4, progressbar=False)\n",
    "        traces.append(trace)"
   ]
  },
  {
   "cell_type": "code",
   "execution_count": 22,
   "metadata": {
    "scrolled": false
   },
   "outputs": [
    {
     "name": "stderr",
     "output_type": "stream",
     "text": [
      "Auto-assigning NUTS sampler...\n",
      "Initializing NUTS using jitter+adapt_diag...\n",
      "Multiprocess sampling (4 chains in 4 jobs)\n",
      "NUTS: [alpha_1, alpha_0]\n",
      "100%|██████████| 1500/1500 [00:00<00:00, 1738.67it/s]\n",
      "Auto-assigning NUTS sampler...\n",
      "Initializing NUTS using jitter+adapt_diag...\n",
      "Multiprocess sampling (4 chains in 4 jobs)\n",
      "NUTS: [alpha_1, alpha_0]\n",
      "100%|██████████| 1500/1500 [00:00<00:00, 1944.65it/s]\n",
      "Auto-assigning NUTS sampler...\n",
      "Initializing NUTS using jitter+adapt_diag...\n",
      "Multiprocess sampling (4 chains in 4 jobs)\n",
      "NUTS: [alpha_1, alpha_0]\n",
      "100%|██████████| 1500/1500 [00:00<00:00, 1700.11it/s]\n",
      "Auto-assigning NUTS sampler...\n",
      "Initializing NUTS using jitter+adapt_diag...\n",
      "Multiprocess sampling (4 chains in 4 jobs)\n",
      "NUTS: [alpha_1, alpha_0]\n",
      "100%|██████████| 1500/1500 [00:00<00:00, 1860.10it/s]\n",
      "Auto-assigning NUTS sampler...\n",
      "Initializing NUTS using jitter+adapt_diag...\n",
      "Multiprocess sampling (4 chains in 4 jobs)\n",
      "NUTS: [alpha_1, alpha_0]\n",
      "100%|██████████| 1500/1500 [00:00<00:00, 1814.13it/s]\n",
      "Auto-assigning NUTS sampler...\n",
      "Initializing NUTS using jitter+adapt_diag...\n",
      "Multiprocess sampling (4 chains in 4 jobs)\n",
      "NUTS: [alpha_1, alpha_0]\n",
      "100%|██████████| 1500/1500 [00:00<00:00, 1827.07it/s]\n",
      "Auto-assigning NUTS sampler...\n",
      "Initializing NUTS using jitter+adapt_diag...\n",
      "Multiprocess sampling (4 chains in 4 jobs)\n",
      "NUTS: [alpha_1, alpha_0]\n",
      "100%|██████████| 1500/1500 [00:00<00:00, 1824.92it/s]\n",
      "Auto-assigning NUTS sampler...\n",
      "Initializing NUTS using jitter+adapt_diag...\n",
      "Multiprocess sampling (4 chains in 4 jobs)\n",
      "NUTS: [alpha_1, alpha_0]\n",
      "100%|██████████| 1500/1500 [00:00<00:00, 1759.23it/s]\n",
      "Auto-assigning NUTS sampler...\n",
      "Initializing NUTS using jitter+adapt_diag...\n",
      "Multiprocess sampling (4 chains in 4 jobs)\n",
      "NUTS: [alpha_1, alpha_0]\n",
      "100%|██████████| 1500/1500 [00:00<00:00, 1802.32it/s]\n",
      "Auto-assigning NUTS sampler...\n",
      "Initializing NUTS using jitter+adapt_diag...\n",
      "Multiprocess sampling (4 chains in 4 jobs)\n",
      "NUTS: [alpha_1, alpha_0]\n",
      "100%|██████████| 1500/1500 [00:00<00:00, 1953.13it/s]\n"
     ]
    }
   ],
   "source": [
    "new_data = pd.DataFrame(data=[generate_data() for _ in range(1)], columns=generate_data().keys())\n",
    "output_shared = theano.shared(new_data['output'].values)\n",
    "x1_shared = theano.shared(new_data['x1'].values)\n",
    "    \n",
    "mu0 = theano.shared(trace['alpha_0'].mean(), name='hyper_mu0')\n",
    "sd0 = theano.shared(trace['alpha_0'].std(), name='hyper_sd0')\n",
    "mu1 = theano.shared(trace['alpha_1'].mean(), name='hyper_mu1')\n",
    "sd1 = theano.shared(trace['alpha_1'].std(), name='hyper_sd1')\n",
    "\n",
    "with pm.Model() as update_model:\n",
    "    alpha_0 = pm.StudentT('alpha_0', mu=mu0, sd=sd0, nu=1, testval=0.)\n",
    "    alpha_1 = pm.StudentT('alpha_1', mu=mu1, sd=sd1, nu=1, testval=0.)\n",
    "    theta = (alpha_0 + alpha_1 * x1_shared)\n",
    "\n",
    "    likelihood = pm.Poisson(\n",
    "        'output',\n",
    "        mu=np.exp(theta),\n",
    "        observed=output_shared,\n",
    "    )\n",
    "    trace = pm.sample(1000)\n",
    "    traces.append(trace)\n",
    "    \n",
    "for _ in range(1, 10):\n",
    "    new_data = pd.DataFrame(data=[generate_data() for _ in range(1)], columns=generate_data().keys())\n",
    "    output_shared.set_value(new_data['output'].values)\n",
    "    x1_shared.set_value(new_data['x1'].values)\n",
    "    mu0.set_value(trace['alpha_0'].mean())\n",
    "    sd0.set_value(trace['alpha_0'].std())\n",
    "    mu1.set_value(trace['alpha_1'].mean())\n",
    "    sd1.set_value(trace['alpha_1'].std())\n",
    "    \n",
    "    with update_model:\n",
    "        trace = pm.sample(1000)\n",
    "        traces.append(trace)"
   ]
  },
  {
   "cell_type": "code",
   "execution_count": 24,
   "metadata": {},
   "outputs": [
    {
     "data": {
      "image/png": "[encoded data removed]",
      "text/plain": [
       "<matplotlib.figure.Figure at 0x7f9d1313b7f0>"
      ]
     },
     "metadata": {},
     "output_type": "display_data"
    }
   ],
   "source": [
    "cmap = mpl.cm.autumn\n",
    "\n",
    "for param in ['alpha_1']:\n",
    "    for update_i, trace in enumerate(traces):\n",
    "        samples = trace[param]\n",
    "        smin, smax = np.min(samples), np.max(samples)\n",
    "        x = np.linspace(smin, smax, 100)\n",
    "        y = stats.gaussian_kde(samples)(x)\n",
    "        plt.plot(x, y, color=cmap(1 - update_i / len(traces)))\n",
    "    plt.axvline({'alpha_1': -2}[param], c='k')\n",
    "    plt.ylabel('Frequency')\n",
    "    plt.title(param)\n",
    "    plt.show()"
   ]
  },
  {
   "cell_type": "code",
   "execution_count": null,
   "metadata": {},
   "outputs": [],
   "source": []
  }
 ],
 "metadata": {
  "kernelspec": {
   "display_name": "Python 3",
   "language": "python",
   "name": "python3"
  },
  "language_info": {
   "codemirror_mode": {
    "name": "ipython",
    "version": 3
   },
   "file_extension": ".py",
   "mimetype": "text/x-python",
   "name": "python",
   "nbconvert_exporter": "python",
   "pygments_lexer": "ipython3",
   "version": "3.5.2"
  }
 },
 "nbformat": 4,
 "nbformat_minor": 2
}
