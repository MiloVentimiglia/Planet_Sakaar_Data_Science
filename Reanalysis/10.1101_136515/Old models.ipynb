{
 "cells": [
  {
   "cell_type": "code",
   "execution_count": null,
   "metadata": {
    "collapsed": true
   },
   "outputs": [],
   "source": [
    "import pymc3 as pm\n",
    "import pandas as pd\n",
    "import numpy as np\n",
    "import matplotlib.pylab as plt\n",
    "import theano.tensor as tt\n",
    "#\n",
    "tbl = pd.read_csv('ratings_anon.csv')\n",
    "Nrater = len(tbl['rater_id'].unique())\n",
    "raterID = np.asarray(tbl['rater_id'].astype('category').cat.codes, dtype=np.int16)\n",
    "raterSex = np.asarray(tbl['rater_sex'].astype('category').cat.codes, dtype=np.int16)\n",
    "subjID = np.asarray(tbl['face_id'].astype('category').cat.codes, dtype=np.int16)\n",
    "\n",
    "progesterone = np.asarray(tbl['progesterone'], dtype=np.float64)\n",
    "estradiol = np.asarray(tbl['estradiol'], dtype=np.float64)\n",
    "rating = np.asarray(tbl['rating'], dtype=np.float64)\n",
    "rating = np.log(rating - 0) - np.log(8 - rating)\n",
    "whr_raw = np.asarray(tbl['whr'], dtype=np.float64)\n",
    "\n",
    "sortID, index = np.unique(subjID, return_index=True)\n",
    "index = index[np.isfinite(whr_raw[index])]\n",
    "whr = np.asarray(whr_raw[index], dtype=np.float64)"
   ]
  },
  {
   "cell_type": "markdown",
   "metadata": {},
   "source": [
    "# Model 1"
   ]
  },
  {
   "cell_type": "code",
   "execution_count": null,
   "metadata": {
    "collapsed": true
   },
   "outputs": [],
   "source": [
    "Nmeasure = 4\n",
    "with pm.Model() as model:\n",
    "    # on the assumption that attractiveness, progesterone and estradiol \n",
    "    # are correlated, this correlation could be capture with a cov matrix\n",
    "    sd_dist = pm.HalfCauchy.dist(beta=2.5)\n",
    "    packed_chol = pm.LKJCholeskyCov('chol_cov', n=Nmeasure, eta=1, sd_dist=sd_dist)\n",
    "    # compute the covariance matrix\n",
    "    chol = pm.expand_packed_triangular(Nmeasure, packed_chol, lower=True)\n",
    "    cov = tt.dot(chol, chol.T)\n",
    "    \n",
    "    # Extract the correlation deviations etc\n",
    "    sd = pm.Deterministic('sd',tt.sqrt(tt.diag(cov)))\n",
    "    corr = tt.diag(sd**-1).dot(cov.dot(tt.diag(sd**-1)))\n",
    "    r = pm.Deterministic('r', corr[np.triu_indices(Nmeasure, k=1)])\n",
    "    \n",
    "    # transform an uncorrelated normal:\n",
    "    mu0 = pm.Normal('mu0', mu=np.zeros((Nmeasure,1)), sd=1., \n",
    "                    shape=(Nmeasure,)+np.unique(subjID).shape)\n",
    "    musubj = tt.dot(chol, mu0)\n",
    "    \n",
    "    subj_sd = pm.HalfCauchy('subj_sd', beta=2.5,\n",
    "                            shape=(Nmeasure-1,)+np.unique(subjID).shape)\n",
    "    \n",
    "    intercept1 = pm.Normal('interp1', mu=np.log(progesterone.mean()), sd=10.)\n",
    "    sess_beta1 = pm.Normal('sebeta1', mu=0., sd=5., shape=Nsess)\n",
    "    obs1 = pm.Lognormal('progesterone', \n",
    "                        mu=tt.exp(musubj[0, subjID_hm]+sess_beta1[sessID_hm]+intercept1),\n",
    "                        sd=subj_sd[0, subjID_hm],\n",
    "                        observed=progesterone)\n",
    "    \n",
    "    intercept2 = pm.Normal('interp2', mu=np.log(estradiol.mean()), sd=10.)\n",
    "    sess_beta2 = pm.Normal('sebeta2', mu=0., sd=5., shape=Nsess)\n",
    "    obs2 = pm.Lognormal('estradiol', \n",
    "                        mu=tt.exp(musubj[1, subjID_hm]+sess_beta2[sessID_hm]+intercept2),\n",
    "                        sd=subj_sd[1, subjID_hm],\n",
    "                        observed=estradiol)\n",
    "    \n",
    "    ratermu = pm.Normal('ratermu', mu=0., sd=10., shape=np.unique(raterID).shape)\n",
    "    ratersd = pm.HalfNormal('ratersd', sd=10., shape=np.unique(raterID).shape)\n",
    "    obs3 = pm.Normal('rating', \n",
    "                     mu=musubj[2, subjID]+ratermu[raterID],\n",
    "                     sd=subj_sd[2, subjID]+ratersd[raterID],\n",
    "                     observed=rating_r)\n",
    "    \n",
    "    intercept3 = pm.Normal('interp3', mu=whr.mean(), sd=1.)\n",
    "    whr_mu = pm.Deterministic('whr_mu', musubj[3, subjID[index]]+intercept3)\n",
    "    obs4 = pm.Normal('whr', \n",
    "                     mu=whr_mu,\n",
    "                     sd=.01,\n",
    "                     observed=whr)\n",
    "    \n",
    "    trace = pm.sample(2000, njobs=4, tune=2000)"
   ]
  },
  {
   "cell_type": "code",
   "execution_count": null,
   "metadata": {
    "collapsed": true
   },
   "outputs": [],
   "source": [
    "pm.traceplot(trace, varnames=['r','chol_cov']);"
   ]
  },
  {
   "cell_type": "code",
   "execution_count": null,
   "metadata": {
    "collapsed": true
   },
   "outputs": [],
   "source": [
    "CONVERGENCE_TITLE = lambda: 'BFMI = {a:.2f}\\nmax(R_hat) = {b:.3f}\\nmin(Eff_n) = {c:.3f}'\\\n",
    "                    .format(a=bfmi, b=max_gr, c=min_effn)\n",
    "def get_diags(trace):\n",
    "    bfmi = pm.bfmi(trace)\n",
    "    max_gr = max(np.max(gr_stats) for gr_stats in pm.gelman_rubin(trace).values())\n",
    "    min_effn = min(np.min(ef_stats) for ef_stats in pm.effective_n(trace).values())\n",
    "    return bfmi, max_gr, min_effn\n",
    "\n",
    "_, ax = plt.subplots(1, 1, figsize=(7, 5))\n",
    "bfmi, max_gr, min_effn = get_diags(trace)\n",
    "(pm.energyplot(trace, ax=ax)\n",
    "   .set_title(CONVERGENCE_TITLE()));"
   ]
  },
  {
   "cell_type": "code",
   "execution_count": null,
   "metadata": {
    "collapsed": true
   },
   "outputs": [],
   "source": [
    "corrpost = np.ones((Nmeasure, Nmeasure))\n",
    "corrpost[np.triu_indices(Nmeasure, k=1)] = pm.df_summary(trace,varnames=['r'])['mean'].values\n",
    "corrpost[np.tril_indices(Nmeasure, k=-1)] = pm.df_summary(trace,varnames=['r'])['mean'].values\n",
    "\n",
    "#replace empty element in whr with mean\n",
    "whr_raw[~np.isfinite(whr_raw)]=np.nanmean(whr_raw)\n",
    "\n",
    "corermpr = np.corrcoef(np.vstack([progesterone, estradiol, rating_r, whr_raw]))\n",
    "tmp = []\n",
    "for id_ in subjID[np.sort(index)]:\n",
    "    tmp.append(np.vstack([progesterone[subjID==id_][:5],\n",
    "                          estradiol[subjID==id_][:5],\n",
    "                          whr_raw[subjID==id_][:5],\n",
    "                          [id_]*5]).T)\n",
    "tmp = np.asarray(tmp)\n",
    "tmp2 = np.reshape(tmp,[tmp.shape[0]*tmp.shape[1],tmp.shape[2]])\n",
    "corrtmp = np.corrcoef(tmp2[:,:3].T)\n",
    "corermpr[0,1]=corermpr[1,0]=corrtmp[0,1]\n",
    "corermpr[0,3]=corermpr[3,0]=corrtmp[0,2]\n",
    "corermpr[1,3]=corermpr[3,1]=corrtmp[1,2]\n",
    "\n",
    "measure_labels = ['Progesterone', 'Estradiol', 'Rating', 'WHR']\n",
    "\n",
    "_, ax = plt.subplots(1, 2, figsize=(10, 5))\n",
    "empirical_corr = pd.DataFrame(corermpr,\n",
    "                              columns=measure_labels,\n",
    "                              index=measure_labels)\n",
    "sns.heatmap(empirical_corr, \n",
    "            cbar=False, square = True, annot=True, \n",
    "            linewidths=.1, cmap='viridis', ax=ax[0])\n",
    "ax[0].set_title('Empirical Correlation Matrix')\n",
    "\n",
    "posterior_corr = pd.DataFrame(corrpost,\n",
    "                              columns=measure_labels,\n",
    "                              index=measure_labels)\n",
    "sns.heatmap(posterior_corr, \n",
    "            cbar=False, square = True, annot=True, \n",
    "            linewidths=.1, cmap='viridis', ax=ax[1])\n",
    "ax[1].set_title('Latent Correlation Matrix')\n",
    "\n",
    "plt.tight_layout();"
   ]
  },
  {
   "cell_type": "code",
   "execution_count": null,
   "metadata": {
    "collapsed": true
   },
   "outputs": [],
   "source": [
    "plotpost = pm.plots.artists.plot_posterior_op\n",
    "tri_idx = np.triu_indices(Nmeasure, k=1)\n",
    "_,  ax = plt.subplots(2, 3, figsize=(18, 6), sharex=True)\n",
    "corrtrace = trace['r']\n",
    "ax1 = ax.flatten()\n",
    "for i in range(len(tri_idx[0])):\n",
    "    trace_values = corrtrace[:, i]\n",
    "    plotpost(trace_values, ax1[i], kde_plot=False, point_estimate='mean', \n",
    "             round_to=3, alpha_level=0.05, ref_val=0., rope=None, color='#87ceeb')\n",
    "    ax1[i].axvline(corermpr[tri_idx[0][i], tri_idx[1][i]])\n",
    "    ax1[i].set_title('Corr('+measure_labels[tri_idx[0][i]]+', '+measure_labels[tri_idx[1][i]]+')')\n",
    "plt.tight_layout();"
   ]
  },
  {
   "cell_type": "code",
   "execution_count": null,
   "metadata": {
    "collapsed": true
   },
   "outputs": [],
   "source": [
    "ppc = pm.sample_ppc(trace,100, model=model)"
   ]
  },
  {
   "cell_type": "code",
   "execution_count": null,
   "metadata": {
    "collapsed": true
   },
   "outputs": [],
   "source": [
    "xlim1 = max(progesterone)\n",
    "_, ax = plt.subplots()\n",
    "for ippc in ppc['progesterone']:\n",
    "    #plt.hist(ippc, bins=100, normed=True, histtype='step', color='gray');\n",
    "    pm.kdeplot(ippc[ippc<xlim1], color='gray', alpha=.5, ax=ax);\n",
    "pm.kdeplot(progesterone, color='r', ax=ax);\n",
    "#plt.hist(progesterone, bins=100, normed=True, histtype='step', color='r');\n",
    "plt.xlim([0,xlim1]);"
   ]
  },
  {
   "cell_type": "code",
   "execution_count": null,
   "metadata": {
    "collapsed": true
   },
   "outputs": [],
   "source": [
    "xlim1 = max(estradiol)\n",
    "_, ax = plt.subplots()\n",
    "for ippc in ppc['estradiol']:\n",
    "    #plt.hist(ippc, bins=100, normed=True, histtype='step', color='gray');\n",
    "    pm.kdeplot(ippc[ippc<xlim1], color='gray', alpha=.5, ax=ax);\n",
    "pm.kdeplot(estradiol, color='r', ax=ax);\n",
    "#plt.hist(progesterone, bins=100, normed=True, histtype='step', color='r');\n",
    "plt.xlim([0,xlim1]);"
   ]
  },
  {
   "cell_type": "code",
   "execution_count": null,
   "metadata": {
    "collapsed": true
   },
   "outputs": [],
   "source": [
    "xlim1 = max(rating_r)\n",
    "_, ax = plt.subplots()\n",
    "for ippc in ppc['rating']:\n",
    "    #plt.hist(ippc, bins=100, normed=True, histtype='step', color='gray');\n",
    "    pm.kdeplot(ippc[ippc<xlim1], color='gray', alpha=.5, ax=ax);\n",
    "pm.kdeplot(rating_r, color='r', ax=ax);\n",
    "#plt.hist(progesterone, bins=100, normed=True, histtype='step', color='r');"
   ]
  },
  {
   "cell_type": "code",
   "execution_count": null,
   "metadata": {
    "collapsed": true
   },
   "outputs": [],
   "source": [
    "def plot_predi(m):\n",
    "    bandwidth = 200\n",
    "    k = round(m*(len(rating_r)-bandwidth))\n",
    "\n",
    "    idx = range(k, k+bandwidth)\n",
    "    f, (ax1, ax2, ax3) = plt.subplots(3, 1, figsize=(18, 10))\n",
    "    ax1.plot(ppc['progesterone'][:,idx].T,alpha=.05,color='gray')\n",
    "    ax1.plot(progesterone[idx],color='r',lw=1)\n",
    "    ax1.set_ylim([0,1900]);\n",
    "\n",
    "    ax2.plot(ppc['estradiol'][:,idx].T,alpha=.05,color='gray')\n",
    "    ax2.plot(estradiol[idx],color='r',lw=1)\n",
    "    ax2.set_ylim([0,25]);\n",
    "\n",
    "    ax3.plot(ppc['rating'][:,idx].T,alpha=.05,color='gray')\n",
    "    ax3.plot(rating_r[idx],color='r',lw=1)\n",
    "\n",
    "    plt.tight_layout()\n",
    "    plt.show()\n",
    "\n",
    "from ipywidgets import interactive\n",
    "\n",
    "interactive_plot = interactive(plot_predi, m=(0., 1., .01))\n",
    "interactive_plot"
   ]
  },
  {
   "cell_type": "code",
   "execution_count": null,
   "metadata": {
    "collapsed": true
   },
   "outputs": [],
   "source": [
    "plt.figure(figsize=(18, 6))\n",
    "plt.plot(ppc['whr'].T,alpha=.05,color='gray')\n",
    "plt.plot(whr,color='r',lw=1)\n",
    "plt.ylim([whr.min(), whr.max()]);"
   ]
  },
  {
   "cell_type": "markdown",
   "metadata": {},
   "source": [
    "## Model 2"
   ]
  },
  {
   "cell_type": "code",
   "execution_count": null,
   "metadata": {
    "collapsed": true
   },
   "outputs": [],
   "source": [
    "class Ordered(pm.distributions.transforms.ElemwiseTransform):\n",
    "    name = \"ordered\"\n",
    "\n",
    "    def forward(self, x):\n",
    "        out = tt.zeros(x.shape)\n",
    "        out = tt.inc_subtensor(out[0], x[0])\n",
    "        out = tt.inc_subtensor(out[1:], tt.log(x[1:] - x[:-1]))\n",
    "        return out\n",
    "    \n",
    "    def forward_val(self, x, point=None):\n",
    "        x, = pm.distributions.distribution.draw_values([x], point=point)\n",
    "        return self.forward(x)\n",
    "\n",
    "    def backward(self, y):\n",
    "        out = tt.zeros(y.shape)\n",
    "        out = tt.inc_subtensor(out[0], y[0])\n",
    "        out = tt.inc_subtensor(out[1:], tt.exp(y[1:]))\n",
    "        return tt.cumsum(out)\n",
    "\n",
    "    def jacobian_det(self, y):\n",
    "        return tt.sum(y[1:])"
   ]
  },
  {
   "cell_type": "code",
   "execution_count": null,
   "metadata": {
    "collapsed": true
   },
   "outputs": [],
   "source": [
    "Nmeasure = 4\n",
    "Nrating = len(np.unique(rating))\n",
    "with pm.Model() as model2:\n",
    "    # on the assumption that attractiveness, progesterone and estradiol \n",
    "    # are correlated, this correlation could be capture with a cov matrix\n",
    "    sd_dist = pm.HalfCauchy.dist(beta=2.5)\n",
    "    packed_chol = pm.LKJCholeskyCov('chol_cov', n=Nmeasure, eta=1, sd_dist=sd_dist)\n",
    "    # compute the covariance matrix\n",
    "    chol = pm.expand_packed_triangular(Nmeasure, packed_chol, lower=True)\n",
    "    cov = tt.dot(chol, chol.T)\n",
    "    \n",
    "    # Extract the correlation deviations etc\n",
    "    sd = pm.Deterministic('sd',tt.sqrt(tt.diag(cov)))\n",
    "    corr = tt.diag(sd**-1).dot(cov.dot(tt.diag(sd**-1)))\n",
    "    r = pm.Deterministic('r', corr[np.triu_indices(Nmeasure, k=1)])\n",
    "    \n",
    "    # transform an uncorrelated normal:\n",
    "    mu0 = pm.Normal('mu0', mu=np.zeros((Nmeasure,1)), sd=1., \n",
    "                    shape=(Nmeasure,)+np.unique(subjID).shape)\n",
    "    musubj = tt.dot(chol, mu0)\n",
    "    \n",
    "    subj_sd = pm.HalfCauchy('subj_sd', beta=2.5,\n",
    "                            shape=(Nmeasure-1,)+np.unique(subjID).shape)\n",
    "    \n",
    "    intercept1 = pm.Normal('interp1', mu=np.log(progesterone.mean()), sd=10.)\n",
    "    obs1 = pm.Lognormal('progesterone', \n",
    "                        mu=tt.exp(musubj[0, subjID]+intercept1),\n",
    "                        sd=subj_sd[0, subjID],\n",
    "                        observed=progesterone)\n",
    "    \n",
    "    intercept2 = pm.Normal('interp2', mu=np.log(estradiol.mean()), sd=10.)\n",
    "    obs2 = pm.Lognormal('estradiol', \n",
    "                        mu=tt.exp(musubj[1, subjID]+intercept2),\n",
    "                        sd=subj_sd[1, subjID],\n",
    "                        observed=estradiol)\n",
    "    \n",
    "    ratermu = pm.Normal('ratermu', mu=0., sd=10., shape=np.unique(raterID).shape)\n",
    "    ratersd = pm.HalfNormal('ratersd', sd=10., shape=np.unique(raterID).shape)\n",
    "    unit_n = pm.Normal('unit_n',  mu=0, sd=1)\n",
    "    latentrate = musubj[2, subjID]+ratermu[raterID] + subj_sd[2, subjID]+ratersd[raterID]*unit_n\n",
    "    # latent rating\n",
    "    a = pm.Normal('a', 0., 10., \n",
    "                  transform=Ordered(), \n",
    "                  shape=Nrating, \n",
    "                  testval=np.arange(Nrating) - Nrating/2)\n",
    "    pa = pm.math.sigmoid(tt.shape_padleft(a) - tt.shape_padright(latentrate))\n",
    "    p_cum = tt.concatenate([\n",
    "                            tt.zeros_like(tt.shape_padright(pa[:, 0])),\n",
    "                            pa,\n",
    "                            tt.ones_like(tt.shape_padright(pa[:, 0]))\n",
    "                            ], axis=1)\n",
    "    p = p_cum[:, 1:] - p_cum[:, :-1]\n",
    "    obs3 = pm.Categorical('rating', p, observed=rating - 1)\n",
    "    \n",
    "    intercept3 = pm.Normal('interp3', mu=whr.mean(), sd=1.)\n",
    "    whr_mu = pm.Deterministic('whr_mu', musubj[3, subjID[index]]+intercept3)\n",
    "    obs4 = pm.Normal('whr', \n",
    "                     mu=whr_mu,\n",
    "                     sd=.01, # measurement error\n",
    "                     observed=whr)\n",
    "\n",
    "    trace2 = pm.sample(2000, njobs=4, tune=2000)"
   ]
  },
  {
   "cell_type": "code",
   "execution_count": null,
   "metadata": {
    "collapsed": true
   },
   "outputs": [],
   "source": [
    "_, ax = plt.subplots(1, 1, figsize=(7, 5))\n",
    "bfmi, max_gr, min_effn = get_diags(trace2)\n",
    "(pm.energyplot(trace2, ax=ax)\n",
    "   .set_title(CONVERGENCE_TITLE()));"
   ]
  },
  {
   "cell_type": "code",
   "execution_count": null,
   "metadata": {
    "collapsed": true
   },
   "outputs": [],
   "source": [
    "MODEL_NAME_MAP = {\n",
    "    0: \"model1\",\n",
    "    1: \"model2\"\n",
    "}\n",
    "\n",
    "comp_df = (pm.compare([trace, trace2], \n",
    "                      [model, model2])\n",
    "             .rename(index=MODEL_NAME_MAP)\n",
    "             .loc[MODEL_NAME_MAP.values()])\n",
    "\n",
    "comp_df"
   ]
  },
  {
   "cell_type": "code",
   "execution_count": null,
   "metadata": {
    "collapsed": true
   },
   "outputs": [],
   "source": []
  }
 ],
 "metadata": {
  "kernelspec": {
   "display_name": "Python 3",
   "language": "python",
   "name": "python3"
  },
  "language_info": {
   "codemirror_mode": {
    "name": "ipython",
    "version": 3
   },
   "file_extension": ".py",
   "mimetype": "text/x-python",
   "name": "python",
   "nbconvert_exporter": "python",
   "pygments_lexer": "ipython3",
   "version": "3.5.2"
  }
 },
 "nbformat": 4,
 "nbformat_minor": 2
}
