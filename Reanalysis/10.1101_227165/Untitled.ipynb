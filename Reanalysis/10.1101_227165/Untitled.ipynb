{
 "cells": [
  {
   "cell_type": "code",
   "execution_count": 45,
   "metadata": {},
   "outputs": [
    {
     "data": {
      "text/plain": [
       "array([[ 7.011, -2.725,  0.115,  0.042, -0.178,  1.027, -0.015],\n",
       "       [-2.725,  7.151, -2.339, -0.371, -0.45 , -1.687, -0.031],\n",
       "       [ 0.115, -2.339,  8.525, -1.039,  0.113, -0.203,  0.663],\n",
       "       [ 0.042, -0.371, -1.039,  7.142, -1.739, -0.47 , -0.324],\n",
       "       [-0.178, -0.45 ,  0.113, -1.739,  7.944, -1.203, -1.951],\n",
       "       [ 1.027, -1.687, -0.203, -0.47 , -1.203,  7.17 ,  0.407],\n",
       "       [-0.015, -0.031,  0.663, -0.324, -1.951,  0.407,  7.116]])"
      ]
     },
     "execution_count": 45,
     "metadata": {},
     "output_type": "execute_result"
    }
   ],
   "source": [
    "# parse data\n",
    "import numpy as np\n",
    "from scipy.linalg import kron\n",
    "from scipy.linalg import cholesky\n",
    "import scipy.stats as st\n",
    "\n",
    "Nd = 7\n",
    "W = st.norm.rvs(loc=0,scale=1,size=(Nd,Nd))\n",
    "S = W*W.transpose() + np.diagflat(np.ones((Nd,1))*Nd)\n",
    "np.round(S,3)"
   ]
  },
  {
   "cell_type": "code",
   "execution_count": 49,
   "metadata": {},
   "outputs": [
    {
     "data": {
      "text/plain": [
       "array([[ 7.071, -2.678,  0.12 ,  0.032, -0.176,  0.995,  0.069],\n",
       "       [-2.678,  7.174, -2.468, -0.407, -0.36 , -1.703, -0.01 ],\n",
       "       [ 0.12 , -2.468,  8.624, -1.106, -0.023, -0.194,  0.687],\n",
       "       [ 0.032, -0.407, -1.106,  7.276, -1.786, -0.406, -0.475],\n",
       "       [-0.176, -0.36 , -0.023, -1.786,  7.97 , -1.207, -1.909],\n",
       "       [ 0.995, -1.703, -0.194, -0.406, -1.207,  7.197,  0.372],\n",
       "       [ 0.069, -0.01 ,  0.687, -0.475, -1.909,  0.372,  7.078]])"
      ]
     },
     "execution_count": 49,
     "metadata": {},
     "output_type": "execute_result"
    }
   ],
   "source": [
    "rand1 = st.multivariate_normal.rvs(mean=np.zeros(Nd), cov=S, size=(10000))\n",
    "np.round(np.cov(rand1.T),3)"
   ]
  },
  {
   "cell_type": "code",
   "execution_count": 51,
   "metadata": {},
   "outputs": [
    {
     "data": {
      "text/plain": [
       "array([[ 7.064, -2.855,  0.143,  0.167, -0.176,  0.935,  0.03 ],\n",
       "       [-2.855,  7.214, -2.432, -0.486, -0.352, -1.564, -0.082],\n",
       "       [ 0.143, -2.432,  8.812, -1.126,  0.065, -0.182,  0.571],\n",
       "       [ 0.167, -0.486, -1.126,  7.044, -1.657, -0.568, -0.247],\n",
       "       [-0.176, -0.352,  0.065, -1.657,  7.871, -1.235, -1.928],\n",
       "       [ 0.935, -1.564, -0.182, -0.568, -1.235,  7.106,  0.469],\n",
       "       [ 0.03 , -0.082,  0.571, -0.247, -1.928,  0.469,  7.087]])"
      ]
     },
     "execution_count": 51,
     "metadata": {},
     "output_type": "execute_result"
    }
   ],
   "source": [
    "rand_ = st.norm.rvs(loc=0, scale=1, size=(Nd, 10000))\n",
    "rand2 = np.dot(cholesky(S, lower=True), rand_)\n",
    "np.round(np.cov(rand2),3)"
   ]
  },
  {
   "cell_type": "code",
   "execution_count": 74,
   "metadata": {},
   "outputs": [
    {
     "data": {
      "text/plain": [
       "array([[ 7.074, -2.779,  0.137,  0.137, -0.168,  0.939, -0.018],\n",
       "       [-2.779,  7.182, -2.433, -0.462, -0.38 , -1.568, -0.065],\n",
       "       [ 0.137, -2.433,  9.031, -1.123,  0.028, -0.253,  0.634],\n",
       "       [ 0.137, -0.462, -1.123,  6.926, -1.646, -0.541, -0.256],\n",
       "       [-0.168, -0.38 ,  0.028, -1.646,  8.076, -1.201, -1.983],\n",
       "       [ 0.939, -1.568, -0.253, -0.541, -1.201,  7.212,  0.478],\n",
       "       [-0.018, -0.065,  0.634, -0.256, -1.983,  0.478,  7.122]])"
      ]
     },
     "execution_count": 74,
     "metadata": {},
     "output_type": "execute_result"
    }
   ],
   "source": [
    "L2 = cholesky(S - np.diag(np.diag(S))/Nd, lower=True)\n",
    "rand3 = st.norm.rvs(loc=np.dot(L2, rand_), scale=(np.diag(S)/Nd)[:,None])\n",
    "np.round(np.cov(rand3),3)"
   ]
  },
  {
   "cell_type": "code",
   "execution_count": null,
   "metadata": {},
   "outputs": [],
   "source": []
  }
 ],
 "metadata": {
  "kernelspec": {
   "display_name": "Python 3",
   "language": "python",
   "name": "python3"
  },
  "language_info": {
   "codemirror_mode": {
    "name": "ipython",
    "version": 3
   },
   "file_extension": ".py",
   "mimetype": "text/x-python",
   "name": "python",
   "nbconvert_exporter": "python",
   "pygments_lexer": "ipython3",
   "version": "3.5.1"
  }
 },
 "nbformat": 4,
 "nbformat_minor": 2
}
