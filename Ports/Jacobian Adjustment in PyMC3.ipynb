{
 "cells": [
  {
   "cell_type": "code",
   "execution_count": 1,
   "metadata": {},
   "outputs": [
    {
     "name": "stdout",
     "output_type": "stream",
     "text": [
      "Populating the interactive namespace from numpy and matplotlib\n"
     ]
    },
    {
     "name": "stderr",
     "output_type": "stream",
     "text": [
      "/home/junpenglao/anaconda3/lib/python3.6/site-packages/h5py/__init__.py:36: FutureWarning: Conversion of the second argument of issubdtype from `float` to `np.floating` is deprecated. In future, it will be treated as `np.float64 == np.dtype(float).type`.\n",
      "  from ._conv import register_converters as _register_converters\n"
     ]
    }
   ],
   "source": [
    "%pylab inline\n",
    "import numpy as np\n",
    "import pymc3 as pm\n",
    "import theano.tensor as tt\n",
    "import seaborn as sns"
   ]
  },
  {
   "cell_type": "markdown",
   "metadata": {},
   "source": [
    "### A simplistic PyMC3 port of Bob Carpenter's [The Impact of Reparameterization on Point Estimates](http://mc-stan.org/documentation/case-studies/mle-params.html) in STAN"
   ]
  },
  {
   "cell_type": "markdown",
   "metadata": {},
   "source": [
    "#### Model 1: Chance-of-Success Parameterization"
   ]
  },
  {
   "cell_type": "code",
   "execution_count": 11,
   "metadata": {},
   "outputs": [
    {
     "name": "stderr",
     "output_type": "stream",
     "text": [
      "logp = -6.9315, ||grad|| = 1: 100%|██████████| 6/6 [00:00<00:00, 1843.11it/s]\n"
     ]
    },
    {
     "data": {
      "text/plain": [
       "{'theta_interval__': array(-0.4054651), 'theta': array(0.4)}"
      ]
     },
     "execution_count": 11,
     "metadata": {},
     "output_type": "execute_result"
    }
   ],
   "source": [
    "y = np.asarray([0, 1, 0, 1, 1, 0, 0, 1, 0, 0])\n",
    "N = len(y)\n",
    "with pm.Model():\n",
    "    # Set Transform to None so it won't use theta_log_\n",
    "    theta = pm.Uniform('theta', lower=0, upper=1)\n",
    "    obs = pm.Bernoulli('obs', p=theta, observed=y)\n",
    "    map_est = pm.find_MAP()\n",
    "\n",
    "map_est"
   ]
  },
  {
   "cell_type": "code",
   "execution_count": 14,
   "metadata": {},
   "outputs": [
    {
     "name": "stderr",
     "output_type": "stream",
     "text": [
      "Auto-assigning NUTS sampler...\n",
      "Initializing NUTS using jitter+adapt_diag...\n",
      "Multiprocess sampling (4 chains in 4 jobs)\n",
      "NUTS: [theta]\n",
      "Sampling 4 chains: 100%|██████████| 44000/44000 [00:10<00:00, 4055.73draws/s]\n"
     ]
    },
    {
     "data": {
      "image/png": "[encoded data removed]",
      "text/plain": [
       "<Figure size 432x288 with 1 Axes>"
      ]
     },
     "metadata": {},
     "output_type": "display_data"
    }
   ],
   "source": [
    "with pm.Model():\n",
    "    # Set Transform to None so it won't use theta_log_\n",
    "    theta = pm.Uniform('theta', lower=0, upper=1)\n",
    "    obs = pm.Bernoulli('obs', p=theta, observed=y)\n",
    "    trace = pm.sample(10000, tune=1000, njobs=4)\n",
    "pm.plot_posterior(trace);"
   ]
  },
  {
   "cell_type": "code",
   "execution_count": 18,
   "metadata": {},
   "outputs": [
    {
     "name": "stderr",
     "output_type": "stream",
     "text": [
      "Auto-assigning NUTS sampler...\n",
      "Initializing NUTS using adapt_diag...\n",
      "Multiprocess sampling (4 chains in 4 jobs)\n",
      "NUTS: [theta]\n",
      "Sampling 4 chains: 100%|██████████| 44000/44000 [00:18<00:00, 2423.13draws/s]\n",
      "There was 1 divergence after tuning. Increase `target_accept` or reparameterize.\n",
      "There was 1 divergence after tuning. Increase `target_accept` or reparameterize.\n",
      "There were 5 divergences after tuning. Increase `target_accept` or reparameterize.\n",
      "The number of effective samples is smaller than 25% for some parameters.\n"
     ]
    },
    {
     "data": {
      "image/png": "[encoded data removed]",
      "text/plain": [
       "<Figure size 432x288 with 1 Axes>"
      ]
     },
     "metadata": {},
     "output_type": "display_data"
    }
   ],
   "source": [
    "with pm.Model():\n",
    "    # Set Transform to None so it won't use theta_log_\n",
    "    theta = pm.Uniform('theta', lower=0, upper=1, transform=None)\n",
    "    obs = pm.Bernoulli('obs', p=theta, observed=y)\n",
    "    trace = pm.sample(10000, tune=1000, njobs=4, \n",
    "                      init='adapt_diag', \n",
    "                      nuts_kwargs={'target_accept':.99})\n",
    "pm.plot_posterior(trace);"
   ]
  },
  {
   "cell_type": "markdown",
   "metadata": {},
   "source": [
    "#### Model 2: Log Odds Parameterization without Jacobian"
   ]
  },
  {
   "cell_type": "code",
   "execution_count": 19,
   "metadata": {},
   "outputs": [
    {
     "name": "stderr",
     "output_type": "stream",
     "text": [
      "Auto-assigning NUTS sampler...\n",
      "Initializing NUTS using jitter+adapt_diag...\n",
      "Multiprocess sampling (4 chains in 4 jobs)\n",
      "NUTS: [alpha]\n",
      "Sampling 4 chains: 100%|██████████| 44000/44000 [00:10<00:00, 4150.77draws/s]\n"
     ]
    },
    {
     "data": {
      "image/png": "[encoded data removed]",
      "text/plain": [
       "<Figure size 864x180 with 2 Axes>"
      ]
     },
     "metadata": {},
     "output_type": "display_data"
    }
   ],
   "source": [
    "with pm.Model():\n",
    "    alpha = pm.Flat('alpha')\n",
    "    theta = pm.Deterministic('theta', pm.math.invlogit(alpha))\n",
    "    obs = pm.Bernoulli('obs', p=theta, observed=y)\n",
    "    trace = pm.sample(10000, tune=1000, njobs=4)\n",
    "pm.plot_posterior(trace);"
   ]
  },
  {
   "cell_type": "markdown",
   "metadata": {},
   "source": [
    "#### Model 3: Log Odds with Jacobian Adjustment"
   ]
  },
  {
   "cell_type": "code",
   "execution_count": 20,
   "metadata": {},
   "outputs": [
    {
     "name": "stderr",
     "output_type": "stream",
     "text": [
      "Auto-assigning NUTS sampler...\n",
      "Initializing NUTS using jitter+adapt_diag...\n",
      "Multiprocess sampling (4 chains in 4 jobs)\n",
      "NUTS: [alpha]\n",
      "Sampling 4 chains: 100%|██████████| 44000/44000 [00:11<00:00, 3736.72draws/s]\n"
     ]
    },
    {
     "data": {
      "image/png": "[encoded data removed]",
      "text/plain": [
       "<Figure size 864x180 with 2 Axes>"
      ]
     },
     "metadata": {},
     "output_type": "display_data"
    }
   ],
   "source": [
    "with pm.Model():\n",
    "    alpha = pm.Flat('alpha')\n",
    "    theta = pm.Deterministic('theta', pm.math.invlogit(alpha))\n",
    "    \n",
    "    def logp(value):\n",
    "        return tt.sum(tt.sum(pm.Bernoulli.dist(p=theta).logp(value)) + \\\n",
    "                      tt.log(theta) + \n",
    "                      tt.log(1-theta))\n",
    "    obs = pm.DensityDist('obs', logp, observed=y)\n",
    "    \n",
    "    trace = pm.sample(10000, tune=1000, njobs=4)\n",
    "pm.plot_posterior(trace);"
   ]
  },
  {
   "cell_type": "markdown",
   "metadata": {},
   "source": [
    "#### Model 3.1: Jacobian Adjustment using `pm.Potential`\n",
    "`pm.Potential` is the `increment_log_prob` equivalent in PyMC3"
   ]
  },
  {
   "cell_type": "code",
   "execution_count": 21,
   "metadata": {},
   "outputs": [
    {
     "name": "stderr",
     "output_type": "stream",
     "text": [
      "Auto-assigning NUTS sampler...\n",
      "Initializing NUTS using jitter+adapt_diag...\n",
      "Multiprocess sampling (4 chains in 4 jobs)\n",
      "NUTS: [alpha]\n",
      "Sampling 4 chains: 100%|██████████| 44000/44000 [00:11<00:00, 3817.41draws/s]\n"
     ]
    },
    {
     "data": {
      "image/png": "[encoded data removed]",
      "text/plain": [
       "<Figure size 864x180 with 2 Axes>"
      ]
     },
     "metadata": {},
     "output_type": "display_data"
    }
   ],
   "source": [
    "with pm.Model():\n",
    "    alpha = pm.Flat('alpha')\n",
    "    theta = pm.Deterministic('theta', pm.math.invlogit(alpha))\n",
    "    obs = pm.Bernoulli('obs', p=theta, observed=y)\n",
    "    constrain = pm.Potential('constrain', tt.log(theta)+tt.log(1-theta))\n",
    "    trace = pm.sample(10000, tune=1000, njobs=4)\n",
    "pm.plot_posterior(trace);"
   ]
  },
  {
   "cell_type": "code",
   "execution_count": null,
   "metadata": {},
   "outputs": [],
   "source": []
  }
 ],
 "metadata": {
  "kernelspec": {
   "display_name": "Python 3",
   "language": "python",
   "name": "python3"
  },
  "language_info": {
   "codemirror_mode": {
    "name": "ipython",
    "version": 3
   },
   "file_extension": ".py",
   "mimetype": "text/x-python",
   "name": "python",
   "nbconvert_exporter": "python",
   "pygments_lexer": "ipython3",
   "version": "3.6.5"
  }
 },
 "nbformat": 4,
 "nbformat_minor": 2
}
