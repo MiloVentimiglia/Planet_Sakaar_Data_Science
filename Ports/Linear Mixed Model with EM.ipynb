{
 "cells": [
  {
   "cell_type": "markdown",
   "metadata": {},
   "source": [
    "This is a port of https://github.com/tensorflow/probability/blob/master/tensorflow_probability/examples/jupyter_notebooks/Linear_Mixed_Effects_Models.ipynb"
   ]
  },
  {
   "cell_type": "code",
   "execution_count": 1,
   "metadata": {},
   "outputs": [
    {
     "name": "stderr",
     "output_type": "stream",
     "text": [
      "/usr/local/lib/python3.5/dist-packages/h5py/__init__.py:36: FutureWarning: Conversion of the second argument of issubdtype from `float` to `np.floating` is deprecated. In future, it will be treated as `np.float64 == np.dtype(float).type`.\n",
      "  from ._conv import register_converters as _register_converters\n"
     ]
    }
   ],
   "source": [
    "%matplotlib inline\n",
    "import pymc3 as pm\n",
    "import numpy as np\n",
    "import pandas as pd\n",
    "import theano.tensor as tt\n",
    "import theano\n",
    "\n",
    "import matplotlib.pyplot as plt\n",
    "plt.style.use('seaborn-darkgrid')"
   ]
  },
  {
   "cell_type": "markdown",
   "metadata": {},
   "source": [
    "Load data"
   ]
  },
  {
   "cell_type": "code",
   "execution_count": 2,
   "metadata": {},
   "outputs": [
    {
     "data": {
      "text/html": [
       "<div>\n",
       "<style scoped>\n",
       "    .dataframe tbody tr th:only-of-type {\n",
       "        vertical-align: middle;\n",
       "    }\n",
       "\n",
       "    .dataframe tbody tr th {\n",
       "        vertical-align: top;\n",
       "    }\n",
       "\n",
       "    .dataframe thead th {\n",
       "        text-align: right;\n",
       "    }\n",
       "</style>\n",
       "<table border=\"1\" class=\"dataframe\">\n",
       "  <thead>\n",
       "    <tr style=\"text-align: right;\">\n",
       "      <th></th>\n",
       "      <th>students</th>\n",
       "      <th>instructors</th>\n",
       "      <th>studage</th>\n",
       "      <th>lectage</th>\n",
       "      <th>service</th>\n",
       "      <th>departments</th>\n",
       "      <th>ratings</th>\n",
       "    </tr>\n",
       "  </thead>\n",
       "  <tbody>\n",
       "    <tr>\n",
       "      <th>38188</th>\n",
       "      <td>1552</td>\n",
       "      <td>150</td>\n",
       "      <td>2</td>\n",
       "      <td>1</td>\n",
       "      <td>1</td>\n",
       "      <td>8</td>\n",
       "      <td>4</td>\n",
       "    </tr>\n",
       "    <tr>\n",
       "      <th>68160</th>\n",
       "      <td>2775</td>\n",
       "      <td>685</td>\n",
       "      <td>6</td>\n",
       "      <td>3</td>\n",
       "      <td>0</td>\n",
       "      <td>11</td>\n",
       "      <td>2</td>\n",
       "    </tr>\n",
       "    <tr>\n",
       "      <th>7830</th>\n",
       "      <td>287</td>\n",
       "      <td>716</td>\n",
       "      <td>4</td>\n",
       "      <td>1</td>\n",
       "      <td>0</td>\n",
       "      <td>12</td>\n",
       "      <td>2</td>\n",
       "    </tr>\n",
       "    <tr>\n",
       "      <th>32317</th>\n",
       "      <td>1321</td>\n",
       "      <td>354</td>\n",
       "      <td>8</td>\n",
       "      <td>2</td>\n",
       "      <td>1</td>\n",
       "      <td>3</td>\n",
       "      <td>5</td>\n",
       "    </tr>\n",
       "    <tr>\n",
       "      <th>36971</th>\n",
       "      <td>1502</td>\n",
       "      <td>829</td>\n",
       "      <td>8</td>\n",
       "      <td>6</td>\n",
       "      <td>0</td>\n",
       "      <td>6</td>\n",
       "      <td>4</td>\n",
       "    </tr>\n",
       "  </tbody>\n",
       "</table>\n",
       "</div>"
      ],
      "text/plain": [
       "       students  instructors  studage  lectage  service  departments  ratings\n",
       "38188      1552          150        2        1        1            8        4\n",
       "68160      2775          685        6        3        0           11        2\n",
       "7830        287          716        4        1        0           12        2\n",
       "32317      1321          354        8        2        1            3        5\n",
       "36971      1502          829        8        6        0            6        4"
      ]
     },
     "execution_count": 2,
     "metadata": {},
     "output_type": "execute_result"
    }
   ],
   "source": [
    "url = ('https://raw.github.com/vincentarelbundock/Rdatasets/master/csv/'\n",
    "         'lme4/InstEval.csv')\n",
    "data = pd.read_csv(url)\n",
    "data = data.drop(columns=['Unnamed: 0'])\n",
    "data = data.rename(columns={'s': 'students',\n",
    "                            'd': 'instructors',\n",
    "                            'dept': 'departments',\n",
    "                            'y': 'ratings'})\n",
    "data['students'] -= 1  # start index by 0\n",
    "# Remap categories to start from 0 and end at max(category).\n",
    "data['instructors'] = data['instructors'].astype('category').cat.codes\n",
    "data['departments'] = data['departments'].astype('category').cat.codes\n",
    "\n",
    "train = data.sample(frac=0.8)\n",
    "test = data.drop(train.index)\n",
    "\n",
    "train.head()"
   ]
  },
  {
   "cell_type": "markdown",
   "metadata": {},
   "source": [
    "Set up training and testing set"
   ]
  },
  {
   "cell_type": "code",
   "execution_count": 3,
   "metadata": {},
   "outputs": [],
   "source": [
    "X_stud = theano.shared(train['students'].values)\n",
    "X_inst = theano.shared(train['instructors'].values)\n",
    "X_dept = theano.shared(train['departments'].values)\n",
    "X_serv = theano.shared(train['service'].values)\n",
    "Y_rate = theano.shared(train['ratings'].values)"
   ]
  },
  {
   "cell_type": "code",
   "execution_count": 4,
   "metadata": {},
   "outputs": [
    {
     "data": {
      "text/plain": [
       "array([1, 0, 0, ..., 1, 1, 0])"
      ]
     },
     "execution_count": 4,
     "metadata": {},
     "output_type": "execute_result"
    }
   ],
   "source": [
    "X_serv.eval()"
   ]
  },
  {
   "cell_type": "code",
   "execution_count": 5,
   "metadata": {
    "colab": {
     "autoexec": {
      "startup": false,
      "wait_interval": 0
     },
     "height": 85
    },
    "colab_type": "code",
    "executionInfo": {
     "elapsed": 239,
     "status": "ok",
     "timestamp": 1523409608178,
     "user": {
      "displayName": "",
      "photoUrl": "",
      "userId": ""
     },
     "user_tz": 420
    },
    "id": "80ylfxWtB7VT",
    "outputId": "50ec4661-f4ab-4255-c20d-66b7adf7cb60",
    "slideshow": {
     "slide_type": "-"
    }
   },
   "outputs": [
    {
     "name": "stdout",
     "output_type": "stream",
     "text": [
      "Number of students: 2972\n",
      "Number of instructors: 1128\n",
      "Number of departments: 14\n",
      "Number of observations: 58737\n"
     ]
    }
   ],
   "source": [
    "num_students = max(data['students']) + 1\n",
    "num_instructors = max(data['instructors']) + 1\n",
    "num_departments = max(data['departments']) + 1\n",
    "num_observations = train.shape[0]\n",
    "\n",
    "print('Number of students:', num_students)\n",
    "print('Number of instructors:', num_instructors)\n",
    "print('Number of departments:', num_departments)\n",
    "print('Number of observations:', num_observations)"
   ]
  },
  {
   "cell_type": "markdown",
   "metadata": {},
   "source": [
    "set up model in PyMC3"
   ]
  },
  {
   "cell_type": "code",
   "execution_count": 6,
   "metadata": {},
   "outputs": [],
   "source": [
    "with pm.Model() as lmm:\n",
    "    # Set up fixed effects and other parameters.\n",
    "    intercept = pm.Flat('intercept')  # alpha in eq\n",
    "    effect_service = pm.Flat('effect_service')  # beta in eq\n",
    "    stddev_students = pm.Flat('stddev_unconstrained_students')  # sigma in eq\n",
    "    stddev_instructors = pm.Flat(\n",
    "        'stddev_unconstrained_instructors')  # sigma in eq\n",
    "    stddev_departments = pm.Flat(\n",
    "        'stddev_unconstrained_departments')  # sigma in eq\n",
    "\n",
    "    # Set up random effects\n",
    "    effect_students = pm.Normal('effect_students', 0., tt.exp(\n",
    "        stddev_students), shape=num_students)\n",
    "    effect_instructors = pm.Normal('effect_instructors', 0., tt.exp(\n",
    "        stddev_instructors), shape=num_instructors)\n",
    "    effect_departments = pm.Normal('effect_departments', 0., tt.exp(\n",
    "        stddev_departments), shape=num_departments)\n",
    "\n",
    "    ratings = pm.Normal('ratings',\n",
    "                        mu=(effect_service * Y_rate +\n",
    "                            effect_students[X_stud] +\n",
    "                            effect_instructors[X_inst] +\n",
    "                            effect_departments[X_dept] +\n",
    "                            intercept),\n",
    "                        sd=1.,\n",
    "                        observed=Y_rate\n",
    "                        )"
   ]
  },
  {
   "cell_type": "markdown",
   "metadata": {},
   "source": [
    "Gibbs sampling is one version of generalization of Expectation maximization. We can do some compound step magic to do EM in PyMC3"
   ]
  },
  {
   "cell_type": "code",
   "execution_count": 7,
   "metadata": {},
   "outputs": [
    {
     "data": {
      "text/plain": [
       "[intercept,\n",
       " effect_service,\n",
       " stddev_unconstrained_students,\n",
       " stddev_unconstrained_instructors,\n",
       " stddev_unconstrained_departments,\n",
       " effect_students,\n",
       " effect_instructors,\n",
       " effect_departments]"
      ]
     },
     "execution_count": 7,
     "metadata": {},
     "output_type": "execute_result"
    }
   ],
   "source": [
    "lmm.free_RVs"
   ]
  },
  {
   "cell_type": "code",
   "execution_count": 8,
   "metadata": {},
   "outputs": [
    {
     "data": {
      "text/plain": [
       "[intercept,\n",
       " effect_service,\n",
       " stddev_unconstrained_students,\n",
       " stddev_unconstrained_instructors,\n",
       " stddev_unconstrained_departments]"
      ]
     },
     "execution_count": 8,
     "metadata": {},
     "output_type": "execute_result"
    }
   ],
   "source": [
    "lmm.free_RVs[0:5]"
   ]
  },
  {
   "cell_type": "code",
   "execution_count": 9,
   "metadata": {},
   "outputs": [
    {
     "data": {
      "text/plain": [
       "[effect_students, effect_instructors, effect_departments]"
      ]
     },
     "execution_count": 9,
     "metadata": {},
     "output_type": "execute_result"
    }
   ],
   "source": [
    "lmm.free_RVs[5:]"
   ]
  },
  {
   "cell_type": "code",
   "execution_count": 10,
   "metadata": {},
   "outputs": [],
   "source": [
    "grad_vars = lmm.free_RVs[0:5]\n",
    "logp_dlogp_func = lmm.logp_dlogp_function(grad_vars)"
   ]
  },
  {
   "cell_type": "code",
   "execution_count": 11,
   "metadata": {},
   "outputs": [
    {
     "data": {
      "text/plain": [
       "{'effect_departments': array([0., 0., 0., 0., 0., 0., 0., 0., 0., 0., 0., 0., 0., 0.]),\n",
       " 'effect_instructors': array([0., 0., 0., ..., 0., 0., 0.]),\n",
       " 'effect_service': array(0.),\n",
       " 'effect_students': array([0., 0., 0., ..., 0., 0., 0.]),\n",
       " 'intercept': array(0.),\n",
       " 'stddev_unconstrained_departments': array(0.),\n",
       " 'stddev_unconstrained_instructors': array(0.),\n",
       " 'stddev_unconstrained_students': array(0.)}"
      ]
     },
     "execution_count": 11,
     "metadata": {},
     "output_type": "execute_result"
    }
   ],
   "source": [
    "point = lmm.test_point\n",
    "point"
   ]
  },
  {
   "cell_type": "code",
   "execution_count": 12,
   "metadata": {},
   "outputs": [
    {
     "data": {
      "text/plain": [
       "array([0., 0., 0., 0., 0.])"
      ]
     },
     "execution_count": 12,
     "metadata": {},
     "output_type": "execute_result"
    }
   ],
   "source": [
    "logp_dlogp_func.set_extra_values(point)\n",
    "array = logp_dlogp_func.dict_to_array(point)\n",
    "array"
   ]
  },
  {
   "cell_type": "code",
   "execution_count": 13,
   "metadata": {},
   "outputs": [
    {
     "data": {
      "text/plain": [
       "{'effect_departments': array([0., 0., 0., 0., 0., 0., 0., 0., 0., 0., 0., 0., 0., 0.]),\n",
       " 'effect_instructors': array([0., 0., 0., ..., 0., 0., 0.]),\n",
       " 'effect_students': array([0., 0., 0., ..., 0., 0., 0.])}"
      ]
     },
     "execution_count": 13,
     "metadata": {},
     "output_type": "execute_result"
    }
   ],
   "source": [
    "logp_dlogp_func.get_extra_values()"
   ]
  },
  {
   "cell_type": "code",
   "execution_count": 14,
   "metadata": {},
   "outputs": [
    {
     "data": {
      "text/plain": [
       "(array(-410739.2057508),\n",
       " array([ 1.87958e+05,  7.05966e+05, -2.97200e+03, -1.12800e+03,\n",
       "        -1.40000e+01]))"
      ]
     },
     "execution_count": 14,
     "metadata": {},
     "output_type": "execute_result"
    }
   ],
   "source": [
    "logp_dlogp_func(array)"
   ]
  },
  {
   "cell_type": "code",
   "execution_count": 15,
   "metadata": {},
   "outputs": [
    {
     "data": {
      "text/plain": [
       "__logp"
      ]
     },
     "execution_count": 15,
     "metadata": {},
     "output_type": "execute_result"
    }
   ],
   "source": [
    "logp_dlogp_func._cost_joined"
   ]
  },
  {
   "cell_type": "code",
   "execution_count": 16,
   "metadata": {},
   "outputs": [
    {
     "data": {
      "text/plain": [
       "array([0., 0., 0., 0., 0.])"
      ]
     },
     "execution_count": 16,
     "metadata": {},
     "output_type": "execute_result"
    }
   ],
   "source": [
    "logp_dlogp_func._vars_joined.tag.test_value"
   ]
  },
  {
   "cell_type": "code",
   "execution_count": 17,
   "metadata": {},
   "outputs": [],
   "source": [
    "optimizer = pm.adam(learning_rate=0.01)"
   ]
  },
  {
   "cell_type": "code",
   "execution_count": 18,
   "metadata": {},
   "outputs": [],
   "source": [
    "inputs = theano.shared(array, 'to_max')\n",
    "cost_replace = theano.clone(-logp_dlogp_func._cost_joined, {logp_dlogp_func._vars_joined: inputs})\n",
    "updates = optimizer(cost_replace, [inputs])"
   ]
  },
  {
   "cell_type": "code",
   "execution_count": 19,
   "metadata": {},
   "outputs": [
    {
     "data": {
      "text/plain": [
       "array([0., 0., 0., 0., 0.])"
      ]
     },
     "execution_count": 19,
     "metadata": {},
     "output_type": "execute_result"
    }
   ],
   "source": [
    "logp_dlogp_func._vars_joined.tag.test_value"
   ]
  },
  {
   "cell_type": "code",
   "execution_count": 20,
   "metadata": {},
   "outputs": [
    {
     "data": {
      "text/plain": [
       "array([ 0.01,  0.01, -0.01, -0.01, -0.01])"
      ]
     },
     "execution_count": 20,
     "metadata": {},
     "output_type": "execute_result"
    }
   ],
   "source": [
    "updates[inputs].tag.test_value"
   ]
  },
  {
   "cell_type": "code",
   "execution_count": 21,
   "metadata": {},
   "outputs": [],
   "source": [
    "extra_rvs = lmm.free_RVs[5:]\n",
    "train = theano.function(\n",
    "    inputs=extra_rvs,\n",
    "    outputs=[cost_replace],\n",
    "    updates=optimizer(cost_replace, [inputs]))"
   ]
  },
  {
   "cell_type": "code",
   "execution_count": 22,
   "metadata": {},
   "outputs": [
    {
     "data": {
      "text/plain": [
       "[array([0., 0., 0., ..., 0., 0., 0.]),\n",
       " array([0., 0., 0., ..., 0., 0., 0.]),\n",
       " array([0., 0., 0., 0., 0., 0., 0., 0., 0., 0., 0., 0., 0., 0.])]"
      ]
     },
     "execution_count": 22,
     "metadata": {},
     "output_type": "execute_result"
    }
   ],
   "source": [
    "extra_point = logp_dlogp_func.get_extra_values()\n",
    "input_array = [extra_point[var.name] for var in extra_rvs]\n",
    "input_array"
   ]
  },
  {
   "cell_type": "code",
   "execution_count": 23,
   "metadata": {},
   "outputs": [
    {
     "data": {
      "text/plain": [
       "[array(410739.2057508)]"
      ]
     },
     "execution_count": 23,
     "metadata": {},
     "output_type": "execute_result"
    }
   ],
   "source": [
    "train(*input_array)"
   ]
  },
  {
   "cell_type": "code",
   "execution_count": 24,
   "metadata": {},
   "outputs": [
    {
     "data": {
      "text/plain": [
       "{'effect_departments': array([0., 0., 0., 0., 0., 0., 0., 0., 0., 0., 0., 0., 0., 0.]),\n",
       " 'effect_instructors': array([0., 0., 0., ..., 0., 0., 0.]),\n",
       " 'effect_service': array(0.01),\n",
       " 'effect_students': array([0., 0., 0., ..., 0., 0., 0.]),\n",
       " 'intercept': array(0.01),\n",
       " 'stddev_unconstrained_departments': array(-0.01),\n",
       " 'stddev_unconstrained_instructors': array(-0.01),\n",
       " 'stddev_unconstrained_students': array(-0.01)}"
      ]
     },
     "execution_count": 24,
     "metadata": {},
     "output_type": "execute_result"
    }
   ],
   "source": [
    "logp_dlogp_func.array_to_full_dict(inputs.eval())"
   ]
  },
  {
   "cell_type": "markdown",
   "metadata": {},
   "source": [
    "Set up maximization"
   ]
  },
  {
   "cell_type": "code",
   "execution_count": 36,
   "metadata": {},
   "outputs": [],
   "source": [
    "from pymc3.step_methods.arraystep import BlockedStep\n",
    "from pymc3.model import modelcontext\n",
    "\n",
    "\n",
    "class MaxFunc(BlockedStep):\n",
    "    \"\"\"\n",
    "    Step method that take the maximization of RVs\n",
    "\n",
    "    Parameters\n",
    "    ----------\n",
    "    vars : list\n",
    "        List of variables to take maximization.\n",
    "    model: pymc3 model\n",
    "    \"\"\"\n",
    "\n",
    "    def __init__(self, vars, optimizer=pm.adam(learning_rate=0.01), model=None):\n",
    "        model = modelcontext(model)\n",
    "\n",
    "        self.generates_stats = True\n",
    "        stats_dtypes = [{\n",
    "            'loss': np.float64,\n",
    "        }]\n",
    "\n",
    "        self.vars = vars\n",
    "        self.m = model\n",
    "        self.optimizer = optimizer\n",
    "\n",
    "        varnames = [var.name for var in vars]\n",
    "        extra_vars = [\n",
    "            var for var in model.free_RVs if var.name not in varnames\n",
    "        ]\n",
    "        self.extra_vars = extra_vars\n",
    "        self._logp_dlogp_func = model.logp_dlogp_function(self.vars)\n",
    "\n",
    "        point = lmm.test_point\n",
    "        self._logp_dlogp_func.set_extra_values(point)\n",
    "        np_array = self._logp_dlogp_func.dict_to_array(point)\n",
    "\n",
    "        # TODO: accept scipy optimizer to directly optimize\n",
    "        # self._logp_dlogp_func(np_array) in numpy\n",
    "        inputs = theano.shared(np_array, 'to_max')\n",
    "        cost_replace = theano.clone(self._logp_dlogp_func._cost_joined,\n",
    "                                    {self._logp_dlogp_func._vars_joined: inputs})\n",
    "\n",
    "        self.train_fn = theano.function(\n",
    "            inputs=extra_vars,\n",
    "            outputs=[-cost_replace],\n",
    "            updates=optimizer(cost_replace, [inputs]))\n",
    "\n",
    "    def step(self, point):\n",
    "        input_array = [point[var.name] for var in self.extra_vars]\n",
    "        loss = self.train_fn(*input_array)\n",
    "        point = self._logp_dlogp_func.array_to_full_dict(inputs.eval())\n",
    "        stats = {\n",
    "            'loss': loss,\n",
    "        }\n",
    "        return point, [stats]"
   ]
  },
  {
   "cell_type": "code",
   "execution_count": 37,
   "metadata": {},
   "outputs": [
    {
     "ename": "AttributeError",
     "evalue": "'MaxFunc' object has no attribute 'stats_dtypes'",
     "output_type": "error",
     "traceback": [
      "\u001b[0;31m---------------------------------------------------------------------------\u001b[0m",
      "\u001b[0;31mAttributeError\u001b[0m                            Traceback (most recent call last)",
      "\u001b[0;32m<ipython-input-37-4792716d12b9>\u001b[0m in \u001b[0;36m<module>\u001b[0;34m()\u001b[0m\n\u001b[1;32m      2\u001b[0m     \u001b[0mstep1\u001b[0m \u001b[0;34m=\u001b[0m \u001b[0mpm\u001b[0m\u001b[0;34m.\u001b[0m\u001b[0mHamiltonianMC\u001b[0m\u001b[0;34m(\u001b[0m\u001b[0mvars\u001b[0m\u001b[0;34m=\u001b[0m\u001b[0mlmm\u001b[0m\u001b[0;34m.\u001b[0m\u001b[0mfree_RVs\u001b[0m\u001b[0;34m[\u001b[0m\u001b[0;34m:\u001b[0m\u001b[0;36m5\u001b[0m\u001b[0;34m]\u001b[0m\u001b[0;34m)\u001b[0m\u001b[0;34m\u001b[0m\u001b[0m\n\u001b[1;32m      3\u001b[0m     \u001b[0mstep2\u001b[0m \u001b[0;34m=\u001b[0m \u001b[0mMaxFunc\u001b[0m\u001b[0;34m(\u001b[0m\u001b[0mvars\u001b[0m\u001b[0;34m=\u001b[0m\u001b[0mlmm\u001b[0m\u001b[0;34m.\u001b[0m\u001b[0mfree_RVs\u001b[0m\u001b[0;34m[\u001b[0m\u001b[0;36m5\u001b[0m\u001b[0;34m:\u001b[0m\u001b[0;34m]\u001b[0m\u001b[0;34m)\u001b[0m\u001b[0;34m\u001b[0m\u001b[0m\n\u001b[0;32m----> 4\u001b[0;31m     \u001b[0mtrace\u001b[0m \u001b[0;34m=\u001b[0m \u001b[0mpm\u001b[0m\u001b[0;34m.\u001b[0m\u001b[0msample\u001b[0m\u001b[0;34m(\u001b[0m\u001b[0;36m1000\u001b[0m\u001b[0;34m,\u001b[0m \u001b[0mtune\u001b[0m\u001b[0;34m=\u001b[0m\u001b[0;36m1000\u001b[0m\u001b[0;34m,\u001b[0m \u001b[0mstep\u001b[0m\u001b[0;34m=\u001b[0m\u001b[0;34m[\u001b[0m\u001b[0mstep2\u001b[0m\u001b[0;34m,\u001b[0m \u001b[0mstep1\u001b[0m\u001b[0;34m]\u001b[0m\u001b[0;34m)\u001b[0m\u001b[0;34m\u001b[0m\u001b[0m\n\u001b[0m",
      "\u001b[0;32m~/Documents/Github/pymc3/pymc3/sampling.py\u001b[0m in \u001b[0;36msample\u001b[0;34m(draws, step, init, n_init, start, trace, chain_idx, chains, cores, tune, nuts_kwargs, step_kwargs, progressbar, model, random_seed, live_plot, discard_tuned_samples, live_plot_kwargs, compute_convergence_checks, use_mmap, **kwargs)\u001b[0m\n\u001b[1;32m    406\u001b[0m \u001b[0;34m\u001b[0m\u001b[0m\n\u001b[1;32m    407\u001b[0m     \u001b[0;32mif\u001b[0m \u001b[0misinstance\u001b[0m\u001b[0;34m(\u001b[0m\u001b[0mstep\u001b[0m\u001b[0;34m,\u001b[0m \u001b[0mlist\u001b[0m\u001b[0;34m)\u001b[0m\u001b[0;34m:\u001b[0m\u001b[0;34m\u001b[0m\u001b[0m\n\u001b[0;32m--> 408\u001b[0;31m         \u001b[0mstep\u001b[0m \u001b[0;34m=\u001b[0m \u001b[0mCompoundStep\u001b[0m\u001b[0;34m(\u001b[0m\u001b[0mstep\u001b[0m\u001b[0;34m)\u001b[0m\u001b[0;34m\u001b[0m\u001b[0m\n\u001b[0m\u001b[1;32m    409\u001b[0m     \u001b[0;32mif\u001b[0m \u001b[0mstart\u001b[0m \u001b[0;32mis\u001b[0m \u001b[0;32mNone\u001b[0m\u001b[0;34m:\u001b[0m\u001b[0;34m\u001b[0m\u001b[0m\n\u001b[1;32m    410\u001b[0m         \u001b[0mstart\u001b[0m \u001b[0;34m=\u001b[0m \u001b[0;34m{\u001b[0m\u001b[0;34m}\u001b[0m\u001b[0;34m\u001b[0m\u001b[0m\n",
      "\u001b[0;32m~/Documents/Github/pymc3/pymc3/step_methods/compound.py\u001b[0m in \u001b[0;36m__init__\u001b[0;34m(self, methods)\u001b[0m\n\u001b[1;32m     15\u001b[0m         \u001b[0;32mfor\u001b[0m \u001b[0mmethod\u001b[0m \u001b[0;32min\u001b[0m \u001b[0mself\u001b[0m\u001b[0;34m.\u001b[0m\u001b[0mmethods\u001b[0m\u001b[0;34m:\u001b[0m\u001b[0;34m\u001b[0m\u001b[0m\n\u001b[1;32m     16\u001b[0m             \u001b[0;32mif\u001b[0m \u001b[0mmethod\u001b[0m\u001b[0;34m.\u001b[0m\u001b[0mgenerates_stats\u001b[0m\u001b[0;34m:\u001b[0m\u001b[0;34m\u001b[0m\u001b[0m\n\u001b[0;32m---> 17\u001b[0;31m                 \u001b[0mself\u001b[0m\u001b[0;34m.\u001b[0m\u001b[0mstats_dtypes\u001b[0m\u001b[0;34m.\u001b[0m\u001b[0mextend\u001b[0m\u001b[0;34m(\u001b[0m\u001b[0mmethod\u001b[0m\u001b[0;34m.\u001b[0m\u001b[0mstats_dtypes\u001b[0m\u001b[0;34m)\u001b[0m\u001b[0;34m\u001b[0m\u001b[0m\n\u001b[0m\u001b[1;32m     18\u001b[0m \u001b[0;34m\u001b[0m\u001b[0m\n\u001b[1;32m     19\u001b[0m     \u001b[0;32mdef\u001b[0m \u001b[0mstep\u001b[0m\u001b[0;34m(\u001b[0m\u001b[0mself\u001b[0m\u001b[0;34m,\u001b[0m \u001b[0mpoint\u001b[0m\u001b[0;34m)\u001b[0m\u001b[0;34m:\u001b[0m\u001b[0;34m\u001b[0m\u001b[0m\n",
      "\u001b[0;31mAttributeError\u001b[0m: 'MaxFunc' object has no attribute 'stats_dtypes'"
     ]
    }
   ],
   "source": [
    "with lmm:\n",
    "    step1 = pm.HamiltonianMC(vars=lmm.free_RVs[:5])\n",
    "    step2 = MaxFunc(vars=lmm.free_RVs[5:])\n",
    "    trace = pm.sample(1000, tune=1000, step=[step2, step1])"
   ]
  },
  {
   "cell_type": "code",
   "execution_count": null,
   "metadata": {},
   "outputs": [],
   "source": []
  }
 ],
 "metadata": {
  "kernelspec": {
   "display_name": "Python 3",
   "language": "python",
   "name": "python3"
  },
  "language_info": {
   "codemirror_mode": {
    "name": "ipython",
    "version": 3
   },
   "file_extension": ".py",
   "mimetype": "text/x-python",
   "name": "python",
   "nbconvert_exporter": "python",
   "pygments_lexer": "ipython3",
   "version": "3.5.2"
  }
 },
 "nbformat": 4,
 "nbformat_minor": 2
}
